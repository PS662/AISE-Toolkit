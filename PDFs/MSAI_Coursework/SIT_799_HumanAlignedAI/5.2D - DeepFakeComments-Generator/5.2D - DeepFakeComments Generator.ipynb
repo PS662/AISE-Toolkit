{
 "cells": [
  {
   "cell_type": "markdown",
   "metadata": {
    "id": "vuGG16vY3ygi"
   },
   "source": [
    "\n",
    "Welcome to your assignment this week! \n",
    "\n",
    "To better understand the adverse use of AI, in this assignment, we will look at a Natural Language Processing use case.\n",
    "\n",
    "\n",
    "Natural Language Pocessing (NLP) is a branch of Artificial Intelligence (AI) that helps computers to understand, to interpret and to manipulate natural (i.e. human) language.\n",
    "Imagine NLP-powered machines as black boxes that are capable of understanding and evaluating the context of the input documents (i.e. collection of words), outputting meaningful results that depend on the task the machine is designed for.\n",
    "\n",
    "\n",
    "![](imgs/1_3zMvUnPzYZF9CSHdj6hT5A.png)\n",
    "\n",
    "<caption><center> Documents are fed into magic NLP model capable to get, for instance, the sentiment of the original content</center></caption>\n",
    "\n",
    "\n",
    "In this notebook, you will implement a model that uses an LSTM to generate fake tweets and comments. You will also be able to try it to generate your own fake text. \n",
    "\n",
    "**You will learn to:**\n",
    "- Apply an LSTM to generate fake comments.\n",
    "- Generate your own fake text with deep learning.\n",
    "\n"
   ]
  },
  {
   "cell_type": "markdown",
   "metadata": {
    "id": "7n5tKJlK3ygj"
   },
   "source": [
    "Run the following cell to load the packages you will need."
   ]
  },
  {
   "cell_type": "code",
   "execution_count": 1,
   "metadata": {
    "executionInfo": {
     "elapsed": 2630,
     "status": "ok",
     "timestamp": 1628580125445,
     "user": {
      "displayName": "Akib Mashrur",
      "photoUrl": "https://lh3.googleusercontent.com/a-/AOh14GhtyAzj3w--dYkMkikDtEN8zJT5IX5qERhMbDm3mA=s64",
      "userId": "08272008167283775393"
     },
     "user_tz": -600
    },
    "id": "J2L3rXL33ygk"
   },
   "outputs": [],
   "source": [
    "import time\n",
    "from tensorflow.keras.preprocessing.sequence import pad_sequences\n",
    "from tensorflow.keras.layers import Embedding, LSTM, Dense, Dropout, Bidirectional\n",
    "from tensorflow.keras.preprocessing.text import Tokenizer\n",
    "from tensorflow.keras.models import Sequential\n",
    "from tensorflow.keras.optimizers import Adam, SGD\n",
    "from tensorflow.keras import regularizers\n",
    "import tensorflow.keras.utils as ku \n",
    "import keras.backend as K\n",
    "import matplotlib.pyplot as plt\n",
    "import numpy as np"
   ]
  },
  {
   "cell_type": "markdown",
   "metadata": {
    "id": "YmY8sSvE3ygk"
   },
   "source": [
    "# Build the model"
   ]
  },
  {
   "cell_type": "markdown",
   "metadata": {
    "id": "jKWOunz13ygl"
   },
   "source": [
    "Let's define a tokenizer and read the data from disk."
   ]
  },
  {
   "cell_type": "code",
   "execution_count": 2,
   "metadata": {
    "executionInfo": {
     "elapsed": 496,
     "status": "ok",
     "timestamp": 1628580323811,
     "user": {
      "displayName": "Akib Mashrur",
      "photoUrl": "https://lh3.googleusercontent.com/a-/AOh14GhtyAzj3w--dYkMkikDtEN8zJT5IX5qERhMbDm3mA=s64",
      "userId": "08272008167283775393"
     },
     "user_tz": -600
    },
    "id": "e_E1kj8k3ygm"
   },
   "outputs": [],
   "source": [
    "tokenizer = Tokenizer(filters='\"#$%&()*+-/:;<=>@[\\\\]^_`{|}~\\t\\n')\n",
    "data = open('covid19_fake.txt').read().replace(\".\", \" . \").replace(\",\", \" , \").replace(\"?\", \" ? \").replace(\"!\", \" ! \")"
   ]
  },
  {
   "cell_type": "markdown",
   "metadata": {
    "id": "KTgzrmZ33ygm"
   },
   "source": [
    "Now, let's splits the data into tweets  where each line of the input file is a fake tweets.\n",
    "\n",
    "We also extract the vocabulary of the data."
   ]
  },
  {
   "cell_type": "code",
   "execution_count": 3,
   "metadata": {
    "executionInfo": {
     "elapsed": 2,
     "status": "ok",
     "timestamp": 1628580325859,
     "user": {
      "displayName": "Akib Mashrur",
      "photoUrl": "https://lh3.googleusercontent.com/a-/AOh14GhtyAzj3w--dYkMkikDtEN8zJT5IX5qERhMbDm3mA=s64",
      "userId": "08272008167283775393"
     },
     "user_tz": -600
    },
    "id": "pROtdR6_3ygn"
   },
   "outputs": [],
   "source": [
    "corpus = data.lower().split(\"\\n\")\n",
    "tokenizer.fit_on_texts(corpus)\n",
    "total_words = len(tokenizer.word_index) + 1"
   ]
  },
  {
   "cell_type": "markdown",
   "metadata": {
    "id": "lXvASM_H3ygn"
   },
   "source": [
    "You've loaded:\n",
    "- `corpus`: an array where each entry is a fake post.\n",
    "- `tokenizer`: which is the object that we will use to vectorize our dataset. This object also contains our word index.\n",
    "- `total_words`: is the total number of words in the vacabulary.\n"
   ]
  },
  {
   "cell_type": "code",
   "execution_count": 4,
   "metadata": {
    "colab": {
     "base_uri": "https://localhost:8080/"
    },
    "executionInfo": {
     "elapsed": 349,
     "status": "ok",
     "timestamp": 1628580329096,
     "user": {
      "displayName": "Akib Mashrur",
      "photoUrl": "https://lh3.googleusercontent.com/a-/AOh14GhtyAzj3w--dYkMkikDtEN8zJT5IX5qERhMbDm3mA=s64",
      "userId": "08272008167283775393"
     },
     "user_tz": -600
    },
    "id": "nPE0IzEz3ygo",
    "outputId": "9a76d63d-982e-4954-ada0-e0e6e26dbd2a"
   },
   "outputs": [
    {
     "name": "stdout",
     "output_type": "stream",
     "text": [
      "Example of fake tweets:  ['there is already a vaccine to treat covid19 . ', 'cleaning hands do not help to prevent covid19 . ']\n",
      "Size of the vocabulary =  1257\n",
      "Example of our word index =  [('.', 1), ('the', 2), ('covid19', 3), ('in', 4), ('to', 5), ('a', 6), ('of', 7), (',', 8), ('coronavirus', 9), ('and', 10)]\n"
     ]
    }
   ],
   "source": [
    "print(\"Example of fake tweets: \",corpus[:2])\n",
    "print(\"Size of the vocabulary = \", total_words)\n",
    "index = [(k, v) for k, v in tokenizer.word_index.items()]\n",
    "print(\"Example of our word index = \", index[0:10])"
   ]
  },
  {
   "cell_type": "markdown",
   "metadata": {
    "id": "WFtLDYP03ygo"
   },
   "source": [
    "The next step aims to generate the training set of n_grams sequences."
   ]
  },
  {
   "cell_type": "code",
   "execution_count": 5,
   "metadata": {
    "executionInfo": {
     "elapsed": 484,
     "status": "ok",
     "timestamp": 1628580408392,
     "user": {
      "displayName": "Akib Mashrur",
      "photoUrl": "https://lh3.googleusercontent.com/a-/AOh14GhtyAzj3w--dYkMkikDtEN8zJT5IX5qERhMbDm3mA=s64",
      "userId": "08272008167283775393"
     },
     "user_tz": -600
    },
    "id": "zrpBA9z03ygo"
   },
   "outputs": [],
   "source": [
    "input_sequences = []\n",
    "for line in corpus:\n",
    "    token_list = tokenizer.texts_to_sequences([line])[0]\n",
    "    for i in range(1, len(token_list)):\n",
    "        n_gram_sequence = token_list[:i+1]\n",
    "        input_sequences.append(n_gram_sequence)"
   ]
  },
  {
   "cell_type": "markdown",
   "metadata": {
    "id": "0ZvAH_Yz3ygp"
   },
   "source": [
    "You've create:\n",
    "- `input_sequences`: which is a list of n_grams sequences."
   ]
  },
  {
   "cell_type": "code",
   "execution_count": 6,
   "metadata": {
    "id": "_WhP3l7a3ygp"
   },
   "outputs": [
    {
     "name": "stdout",
     "output_type": "stream",
     "text": [
      "The entry  20  in 'input_sequences' is: \n",
      "[2, 3, 12, 187, 34, 188]\n",
      " and it corresponds to:\n",
      "the covid19 is same as sars "
     ]
    }
   ],
   "source": [
    "sample = 20\n",
    "reverse_word_map = dict(map(reversed, tokenizer.word_index.items()))\n",
    "print(\"The entry \",sample,\" in 'input_sequences' is: \")\n",
    "print(input_sequences[sample])\n",
    "print(\" and it corresponds to:\")\n",
    "for i in input_sequences[sample]:\n",
    "    print(reverse_word_map[i], end=' ')\n",
    "                        "
   ]
  },
  {
   "cell_type": "markdown",
   "metadata": {
    "id": "TdfDxGwY3ygp"
   },
   "source": [
    "Next, we padd our training set to the max length in order to be able to make a batch processing."
   ]
  },
  {
   "cell_type": "code",
   "execution_count": 7,
   "metadata": {
    "id": "C05C5WYL3ygp"
   },
   "outputs": [],
   "source": [
    "max_sequence_len = max([len(x) for x in input_sequences])\n",
    "input_sequences = np.array(pad_sequences(input_sequences, maxlen=max_sequence_len, padding='pre'))"
   ]
  },
  {
   "cell_type": "markdown",
   "metadata": {
    "id": "ZgGvmYAn3ygp"
   },
   "source": [
    "Run the following to see the containt of the padded 'input_sequences' object."
   ]
  },
  {
   "cell_type": "code",
   "execution_count": 8,
   "metadata": {
    "id": "xysYw1I63ygp"
   },
   "outputs": [
    {
     "name": "stdout",
     "output_type": "stream",
     "text": [
      "The entry  20  in 'input_sequences' is: \n",
      "[  0   0   0   0   0   0   0   0   0   0   0   0   0   0   0   0   0   0\n",
      "   0   0   0   0   0   0   0   0   0   0   0   0   0   0   0   0   0   0\n",
      "   0   0   0   0   0   0   0   0   0   0   0   0   0   0   0   0   0   0\n",
      "   0   2   3  12 187  34 188]\n",
      " and it corresponds to:\n",
      "[ __ __ __ __ __ __ __ __ __ __ __ __ __ __ __ __ __ __ __ __ __ __ __ __ __ __ __ __ __ __ __ __ __ __ __ __ __ __ __ __ __ __ __ __ __ __ __ __ __ __ __ __ __ __ __ the covid19 is same as sars ]\n"
     ]
    }
   ],
   "source": [
    "reverse_word_map = dict(map(reversed, tokenizer.word_index.items()))\n",
    "print(\"The entry \",sample,\" in 'input_sequences' is: \")\n",
    "print(input_sequences[sample])\n",
    "print(\" and it corresponds to:\")\n",
    "print(\"[\", end=' ')\n",
    "for i in input_sequences[sample]:\n",
    "    if i in reverse_word_map:\n",
    "        print(reverse_word_map[i], end=' ')\n",
    "    else:\n",
    "        print(\"__\", end=' ')\n",
    "print(\"]\")\n",
    "                "
   ]
  },
  {
   "cell_type": "markdown",
   "metadata": {
    "id": "Kt1O1UVM3ygq"
   },
   "source": [
    "Given a sentence like **\"the covid19 is same as \"**, we want to design a model that can predict the next word -- in the case the word **\"sars\"**.\n",
    "\n",
    "Therefore, the next code prepares our input and output to our model consequently."
   ]
  },
  {
   "cell_type": "code",
   "execution_count": 9,
   "metadata": {
    "id": "1bAgrEcu3ygq"
   },
   "outputs": [],
   "source": [
    "input_to_model, label = input_sequences[:,:-1],input_sequences[:,-1]\n"
   ]
  },
  {
   "cell_type": "code",
   "execution_count": 10,
   "metadata": {
    "id": "V3ImsHKs3ygq"
   },
   "outputs": [
    {
     "name": "stdout",
     "output_type": "stream",
     "text": [
      "The entry  20  in 'input_sequences' is: \n",
      "[  0   0   0   0   0   0   0   0   0   0   0   0   0   0   0   0   0   0\n",
      "   0   0   0   0   0   0   0   0   0   0   0   0   0   0   0   0   0   0\n",
      "   0   0   0   0   0   0   0   0   0   0   0   0   0   0   0   0   0   0\n",
      "   0   2   3  12 187  34 188]\n",
      ", it corresponds to the following input to our model:\n",
      "[  0   0   0   0   0   0   0   0   0   0   0   0   0   0   0   0   0   0\n",
      "   0   0   0   0   0   0   0   0   0   0   0   0   0   0   0   0   0   0\n",
      "   0   0   0   0   0   0   0   0   0   0   0   0   0   0   0   0   0   0\n",
      "   0   2   3  12 187  34]\n",
      " and the following output:  188\n"
     ]
    }
   ],
   "source": [
    "print(\"The entry \",sample,\" in 'input_sequences' is: \")\n",
    "print(input_sequences[sample])\n",
    "print(\", it corresponds to the following input to our model:\")\n",
    "print(input_to_model[sample])\n",
    "print(\" and the following output: \", label[sample])\n"
   ]
  },
  {
   "cell_type": "markdown",
   "metadata": {
    "id": "fVeEycF73ygq"
   },
   "source": [
    "Finally, we convert our label to categorical labels for being processed by our model."
   ]
  },
  {
   "cell_type": "code",
   "execution_count": 11,
   "metadata": {
    "id": "TP6OK_G-3ygr"
   },
   "outputs": [],
   "source": [
    "label = ku.to_categorical(label, num_classes=total_words)"
   ]
  },
  {
   "cell_type": "markdown",
   "metadata": {
    "id": "smZY0_753ygr"
   },
   "source": [
    "Here is the architecture of the model we will use:\n",
    "\n",
    "![](imgs/text_generation.png)\n",
    "\n"
   ]
  },
  {
   "cell_type": "markdown",
   "metadata": {
    "id": "ufU_N_573ygr"
   },
   "source": [
    " \n",
    "**Task 1**: Implement `deep_fake_comment_model()`. You will need to carry out 5 steps:\n",
    "\n",
    "1. Create a sequencial model using the `Sequential` class\n",
    "2. Add an embedding layer to the model using the `Embedding` class of size 128\n",
    "3. Add an LSTM layer to the model using the `LSTM` class of size 128\n",
    "4. Add a Dense layer to the model using the `Dense` class with a `softmax` activation\n",
    "5. Set a `categorical_crossentropy` loss function to the model and optimize `accuracy`.\n"
   ]
  },
  {
   "cell_type": "code",
   "execution_count": 12,
   "metadata": {
    "id": "0mmC5alF3ygr"
   },
   "outputs": [],
   "source": [
    "#TASK 1\n",
    "# deep_fake_comment_model\n",
    "\n",
    "def deep_fake_comment_model():\n",
    "    ### START CODE HERE ### \n",
    "    model = Sequential()\n",
    "    model.add(Embedding(total_words, 128, input_length=max_sequence_len-1))\n",
    "    model.add(LSTM(128))\n",
    "    model.add(Dense(total_words, activation='softmax'))\n",
    "    model.compile(loss='categorical_crossentropy', optimizer=SGD(learning_rate=0.001), metrics=['accuracy'])\n",
    "    return model\n",
    "    ### END CODE HERE ### \n",
    "    \n",
    "#Print details of the model.\n",
    "model = deep_fake_comment_model()\n"
   ]
  },
  {
   "cell_type": "markdown",
   "metadata": {
    "id": "aDQAGdGJ3ygr"
   },
   "source": [
    "Now, let's start our training."
   ]
  },
  {
   "cell_type": "code",
   "execution_count": 13,
   "metadata": {
    "id": "A5VY9v9L3ygr",
    "scrolled": false
   },
   "outputs": [
    {
     "name": "stdout",
     "output_type": "stream",
     "text": [
      "Epoch 1/200\n",
      "126/126 [==============================] - 9s 56ms/step - loss: 7.1358 - accuracy: 0.0087\n",
      "Epoch 2/200\n",
      "126/126 [==============================] - 7s 57ms/step - loss: 7.1339 - accuracy: 0.0593\n",
      "Epoch 3/200\n",
      "126/126 [==============================] - 7s 57ms/step - loss: 7.1320 - accuracy: 0.0700\n",
      "Epoch 4/200\n",
      "126/126 [==============================] - 7s 57ms/step - loss: 7.1301 - accuracy: 0.0732\n",
      "Epoch 5/200\n",
      "126/126 [==============================] - 7s 57ms/step - loss: 7.1282 - accuracy: 0.0732\n",
      "Epoch 6/200\n",
      "126/126 [==============================] - 7s 57ms/step - loss: 7.1263 - accuracy: 0.0734\n",
      "Epoch 7/200\n",
      "126/126 [==============================] - 7s 57ms/step - loss: 7.1244 - accuracy: 0.0734\n",
      "Epoch 8/200\n",
      "126/126 [==============================] - 7s 57ms/step - loss: 7.1225 - accuracy: 0.0734\n",
      "Epoch 9/200\n",
      "126/126 [==============================] - 7s 57ms/step - loss: 7.1206 - accuracy: 0.0734\n",
      "Epoch 10/200\n",
      "126/126 [==============================] - 7s 57ms/step - loss: 7.1187 - accuracy: 0.0734\n",
      "Epoch 11/200\n",
      "126/126 [==============================] - 7s 57ms/step - loss: 7.1168 - accuracy: 0.0734\n",
      "Epoch 12/200\n",
      "126/126 [==============================] - 7s 57ms/step - loss: 7.1148 - accuracy: 0.0734\n",
      "Epoch 13/200\n",
      "126/126 [==============================] - 6s 48ms/step - loss: 7.1129 - accuracy: 0.0734\n",
      "Epoch 14/200\n",
      "126/126 [==============================] - 5s 36ms/step - loss: 7.1110 - accuracy: 0.0734\n",
      "Epoch 15/200\n",
      "126/126 [==============================] - 5s 37ms/step - loss: 7.1090 - accuracy: 0.0734\n",
      "Epoch 16/200\n",
      "126/126 [==============================] - 5s 37ms/step - loss: 7.1070 - accuracy: 0.0734\n",
      "Epoch 17/200\n",
      "126/126 [==============================] - 5s 37ms/step - loss: 7.1051 - accuracy: 0.0734\n",
      "Epoch 18/200\n",
      "126/126 [==============================] - 5s 37ms/step - loss: 7.1031 - accuracy: 0.0734\n",
      "Epoch 19/200\n",
      "126/126 [==============================] - 5s 37ms/step - loss: 7.1011 - accuracy: 0.0734\n",
      "Epoch 20/200\n",
      "126/126 [==============================] - 5s 37ms/step - loss: 7.0991 - accuracy: 0.0734\n",
      "Epoch 21/200\n",
      "126/126 [==============================] - 5s 37ms/step - loss: 7.0971 - accuracy: 0.0734\n",
      "Epoch 22/200\n",
      "126/126 [==============================] - 5s 37ms/step - loss: 7.0950 - accuracy: 0.0734\n",
      "Epoch 23/200\n",
      "126/126 [==============================] - 5s 36ms/step - loss: 7.0930 - accuracy: 0.0734\n",
      "Epoch 24/200\n",
      "126/126 [==============================] - 5s 37ms/step - loss: 7.0909 - accuracy: 0.0734\n",
      "Epoch 25/200\n",
      "126/126 [==============================] - 5s 36ms/step - loss: 7.0888 - accuracy: 0.0734\n",
      "Epoch 26/200\n",
      "126/126 [==============================] - 5s 36ms/step - loss: 7.0867 - accuracy: 0.0734\n",
      "Epoch 27/200\n",
      "126/126 [==============================] - 5s 36ms/step - loss: 7.0846 - accuracy: 0.0734\n",
      "Epoch 28/200\n",
      "126/126 [==============================] - 5s 37ms/step - loss: 7.0824 - accuracy: 0.0734\n",
      "Epoch 29/200\n",
      "126/126 [==============================] - 5s 36ms/step - loss: 7.0802 - accuracy: 0.0734\n",
      "Epoch 30/200\n",
      "126/126 [==============================] - 5s 36ms/step - loss: 7.0780 - accuracy: 0.0734\n",
      "Epoch 31/200\n",
      "126/126 [==============================] - 5s 36ms/step - loss: 7.0757 - accuracy: 0.0734\n",
      "Epoch 32/200\n",
      "126/126 [==============================] - 5s 36ms/step - loss: 7.0734 - accuracy: 0.0734\n",
      "Epoch 33/200\n",
      "126/126 [==============================] - 5s 36ms/step - loss: 7.0711 - accuracy: 0.0734\n",
      "Epoch 34/200\n",
      "126/126 [==============================] - 5s 36ms/step - loss: 7.0687 - accuracy: 0.0734\n",
      "Epoch 35/200\n",
      "126/126 [==============================] - 5s 36ms/step - loss: 7.0663 - accuracy: 0.0734\n",
      "Epoch 36/200\n",
      "126/126 [==============================] - 5s 36ms/step - loss: 7.0638 - accuracy: 0.0734\n",
      "Epoch 37/200\n",
      "126/126 [==============================] - 5s 36ms/step - loss: 7.0613 - accuracy: 0.0734\n",
      "Epoch 38/200\n",
      "126/126 [==============================] - 5s 36ms/step - loss: 7.0587 - accuracy: 0.0734\n",
      "Epoch 39/200\n",
      "126/126 [==============================] - 5s 36ms/step - loss: 7.0561 - accuracy: 0.0734\n",
      "Epoch 40/200\n",
      "126/126 [==============================] - 5s 36ms/step - loss: 7.0533 - accuracy: 0.0734\n",
      "Epoch 41/200\n",
      "126/126 [==============================] - 5s 36ms/step - loss: 7.0505 - accuracy: 0.0734\n",
      "Epoch 42/200\n",
      "126/126 [==============================] - 5s 36ms/step - loss: 7.0476 - accuracy: 0.0734\n",
      "Epoch 43/200\n",
      "126/126 [==============================] - 4s 36ms/step - loss: 7.0446 - accuracy: 0.0734\n",
      "Epoch 44/200\n",
      "126/126 [==============================] - 4s 36ms/step - loss: 7.0415 - accuracy: 0.0734\n",
      "Epoch 45/200\n",
      "126/126 [==============================] - 4s 36ms/step - loss: 7.0383 - accuracy: 0.0734\n",
      "Epoch 46/200\n",
      "126/126 [==============================] - 4s 36ms/step - loss: 7.0349 - accuracy: 0.0734\n",
      "Epoch 47/200\n",
      "126/126 [==============================] - 5s 36ms/step - loss: 7.0314 - accuracy: 0.0734\n",
      "Epoch 48/200\n",
      "126/126 [==============================] - 5s 36ms/step - loss: 7.0277 - accuracy: 0.0734\n",
      "Epoch 49/200\n",
      "126/126 [==============================] - 5s 36ms/step - loss: 7.0237 - accuracy: 0.0734\n",
      "Epoch 50/200\n",
      "126/126 [==============================] - 5s 36ms/step - loss: 7.0196 - accuracy: 0.0734\n",
      "Epoch 51/200\n",
      "126/126 [==============================] - 5s 36ms/step - loss: 7.0151 - accuracy: 0.0734\n",
      "Epoch 52/200\n",
      "126/126 [==============================] - 5s 36ms/step - loss: 7.0104 - accuracy: 0.0734\n",
      "Epoch 53/200\n",
      "126/126 [==============================] - 5s 37ms/step - loss: 7.0053 - accuracy: 0.0734\n",
      "Epoch 54/200\n",
      "126/126 [==============================] - 5s 36ms/step - loss: 6.9997 - accuracy: 0.0734\n",
      "Epoch 55/200\n",
      "126/126 [==============================] - 5s 36ms/step - loss: 6.9936 - accuracy: 0.0734\n",
      "Epoch 56/200\n",
      "126/126 [==============================] - 5s 36ms/step - loss: 6.9869 - accuracy: 0.0734\n",
      "Epoch 57/200\n",
      "126/126 [==============================] - 5s 36ms/step - loss: 6.9795 - accuracy: 0.0734\n",
      "Epoch 58/200\n",
      "126/126 [==============================] - 5s 38ms/step - loss: 6.9713 - accuracy: 0.0734\n",
      "Epoch 59/200\n",
      "126/126 [==============================] - 5s 36ms/step - loss: 6.9620 - accuracy: 0.0734\n",
      "Epoch 60/200\n",
      "126/126 [==============================] - 5s 36ms/step - loss: 6.9515 - accuracy: 0.0734\n",
      "Epoch 61/200\n",
      "126/126 [==============================] - 5s 36ms/step - loss: 6.9396 - accuracy: 0.0734\n",
      "Epoch 62/200\n",
      "126/126 [==============================] - 5s 36ms/step - loss: 6.9262 - accuracy: 0.0734\n",
      "Epoch 63/200\n",
      "126/126 [==============================] - 5s 36ms/step - loss: 6.9109 - accuracy: 0.0734\n",
      "Epoch 64/200\n",
      "126/126 [==============================] - 5s 36ms/step - loss: 6.8939 - accuracy: 0.0734\n",
      "Epoch 65/200\n",
      "126/126 [==============================] - 5s 36ms/step - loss: 6.8749 - accuracy: 0.0734\n",
      "Epoch 66/200\n",
      "126/126 [==============================] - 5s 36ms/step - loss: 6.8541 - accuracy: 0.0734\n",
      "Epoch 67/200\n",
      "126/126 [==============================] - 5s 36ms/step - loss: 6.8315 - accuracy: 0.0734\n",
      "Epoch 68/200\n",
      "126/126 [==============================] - 4s 36ms/step - loss: 6.8074 - accuracy: 0.0734\n",
      "Epoch 69/200\n",
      "126/126 [==============================] - 5s 36ms/step - loss: 6.7818 - accuracy: 0.0734\n",
      "Epoch 70/200\n",
      "126/126 [==============================] - 5s 36ms/step - loss: 6.7550 - accuracy: 0.0734\n",
      "Epoch 71/200\n",
      "126/126 [==============================] - 5s 36ms/step - loss: 6.7272 - accuracy: 0.0734\n",
      "Epoch 72/200\n",
      "126/126 [==============================] - 5s 36ms/step - loss: 6.6985 - accuracy: 0.0734\n",
      "Epoch 73/200\n",
      "126/126 [==============================] - 4s 36ms/step - loss: 6.6692 - accuracy: 0.0734\n",
      "Epoch 74/200\n",
      "126/126 [==============================] - 4s 36ms/step - loss: 6.6395 - accuracy: 0.0734\n",
      "Epoch 75/200\n",
      "126/126 [==============================] - 4s 36ms/step - loss: 6.6099 - accuracy: 0.0734\n",
      "Epoch 76/200\n",
      "126/126 [==============================] - 5s 36ms/step - loss: 6.5806 - accuracy: 0.0734\n",
      "Epoch 77/200\n",
      "126/126 [==============================] - 5s 36ms/step - loss: 6.5519 - accuracy: 0.0734\n",
      "Epoch 78/200\n",
      "126/126 [==============================] - 5s 36ms/step - loss: 6.5243 - accuracy: 0.0734\n",
      "Epoch 79/200\n",
      "126/126 [==============================] - 5s 36ms/step - loss: 6.4980 - accuracy: 0.0734\n",
      "Epoch 80/200\n",
      "126/126 [==============================] - 5s 36ms/step - loss: 6.4733 - accuracy: 0.0734\n",
      "Epoch 81/200\n",
      "126/126 [==============================] - 5s 36ms/step - loss: 6.4502 - accuracy: 0.0734\n",
      "Epoch 82/200\n",
      "126/126 [==============================] - 5s 36ms/step - loss: 6.4289 - accuracy: 0.0734\n",
      "Epoch 83/200\n",
      "126/126 [==============================] - 5s 36ms/step - loss: 6.4092 - accuracy: 0.0734\n",
      "Epoch 84/200\n",
      "126/126 [==============================] - 5s 36ms/step - loss: 6.3909 - accuracy: 0.0734\n",
      "Epoch 85/200\n",
      "126/126 [==============================] - 5s 37ms/step - loss: 6.3740 - accuracy: 0.0734\n",
      "Epoch 86/200\n",
      "126/126 [==============================] - 5s 36ms/step - loss: 6.3580 - accuracy: 0.0734\n",
      "Epoch 87/200\n",
      "126/126 [==============================] - 5s 37ms/step - loss: 6.3430 - accuracy: 0.0734\n",
      "Epoch 88/200\n",
      "126/126 [==============================] - 5s 36ms/step - loss: 6.3287 - accuracy: 0.0734\n",
      "Epoch 89/200\n",
      "126/126 [==============================] - 5s 36ms/step - loss: 6.3150 - accuracy: 0.0734\n",
      "Epoch 90/200\n",
      "126/126 [==============================] - 5s 36ms/step - loss: 6.3019 - accuracy: 0.0734\n",
      "Epoch 91/200\n",
      "126/126 [==============================] - 5s 36ms/step - loss: 6.2891 - accuracy: 0.0734\n",
      "Epoch 92/200\n",
      "126/126 [==============================] - 5s 36ms/step - loss: 6.2768 - accuracy: 0.0734\n",
      "Epoch 93/200\n",
      "126/126 [==============================] - 5s 36ms/step - loss: 6.2649 - accuracy: 0.0734\n",
      "Epoch 94/200\n",
      "126/126 [==============================] - 5s 36ms/step - loss: 6.2533 - accuracy: 0.0734\n",
      "Epoch 95/200\n",
      "126/126 [==============================] - 5s 36ms/step - loss: 6.2420 - accuracy: 0.0734\n",
      "Epoch 96/200\n",
      "126/126 [==============================] - 5s 36ms/step - loss: 6.2311 - accuracy: 0.0734\n",
      "Epoch 97/200\n",
      "126/126 [==============================] - 5s 36ms/step - loss: 6.2205 - accuracy: 0.0734\n",
      "Epoch 98/200\n",
      "126/126 [==============================] - 5s 36ms/step - loss: 6.2102 - accuracy: 0.0734\n",
      "Epoch 99/200\n",
      "126/126 [==============================] - 5s 36ms/step - loss: 6.2003 - accuracy: 0.0734\n",
      "Epoch 100/200\n",
      "126/126 [==============================] - 5s 36ms/step - loss: 6.1907 - accuracy: 0.0734\n",
      "Epoch 101/200\n",
      "126/126 [==============================] - 5s 36ms/step - loss: 6.1815 - accuracy: 0.0734\n",
      "Epoch 102/200\n",
      "126/126 [==============================] - 5s 36ms/step - loss: 6.1727 - accuracy: 0.0734\n",
      "Epoch 103/200\n",
      "126/126 [==============================] - 5s 36ms/step - loss: 6.1641 - accuracy: 0.0734\n",
      "Epoch 104/200\n",
      "126/126 [==============================] - 5s 36ms/step - loss: 6.1560 - accuracy: 0.0734\n",
      "Epoch 105/200\n",
      "126/126 [==============================] - 5s 36ms/step - loss: 6.1481 - accuracy: 0.0734\n",
      "Epoch 106/200\n",
      "126/126 [==============================] - 5s 37ms/step - loss: 6.1406 - accuracy: 0.0734\n",
      "Epoch 107/200\n",
      "126/126 [==============================] - 5s 37ms/step - loss: 6.1334 - accuracy: 0.0734\n",
      "Epoch 108/200\n",
      "126/126 [==============================] - 5s 36ms/step - loss: 6.1266 - accuracy: 0.0734\n",
      "Epoch 109/200\n",
      "126/126 [==============================] - 5s 37ms/step - loss: 6.1200 - accuracy: 0.0734\n",
      "Epoch 110/200\n",
      "126/126 [==============================] - 5s 37ms/step - loss: 6.1138 - accuracy: 0.0734\n",
      "Epoch 111/200\n",
      "126/126 [==============================] - 5s 36ms/step - loss: 6.1078 - accuracy: 0.0734\n",
      "Epoch 112/200\n",
      "126/126 [==============================] - 5s 36ms/step - loss: 6.1020 - accuracy: 0.0734\n",
      "Epoch 113/200\n",
      "126/126 [==============================] - 5s 37ms/step - loss: 6.0966 - accuracy: 0.0734\n",
      "Epoch 114/200\n",
      "126/126 [==============================] - 5s 36ms/step - loss: 6.0913 - accuracy: 0.0734\n",
      "Epoch 115/200\n",
      "126/126 [==============================] - 5s 37ms/step - loss: 6.0863 - accuracy: 0.0734\n",
      "Epoch 116/200\n",
      "126/126 [==============================] - 5s 37ms/step - loss: 6.0815 - accuracy: 0.0734\n",
      "Epoch 117/200\n",
      "126/126 [==============================] - 5s 37ms/step - loss: 6.0768 - accuracy: 0.0734\n",
      "Epoch 118/200\n",
      "126/126 [==============================] - 5s 39ms/step - loss: 6.0723 - accuracy: 0.0734\n",
      "Epoch 119/200\n",
      "126/126 [==============================] - 5s 36ms/step - loss: 6.0680 - accuracy: 0.0734\n",
      "Epoch 120/200\n",
      "126/126 [==============================] - 4s 35ms/step - loss: 6.0639 - accuracy: 0.0734\n",
      "Epoch 121/200\n",
      "126/126 [==============================] - 4s 35ms/step - loss: 6.0599 - accuracy: 0.0734\n",
      "Epoch 122/200\n",
      "126/126 [==============================] - 4s 33ms/step - loss: 6.0560 - accuracy: 0.0734\n",
      "Epoch 123/200\n",
      "126/126 [==============================] - 4s 33ms/step - loss: 6.0522 - accuracy: 0.0734\n",
      "Epoch 124/200\n",
      "126/126 [==============================] - 4s 33ms/step - loss: 6.0486 - accuracy: 0.0734\n",
      "Epoch 125/200\n",
      "126/126 [==============================] - 4s 33ms/step - loss: 6.0451 - accuracy: 0.0734\n",
      "Epoch 126/200\n",
      "126/126 [==============================] - 4s 33ms/step - loss: 6.0416 - accuracy: 0.0734\n",
      "Epoch 127/200\n",
      "126/126 [==============================] - 4s 33ms/step - loss: 6.0383 - accuracy: 0.0734\n",
      "Epoch 128/200\n",
      "126/126 [==============================] - 4s 33ms/step - loss: 6.0351 - accuracy: 0.0734\n",
      "Epoch 129/200\n",
      "126/126 [==============================] - 4s 33ms/step - loss: 6.0319 - accuracy: 0.0734\n",
      "Epoch 130/200\n",
      "126/126 [==============================] - 4s 33ms/step - loss: 6.0288 - accuracy: 0.0734\n",
      "Epoch 131/200\n",
      "126/126 [==============================] - 4s 33ms/step - loss: 6.0258 - accuracy: 0.0734\n",
      "Epoch 132/200\n",
      "126/126 [==============================] - 4s 34ms/step - loss: 6.0229 - accuracy: 0.0734\n",
      "Epoch 133/200\n",
      "126/126 [==============================] - 4s 33ms/step - loss: 6.0200 - accuracy: 0.0734\n",
      "Epoch 134/200\n",
      "126/126 [==============================] - 4s 34ms/step - loss: 6.0172 - accuracy: 0.0734\n",
      "Epoch 135/200\n",
      "126/126 [==============================] - 4s 33ms/step - loss: 6.0146 - accuracy: 0.0734\n",
      "Epoch 136/200\n",
      "126/126 [==============================] - 4s 34ms/step - loss: 6.0119 - accuracy: 0.0734\n",
      "Epoch 137/200\n",
      "126/126 [==============================] - 4s 33ms/step - loss: 6.0093 - accuracy: 0.0734\n",
      "Epoch 138/200\n",
      "126/126 [==============================] - 4s 33ms/step - loss: 6.0068 - accuracy: 0.0734\n",
      "Epoch 139/200\n",
      "126/126 [==============================] - 4s 33ms/step - loss: 6.0043 - accuracy: 0.0734\n",
      "Epoch 140/200\n",
      "126/126 [==============================] - 4s 33ms/step - loss: 6.0019 - accuracy: 0.0734\n",
      "Epoch 141/200\n",
      "126/126 [==============================] - 4s 33ms/step - loss: 5.9996 - accuracy: 0.0734\n",
      "Epoch 142/200\n",
      "126/126 [==============================] - 4s 34ms/step - loss: 5.9973 - accuracy: 0.0734\n",
      "Epoch 143/200\n",
      "126/126 [==============================] - 4s 33ms/step - loss: 5.9950 - accuracy: 0.0734\n",
      "Epoch 144/200\n",
      "126/126 [==============================] - 4s 34ms/step - loss: 5.9929 - accuracy: 0.0734\n",
      "Epoch 145/200\n",
      "126/126 [==============================] - 4s 33ms/step - loss: 5.9907 - accuracy: 0.0734\n",
      "Epoch 146/200\n",
      "126/126 [==============================] - 4s 33ms/step - loss: 5.9887 - accuracy: 0.0734\n",
      "Epoch 147/200\n",
      "126/126 [==============================] - 4s 34ms/step - loss: 5.9866 - accuracy: 0.0734\n",
      "Epoch 148/200\n",
      "126/126 [==============================] - 4s 33ms/step - loss: 5.9846 - accuracy: 0.0734\n",
      "Epoch 149/200\n",
      "126/126 [==============================] - 4s 33ms/step - loss: 5.9827 - accuracy: 0.0734\n",
      "Epoch 150/200\n",
      "126/126 [==============================] - 4s 33ms/step - loss: 5.9808 - accuracy: 0.0734\n",
      "Epoch 151/200\n",
      "126/126 [==============================] - 4s 33ms/step - loss: 5.9789 - accuracy: 0.0734\n",
      "Epoch 152/200\n",
      "126/126 [==============================] - 4s 33ms/step - loss: 5.9771 - accuracy: 0.0734\n",
      "Epoch 153/200\n",
      "126/126 [==============================] - 4s 33ms/step - loss: 5.9753 - accuracy: 0.0734\n",
      "Epoch 154/200\n",
      "126/126 [==============================] - 4s 33ms/step - loss: 5.9735 - accuracy: 0.0734\n",
      "Epoch 155/200\n",
      "126/126 [==============================] - 4s 33ms/step - loss: 5.9718 - accuracy: 0.0734\n",
      "Epoch 156/200\n",
      "126/126 [==============================] - 4s 33ms/step - loss: 5.9701 - accuracy: 0.0734\n",
      "Epoch 157/200\n",
      "126/126 [==============================] - 4s 33ms/step - loss: 5.9685 - accuracy: 0.0734\n",
      "Epoch 158/200\n",
      "126/126 [==============================] - 4s 33ms/step - loss: 5.9669 - accuracy: 0.0734\n",
      "Epoch 159/200\n"
     ]
    },
    {
     "name": "stdout",
     "output_type": "stream",
     "text": [
      "126/126 [==============================] - 4s 33ms/step - loss: 5.9653 - accuracy: 0.0734\n",
      "Epoch 160/200\n",
      "126/126 [==============================] - 4s 33ms/step - loss: 5.9638 - accuracy: 0.0734\n",
      "Epoch 161/200\n",
      "126/126 [==============================] - 4s 33ms/step - loss: 5.9623 - accuracy: 0.0734\n",
      "Epoch 162/200\n",
      "126/126 [==============================] - 4s 33ms/step - loss: 5.9608 - accuracy: 0.0734\n",
      "Epoch 163/200\n",
      "126/126 [==============================] - 4s 33ms/step - loss: 5.9593 - accuracy: 0.0734\n",
      "Epoch 164/200\n",
      "126/126 [==============================] - 4s 33ms/step - loss: 5.9579 - accuracy: 0.0734\n",
      "Epoch 165/200\n",
      "126/126 [==============================] - 4s 33ms/step - loss: 5.9565 - accuracy: 0.0734\n",
      "Epoch 166/200\n",
      "126/126 [==============================] - 4s 33ms/step - loss: 5.9551 - accuracy: 0.0734\n",
      "Epoch 167/200\n",
      "126/126 [==============================] - 4s 33ms/step - loss: 5.9538 - accuracy: 0.0734\n",
      "Epoch 168/200\n",
      "126/126 [==============================] - 4s 34ms/step - loss: 5.9525 - accuracy: 0.0734\n",
      "Epoch 169/200\n",
      "126/126 [==============================] - 4s 34ms/step - loss: 5.9512 - accuracy: 0.0734\n",
      "Epoch 170/200\n",
      "126/126 [==============================] - 4s 34ms/step - loss: 5.9499 - accuracy: 0.0734\n",
      "Epoch 171/200\n",
      "126/126 [==============================] - 4s 33ms/step - loss: 5.9487 - accuracy: 0.0734\n",
      "Epoch 172/200\n",
      "126/126 [==============================] - 4s 33ms/step - loss: 5.9474 - accuracy: 0.0734\n",
      "Epoch 173/200\n",
      "126/126 [==============================] - 4s 33ms/step - loss: 5.9462 - accuracy: 0.0734\n",
      "Epoch 174/200\n",
      "126/126 [==============================] - 4s 33ms/step - loss: 5.9451 - accuracy: 0.0734\n",
      "Epoch 175/200\n",
      "126/126 [==============================] - 4s 33ms/step - loss: 5.9439 - accuracy: 0.0734\n",
      "Epoch 176/200\n",
      "126/126 [==============================] - 4s 33ms/step - loss: 5.9428 - accuracy: 0.0734\n",
      "Epoch 177/200\n",
      "126/126 [==============================] - 4s 33ms/step - loss: 5.9417 - accuracy: 0.0734\n",
      "Epoch 178/200\n",
      "126/126 [==============================] - 4s 33ms/step - loss: 5.9406 - accuracy: 0.0734\n",
      "Epoch 179/200\n",
      "126/126 [==============================] - 4s 33ms/step - loss: 5.9395 - accuracy: 0.0734\n",
      "Epoch 180/200\n",
      "126/126 [==============================] - 4s 33ms/step - loss: 5.9385 - accuracy: 0.0734\n",
      "Epoch 181/200\n",
      "126/126 [==============================] - 4s 33ms/step - loss: 5.9374 - accuracy: 0.0734\n",
      "Epoch 182/200\n",
      "126/126 [==============================] - 4s 34ms/step - loss: 5.9364 - accuracy: 0.0734\n",
      "Epoch 183/200\n",
      "126/126 [==============================] - 4s 33ms/step - loss: 5.9354 - accuracy: 0.0734\n",
      "Epoch 184/200\n",
      "126/126 [==============================] - 4s 34ms/step - loss: 5.9344 - accuracy: 0.0734\n",
      "Epoch 185/200\n",
      "126/126 [==============================] - 4s 33ms/step - loss: 5.9335 - accuracy: 0.0734\n",
      "Epoch 186/200\n",
      "126/126 [==============================] - 4s 34ms/step - loss: 5.9325 - accuracy: 0.0734\n",
      "Epoch 187/200\n",
      "126/126 [==============================] - 4s 33ms/step - loss: 5.9316 - accuracy: 0.0734\n",
      "Epoch 188/200\n",
      "126/126 [==============================] - 4s 33ms/step - loss: 5.9307 - accuracy: 0.0734\n",
      "Epoch 189/200\n",
      "126/126 [==============================] - 4s 33ms/step - loss: 5.9298 - accuracy: 0.0734\n",
      "Epoch 190/200\n",
      "126/126 [==============================] - 4s 33ms/step - loss: 5.9289 - accuracy: 0.0734\n",
      "Epoch 191/200\n",
      "126/126 [==============================] - 4s 33ms/step - loss: 5.9280 - accuracy: 0.0734\n",
      "Epoch 192/200\n",
      "126/126 [==============================] - 4s 33ms/step - loss: 5.9272 - accuracy: 0.0734\n",
      "Epoch 193/200\n",
      "126/126 [==============================] - 4s 33ms/step - loss: 5.9263 - accuracy: 0.0734\n",
      "Epoch 194/200\n",
      "126/126 [==============================] - 4s 33ms/step - loss: 5.9255 - accuracy: 0.0734\n",
      "Epoch 195/200\n",
      "126/126 [==============================] - 4s 32ms/step - loss: 5.9247 - accuracy: 0.0734\n",
      "Epoch 196/200\n",
      "126/126 [==============================] - 4s 32ms/step - loss: 5.9239 - accuracy: 0.0734\n",
      "Epoch 197/200\n",
      "126/126 [==============================] - 4s 32ms/step - loss: 5.9231 - accuracy: 0.0734\n",
      "Epoch 198/200\n",
      "126/126 [==============================] - 4s 32ms/step - loss: 5.9223 - accuracy: 0.0734\n",
      "Epoch 199/200\n",
      "126/126 [==============================] - 4s 33ms/step - loss: 5.9216 - accuracy: 0.0734\n",
      "Epoch 200/200\n",
      "126/126 [==============================] - 4s 34ms/step - loss: 5.9208 - accuracy: 0.0734\n"
     ]
    }
   ],
   "source": [
    "history = model.fit(input_to_model, label, epochs=200, batch_size=32, verbose=1)"
   ]
  },
  {
   "cell_type": "markdown",
   "metadata": {
    "id": "BK_FWPbt3ygr"
   },
   "source": [
    "Let's plot details of our training."
   ]
  },
  {
   "cell_type": "code",
   "execution_count": 14,
   "metadata": {
    "id": "GEbAknpG3ygr"
   },
   "outputs": [
    {
     "data": {
      "image/png": "[encoded data removed]",
      "text/plain": [
       "<Figure size 432x288 with 1 Axes>"
      ]
     },
     "metadata": {
      "needs_background": "light"
     },
     "output_type": "display_data"
    },
    {
     "data": {
      "image/png": "[encoded data removed]",
      "text/plain": [
       "<Figure size 432x288 with 1 Axes>"
      ]
     },
     "metadata": {
      "needs_background": "light"
     },
     "output_type": "display_data"
    }
   ],
   "source": [
    "acc = history.history['accuracy']\n",
    "loss = history.history['loss']\n",
    "epochs = range(len(acc))\n",
    "plt.plot(epochs, acc, 'b', label='Training accuracy')\n",
    "plt.title('Training accuracy')\n",
    "plt.figure()\n",
    "plt.plot(epochs, loss, 'b', label='Training Loss')\n",
    "plt.title('Training loss')\n",
    "plt.legend()\n",
    "plt.show()"
   ]
  },
  {
   "cell_type": "markdown",
   "metadata": {
    "id": "HMrNqfRo3ygr"
   },
   "source": [
    "# Generating fake comments\n",
    "\n",
    "To generate fake tweets, we use the below architecture:\n",
    "\n",
    "![](imgs/text_gen.png)\n",
    "\n",
    "The idea is to give one or more starting token(s) to our model, and generate the next tokens until we generate `.`.\n",
    "\n",
    "At each step, we select the token with the highest probability as our next token and generate the next one similartly using `model.predict_classes()`. \n",
    "\n",
    "**Note:** The model takes as input the activation `a` from the previous state of the LSTM and the token chosen, forward propagate by one step, and get a new output activation `a`. The new activation `a` can then be used to generate the output, using the `dense` layer with `softmax` activation as before. \n",
    "\n"
   ]
  },
  {
   "cell_type": "markdown",
   "metadata": {
    "id": "r19_tBeo3ygr"
   },
   "source": [
    "**Task 2**: Implement `generate()`. \n",
    "\n",
    "***"
   ]
  },
  {
   "cell_type": "code",
   "execution_count": 25,
   "metadata": {
    "id": "aS5pu9TV3ygr"
   },
   "outputs": [],
   "source": [
    "#TASK 2\n",
    "#predict_classes is no longer available in tensorflow, so using predict\n",
    "# Implement the generate() function\n",
    "\n",
    "def generate(seed_text):\n",
    "    ### START CODE HERE ### \n",
    "    while True:\n",
    "        tokens = tokenizer.texts_to_sequences([seed_text])\n",
    "        if not tokens[0]:\n",
    "            return seed_text\n",
    "        predicted = model.predict(tokens)\n",
    "        predicted_index = np.argmax(predicted[0]) + 1\n",
    "\n",
    "        print(\"Pred index: \", predicted_index)\n",
    "        next_word = \"\"\n",
    "        for key, val in tokenizer.word_index.items():\n",
    "            if val == predicted_index:\n",
    "                next_word = key\n",
    "                return seed_text        \n",
    "        seed_text = seed_text + \" \" + next_word\n",
    "        print(\"Pred word: \", text)\n",
    "        if next_word == '.':\n",
    "            return seed_text\n",
    "    return seed_text\n",
    "    ### END CODE HERE ### \n"
   ]
  },
  {
   "cell_type": "code",
   "execution_count": 26,
   "metadata": {},
   "outputs": [
    {
     "name": "stdout",
     "output_type": "stream",
     "text": [
      "1/1 [==============================] - 0s 41ms/step\n",
      "[[0.00077254 0.00181123 0.0015084  ... 0.0007949  0.00078358 0.00078022]]\n"
     ]
    }
   ],
   "source": [
    "predicted = model.predict(tokenizer.texts_to_sequences([\"The\"]))\n",
    "print(predicted)"
   ]
  },
  {
   "cell_type": "markdown",
   "metadata": {
    "id": "phoBFOAq3ygs"
   },
   "source": [
    "**Let's test it:**"
   ]
  },
  {
   "cell_type": "code",
   "execution_count": 27,
   "metadata": {
    "id": "WuYvJ0iT3ygs"
   },
   "outputs": [
    {
     "name": "stdout",
     "output_type": "stream",
     "text": [
      "1/1 [==============================] - 1s 503ms/step\n",
      "Pred index:  2\n",
      "COVID19 virus\n",
      "1/1 [==============================] - 0s 39ms/step\n",
      "Pred index:  2\n",
      "COVID19 is the\n",
      "1/1 [==============================] - 0s 39ms/step\n",
      "Pred index:  2\n",
      "The usa is\n",
      "1/1 [==============================] - 0s 38ms/step\n",
      "Pred index:  2\n",
      "The new virus\n",
      "1/1 [==============================] - 0s 40ms/step\n",
      "Pred index:  2\n",
      "China has\n"
     ]
    }
   ],
   "source": [
    "print(generate(\"COVID19 virus\"))\n",
    "print(generate(\"COVID19 is the\"))\n",
    "print(generate(\"The usa is\"))\n",
    "print(generate(\"The new virus\"))\n",
    "print(generate(\"China has\"))\n"
   ]
  },
  {
   "cell_type": "markdown",
   "metadata": {
    "id": "MnQGEJLM3ygs"
   },
   "source": [
    "**Let's test it in an interactive mode:**"
   ]
  },
  {
   "cell_type": "code",
   "execution_count": 31,
   "metadata": {
    "id": "1IMXQ9hp3ygs"
   },
   "outputs": [
    {
     "name": "stdout",
     "output_type": "stream",
     "text": [
      "Write the beginning of your tweet, the algorithm machine will complete it. Your input is: Is this\n",
      "1/1 [==============================] - 0s 40ms/step\n",
      "Pred index:  2\n",
      "Is this "
     ]
    }
   ],
   "source": [
    "usr_input = input(\"Write the beginning of your tweet, the algorithm machine will complete it. Your input is: \")\n",
    "for w in generate(usr_input).split():    \n",
    "    print(w, end =\" \")\n",
    "    time.sleep(0.4)\n"
   ]
  },
  {
   "cell_type": "code",
   "execution_count": 32,
   "metadata": {
    "id": "fBa0Knb33ygs"
   },
   "outputs": [],
   "source": [
    "#TASK 3\n",
    "# Implement the generate_sample() function\n",
    "def generate_sample(seed_text):\n",
    "   ### START CODE HERE ### \n",
    "   pass\n",
    "    ### END CODE HERE ### "
   ]
  },
  {
   "cell_type": "markdown",
   "metadata": {
    "id": "JhNQsZ0u3ygs"
   },
   "source": [
    "**Let's test it in an interactive mode:**"
   ]
  },
  {
   "cell_type": "code",
   "execution_count": 33,
   "metadata": {
    "id": "sRkEk_KR3ygs"
   },
   "outputs": [
    {
     "name": "stdout",
     "output_type": "stream",
     "text": [
      "Write the beginning of your tweet, the algorithm machine will complete it. Your input is: \n"
     ]
    },
    {
     "ename": "AttributeError",
     "evalue": "'NoneType' object has no attribute 'split'",
     "output_type": "error",
     "traceback": [
      "\u001b[1;31m---------------------------------------------------------------------------\u001b[0m",
      "\u001b[1;31mAttributeError\u001b[0m                            Traceback (most recent call last)",
      "\u001b[1;32m<ipython-input-33-793b29d450e9>\u001b[0m in \u001b[0;36m<module>\u001b[1;34m\u001b[0m\n\u001b[0;32m      1\u001b[0m \u001b[0musr_input\u001b[0m \u001b[1;33m=\u001b[0m \u001b[0minput\u001b[0m\u001b[1;33m(\u001b[0m\u001b[1;34m\"Write the beginning of your tweet, the algorithm machine will complete it. Your input is: \"\u001b[0m\u001b[1;33m)\u001b[0m\u001b[1;33m\u001b[0m\u001b[1;33m\u001b[0m\u001b[0m\n\u001b[1;32m----> 2\u001b[1;33m \u001b[1;32mfor\u001b[0m \u001b[0mw\u001b[0m \u001b[1;32min\u001b[0m \u001b[0mgenerate_sample\u001b[0m\u001b[1;33m(\u001b[0m\u001b[0musr_input\u001b[0m\u001b[1;33m)\u001b[0m\u001b[1;33m.\u001b[0m\u001b[0msplit\u001b[0m\u001b[1;33m(\u001b[0m\u001b[1;33m)\u001b[0m\u001b[1;33m:\u001b[0m\u001b[1;33m\u001b[0m\u001b[1;33m\u001b[0m\u001b[0m\n\u001b[0m\u001b[0;32m      3\u001b[0m     \u001b[0mprint\u001b[0m\u001b[1;33m(\u001b[0m\u001b[0mw\u001b[0m\u001b[1;33m,\u001b[0m \u001b[0mend\u001b[0m \u001b[1;33m=\u001b[0m\u001b[1;34m\" \"\u001b[0m\u001b[1;33m)\u001b[0m\u001b[1;33m\u001b[0m\u001b[1;33m\u001b[0m\u001b[0m\n\u001b[0;32m      4\u001b[0m     \u001b[0mtime\u001b[0m\u001b[1;33m.\u001b[0m\u001b[0msleep\u001b[0m\u001b[1;33m(\u001b[0m\u001b[1;36m0.4\u001b[0m\u001b[1;33m)\u001b[0m\u001b[1;33m\u001b[0m\u001b[1;33m\u001b[0m\u001b[0m\n",
      "\u001b[1;31mAttributeError\u001b[0m: 'NoneType' object has no attribute 'split'"
     ]
    }
   ],
   "source": [
    "usr_input = input(\"Write the beginning of your tweet, the algorithm machine will complete it. Your input is: \")\n",
    "for w in generate_sample(usr_input).split():    \n",
    "    print(w, end =\" \")\n",
    "    time.sleep(0.4)\n"
   ]
  },
  {
   "cell_type": "markdown",
   "metadata": {
    "id": "8Q1hiltR3ygs"
   },
   "source": [
    "# Generate your own text \n",
    "\n",
    "Below, use you own data to generate content for a different application:"
   ]
  },
  {
   "cell_type": "code",
   "execution_count": null,
   "metadata": {
    "id": "chRxvgG03ygs"
   },
   "outputs": [],
   "source": []
  },
  {
   "cell_type": "markdown",
   "metadata": {
    "id": "PE4_dzG7SCYR"
   },
   "source": [
    "Export your notebook to a pdf document"
   ]
  },
  {
   "cell_type": "code",
   "execution_count": null,
   "metadata": {
    "id": "RNQTjTuDSCYR"
   },
   "outputs": [],
   "source": [
    "!jupyter nbconvert --to pdf 'YOUR_LINK_TO_THE_IPYNOTE_NOTEBOOK'"
   ]
  },
  {
   "cell_type": "markdown",
   "metadata": {
    "id": "tM4-fHc83ygs"
   },
   "source": [
    "# Congratulations!\n",
    "\n",
    "You've come to the end of this assignment, and have seen how to build a deep learning architecture that generate fake tweets/comments. \n",
    "\n",
    "Congratulations on finishing this notebook! \n",
    "\n"
   ]
  }
 ],
 "metadata": {
  "accelerator": "GPU",
  "colab": {
   "collapsed_sections": [],
   "name": "5.2D - DeepFakeComments Generator.ipynb",
   "provenance": []
  },
  "kernelspec": {
   "display_name": "Python 3 (ipykernel)",
   "language": "python",
   "name": "python3"
  },
  "language_info": {
   "codemirror_mode": {
    "name": "ipython",
    "version": 3
   },
   "file_extension": ".py",
   "mimetype": "text/x-python",
   "name": "python",
   "nbconvert_exporter": "python",
   "pygments_lexer": "ipython3",
   "version": "3.8.8"
  },
  "latex_envs": {
   "LaTeX_envs_menu_present": true,
   "autoclose": false,
   "autocomplete": true,
   "bibliofile": "biblio.bib",
   "cite_by": "apalike",
   "current_citInitial": 1,
   "eqLabelWithNumbers": true,
   "eqNumInitial": 1,
   "hotkeys": {
    "equation": "Ctrl-E",
    "itemize": "Ctrl-I"
   },
   "labels_anchors": false,
   "latex_user_defs": false,
   "report_style_numbering": false,
   "user_envs_cfg": false
  },
  "toc": {
   "base_numbering": 1,
   "nav_menu": {},
   "number_sections": true,
   "sideBar": true,
   "skip_h1_title": false,
   "title_cell": "Table of Contents",
   "title_sidebar": "Contents",
   "toc_cell": false,
   "toc_position": {},
   "toc_section_display": true,
   "toc_window_display": false
  }
 },
 "nbformat": 4,
 "nbformat_minor": 1
}
