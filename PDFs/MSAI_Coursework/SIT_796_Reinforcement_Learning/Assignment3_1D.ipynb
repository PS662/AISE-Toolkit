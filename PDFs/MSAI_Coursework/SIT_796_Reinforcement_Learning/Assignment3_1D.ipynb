{
 "cells": [
  {
   "cell_type": "code",
   "execution_count": 1,
   "id": "4d74f0a6",
   "metadata": {},
   "outputs": [
    {
     "name": "stderr",
     "output_type": "stream",
     "text": [
      "'apt-get' is not recognized as an internal or external command,\n",
      "operable program or batch file.\n",
      "The system cannot find the path specified.\n"
     ]
    },
    {
     "name": "stdout",
     "output_type": "stream",
     "text": [
      "Collecting PyVirtualDisplay==2.0.*\n",
      "  Downloading PyVirtualDisplay-2.0-py2.py3-none-any.whl (15 kB)\n",
      "Collecting PyOpenGL==3.1.*\n",
      "  Downloading PyOpenGL-3.1.6-py3-none-any.whl (2.4 MB)\n",
      "Collecting PyOpenGL-accelerate==3.1.*\n",
      "  Downloading PyOpenGL_accelerate-3.1.6-cp38-cp38-win_amd64.whl (351 kB)\n",
      "Collecting gym[box2d]==0.17.*\n",
      "  Downloading gym-0.17.3.tar.gz (1.6 MB)\n",
      "Requirement already satisfied: scipy in c:\\users\\singh\\anaconda3\\lib\\site-packages (from gym[box2d]==0.17.*) (1.6.2)\n",
      "Requirement already satisfied: numpy>=1.10.4 in c:\\users\\singh\\anaconda3\\lib\\site-packages (from gym[box2d]==0.17.*) (1.20.1)\n",
      "Collecting pyglet<=1.5.0,>=1.4.0\n",
      "  Downloading pyglet-1.5.0-py2.py3-none-any.whl (1.0 MB)\n",
      "Requirement already satisfied: cloudpickle<1.7.0,>=1.2.0 in c:\\users\\singh\\anaconda3\\lib\\site-packages (from gym[box2d]==0.17.*) (1.6.0)\n",
      "Collecting box2d-py~=2.3.5\n",
      "  Downloading box2d-py-2.3.8.tar.gz (374 kB)\n",
      "Collecting EasyProcess\n",
      "  Downloading EasyProcess-1.1-py3-none-any.whl (8.7 kB)\n",
      "Requirement already satisfied: future in c:\\users\\singh\\anaconda3\\lib\\site-packages (from pyglet<=1.5.0,>=1.4.0->gym[box2d]==0.17.*) (0.18.2)\n",
      "Building wheels for collected packages: gym, box2d-py\n",
      "  Building wheel for gym (setup.py): started\n",
      "  Building wheel for gym (setup.py): finished with status 'done'\n",
      "  Created wheel for gym: filename=gym-0.17.3-py3-none-any.whl size=1654653 sha256=672bf8752c1ab3c645d6cc6ecd3979cbe8230934fee5b0a335386e3dad0d7eae\n",
      "  Stored in directory: c:\\users\\singh\\appdata\\local\\pip\\cache\\wheels\\84\\40\\e7\\14efb9870cfc92ac236d78cb721dce614ddec9666c8a5e0a35\n",
      "  Building wheel for box2d-py (setup.py): started\n",
      "  Building wheel for box2d-py (setup.py): finished with status 'error'\n",
      "  Running setup.py clean for box2d-py\n",
      "Successfully built gym\n",
      "Failed to build box2d-py\n",
      "Installing collected packages: pyglet, gym, EasyProcess, box2d-py, PyVirtualDisplay, PyOpenGL-accelerate, PyOpenGL\n",
      "    Running setup.py install for box2d-py: started"
     ]
    },
    {
     "name": "stderr",
     "output_type": "stream",
     "text": [
      "  ERROR: Command errored out with exit status 1:\n",
      "   command: 'C:\\Users\\singh\\anaconda3\\python.exe' -u -c 'import sys, setuptools, tokenize; sys.argv[0] = '\"'\"'C:\\\\Users\\\\singh\\\\AppData\\\\Local\\\\Temp\\\\pip-install-0m43szmu\\\\box2d-py_ba21e2ad4f5f45a1bc261a0acebc9925\\\\setup.py'\"'\"'; __file__='\"'\"'C:\\\\Users\\\\singh\\\\AppData\\\\Local\\\\Temp\\\\pip-install-0m43szmu\\\\box2d-py_ba21e2ad4f5f45a1bc261a0acebc9925\\\\setup.py'\"'\"';f=getattr(tokenize, '\"'\"'open'\"'\"', open)(__file__);code=f.read().replace('\"'\"'\\r\\n'\"'\"', '\"'\"'\\n'\"'\"');f.close();exec(compile(code, __file__, '\"'\"'exec'\"'\"'))' bdist_wheel -d 'C:\\Users\\singh\\AppData\\Local\\Temp\\pip-wheel-9pxjdy38'\n",
      "       cwd: C:\\Users\\singh\\AppData\\Local\\Temp\\pip-install-0m43szmu\\box2d-py_ba21e2ad4f5f45a1bc261a0acebc9925\\\n",
      "  Complete output (16 lines):\n",
      "  Using setuptools (version 52.0.0.post20210125).\n",
      "  running bdist_wheel\n",
      "  running build\n",
      "  running build_py\n",
      "  creating build\n",
      "  creating build\\lib.win-amd64-3.8\n",
      "  creating build\\lib.win-amd64-3.8\\Box2D\n",
      "  copying library\\Box2D\\Box2D.py -> build\\lib.win-amd64-3.8\\Box2D\n",
      "  copying library\\Box2D\\__init__.py -> build\\lib.win-amd64-3.8\\Box2D\n",
      "  creating build\\lib.win-amd64-3.8\\Box2D\\b2\n",
      "  copying library\\Box2D\\b2\\__init__.py -> build\\lib.win-amd64-3.8\\Box2D\\b2\n",
      "  running build_ext\n",
      "  building 'Box2D._Box2D' extension\n",
      "  swigging Box2D\\Box2D.i to Box2D\\Box2D_wrap.cpp\n",
      "  swig.exe -python -c++ -IBox2D -small -O -includeall -ignoremissing -w201 -globals b2Globals -outdir library\\Box2D -keyword -w511 -D_SWIG_KWARGS -o Box2D\\Box2D_wrap.cpp Box2D\\Box2D.i\n",
      "  error: command 'swig.exe' failed: No such file or directory\n",
      "  ----------------------------------------\n",
      "  ERROR: Failed building wheel for box2d-py\n",
      "    ERROR: Command errored out with exit status 1:\n",
      "     command: 'C:\\Users\\singh\\anaconda3\\python.exe' -u -c 'import sys, setuptools, tokenize; sys.argv[0] = '\"'\"'C:\\\\Users\\\\singh\\\\AppData\\\\Local\\\\Temp\\\\pip-install-0m43szmu\\\\box2d-py_ba21e2ad4f5f45a1bc261a0acebc9925\\\\setup.py'\"'\"'; __file__='\"'\"'C:\\\\Users\\\\singh\\\\AppData\\\\Local\\\\Temp\\\\pip-install-0m43szmu\\\\box2d-py_ba21e2ad4f5f45a1bc261a0acebc9925\\\\setup.py'\"'\"';f=getattr(tokenize, '\"'\"'open'\"'\"', open)(__file__);code=f.read().replace('\"'\"'\\r\\n'\"'\"', '\"'\"'\\n'\"'\"');f.close();exec(compile(code, __file__, '\"'\"'exec'\"'\"'))' install --record 'C:\\Users\\singh\\AppData\\Local\\Temp\\pip-record-ex38x928\\install-record.txt' --single-version-externally-managed --compile --install-headers 'C:\\Users\\singh\\anaconda3\\Include\\box2d-py'\n",
      "         cwd: C:\\Users\\singh\\AppData\\Local\\Temp\\pip-install-0m43szmu\\box2d-py_ba21e2ad4f5f45a1bc261a0acebc9925\\\n",
      "    Complete output (16 lines):\n",
      "    Using setuptools (version 52.0.0.post20210125).\n",
      "    running install\n",
      "    running build\n",
      "    running build_py\n",
      "    creating build\n",
      "    creating build\\lib.win-amd64-3.8\n",
      "    creating build\\lib.win-amd64-3.8\\Box2D\n",
      "    copying library\\Box2D\\Box2D.py -> build\\lib.win-amd64-3.8\\Box2D\n",
      "    copying library\\Box2D\\__init__.py -> build\\lib.win-amd64-3.8\\Box2D\n",
      "    creating build\\lib.win-amd64-3.8\\Box2D\\b2\n",
      "    copying library\\Box2D\\b2\\__init__.py -> build\\lib.win-amd64-3.8\\Box2D\\b2\n",
      "    running build_ext\n",
      "    building 'Box2D._Box2D' extension\n",
      "    swigging Box2D\\Box2D.i to Box2D\\Box2D_wrap.cpp\n",
      "    swig.exe -python -c++ -IBox2D -small -O -includeall -ignoremissing -w201 -globals b2Globals -outdir library\\Box2D -keyword -w511 -D_SWIG_KWARGS -o Box2D\\Box2D_wrap.cpp Box2D\\Box2D.i\n",
      "    error: command 'swig.exe' failed: No such file or directory\n",
      "    ----------------------------------------\n",
      "ERROR: Command errored out with exit status 1: 'C:\\Users\\singh\\anaconda3\\python.exe' -u -c 'import sys, setuptools, tokenize; sys.argv[0] = '\"'\"'C:\\\\Users\\\\singh\\\\AppData\\\\Local\\\\Temp\\\\pip-install-0m43szmu\\\\box2d-py_ba21e2ad4f5f45a1bc261a0acebc9925\\\\setup.py'\"'\"'; __file__='\"'\"'C:\\\\Users\\\\singh\\\\AppData\\\\Local\\\\Temp\\\\pip-install-0m43szmu\\\\box2d-py_ba21e2ad4f5f45a1bc261a0acebc9925\\\\setup.py'\"'\"';f=getattr(tokenize, '\"'\"'open'\"'\"', open)(__file__);code=f.read().replace('\"'\"'\\r\\n'\"'\"', '\"'\"'\\n'\"'\"');f.close();exec(compile(code, __file__, '\"'\"'exec'\"'\"'))' install --record 'C:\\Users\\singh\\AppData\\Local\\Temp\\pip-record-ex38x928\\install-record.txt' --single-version-externally-managed --compile --install-headers 'C:\\Users\\singh\\anaconda3\\Include\\box2d-py' Check the logs for full command output.\n"
     ]
    },
    {
     "name": "stdout",
     "output_type": "stream",
     "text": [
      "\n",
      "    Running setup.py install for box2d-py: finished with status 'error'\n",
      "Requirement already satisfied: pyglet in c:\\users\\singh\\anaconda3\\lib\\site-packages (1.5.0)\n",
      "Requirement already satisfied: future in c:\\users\\singh\\anaconda3\\lib\\site-packages (from pyglet) (0.18.2)\n"
     ]
    }
   ],
   "source": [
    "# install required system dependencies\n",
    "# install required system dependencies\n",
    "!pip install PyVirtualDisplay==2.0.* \\\n",
    "  PyOpenGL==3.1.* \\\n",
    "  PyOpenGL-accelerate==3.1.* \\\n",
    "  gym[box2d]==0.17.* \n",
    "!pip install pyglet"
   ]
  },
  {
   "cell_type": "code",
   "execution_count": 2,
   "id": "e0b98613",
   "metadata": {},
   "outputs": [
    {
     "name": "stderr",
     "output_type": "stream",
     "text": [
      "'apt-get' is not recognized as an internal or external command,\n",
      "operable program or batch file.\n",
      "The system cannot find the path specified.\n"
     ]
    },
    {
     "name": "stdout",
     "output_type": "stream",
     "text": [
      "Collecting PyOpenGL==3.1.*\n",
      "  Using cached PyOpenGL-3.1.6-py3-none-any.whl (2.4 MB)\n",
      "Collecting PyOpenGL-accelerate==3.1.*\n",
      "  Using cached PyOpenGL_accelerate-3.1.6-cp38-cp38-win_amd64.whl (351 kB)\n",
      "Requirement already satisfied: gym[box2d]==0.17.* in c:\\users\\singh\\anaconda3\\lib\\site-packages (0.17.3)\n",
      "Requirement already satisfied: cloudpickle<1.7.0,>=1.2.0 in c:\\users\\singh\\anaconda3\\lib\\site-packages (from gym[box2d]==0.17.*) (1.6.0)\n",
      "Requirement already satisfied: pyglet<=1.5.0,>=1.4.0 in c:\\users\\singh\\anaconda3\\lib\\site-packages (from gym[box2d]==0.17.*) (1.5.0)\n",
      "Requirement already satisfied: numpy>=1.10.4 in c:\\users\\singh\\anaconda3\\lib\\site-packages (from gym[box2d]==0.17.*) (1.20.1)\n",
      "Requirement already satisfied: scipy in c:\\users\\singh\\anaconda3\\lib\\site-packages (from gym[box2d]==0.17.*) (1.6.2)\n",
      "Collecting box2d-py~=2.3.5\n",
      "  Using cached box2d-py-2.3.8.tar.gz (374 kB)\n",
      "Requirement already satisfied: future in c:\\users\\singh\\anaconda3\\lib\\site-packages (from pyglet<=1.5.0,>=1.4.0->gym[box2d]==0.17.*) (0.18.2)\n",
      "Building wheels for collected packages: box2d-py\n",
      "  Building wheel for box2d-py (setup.py): started\n",
      "  Building wheel for box2d-py (setup.py): finished with status 'error'\n",
      "  Running setup.py clean for box2d-py\n",
      "Failed to build box2d-py\n",
      "Installing collected packages: box2d-py, PyOpenGL-accelerate, PyOpenGL\n",
      "    Running setup.py install for box2d-py: started\n",
      "    Running setup.py install for box2d-py: finished with status 'error'\n"
     ]
    },
    {
     "name": "stderr",
     "output_type": "stream",
     "text": [
      "  ERROR: Command errored out with exit status 1:\n",
      "   command: 'C:\\Users\\singh\\anaconda3\\python.exe' -u -c 'import sys, setuptools, tokenize; sys.argv[0] = '\"'\"'C:\\\\Users\\\\singh\\\\AppData\\\\Local\\\\Temp\\\\pip-install-5c3soy0w\\\\box2d-py_78d6358d26d849c29aba83e26c94dc4f\\\\setup.py'\"'\"'; __file__='\"'\"'C:\\\\Users\\\\singh\\\\AppData\\\\Local\\\\Temp\\\\pip-install-5c3soy0w\\\\box2d-py_78d6358d26d849c29aba83e26c94dc4f\\\\setup.py'\"'\"';f=getattr(tokenize, '\"'\"'open'\"'\"', open)(__file__);code=f.read().replace('\"'\"'\\r\\n'\"'\"', '\"'\"'\\n'\"'\"');f.close();exec(compile(code, __file__, '\"'\"'exec'\"'\"'))' bdist_wheel -d 'C:\\Users\\singh\\AppData\\Local\\Temp\\pip-wheel-0p_xoq_n'\n",
      "       cwd: C:\\Users\\singh\\AppData\\Local\\Temp\\pip-install-5c3soy0w\\box2d-py_78d6358d26d849c29aba83e26c94dc4f\\\n",
      "  Complete output (16 lines):\n",
      "  Using setuptools (version 52.0.0.post20210125).\n",
      "  running bdist_wheel\n",
      "  running build\n",
      "  running build_py\n",
      "  creating build\n",
      "  creating build\\lib.win-amd64-3.8\n",
      "  creating build\\lib.win-amd64-3.8\\Box2D\n",
      "  copying library\\Box2D\\Box2D.py -> build\\lib.win-amd64-3.8\\Box2D\n",
      "  copying library\\Box2D\\__init__.py -> build\\lib.win-amd64-3.8\\Box2D\n",
      "  creating build\\lib.win-amd64-3.8\\Box2D\\b2\n",
      "  copying library\\Box2D\\b2\\__init__.py -> build\\lib.win-amd64-3.8\\Box2D\\b2\n",
      "  running build_ext\n",
      "  building 'Box2D._Box2D' extension\n",
      "  swigging Box2D\\Box2D.i to Box2D\\Box2D_wrap.cpp\n",
      "  swig.exe -python -c++ -IBox2D -small -O -includeall -ignoremissing -w201 -globals b2Globals -outdir library\\Box2D -keyword -w511 -D_SWIG_KWARGS -o Box2D\\Box2D_wrap.cpp Box2D\\Box2D.i\n",
      "  error: command 'swig.exe' failed: No such file or directory\n",
      "  ----------------------------------------\n",
      "  ERROR: Failed building wheel for box2d-py\n",
      "    ERROR: Command errored out with exit status 1:\n",
      "     command: 'C:\\Users\\singh\\anaconda3\\python.exe' -u -c 'import sys, setuptools, tokenize; sys.argv[0] = '\"'\"'C:\\\\Users\\\\singh\\\\AppData\\\\Local\\\\Temp\\\\pip-install-5c3soy0w\\\\box2d-py_78d6358d26d849c29aba83e26c94dc4f\\\\setup.py'\"'\"'; __file__='\"'\"'C:\\\\Users\\\\singh\\\\AppData\\\\Local\\\\Temp\\\\pip-install-5c3soy0w\\\\box2d-py_78d6358d26d849c29aba83e26c94dc4f\\\\setup.py'\"'\"';f=getattr(tokenize, '\"'\"'open'\"'\"', open)(__file__);code=f.read().replace('\"'\"'\\r\\n'\"'\"', '\"'\"'\\n'\"'\"');f.close();exec(compile(code, __file__, '\"'\"'exec'\"'\"'))' install --record 'C:\\Users\\singh\\AppData\\Local\\Temp\\pip-record-tr53iyvf\\install-record.txt' --single-version-externally-managed --compile --install-headers 'C:\\Users\\singh\\anaconda3\\Include\\box2d-py'\n",
      "         cwd: C:\\Users\\singh\\AppData\\Local\\Temp\\pip-install-5c3soy0w\\box2d-py_78d6358d26d849c29aba83e26c94dc4f\\\n",
      "    Complete output (16 lines):\n",
      "    Using setuptools (version 52.0.0.post20210125).\n",
      "    running install\n",
      "    running build\n",
      "    running build_py\n",
      "    creating build\n",
      "    creating build\\lib.win-amd64-3.8\n",
      "    creating build\\lib.win-amd64-3.8\\Box2D\n",
      "    copying library\\Box2D\\Box2D.py -> build\\lib.win-amd64-3.8\\Box2D\n",
      "    copying library\\Box2D\\__init__.py -> build\\lib.win-amd64-3.8\\Box2D\n",
      "    creating build\\lib.win-amd64-3.8\\Box2D\\b2\n",
      "    copying library\\Box2D\\b2\\__init__.py -> build\\lib.win-amd64-3.8\\Box2D\\b2\n",
      "    running build_ext\n",
      "    building 'Box2D._Box2D' extension\n",
      "    swigging Box2D\\Box2D.i to Box2D\\Box2D_wrap.cpp\n",
      "    swig.exe -python -c++ -IBox2D -small -O -includeall -ignoremissing -w201 -globals b2Globals -outdir library\\Box2D -keyword -w511 -D_SWIG_KWARGS -o Box2D\\Box2D_wrap.cpp Box2D\\Box2D.i\n",
      "    error: command 'swig.exe' failed: No such file or directory\n",
      "    ----------------------------------------\n",
      "ERROR: Command errored out with exit status 1: 'C:\\Users\\singh\\anaconda3\\python.exe' -u -c 'import sys, setuptools, tokenize; sys.argv[0] = '\"'\"'C:\\\\Users\\\\singh\\\\AppData\\\\Local\\\\Temp\\\\pip-install-5c3soy0w\\\\box2d-py_78d6358d26d849c29aba83e26c94dc4f\\\\setup.py'\"'\"'; __file__='\"'\"'C:\\\\Users\\\\singh\\\\AppData\\\\Local\\\\Temp\\\\pip-install-5c3soy0w\\\\box2d-py_78d6358d26d849c29aba83e26c94dc4f\\\\setup.py'\"'\"';f=getattr(tokenize, '\"'\"'open'\"'\"', open)(__file__);code=f.read().replace('\"'\"'\\r\\n'\"'\"', '\"'\"'\\n'\"'\"');f.close();exec(compile(code, __file__, '\"'\"'exec'\"'\"'))' install --record 'C:\\Users\\singh\\AppData\\Local\\Temp\\pip-record-tr53iyvf\\install-record.txt' --single-version-externally-managed --compile --install-headers 'C:\\Users\\singh\\anaconda3\\Include\\box2d-py' Check the logs for full command output.\n"
     ]
    },
    {
     "name": "stdout",
     "output_type": "stream",
     "text": [
      "Requirement already satisfied: pyglet in c:\\users\\singh\\anaconda3\\lib\\site-packages (1.5.0)\n",
      "Requirement already satisfied: future in c:\\users\\singh\\anaconda3\\lib\\site-packages (from pyglet) (0.18.2)\n",
      "Collecting ffmpeg\n",
      "  Downloading ffmpeg-1.4.tar.gz (5.1 kB)\n",
      "Building wheels for collected packages: ffmpeg\n",
      "  Building wheel for ffmpeg (setup.py): started\n",
      "  Building wheel for ffmpeg (setup.py): finished with status 'done'\n",
      "  Created wheel for ffmpeg: filename=ffmpeg-1.4-py3-none-any.whl size=6083 sha256=1910b3f056ee5723991eea9557fe3d93c6929c68771622105e53f776766830d3\n",
      "  Stored in directory: c:\\users\\singh\\appdata\\local\\pip\\cache\\wheels\\30\\33\\46\\5ab7eca55b9490dddbf3441c68a29535996270ef1ce8b9b6d7\n",
      "Successfully built ffmpeg\n",
      "Installing collected packages: ffmpeg\n",
      "Successfully installed ffmpeg-1.4\n",
      "Collecting pyvirtualdisplay\n",
      "  Downloading PyVirtualDisplay-3.0-py3-none-any.whl (15 kB)\n",
      "Installing collected packages: pyvirtualdisplay\n",
      "Successfully installed pyvirtualdisplay-3.0\n",
      "Collecting Image\n",
      "  Downloading image-1.5.33.tar.gz (15 kB)\n",
      "Requirement already satisfied: pillow in c:\\users\\singh\\anaconda3\\lib\\site-packages (from Image) (8.2.0)\n",
      "Collecting django\n",
      "  Downloading Django-4.0.3-py3-none-any.whl (8.0 MB)\n",
      "Requirement already satisfied: six in c:\\users\\singh\\anaconda3\\lib\\site-packages (from Image) (1.15.0)\n",
      "Collecting asgiref<4,>=3.4.1\n",
      "  Downloading asgiref-3.5.0-py3-none-any.whl (22 kB)\n",
      "Collecting sqlparse>=0.2.2\n",
      "  Downloading sqlparse-0.4.2-py3-none-any.whl (42 kB)\n",
      "Collecting tzdata\n",
      "  Downloading tzdata-2022.1-py2.py3-none-any.whl (339 kB)\n",
      "Collecting backports.zoneinfo\n",
      "  Downloading backports.zoneinfo-0.2.1-cp38-cp38-win_amd64.whl (38 kB)\n",
      "Building wheels for collected packages: Image\n",
      "  Building wheel for Image (setup.py): started\n",
      "  Building wheel for Image (setup.py): finished with status 'done'\n",
      "  Created wheel for Image: filename=image-1.5.33-py2.py3-none-any.whl size=19482 sha256=67702ccda63b4303e9ef5aa28f777e060b072181a17da36ef1dc0c58681aa2ce\n",
      "  Stored in directory: c:\\users\\singh\\appdata\\local\\pip\\cache\\wheels\\ac\\30\\5c\\a8b33888bea3507eda7c924a143d34b2390d2ca5b145b327b5\n",
      "Successfully built Image\n",
      "Installing collected packages: tzdata, sqlparse, backports.zoneinfo, asgiref, django, Image\n",
      "Successfully installed Image-1.5.33 asgiref-3.5.0 backports.zoneinfo-0.2.1 django-4.0.3 sqlparse-0.4.2 tzdata-2022.1\n"
     ]
    },
    {
     "name": "stderr",
     "output_type": "stream",
     "text": [
      "ERROR: Could not find a version that satisfies the requirement gym-maze-trustycoder83\n",
      "ERROR: No matching distribution found for gym-maze-trustycoder83\n"
     ]
    }
   ],
   "source": [
    "!pip install PyOpenGL==3.1.* \\\n",
    "            PyOpenGL-accelerate==3.1.* \\\n",
    "            gym[box2d]==0.17.* \n",
    "!pip install pyglet\n",
    "!pip install ffmpeg\n",
    "! pip install pyvirtualdisplay\n",
    "!pip install Image\n",
    "!pip install gym-maze-trustycoder83"
   ]
  },
  {
   "cell_type": "code",
   "execution_count": 3,
   "id": "f2ed2a39",
   "metadata": {},
   "outputs": [],
   "source": [
    "import gym\n",
    "from gym.wrappers import Monitor\n",
    "from IPython import display\n",
    "from pyvirtualdisplay import Display\n",
    "import numpy as np\n",
    "import base64\n",
    "import io\n",
    "import IPython"
   ]
  },
  {
   "cell_type": "code",
   "execution_count": 6,
   "id": "61a080ae",
   "metadata": {},
   "outputs": [
    {
     "ename": "AttributeError",
     "evalue": "module 'gym.envs.box2d' has no attribute 'CarRacing'",
     "output_type": "error",
     "traceback": [
      "\u001b[1;31m---------------------------------------------------------------------------\u001b[0m",
      "\u001b[1;31mAttributeError\u001b[0m                            Traceback (most recent call last)",
      "\u001b[1;32m<ipython-input-6-52a64b13ff95>\u001b[0m in \u001b[0;36m<module>\u001b[1;34m\u001b[0m\n\u001b[1;32m----> 1\u001b[1;33m \u001b[0menv\u001b[0m \u001b[1;33m=\u001b[0m \u001b[0mgym\u001b[0m\u001b[1;33m.\u001b[0m\u001b[0mmake\u001b[0m\u001b[1;33m(\u001b[0m\u001b[1;34m'CarRacing-v0'\u001b[0m\u001b[1;33m)\u001b[0m\u001b[1;33m\u001b[0m\u001b[1;33m\u001b[0m\u001b[0m\n\u001b[0m\u001b[0;32m      2\u001b[0m \u001b[0mo\u001b[0m \u001b[1;33m=\u001b[0m \u001b[0menv\u001b[0m\u001b[1;33m.\u001b[0m\u001b[0mreset\u001b[0m\u001b[1;33m(\u001b[0m\u001b[1;33m)\u001b[0m\u001b[1;33m\u001b[0m\u001b[1;33m\u001b[0m\u001b[0m\n",
      "\u001b[1;32m~\\anaconda3\\lib\\site-packages\\gym\\envs\\registration.py\u001b[0m in \u001b[0;36mmake\u001b[1;34m(id, **kwargs)\u001b[0m\n\u001b[0;32m    143\u001b[0m \u001b[1;33m\u001b[0m\u001b[0m\n\u001b[0;32m    144\u001b[0m \u001b[1;32mdef\u001b[0m \u001b[0mmake\u001b[0m\u001b[1;33m(\u001b[0m\u001b[0mid\u001b[0m\u001b[1;33m,\u001b[0m \u001b[1;33m**\u001b[0m\u001b[0mkwargs\u001b[0m\u001b[1;33m)\u001b[0m\u001b[1;33m:\u001b[0m\u001b[1;33m\u001b[0m\u001b[1;33m\u001b[0m\u001b[0m\n\u001b[1;32m--> 145\u001b[1;33m     \u001b[1;32mreturn\u001b[0m \u001b[0mregistry\u001b[0m\u001b[1;33m.\u001b[0m\u001b[0mmake\u001b[0m\u001b[1;33m(\u001b[0m\u001b[0mid\u001b[0m\u001b[1;33m,\u001b[0m \u001b[1;33m**\u001b[0m\u001b[0mkwargs\u001b[0m\u001b[1;33m)\u001b[0m\u001b[1;33m\u001b[0m\u001b[1;33m\u001b[0m\u001b[0m\n\u001b[0m\u001b[0;32m    146\u001b[0m \u001b[1;33m\u001b[0m\u001b[0m\n\u001b[0;32m    147\u001b[0m \u001b[1;32mdef\u001b[0m \u001b[0mspec\u001b[0m\u001b[1;33m(\u001b[0m\u001b[0mid\u001b[0m\u001b[1;33m)\u001b[0m\u001b[1;33m:\u001b[0m\u001b[1;33m\u001b[0m\u001b[1;33m\u001b[0m\u001b[0m\n",
      "\u001b[1;32m~\\anaconda3\\lib\\site-packages\\gym\\envs\\registration.py\u001b[0m in \u001b[0;36mmake\u001b[1;34m(self, path, **kwargs)\u001b[0m\n\u001b[0;32m     88\u001b[0m             \u001b[0mlogger\u001b[0m\u001b[1;33m.\u001b[0m\u001b[0minfo\u001b[0m\u001b[1;33m(\u001b[0m\u001b[1;34m'Making new env: %s'\u001b[0m\u001b[1;33m,\u001b[0m \u001b[0mpath\u001b[0m\u001b[1;33m)\u001b[0m\u001b[1;33m\u001b[0m\u001b[1;33m\u001b[0m\u001b[0m\n\u001b[0;32m     89\u001b[0m         \u001b[0mspec\u001b[0m \u001b[1;33m=\u001b[0m \u001b[0mself\u001b[0m\u001b[1;33m.\u001b[0m\u001b[0mspec\u001b[0m\u001b[1;33m(\u001b[0m\u001b[0mpath\u001b[0m\u001b[1;33m)\u001b[0m\u001b[1;33m\u001b[0m\u001b[1;33m\u001b[0m\u001b[0m\n\u001b[1;32m---> 90\u001b[1;33m         \u001b[0menv\u001b[0m \u001b[1;33m=\u001b[0m \u001b[0mspec\u001b[0m\u001b[1;33m.\u001b[0m\u001b[0mmake\u001b[0m\u001b[1;33m(\u001b[0m\u001b[1;33m**\u001b[0m\u001b[0mkwargs\u001b[0m\u001b[1;33m)\u001b[0m\u001b[1;33m\u001b[0m\u001b[1;33m\u001b[0m\u001b[0m\n\u001b[0m\u001b[0;32m     91\u001b[0m         \u001b[1;31m# We used to have people override _reset/_step rather than\u001b[0m\u001b[1;33m\u001b[0m\u001b[1;33m\u001b[0m\u001b[1;33m\u001b[0m\u001b[0m\n\u001b[0;32m     92\u001b[0m         \u001b[1;31m# reset/step. Set _gym_disable_underscore_compat = True on\u001b[0m\u001b[1;33m\u001b[0m\u001b[1;33m\u001b[0m\u001b[1;33m\u001b[0m\u001b[0m\n",
      "\u001b[1;32m~\\anaconda3\\lib\\site-packages\\gym\\envs\\registration.py\u001b[0m in \u001b[0;36mmake\u001b[1;34m(self, **kwargs)\u001b[0m\n\u001b[0;32m     57\u001b[0m             \u001b[0menv\u001b[0m \u001b[1;33m=\u001b[0m \u001b[0mself\u001b[0m\u001b[1;33m.\u001b[0m\u001b[0mentry_point\u001b[0m\u001b[1;33m(\u001b[0m\u001b[1;33m**\u001b[0m\u001b[0m_kwargs\u001b[0m\u001b[1;33m)\u001b[0m\u001b[1;33m\u001b[0m\u001b[1;33m\u001b[0m\u001b[0m\n\u001b[0;32m     58\u001b[0m         \u001b[1;32melse\u001b[0m\u001b[1;33m:\u001b[0m\u001b[1;33m\u001b[0m\u001b[1;33m\u001b[0m\u001b[0m\n\u001b[1;32m---> 59\u001b[1;33m             \u001b[0mcls\u001b[0m \u001b[1;33m=\u001b[0m \u001b[0mload\u001b[0m\u001b[1;33m(\u001b[0m\u001b[0mself\u001b[0m\u001b[1;33m.\u001b[0m\u001b[0mentry_point\u001b[0m\u001b[1;33m)\u001b[0m\u001b[1;33m\u001b[0m\u001b[1;33m\u001b[0m\u001b[0m\n\u001b[0m\u001b[0;32m     60\u001b[0m             \u001b[0menv\u001b[0m \u001b[1;33m=\u001b[0m \u001b[0mcls\u001b[0m\u001b[1;33m(\u001b[0m\u001b[1;33m**\u001b[0m\u001b[0m_kwargs\u001b[0m\u001b[1;33m)\u001b[0m\u001b[1;33m\u001b[0m\u001b[1;33m\u001b[0m\u001b[0m\n\u001b[0;32m     61\u001b[0m \u001b[1;33m\u001b[0m\u001b[0m\n",
      "\u001b[1;32m~\\anaconda3\\lib\\site-packages\\gym\\envs\\registration.py\u001b[0m in \u001b[0;36mload\u001b[1;34m(name)\u001b[0m\n\u001b[0;32m     17\u001b[0m     \u001b[0mmod_name\u001b[0m\u001b[1;33m,\u001b[0m \u001b[0mattr_name\u001b[0m \u001b[1;33m=\u001b[0m \u001b[0mname\u001b[0m\u001b[1;33m.\u001b[0m\u001b[0msplit\u001b[0m\u001b[1;33m(\u001b[0m\u001b[1;34m\":\"\u001b[0m\u001b[1;33m)\u001b[0m\u001b[1;33m\u001b[0m\u001b[1;33m\u001b[0m\u001b[0m\n\u001b[0;32m     18\u001b[0m     \u001b[0mmod\u001b[0m \u001b[1;33m=\u001b[0m \u001b[0mimportlib\u001b[0m\u001b[1;33m.\u001b[0m\u001b[0mimport_module\u001b[0m\u001b[1;33m(\u001b[0m\u001b[0mmod_name\u001b[0m\u001b[1;33m)\u001b[0m\u001b[1;33m\u001b[0m\u001b[1;33m\u001b[0m\u001b[0m\n\u001b[1;32m---> 19\u001b[1;33m     \u001b[0mfn\u001b[0m \u001b[1;33m=\u001b[0m \u001b[0mgetattr\u001b[0m\u001b[1;33m(\u001b[0m\u001b[0mmod\u001b[0m\u001b[1;33m,\u001b[0m \u001b[0mattr_name\u001b[0m\u001b[1;33m)\u001b[0m\u001b[1;33m\u001b[0m\u001b[1;33m\u001b[0m\u001b[0m\n\u001b[0m\u001b[0;32m     20\u001b[0m     \u001b[1;32mreturn\u001b[0m \u001b[0mfn\u001b[0m\u001b[1;33m\u001b[0m\u001b[1;33m\u001b[0m\u001b[0m\n\u001b[0;32m     21\u001b[0m \u001b[1;33m\u001b[0m\u001b[0m\n",
      "\u001b[1;31mAttributeError\u001b[0m: module 'gym.envs.box2d' has no attribute 'CarRacing'"
     ]
    }
   ],
   "source": [
    "env = gym.make('CarRacing-v0')\n",
    "o = env.reset()"
   ]
  },
  {
   "cell_type": "code",
   "execution_count": 5,
   "id": "ae2f47f5",
   "metadata": {},
   "outputs": [
    {
     "name": "stdout",
     "output_type": "stream",
     "text": [
      "Requirement already satisfied: gym[box2d] in c:\\users\\singh\\anaconda3\\lib\\site-packages (0.17.3)\n",
      "Requirement already satisfied: scipy in c:\\users\\singh\\anaconda3\\lib\\site-packages (from gym[box2d]) (1.6.2)\n",
      "Requirement already satisfied: cloudpickle<1.7.0,>=1.2.0 in c:\\users\\singh\\anaconda3\\lib\\site-packages (from gym[box2d]) (1.6.0)\n",
      "Requirement already satisfied: pyglet<=1.5.0,>=1.4.0 in c:\\users\\singh\\anaconda3\\lib\\site-packages (from gym[box2d]) (1.5.0)\n",
      "Requirement already satisfied: numpy>=1.10.4 in c:\\users\\singh\\anaconda3\\lib\\site-packages (from gym[box2d]) (1.20.1)"
     ]
    },
    {
     "name": "stderr",
     "output_type": "stream",
     "text": [
      "  ERROR: Command errored out with exit status 1:\n",
      "   command: 'C:\\Users\\singh\\anaconda3\\python.exe' -u -c 'import sys, setuptools, tokenize; sys.argv[0] = '\"'\"'C:\\\\Users\\\\singh\\\\AppData\\\\Local\\\\Temp\\\\pip-install-fbeym_9a\\\\box2d-py_1432254da2e64655950c0dda33fe55f6\\\\setup.py'\"'\"'; __file__='\"'\"'C:\\\\Users\\\\singh\\\\AppData\\\\Local\\\\Temp\\\\pip-install-fbeym_9a\\\\box2d-py_1432254da2e64655950c0dda33fe55f6\\\\setup.py'\"'\"';f=getattr(tokenize, '\"'\"'open'\"'\"', open)(__file__);code=f.read().replace('\"'\"'\\r\\n'\"'\"', '\"'\"'\\n'\"'\"');f.close();exec(compile(code, __file__, '\"'\"'exec'\"'\"'))' bdist_wheel -d 'C:\\Users\\singh\\AppData\\Local\\Temp\\pip-wheel-hym69ml3'\n",
      "       cwd: C:\\Users\\singh\\AppData\\Local\\Temp\\pip-install-fbeym_9a\\box2d-py_1432254da2e64655950c0dda33fe55f6\\\n",
      "  Complete output (16 lines):\n",
      "  Using setuptools (version 52.0.0.post20210125).\n",
      "  running bdist_wheel\n",
      "  running build\n",
      "  running build_py\n",
      "  creating build\n",
      "  creating build\\lib.win-amd64-3.8\n",
      "  creating build\\lib.win-amd64-3.8\\Box2D\n",
      "  copying library\\Box2D\\Box2D.py -> build\\lib.win-amd64-3.8\\Box2D\n",
      "  copying library\\Box2D\\__init__.py -> build\\lib.win-amd64-3.8\\Box2D\n",
      "  creating build\\lib.win-amd64-3.8\\Box2D\\b2\n",
      "  copying library\\Box2D\\b2\\__init__.py -> build\\lib.win-amd64-3.8\\Box2D\\b2\n",
      "  running build_ext\n",
      "  building 'Box2D._Box2D' extension\n",
      "  swigging Box2D\\Box2D.i to Box2D\\Box2D_wrap.cpp\n",
      "  swig.exe -python -c++ -IBox2D -small -O -includeall -ignoremissing -w201 -globals b2Globals -outdir library\\Box2D -keyword -w511 -D_SWIG_KWARGS -o Box2D\\Box2D_wrap.cpp Box2D\\Box2D.i\n",
      "  error: command 'swig.exe' failed: No such file or directory\n",
      "  ----------------------------------------\n",
      "  ERROR: Failed building wheel for box2d-py\n",
      "    ERROR: Command errored out with exit status 1:\n",
      "     command: 'C:\\Users\\singh\\anaconda3\\python.exe' -u -c 'import sys, setuptools, tokenize; sys.argv[0] = '\"'\"'C:\\\\Users\\\\singh\\\\AppData\\\\Local\\\\Temp\\\\pip-install-fbeym_9a\\\\box2d-py_1432254da2e64655950c0dda33fe55f6\\\\setup.py'\"'\"'; __file__='\"'\"'C:\\\\Users\\\\singh\\\\AppData\\\\Local\\\\Temp\\\\pip-install-fbeym_9a\\\\box2d-py_1432254da2e64655950c0dda33fe55f6\\\\setup.py'\"'\"';f=getattr(tokenize, '\"'\"'open'\"'\"', open)(__file__);code=f.read().replace('\"'\"'\\r\\n'\"'\"', '\"'\"'\\n'\"'\"');f.close();exec(compile(code, __file__, '\"'\"'exec'\"'\"'))' install --record 'C:\\Users\\singh\\AppData\\Local\\Temp\\pip-record-852m2yj6\\install-record.txt' --single-version-externally-managed --compile --install-headers 'C:\\Users\\singh\\anaconda3\\Include\\box2d-py'\n",
      "         cwd: C:\\Users\\singh\\AppData\\Local\\Temp\\pip-install-fbeym_9a\\box2d-py_1432254da2e64655950c0dda33fe55f6\\\n",
      "    Complete output (16 lines):\n",
      "    Using setuptools (version 52.0.0.post20210125).\n",
      "    running install\n",
      "    running build\n",
      "    running build_py\n",
      "    creating build\n",
      "    creating build\\lib.win-amd64-3.8\n",
      "    creating build\\lib.win-amd64-3.8\\Box2D\n",
      "    copying library\\Box2D\\Box2D.py -> build\\lib.win-amd64-3.8\\Box2D\n",
      "    copying library\\Box2D\\__init__.py -> build\\lib.win-amd64-3.8\\Box2D\n",
      "    creating build\\lib.win-amd64-3.8\\Box2D\\b2\n",
      "    copying library\\Box2D\\b2\\__init__.py -> build\\lib.win-amd64-3.8\\Box2D\\b2\n",
      "    running build_ext\n",
      "    building 'Box2D._Box2D' extension\n",
      "    swigging Box2D\\Box2D.i to Box2D\\Box2D_wrap.cpp\n",
      "    swig.exe -python -c++ -IBox2D -small -O -includeall -ignoremissing -w201 -globals b2Globals -outdir library\\Box2D -keyword -w511 -D_SWIG_KWARGS -o Box2D\\Box2D_wrap.cpp Box2D\\Box2D.i\n",
      "    error: command 'swig.exe' failed: No such file or directory\n",
      "    ----------------------------------------\n",
      "ERROR: Command errored out with exit status 1: 'C:\\Users\\singh\\anaconda3\\python.exe' -u -c 'import sys, setuptools, tokenize; sys.argv[0] = '\"'\"'C:\\\\Users\\\\singh\\\\AppData\\\\Local\\\\Temp\\\\pip-install-fbeym_9a\\\\box2d-py_1432254da2e64655950c0dda33fe55f6\\\\setup.py'\"'\"'; __file__='\"'\"'C:\\\\Users\\\\singh\\\\AppData\\\\Local\\\\Temp\\\\pip-install-fbeym_9a\\\\box2d-py_1432254da2e64655950c0dda33fe55f6\\\\setup.py'\"'\"';f=getattr(tokenize, '\"'\"'open'\"'\"', open)(__file__);code=f.read().replace('\"'\"'\\r\\n'\"'\"', '\"'\"'\\n'\"'\"');f.close();exec(compile(code, __file__, '\"'\"'exec'\"'\"'))' install --record 'C:\\Users\\singh\\AppData\\Local\\Temp\\pip-record-852m2yj6\\install-record.txt' --single-version-externally-managed --compile --install-headers 'C:\\Users\\singh\\anaconda3\\Include\\box2d-py' Check the logs for full command output.\n"
     ]
    },
    {
     "name": "stdout",
     "output_type": "stream",
     "text": [
      "\n",
      "Collecting box2d-py~=2.3.5\n",
      "  Using cached box2d-py-2.3.8.tar.gz (374 kB)\n",
      "Requirement already satisfied: future in c:\\users\\singh\\anaconda3\\lib\\site-packages (from pyglet<=1.5.0,>=1.4.0->gym[box2d]) (0.18.2)\n",
      "Building wheels for collected packages: box2d-py\n",
      "  Building wheel for box2d-py (setup.py): started\n",
      "  Building wheel for box2d-py (setup.py): finished with status 'error'\n",
      "  Running setup.py clean for box2d-py\n",
      "Failed to build box2d-py\n",
      "Installing collected packages: box2d-py\n",
      "    Running setup.py install for box2d-py: started\n",
      "    Running setup.py install for box2d-py: finished with status 'error'\n"
     ]
    }
   ],
   "source": [
    "!pip install gym[box2d]"
   ]
  },
  {
   "cell_type": "code",
   "execution_count": null,
   "id": "5d379cb3",
   "metadata": {},
   "outputs": [],
   "source": []
  }
 ],
 "metadata": {
  "kernelspec": {
   "display_name": "Python 3",
   "language": "python",
   "name": "python3"
  },
  "language_info": {
   "codemirror_mode": {
    "name": "ipython",
    "version": 3
   },
   "file_extension": ".py",
   "mimetype": "text/x-python",
   "name": "python",
   "nbconvert_exporter": "python",
   "pygments_lexer": "ipython3",
   "version": "3.8.8"
  }
 },
 "nbformat": 4,
 "nbformat_minor": 5
}
