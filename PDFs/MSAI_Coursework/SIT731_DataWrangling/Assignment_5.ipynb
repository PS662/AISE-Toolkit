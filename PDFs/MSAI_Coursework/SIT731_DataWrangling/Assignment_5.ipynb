{
 "cells": [
  {
   "cell_type": "markdown",
   "id": "116f5b44",
   "metadata": {},
   "source": [
    "<ul>\n",
    "<li> <b> Task 5D: Working with pandas Data Frames Part 2\n",
    "<li> Name: Prateek Singh\n",
    "<li> Student number: 221218743\n",
    "<li> Email: singhprate@deakin.edu.au\n",
    "<li> Unit: SIT731 </b>\n",
    "</ul> "
   ]
  },
  {
   "cell_type": "markdown",
   "id": "53494a7c",
   "metadata": {},
   "source": [
    "This task allows us to explore how we can perform similar tasks in SQL and Pandas library, thus it also allows us learn tranferable concepts across both tech stacks. I have also used timeit to perform fime analysis to benchmark sql and pure pandas execution time. [It is interesting to note that pure pandas outperform sql way in case of joins performed in later tasks.]"
   ]
  },
  {
   "cell_type": "code",
   "execution_count": 1,
   "id": "7d5aa323",
   "metadata": {},
   "outputs": [],
   "source": [
    "import pandas as pd\n",
    "import matplotlib.pyplot as plt\n",
    "import matplotlib.dates as mdates\n",
    "import numpy as np\n",
    "import sqlite3\n",
    "import tempfile, os.path\n",
    "import timeit"
   ]
  },
  {
   "cell_type": "code",
   "execution_count": 2,
   "id": "6c7d5d62",
   "metadata": {},
   "outputs": [],
   "source": [
    "df_airlines = pd.read_csv(\"Resource_Data/airlines.csv\", comment=\"#\")\n",
    "df_airports = pd.read_csv(\"Resource_Data/airports.csv\", comment=\"#\")\n",
    "df_flights = pd.read_csv(\"Resource_Data/flights.csv\", comment=\"#\")\n",
    "df_planes = pd.read_csv(\"Resource_Data/planes.csv\", comment=\"#\")\n",
    "df_weather = pd.read_csv(\"Resource_Data/weather.csv\", comment=\"#\")\n"
   ]
  },
  {
   "cell_type": "code",
   "execution_count": 3,
   "id": "ae33add7",
   "metadata": {},
   "outputs": [],
   "source": [
    "dbfile = os.path.join(tempfile.mkdtemp(), \"nycflights13.db\")\n",
    "conn = sqlite3.connect(dbfile)"
   ]
  },
  {
   "cell_type": "code",
   "execution_count": 4,
   "id": "666e04c1",
   "metadata": {},
   "outputs": [
    {
     "data": {
      "text/plain": [
       "26130"
      ]
     },
     "execution_count": 4,
     "metadata": {},
     "output_type": "execute_result"
    }
   ],
   "source": [
    "df_airlines.to_sql(\"airlines\", conn, index=False)\n",
    "df_airports.to_sql(\"airports\", conn, index=False)\n",
    "df_flights.to_sql(\"flights\", conn, index=False)\n",
    "df_planes.to_sql(\"planes\", conn, index=False)\n",
    "df_weather.to_sql(\"weather\", conn, index=False)"
   ]
  },
  {
   "cell_type": "markdown",
   "id": "dc096c26",
   "metadata": {},
   "source": [
    "#### 1. SELECT DISTINCT engine FROM planes"
   ]
  },
  {
   "cell_type": "code",
   "execution_count": 5,
   "id": "a9e0fbb2",
   "metadata": {},
   "outputs": [
    {
     "name": "stdout",
     "output_type": "stream",
     "text": [
      "SQL version took 0.095311 seconds\n",
      "Pandas version took 0.027895 seconds\n"
     ]
    }
   ],
   "source": [
    "def sql_version():\n",
    "    query = \"SELECT DISTINCT engine FROM planes\"\n",
    "    task1_sql = pd.read_sql_query(query, conn)\n",
    "    return task1_sql\n",
    "    \n",
    "def pandas_version():\n",
    "    task1_my = df_planes['engine'].drop_duplicates().reset_index(drop=True)\n",
    "    task1_my = task1_my.to_frame()\n",
    "    return task1_my\n",
    "\n",
    "task1_sql = sql_version()\n",
    "task1_my = pandas_version()\n",
    "pd.testing.assert_frame_equal(task1_sql, task1_my)\n",
    "\n",
    "sql_time = timeit.timeit(sql_version, number=100)\n",
    "#To compare time I'm doing each version 100 times to capture accurate difference\n",
    "pandas_time = timeit.timeit(pandas_version, number=100)\n",
    "print(f\"SQL version took {sql_time:.6f} seconds\")\n",
    "print(f\"Pandas version took {pandas_time:.6f} seconds\")"
   ]
  },
  {
   "cell_type": "markdown",
   "id": "8c510d81",
   "metadata": {},
   "source": [
    "#### 2. SELECT DISTINCT type, engine FROM planes"
   ]
  },
  {
   "cell_type": "code",
   "execution_count": 6,
   "id": "f546b7b6",
   "metadata": {},
   "outputs": [
    {
     "name": "stdout",
     "output_type": "stream",
     "text": [
      "SQL version took 0.130043 seconds\n",
      "Pandas version took 0.138504 seconds\n"
     ]
    }
   ],
   "source": [
    "def sql_version():\n",
    "    query = \"SELECT DISTINCT type, engine FROM planes\"\n",
    "    task_sql = pd.read_sql_query(query, conn)\n",
    "    return task_sql\n",
    "\n",
    "def pandas_version():\n",
    "    task_my = df_planes[['type', 'engine']].drop_duplicates().reset_index(drop=True)\n",
    "    return task_my\n",
    "\n",
    "task2_sql = sql_version()\n",
    "task2_my = pandas_version()\n",
    "pd.testing.assert_frame_equal(task2_sql, task2_my)\n",
    "\n",
    "sql_time = timeit.timeit(sql_version, number=100)\n",
    "#To compare time I'm doing each version 100 times to capture accurate difference\n",
    "pandas_time = timeit.timeit(pandas_version, number=100)\n",
    "print(f\"SQL version took {sql_time:.6f} seconds\")\n",
    "print(f\"Pandas version took {pandas_time:.6f} seconds\")"
   ]
  },
  {
   "cell_type": "markdown",
   "id": "7d03ab78",
   "metadata": {},
   "source": [
    "#### 3. SELECT COUNT(*), engine FROM planes GROUP BY engine"
   ]
  },
  {
   "cell_type": "code",
   "execution_count": 7,
   "id": "dc4e37ba",
   "metadata": {},
   "outputs": [
    {
     "name": "stdout",
     "output_type": "stream",
     "text": [
      "SQL version took 0.185039 seconds\n",
      "Pandas version took 0.133389 seconds\n"
     ]
    }
   ],
   "source": [
    "def sql_version():\n",
    "    query = \"SELECT COUNT(*), engine FROM planes GROUP BY engine\"\n",
    "    task1_sql = pd.read_sql_query(query, conn)\n",
    "    return task1_sql\n",
    "\n",
    "def pandas_version():\n",
    "    task1_my = df_planes.groupby('engine').size().reset_index(name='COUNT(*)')\n",
    "    task1_my = task1_my[['COUNT(*)', 'engine']]\n",
    "    return task1_my\n",
    "\n",
    "task1_sql = sql_version()\n",
    "task1_my = pandas_version()\n",
    "pd.testing.assert_frame_equal(task1_sql, task1_my)\n",
    "\n",
    "#To compare time I'm doing each version 100 times to capture accurate difference\n",
    "sql_time = timeit.timeit(sql_version, number=100)\n",
    "pandas_time = timeit.timeit(pandas_version, number=100)\n",
    "print(f\"SQL version took {sql_time:.6f} seconds\")\n",
    "print(f\"Pandas version took {pandas_time:.6f} seconds\")"
   ]
  },
  {
   "cell_type": "markdown",
   "id": "9e6d6cdb",
   "metadata": {},
   "source": [
    "#### 4. SELECT COUNT(*), engine, type FROM planes GROUP BY engine, type"
   ]
  },
  {
   "cell_type": "code",
   "execution_count": 8,
   "id": "b2107e27",
   "metadata": {},
   "outputs": [
    {
     "name": "stdout",
     "output_type": "stream",
     "text": [
      "SQL version took 0.272021 seconds\n",
      "Pandas version took 0.222611 seconds\n"
     ]
    }
   ],
   "source": [
    "def sql_version():\n",
    "    query = \"SELECT COUNT(*), engine, type FROM planes GROUP BY engine, type\"\n",
    "    task1_sql = pd.read_sql_query(query, conn)\n",
    "    return task1_sql\n",
    "\n",
    "def pandas_version():\n",
    "    task1_my = df_planes.groupby(['engine', 'type']).size().reset_index(name='COUNT(*)')\n",
    "    task1_my = task1_my[['COUNT(*)', 'engine', 'type']]\n",
    "    return task1_my\n",
    "\n",
    "task1_sql = sql_version()\n",
    "task1_my = pandas_version()\n",
    "pd.testing.assert_frame_equal(task1_sql, task1_my)\n",
    "\n",
    "sql_time = timeit.timeit(sql_version, number=100)\n",
    "#To compare time I'm doing each version 100 times to capture accurate difference\n",
    "pandas_time = timeit.timeit(pandas_version, number=100)\n",
    "print(f\"SQL version took {sql_time:.6f} seconds\")\n",
    "print(f\"Pandas version took {pandas_time:.6f} seconds\")"
   ]
  },
  {
   "cell_type": "markdown",
   "id": "77b21094",
   "metadata": {},
   "source": [
    "#### 5. SELECT MIN(year), AVG(year), MAX(year), engine, manufacturer FROM planes GROUP BY engine, manufacturer"
   ]
  },
  {
   "cell_type": "code",
   "execution_count": 9,
   "id": "56917856",
   "metadata": {},
   "outputs": [
    {
     "name": "stdout",
     "output_type": "stream",
     "text": [
      "SQL version took 0.431289 seconds\n",
      "Pandas version took 0.294459 seconds\n"
     ]
    }
   ],
   "source": [
    "def sql_version():\n",
    "    query = \"SELECT MIN(year), AVG(year), MAX(year), engine, manufacturer FROM planes GROUP BY engine, manufacturer\"\n",
    "    task1_sql = pd.read_sql_query(query, conn)\n",
    "    return task1_sql\n",
    "\n",
    "def pandas_version():\n",
    "    grouped = df_planes.groupby(['engine', 'manufacturer'])\n",
    "    task1_my = grouped['year'].agg(['min', 'mean', 'max']).reset_index()\n",
    "    task1_my.rename(columns={'min': 'MIN(year)', 'mean': 'AVG(year)', 'max': 'MAX(year)'}, inplace=True)\n",
    "    task1_my = task1_my[['MIN(year)', 'AVG(year)', 'MAX(year)', 'engine', 'manufacturer']]\n",
    "\n",
    "    return task1_my\n",
    "\n",
    "task1_sql = sql_version()\n",
    "task1_my = pandas_version()\n",
    "pd.testing.assert_frame_equal(task1_sql, task1_my)\n",
    "\n",
    "sql_time = timeit.timeit(sql_version, number=100)\n",
    "#To compare time I'm doing each version 100 times to capture accurate difference\n",
    "pandas_time = timeit.timeit(pandas_version, number=100)\n",
    "print(f\"SQL version took {sql_time:.6f} seconds\")\n",
    "print(f\"Pandas version took {pandas_time:.6f} seconds\")"
   ]
  },
  {
   "cell_type": "markdown",
   "id": "8809ec8a",
   "metadata": {},
   "source": [
    "#### 6. SELECT * FROM planes WHERE speed IS NOT NULL"
   ]
  },
  {
   "cell_type": "code",
   "execution_count": 10,
   "id": "71224a6d",
   "metadata": {},
   "outputs": [
    {
     "name": "stdout",
     "output_type": "stream",
     "text": [
      "SQL version took 0.132846 seconds\n",
      "Pandas version took 0.027316 seconds\n"
     ]
    }
   ],
   "source": [
    "def sql_version():\n",
    "    query = \"SELECT * FROM planes WHERE speed IS NOT NULL\"\n",
    "    task1_sql = pd.read_sql_query(query, conn)\n",
    "    return task1_sql\n",
    "\n",
    "def pandas_version():\n",
    "    task1_my = df_planes[df_planes['speed'].notnull()].reset_index(drop=True)\n",
    "    return task1_my\n",
    "\n",
    "task1_sql = sql_version()\n",
    "task1_my = pandas_version()\n",
    "pd.testing.assert_frame_equal(task1_sql, task1_my)\n",
    "\n",
    "sql_time = timeit.timeit(sql_version, number=100)\n",
    "#To compare time I'm doing each version 100 times to capture accurate difference\n",
    "pandas_time = timeit.timeit(pandas_version, number=100)\n",
    "print(f\"SQL version took {sql_time:.6f} seconds\")\n",
    "print(f\"Pandas version took {pandas_time:.6f} seconds\")"
   ]
  },
  {
   "cell_type": "markdown",
   "id": "c2fb5754",
   "metadata": {},
   "source": [
    "#### 7. SELECT tailnum FROM planes WHERE seats BETWEEN 150 AND 190 AND year >= 2012"
   ]
  },
  {
   "cell_type": "code",
   "execution_count": 11,
   "id": "affef778",
   "metadata": {},
   "outputs": [
    {
     "name": "stdout",
     "output_type": "stream",
     "text": [
      "SQL version took 0.078752 seconds\n",
      "Pandas version took 0.067646 seconds\n"
     ]
    }
   ],
   "source": [
    "def sql_version():\n",
    "    query = \"SELECT tailnum FROM planes WHERE seats BETWEEN 150 AND 190 AND year >= 2012\"\n",
    "    task1_sql = pd.read_sql_query(query, conn)\n",
    "    return task1_sql\n",
    "\n",
    "def pandas_version():\n",
    "    task1_my = df_planes[(df_planes['seats'] >= 150) & \n",
    "                         (df_planes['seats'] <= 190) & \n",
    "                         (df_planes['year'] >= 2012)]['tailnum']\n",
    "    task1_my = task1_my.reset_index(drop=True).to_frame()\n",
    "    return task1_my\n",
    "\n",
    "task1_sql = sql_version()\n",
    "task1_my = pandas_version()\n",
    "pd.testing.assert_frame_equal(task1_sql, task1_my)\n",
    "\n",
    "sql_time = timeit.timeit(sql_version, number=100)\n",
    "#To compare time I'm doing each version 100 times to capture accurate difference\n",
    "pandas_time = timeit.timeit(pandas_version, number=100)\n",
    "print(f\"SQL version took {sql_time:.6f} seconds\")\n",
    "print(f\"Pandas version took {pandas_time:.6f} seconds\")"
   ]
  },
  {
   "cell_type": "markdown",
   "id": "436b0cfb",
   "metadata": {},
   "source": [
    "#### 8. SELECT tailnum, manufacturer, seats FROM planes WHERE manufacturer IN (\"BOEING\", \"AIRBUS\", \"EMBRAER\") AND seats>390"
   ]
  },
  {
   "cell_type": "code",
   "execution_count": 12,
   "id": "c4e55a84",
   "metadata": {},
   "outputs": [
    {
     "name": "stdout",
     "output_type": "stream",
     "text": [
      "SQL version took 0.124904 seconds\n",
      "Pandas version took 0.101751 seconds\n"
     ]
    }
   ],
   "source": [
    "def sql_version():\n",
    "    query = (\"SELECT tailnum, manufacturer, seats FROM planes \"\n",
    "             \"WHERE manufacturer IN (\\\"BOEING\\\", \\\"AIRBUS\\\", \\\"EMBRAER\\\") AND seats>390\")\n",
    "    task1_sql = pd.read_sql_query(query, conn)\n",
    "    return task1_sql\n",
    "\n",
    "def pandas_version():\n",
    "    task1_my = df_planes[(df_planes['manufacturer'].isin([\"BOEING\", \"AIRBUS\", \"EMBRAER\"])) & (df_planes['seats'] > 390)][['tailnum', 'manufacturer', 'seats']]\n",
    "    return task1_my.reset_index(drop=True)\n",
    "\n",
    "task1_sql = sql_version()\n",
    "task1_my = pandas_version()\n",
    "pd.testing.assert_frame_equal(task1_sql, task1_my)\n",
    "\n",
    "sql_time = timeit.timeit(sql_version, number=100)\n",
    "#To compare time I'm doing each version 100 times to capture accurate difference\n",
    "pandas_time = timeit.timeit(pandas_version, number=100)\n",
    "print(f\"SQL version took {sql_time:.6f} seconds\")\n",
    "print(f\"Pandas version took {pandas_time:.6f} seconds\")"
   ]
  },
  {
   "cell_type": "markdown",
   "id": "507c7d38",
   "metadata": {},
   "source": [
    "#### 9. SELECT DISTINCT year, seats FROM planes WHERE year >= 2012 ORDER BY year ASC, seats DESC"
   ]
  },
  {
   "cell_type": "code",
   "execution_count": 13,
   "id": "95e22104",
   "metadata": {},
   "outputs": [
    {
     "name": "stdout",
     "output_type": "stream",
     "text": [
      "SQL version took 0.088858 seconds\n",
      "Pandas version took 0.198935 seconds\n"
     ]
    }
   ],
   "source": [
    "def sql_version():\n",
    "    query = (\"SELECT DISTINCT year, seats FROM planes WHERE year >= 2012 ORDER BY year ASC, seats DESC\")\n",
    "    task1_sql = pd.read_sql_query(query, conn)\n",
    "    return task1_sql\n",
    "\n",
    "def pandas_version():\n",
    "    task1_my = df_planes[df_planes['year'] >= 2012][['year', 'seats']].drop_duplicates().sort_values(\n",
    "        by=['year', 'seats'], ascending=[True, False])\n",
    "    return task1_my.reset_index(drop=True)\n",
    "\n",
    "task1_sql = sql_version()\n",
    "task1_my = pandas_version()\n",
    "pd.testing.assert_frame_equal(task1_sql, task1_my)\n",
    "\n",
    "sql_time = timeit.timeit(sql_version, number=100)\n",
    "#To compare time I'm doing each version 100 times to capture accurate difference\n",
    "pandas_time = timeit.timeit(pandas_version, number=100)\n",
    "print(f\"SQL version took {sql_time:.6f} seconds\")\n",
    "print(f\"Pandas version took {pandas_time:.6f} seconds\")"
   ]
  },
  {
   "cell_type": "markdown",
   "id": "7f054c74",
   "metadata": {},
   "source": [
    "#### 10. SELECT DISTINCT year, seats FROM planes WHERE year >= 2012 ORDER BY seats DESC, year ASC"
   ]
  },
  {
   "cell_type": "code",
   "execution_count": 14,
   "id": "45456b3b",
   "metadata": {},
   "outputs": [
    {
     "name": "stdout",
     "output_type": "stream",
     "text": [
      "SQL version took 0.084111 seconds\n",
      "Pandas version took 0.192135 seconds\n"
     ]
    }
   ],
   "source": [
    "def sql_version():\n",
    "    query = (\"SELECT DISTINCT year, seats FROM planes WHERE year >= 2012 ORDER BY seats DESC, year ASC\")\n",
    "    task1_sql = pd.read_sql_query(query, conn)\n",
    "    return task1_sql\n",
    "\n",
    "def pandas_version():\n",
    "    task1_my = df_planes[df_planes['year'] >= 2012][['year', 'seats']].drop_duplicates().sort_values(\n",
    "        by=['seats', 'year'], \n",
    "        ascending=[False, True])\n",
    "    return task1_my.reset_index(drop=True)\n",
    "\n",
    "task1_sql = sql_version()\n",
    "task1_my = pandas_version()\n",
    "pd.testing.assert_frame_equal(task1_sql, task1_my)\n",
    "\n",
    "sql_time = timeit.timeit(sql_version, number=100)\n",
    "#To compare time I'm doing each version 100 times to capture accurate difference\n",
    "pandas_time = timeit.timeit(pandas_version, number=100)\n",
    "print(f\"SQL version took {sql_time:.6f} seconds\")\n",
    "print(f\"Pandas version took {pandas_time:.6f} seconds\")"
   ]
  },
  {
   "cell_type": "markdown",
   "id": "3cd1887a",
   "metadata": {},
   "source": [
    "#### 11. SELECT manufacturer, COUNT(*) FROM planes WHERE seats > 200 GROUP BY manufacturer"
   ]
  },
  {
   "cell_type": "code",
   "execution_count": 15,
   "id": "566e64bc",
   "metadata": {},
   "outputs": [
    {
     "name": "stdout",
     "output_type": "stream",
     "text": [
      "SQL version took 0.088228 seconds\n",
      "Pandas version took 0.096110 seconds\n"
     ]
    }
   ],
   "source": [
    "def sql_version():\n",
    "    query = (\"SELECT manufacturer, COUNT(*) FROM planes WHERE seats > 200 GROUP BY manufacturer\")\n",
    "    task1_sql = pd.read_sql_query(query, conn)\n",
    "    return task1_sql\n",
    "\n",
    "def pandas_version():\n",
    "    task1_my = df_planes[df_planes['seats'] > 200].groupby('manufacturer').size().reset_index(name='COUNT(*)')\n",
    "    return task1_my\n",
    "\n",
    "task1_sql = sql_version()\n",
    "task1_my = pandas_version()\n",
    "pd.testing.assert_frame_equal(task1_sql, task1_my)\n",
    "\n",
    "sql_time = timeit.timeit(sql_version, number=100)\n",
    "#To compare time I'm doing each version 100 times to capture accurate difference\n",
    "pandas_time = timeit.timeit(pandas_version, number=100)\n",
    "print(f\"SQL version took {sql_time:.6f} seconds\")\n",
    "print(f\"Pandas version took {pandas_time:.6f} seconds\")"
   ]
  },
  {
   "cell_type": "markdown",
   "id": "76539d0a",
   "metadata": {},
   "source": [
    "#### 12. SELECT manufacturer, COUNT(*) FROM planes GROUP BY manufacturer HAVING COUNT(*) > 10"
   ]
  },
  {
   "cell_type": "code",
   "execution_count": 16,
   "id": "330cfeca",
   "metadata": {},
   "outputs": [
    {
     "name": "stdout",
     "output_type": "stream",
     "text": [
      "SQL version took 0.178891 seconds\n",
      "Pandas version took 0.436890 seconds\n"
     ]
    }
   ],
   "source": [
    "def sql_version():\n",
    "    query = (\"SELECT manufacturer, COUNT() FROM planes GROUP BY manufacturer HAVING COUNT() > 10\")\n",
    "    task1_sql = pd.read_sql_query(query, conn)\n",
    "    return task1_sql\n",
    "\n",
    "def pandas_version():\n",
    "    task1_my = df_planes.groupby('manufacturer').filter(\n",
    "        lambda x: x['manufacturer'].count() > 10).groupby('manufacturer')['manufacturer'].count().reset_index(\n",
    "        name='COUNT()')\n",
    "    return task1_my\n",
    "\n",
    "\n",
    "task1_sql = sql_version()\n",
    "task1_my = pandas_version()\n",
    "pd.testing.assert_frame_equal(task1_sql, task1_my)\n",
    "\n",
    "sql_time = timeit.timeit(sql_version, number=100)\n",
    "#To compare time I'm doing each version 100 times to capture accurate difference\n",
    "pandas_time = timeit.timeit(pandas_version, number=100)\n",
    "print(f\"SQL version took {sql_time:.6f} seconds\")\n",
    "print(f\"Pandas version took {pandas_time:.6f} seconds\")"
   ]
  },
  {
   "cell_type": "markdown",
   "id": "206ebe5f",
   "metadata": {},
   "source": [
    "#### 13. SELECT manufacturer, COUNT(*) FROM planes WHERE seats > 200 GROUP BY manufacturer HAVING COUNT(*) > 10"
   ]
  },
  {
   "cell_type": "code",
   "execution_count": 17,
   "id": "a48d93c9",
   "metadata": {},
   "outputs": [
    {
     "name": "stdout",
     "output_type": "stream",
     "text": [
      "SQL version took 0.095159 seconds\n",
      "Pandas version took 0.128881 seconds\n"
     ]
    }
   ],
   "source": [
    "def sql_version():\n",
    "    query = (\"SELECT manufacturer, COUNT(*) FROM planes WHERE seats > 200 GROUP BY manufacturer HAVING COUNT(*) > 10\")\n",
    "    task1_sql = pd.read_sql_query(query, conn)\n",
    "    return task1_sql\n",
    "\n",
    "def pandas_version():\n",
    "    task1_my = df_planes[df_planes['seats'] > 200].groupby('manufacturer').size().reset_index(name='COUNT(*)')\n",
    "    task1_my = task1_my[task1_my['COUNT(*)'] > 10].reset_index(drop=True)\n",
    "    return task1_my\n",
    "\n",
    "task1_sql = sql_version()\n",
    "task1_my = pandas_version()\n",
    "pd.testing.assert_frame_equal(task1_sql, task1_my)\n",
    "\n",
    "sql_time = timeit.timeit(sql_version, number=100)\n",
    "#To compare time I'm doing each version 100 times to capture accurate difference\n",
    "pandas_time = timeit.timeit(pandas_version, number=100)\n",
    "print(f\"SQL version took {sql_time:.6f} seconds\")\n",
    "print(f\"Pandas version took {pandas_time:.6f} seconds\")"
   ]
  },
  {
   "cell_type": "markdown",
   "id": "82327782",
   "metadata": {},
   "source": [
    "#### 14. SELECT manufacturer, COUNT(*) AS howmany FROM planes GROUP BY manufacturer ORDER BY howmany DESC LIMIT 5"
   ]
  },
  {
   "cell_type": "code",
   "execution_count": 18,
   "id": "f5cd4aee",
   "metadata": {},
   "outputs": [
    {
     "name": "stdout",
     "output_type": "stream",
     "text": [
      "SQL version took 0.181498 seconds\n",
      "Pandas version took 0.112822 seconds\n"
     ]
    }
   ],
   "source": [
    "def sql_version():\n",
    "    query = (\"SELECT manufacturer, COUNT(*) AS howmany FROM planes GROUP BY manufacturer ORDER BY howmany DESC LIMIT 5\")\n",
    "    task1_sql = pd.read_sql_query(query, conn)\n",
    "    return task1_sql\n",
    "\n",
    "def pandas_version():\n",
    "    task1_my = df_planes.groupby('manufacturer').size().reset_index(name='howmany').sort_values(\n",
    "        by='howmany', \n",
    "        ascending=False).head(5)\n",
    "    task1_my = task1_my.reset_index(drop=True)\n",
    "    return task1_my\n",
    "\n",
    "task1_sql = sql_version()\n",
    "task1_my = pandas_version()\n",
    "pd.testing.assert_frame_equal(task1_sql, task1_my)\n",
    "\n",
    "sql_time = timeit.timeit(sql_version, number=100)\n",
    "#To compare time I'm doing each version 100 times to capture accurate difference\n",
    "pandas_time = timeit.timeit(pandas_version, number=100)\n",
    "print(f\"SQL version took {sql_time:.6f} seconds\")\n",
    "print(f\"Pandas version took {pandas_time:.6f} seconds\")"
   ]
  },
  {
   "cell_type": "markdown",
   "id": "e4a591da",
   "metadata": {},
   "source": [
    "#### 15. SELECT flights.*, planes.year AS plane_year, planes.speed AS plane_speed, planes.seats AS plane_seats FROM flights LEFT JOIN planes ON flights.tailnum=planes.tailnum"
   ]
  },
  {
   "cell_type": "code",
   "execution_count": 19,
   "id": "b2f24b56",
   "metadata": {},
   "outputs": [
    {
     "name": "stdout",
     "output_type": "stream",
     "text": [
      "Done assert\n",
      "SQL version took 3.525982 seconds\n",
      "Pandas version took 0.305607 seconds\n"
     ]
    }
   ],
   "source": [
    "def sql_version():\n",
    "    query = (\"SELECT flights.*, planes.year AS plane_year, planes.speed AS \"\n",
    "             \"plane_speed, planes.seats AS plane_seats FROM flights LEFT JOIN planes ON flights.tailnum=planes.tailnum\")\n",
    "    task1_sql = pd.read_sql_query(query, conn)\n",
    "    return task1_sql\n",
    "\n",
    "def pandas_version():\n",
    "    task1_my = pd.merge(df_flights, df_planes, how=\"left\", on=\"tailnum\")\n",
    "    task1_my = task1_my.rename(columns={'year_x': 'year', 'speed': 'plane_speed', \n",
    "                                        'seats': 'plane_seats', 'year_y': 'plane_year'})\n",
    "    \n",
    "    columns = ['year', 'month', 'day', 'dep_time', 'sched_dep_time', 'dep_delay',\n",
    "               'arr_time', 'sched_arr_time', 'arr_delay', 'carrier', 'flight',\n",
    "               'tailnum', 'origin', 'dest', 'air_time', 'distance', 'hour', 'minute',\n",
    "               'time_hour', 'plane_year', 'plane_speed', 'plane_seats']\n",
    "\n",
    "    task1_my = task1_my[columns]\n",
    "    return task1_my\n",
    "\n",
    "\n",
    "task1_sql = sql_version()\n",
    "task1_my = pandas_version()\n",
    "pd.testing.assert_frame_equal(task1_sql, task1_my)\n",
    "print (\"Done assert\")\n",
    "\n",
    "sql_time = timeit.timeit(sql_version, number=1)\n",
    "#This takes too long for 100\n",
    "pandas_time = timeit.timeit(pandas_version, number=1)\n",
    "print(f\"SQL version took {sql_time:.6f} seconds\")\n",
    "print(f\"Pandas version took {pandas_time:.6f} seconds\")"
   ]
  },
  {
   "cell_type": "markdown",
   "id": "89d1a668",
   "metadata": {},
   "source": [
    "#### 16. SELECT planes.*, airlines.* FROM (SELECT DISTINCT carrier, tailnum FROM flights) AS cartail INNER JOIN planes ON cartail.tailnum=planes.tailnum INNER JOIN airlines ON cartail.carrier=airlines.carrier"
   ]
  },
  {
   "cell_type": "code",
   "execution_count": 20,
   "id": "d9a4eef1",
   "metadata": {
    "scrolled": true
   },
   "outputs": [
    {
     "name": "stdout",
     "output_type": "stream",
     "text": [
      "SQL version took 31.029198 seconds\n",
      "Pandas version took 5.942164 seconds\n"
     ]
    }
   ],
   "source": [
    "def sql_version():\n",
    "    query = (\"SELECT planes.*, airlines.* FROM (SELECT DISTINCT carrier, tailnum FROM flights) \"\n",
    "             \"AS cartail INNER JOIN planes ON cartail.tailnum=planes.tailnum INNER JOIN airlines \"\n",
    "             \"ON cartail.carrier=airlines.carrier\")\n",
    "    task1_sql = pd.read_sql_query(query, conn)\n",
    "    return task1_sql\n",
    "\n",
    "def pandas_version():\n",
    "    df1 = df_flights[['carrier', 'tailnum']].drop_duplicates()\n",
    "    df2 = df1.merge(df_planes, on='tailnum')\n",
    "    task1_my = df2.merge(df_airlines, on='carrier')\n",
    "    #task1_my = task1_my.rename(columns={'year_x': 'year'})\n",
    "    \n",
    "    columns = ['tailnum', 'year', 'type', 'manufacturer', 'model', 'engines', \n",
    "               'seats', 'speed', 'engine', 'carrier', 'name']\n",
    "    return task1_my[columns]\n",
    "\n",
    "task1_sql = sql_version()\n",
    "task1_my = pandas_version()\n",
    "\n",
    "task1_sql.sort_values(by=['tailnum','year', 'carrier'], inplace=True)\n",
    "task1_my.sort_values(by=['tailnum', 'year', 'carrier'], inplace=True)\n",
    "task1_sql = task1_sql.reset_index(drop=True)\n",
    "task1_my = task1_my.reset_index(drop=True)\n",
    "\n",
    "pd.testing.assert_frame_equal(task1_sql, task1_my)\n",
    "\n",
    "sql_time = timeit.timeit(sql_version, number=100)\n",
    "#To compare time I'm doing each version 100 times to capture accurate difference\n",
    "pandas_time = timeit.timeit(pandas_version, number=100)\n",
    "print(f\"SQL version took {sql_time:.6f} seconds\")\n",
    "print(f\"Pandas version took {pandas_time:.6f} seconds\")"
   ]
  },
  {
   "cell_type": "markdown",
   "id": "61e99824",
   "metadata": {},
   "source": [
    "#### 2 Additional Tasks for Postgraduate (SIT731) Students (*)\n"
   ]
  },
  {
   "cell_type": "markdown",
   "id": "e92b6a8c",
   "metadata": {},
   "source": [
    "17. An additional SQL query to implement: <br>\n",
    "SELECT\n",
    "flights2.*,\n",
    "atemp,\n",
    "ahumid\n",
    "FROM (\n",
    "SELECT * FROM flights WHERE origin='EWR'\n",
    ") AS flights2\n",
    "LEFT JOIN (\n",
    "SELECT\n",
    "year, month, day,\n",
    "AVG(temp) AS atemp,\n",
    "AVG(humid) AS ahumid\n",
    "FROM weather\n",
    "WHERE origin='EWR'\n",
    "GROUP BY year, month, day\n",
    ") AS weather2\n",
    "ON flights2.year=weather2.year\n",
    "AND flights2.month=weather2.month\n",
    "AND flights2.day=weather2.day"
   ]
  },
  {
   "cell_type": "code",
   "execution_count": 21,
   "id": "e74b55c0",
   "metadata": {},
   "outputs": [
    {
     "name": "stdout",
     "output_type": "stream",
     "text": [
      "SQL version took 123.495584 seconds\n",
      "Pandas version took 10.999886 seconds\n"
     ]
    }
   ],
   "source": [
    "def sql_version():\n",
    "    query = (\"SELECT flights2.*, atemp, ahumid FROM ( SELECT * FROM flights WHERE origin='EWR' ) \"\n",
    "             \"AS flights2 LEFT JOIN ( SELECT year, month, day, AVG(temp) AS atemp, AVG(humid) \"\n",
    "                                    \"AS ahumid FROM weather WHERE origin='EWR' GROUP BY year, month, day ) \"\n",
    "             \"AS weather2 ON flights2.year=weather2.year AND flights2.month=weather2.month \"\n",
    "             \"AND flights2.day=weather2.day\")\n",
    "    task1_sql = pd.read_sql_query(query, conn)\n",
    "    return task1_sql\n",
    "\n",
    "def pandas_version():\n",
    "    flights2 = df_flights[df_flights['origin'] == 'EWR'].copy()\n",
    "    weather2 = df_weather[df_weather['origin'] == 'EWR'].groupby(['year','month','day']).agg({'temp':'mean', \n",
    "                                                                                        'humid':'mean'}).reset_index()\n",
    "    task1_my = pd.merge(flights2, weather2, how='left', left_on=['year','month','day'], right_on=['year','month','day'])\n",
    "    task1_my.rename(columns={'humid': 'ahumid', 'temp': 'atemp'}, inplace=True)\n",
    "    return task1_my\n",
    "\n",
    "task1_sql = sql_version()\n",
    "task1_my = pandas_version()\n",
    "pd.testing.assert_frame_equal(task1_sql, task1_my)\n",
    "\n",
    "sql_time = timeit.timeit(sql_version, number=100)\n",
    "#To compare time I'm doing each version 100 times to capture accurate difference\n",
    "pandas_time = timeit.timeit(pandas_version, number=100)\n",
    "print(f\"SQL version took {sql_time:.6f} seconds\")\n",
    "print(f\"Pandas version took {pandas_time:.6f} seconds\")"
   ]
  },
  {
   "cell_type": "markdown",
   "id": "3f37c9f4",
   "metadata": {},
   "source": [
    "This experiment shows that pandas can be used to perfrom SQL like operations directly on dataframes. A major advantage of this apprach is that as the data is loaded in memory, a pure pandas solution might be faster than the SQL way of doing things.\n",
    "<br> Although, a downside of this method is that because the data has to reside in RAM so this is not feasible for very high size of data, an example would be a dynamic datasource where the records are updated and it might be inefficent to hold all the records in memory (although this can be handled by caching useful records). In that case SQL might be preferred, or a mixure of SQL and in-memory apprach, even through there might be some tradeoff in exection time. This experiment shows that both of these methods have their advantages and careful evaluation must be done before finalising any method for use in a real world setting. In case of the given dataset, the Pandas method work well, as it is on a static dataset and can be effectively handled by in-memory operations."
   ]
  }
 ],
 "metadata": {
  "kernelspec": {
   "display_name": "Python 3 (ipykernel)",
   "language": "python",
   "name": "python3"
  },
  "language_info": {
   "codemirror_mode": {
    "name": "ipython",
    "version": 3
   },
   "file_extension": ".py",
   "mimetype": "text/x-python",
   "name": "python",
   "nbconvert_exporter": "python",
   "pygments_lexer": "ipython3",
   "version": "3.8.8"
  }
 },
 "nbformat": 4,
 "nbformat_minor": 5
}
