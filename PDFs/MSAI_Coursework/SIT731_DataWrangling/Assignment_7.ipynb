{
 "cells": [
  {
   "cell_type": "markdown",
   "id": "38f8b13b",
   "metadata": {},
   "source": [
    "<ul>\n",
    "<li> <b> Task 7C: Tableau or PowerBI Dashboard\n",
    "<li> Name: Prateek Singh\n",
    "<li> Student number: 221218743\n",
    "<li> Email: singhprate@deakin.edu.au\n",
    "<li> Unit: SIT731 </b>\n",
    "</ul> "
   ]
  },
  {
   "cell_type": "markdown",
   "id": "0d1a4827",
   "metadata": {},
   "source": [
    "The following link points to the DASHBOARD prepared to mimic the tasks done in Task 4P: "
   ]
  },
  {
   "cell_type": "markdown",
   "id": "9a2255b6",
   "metadata": {},
   "source": [
    "<br> https://public.tableau.com/app/profile/prateek.singh3997/viz/WeatherAnalysis_16751725170860/Dashboard1#1"
   ]
  },
  {
   "cell_type": "markdown",
   "id": "01b00c4a",
   "metadata": {},
   "source": [
    "##### Some assumptions for the Dashboard:\n",
    "\n",
    "I have manually removed all the comments from the weather csv file.\n",
    "<ul>\n",
    "    <li> Q: Converting all columns so that they use metric (International System of Units, SI) or derived units.\n",
    "    <li> A: This has been done using calculated fields and both the original as well as corrected fields are kept in the Tableau data pane.\n",
    "    <li> Q: Converting the time_hour column to date-time.\n",
    "    <li> A: In addition to converting the time_hour to datetime, its also adjusted by 1 hr (similar to task 4P)\n",
    "    <li> Q: Computing daily mean temperatures for the JFK,EWR,LGA airport.\n",
    "    <li> A: The Dashboard has two plots, one for mean temperature across all airports (TOP) and one for mean temperature specific to each airport (Bottom).\n",
    "    <li> Q: Finding and displaying the five hottest days.\n",
    "    <li> A: The top graph is used to display five hottest day (The logic is preserved to mimic task 4P, where I calculated top 5 hottest days by taking mean across all airports per day).\n",
    "</ul>\n",
    "\n",
    "##### Additional Features:\n",
    "<ul>\n",
    "    <li> The Dashboard has a filter to select the origin. This can be used to select one, two or all three airport temperatures.\n",
    "    <li> The Dashboard also has a slider to select Top 5 hottest days, by default all 5 days are marked (as a *) on the TOP graph. For convenience, I have added a third filter based on Months, by default all months are displayed, but one can only select the months of particular interest, e.g. when viewing top 5 hottest day, just select that particular month to zoom in automatically. \n",
    "</ul>\n",
    "        "
   ]
  }
 ],
 "metadata": {
  "kernelspec": {
   "display_name": "Python 3 (ipykernel)",
   "language": "python",
   "name": "python3"
  },
  "language_info": {
   "codemirror_mode": {
    "name": "ipython",
    "version": 3
   },
   "file_extension": ".py",
   "mimetype": "text/x-python",
   "name": "python",
   "nbconvert_exporter": "python",
   "pygments_lexer": "ipython3",
   "version": "3.8.8"
  }
 },
 "nbformat": 4,
 "nbformat_minor": 5
}
