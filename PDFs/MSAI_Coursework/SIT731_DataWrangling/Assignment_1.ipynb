{
 "cells": [
  {
   "cell_type": "markdown",
   "id": "3e26a699",
   "metadata": {},
   "source": [
    "#### Task 1P: Introduction to Python and Jupyter Notebooks\n",
    "##### Name: Prateek Singh\n",
    "##### Student number: 221218743\n",
    "##### email: singhprate@deakin.edu.au\n",
    "##### Unit: SIT731"
   ]
  },
  {
   "cell_type": "code",
   "execution_count": 1,
   "id": "383b771b",
   "metadata": {},
   "outputs": [],
   "source": [
    "import matplotlib.pyplot as plt"
   ]
  },
  {
   "cell_type": "markdown",
   "id": "00f981d8",
   "metadata": {},
   "source": [
    "#### Task 1: Input three Python lists of identical lengths (at least five items each) giving basic data on your friends/family."
   ]
  },
  {
   "cell_type": "code",
   "execution_count": 2,
   "id": "12a754a2",
   "metadata": {},
   "outputs": [],
   "source": [
    "def get_bmi(wt, h):\n",
    "    if wt > 1000 or wt < 1:\n",
    "        raise Exception(\"Invalid Weight\")\n",
    "    if h > 250 or h < 1:\n",
    "        raise Exception(\"Invalid Height\")\n",
    "    bmi = wt / (h*h)\n",
    "    return bmi"
   ]
  },
  {
   "cell_type": "code",
   "execution_count": 3,
   "id": "9fb7d8d2",
   "metadata": {},
   "outputs": [],
   "source": [
    "def get_bmi_prime(bmi):\n",
    "    upper_wt = 25 #in kgs, can be modified according to differnt ethnicities\n",
    "    bmi_prime = bmi / upper_wt\n",
    "    return bmi_prime"
   ]
  },
  {
   "cell_type": "code",
   "execution_count": 4,
   "id": "c20a157c",
   "metadata": {},
   "outputs": [],
   "source": [
    "#Classify based on BMI\n",
    "def get_bmi_category(bmi):\n",
    "    if bmi < 18.5:\n",
    "        bmi_category = \"underweight\"\n",
    "    elif bmi >= 18.5 and bmi <= 25.0:\n",
    "        bmi_category = \"normal\"\n",
    "    elif bmi > 25:\n",
    "        bmi_category = \"overweight\"\n",
    "    else:\n",
    "        raise Exception(\"Invalid BMI value\")\n",
    "    return bmi_category"
   ]
  },
  {
   "cell_type": "code",
   "execution_count": 5,
   "id": "f1c7019f",
   "metadata": {},
   "outputs": [],
   "source": [
    "names = [\"Aman\", \"Shiv\", \"Shubham\", \"Kane\", \"Rob\"]\n",
    "heights = [1.78, 1.76, 1.66, 1.45, 1.73] # in metres\n",
    "weights = [75, 77, 88, 82, 53 ] # in kilograms"
   ]
  },
  {
   "cell_type": "markdown",
   "id": "81671aa6",
   "metadata": {},
   "source": [
    "#### Task 2: Create a Python list bmis such that bmis[i] gives the body mass index of the i-th person."
   ]
  },
  {
   "cell_type": "code",
   "execution_count": 6,
   "id": "e0e930f8",
   "metadata": {},
   "outputs": [],
   "source": [
    "bmis = []\n",
    "for i, name in enumerate(names):\n",
    "    bmis.append(get_bmi(weights[i], heights[i]))"
   ]
  },
  {
   "cell_type": "markdown",
   "id": "445bacfe",
   "metadata": {},
   "source": [
    "#### Task 3: Draw a barplot"
   ]
  },
  {
   "cell_type": "code",
   "execution_count": 7,
   "id": "ef91a2b5",
   "metadata": {},
   "outputs": [
    {
     "data": {
      "image/png": "[encoded data removed]",
      "text/plain": [
       "<Figure size 432x288 with 1 Axes>"
      ]
     },
     "metadata": {
      "needs_background": "light"
     },
     "output_type": "display_data"
    }
   ],
   "source": [
    "plt.bar(names, bmis)\n",
    "plt.title(\"List of BMIs\")\n",
    "plt.show()"
   ]
  },
  {
   "cell_type": "markdown",
   "id": "9390ba58",
   "metadata": {},
   "source": [
    "#### Task 4: Based on the BMI categories as defined by the WHO (underweight if below 18.5, normal range upto 25.0, etc.), write some code that outputs a series of strings like \"{name} has BMI of {bmi} which is {bmi_category}."
   ]
  },
  {
   "cell_type": "code",
   "execution_count": 8,
   "id": "3ee9892d",
   "metadata": {},
   "outputs": [
    {
     "name": "stdout",
     "output_type": "stream",
     "text": [
      "Aman       has BMI of 23.67 which is normal\n",
      "Shiv       has BMI of 24.86 which is normal\n",
      "Shubham    has BMI of 31.93 which is overweight\n",
      "Kane       has BMI of 39.00 which is overweight\n",
      "Rob        has BMI of 17.71 which is underweight\n"
     ]
    }
   ],
   "source": [
    "#Use formatted string to display\n",
    "for i, bmi in enumerate(bmis):\n",
    "    print(\"{:<10} has BMI of {:.2f} which is {}\".\n",
    "          format(names[i], bmi, get_bmi_category(bmi)))"
   ]
  },
  {
   "cell_type": "markdown",
   "id": "00336859",
   "metadata": {},
   "source": [
    "#### Task 5: The Wikipedia article on BMI correctly identifies this index as a very simple measure. In your own words, discuss what are the benefits and limitations of BMI from both the medical and societal perspective, including its possible misuses (write at least 3 text paragraphs).\n",
    "A: BMI stands for Body Mass Index. There are several advantages of BMI, it offers a way to classify a person based on their weight into normal, underweight and overweight. As obesity can be an indicator of underlying health conditions, a simple index like BMI can help individuals effectively monitor their health and take precaultionary actions based on BMI value. Similar to obesity, malnutrition is also a presing concern in the modern lifestyle. BMI can help individuals understand their health status. Moreover this is a relatively simple method, it can be explained to a vast majority of people and thus can be used as a universal indiciator. It incorporates common metrics (height and weight), which are easily trackable and not very expensive for general population thus it can be used across demographies.<br>\n",
    "The previous section highlights the pros related with using BMI as a method based on weight and height, although this method has its flaws. While BMI pays attention to common metrics such as weight and height, it does not take into account differnt body structures and people who an uncommon muscle t fat ratios like athletes. The method also ignores the relationship between mass and height with rrespect to taller people. In addition to this, it disregards genetic traits specific to different ethinicities and uses a flawed method to unify all subgroups of the society. Because of these flaws, this method can be misused to incorrectly classify a person as obese or malnutritioned based on which, they might take unnecssary steps which might worsen thier condition.<br>\n",
    "While the method has its flaws, it is a widely accepted scale to measure bidy fat and can be used as a preliminary indicator based on weight and height. Although before taking any medical decision based on BMI, people are advised to use additional indicators and consult physicaians to know more about their conditions.\n"
   ]
  },
  {
   "cell_type": "markdown",
   "id": "574ec3ed",
   "metadata": {},
   "source": [
    "### Additional Tasks\n",
    "#### 1. For each person, calculate also the BMI prime measure as defined in https://en.wikipedia.org/wiki/Body_mass_index."
   ]
  },
  {
   "cell_type": "code",
   "execution_count": 9,
   "id": "02912fb8",
   "metadata": {},
   "outputs": [],
   "source": [
    "bmis_prime = []\n",
    "for i, name in enumerate(names):\n",
    "    bmis_prime.append(get_bmi_prime(bmis[i]))"
   ]
  },
  {
   "cell_type": "markdown",
   "id": "c0a7c6a7",
   "metadata": {},
   "source": [
    "#### 2. Draw a separate barplot of the BMI prime indices of the persons in our database."
   ]
  },
  {
   "cell_type": "code",
   "execution_count": 10,
   "id": "20afcd52",
   "metadata": {},
   "outputs": [
    {
     "data": {
      "image/png": "[encoded data removed]",
      "text/plain": [
       "<Figure size 432x288 with 1 Axes>"
      ]
     },
     "metadata": {
      "needs_background": "light"
     },
     "output_type": "display_data"
    }
   ],
   "source": [
    "plt.bar(names, bmis_prime)\n",
    "plt.title(\"List of BMI primes\")\n",
    "plt.show()"
   ]
  },
  {
   "cell_type": "markdown",
   "id": "254195e5",
   "metadata": {},
   "source": [
    "#### Modify the textual reporting scheme so that the output strings are like \"{name} has BMI of {bmi} which is {bmi_category}. The BMI prime index is {bmi_prime}.\":"
   ]
  },
  {
   "cell_type": "code",
   "execution_count": 11,
   "id": "b85020d8",
   "metadata": {},
   "outputs": [
    {
     "name": "stdout",
     "output_type": "stream",
     "text": [
      "Aman     has BMI of 23.67 which is normal.      The BMI prime index is 0.95\n",
      "Shiv     has BMI of 24.86 which is normal.      The BMI prime index is 0.99\n",
      "Shubham  has BMI of 31.93 which is overweight.  The BMI prime index is 1.28\n",
      "Kane     has BMI of 39.00 which is overweight.  The BMI prime index is 1.56\n",
      "Rob      has BMI of 17.71 which is underweight. The BMI prime index is 0.71\n"
     ]
    }
   ],
   "source": [
    "#Use formatted string to display\n",
    "for i, bmi in enumerate(bmis):\n",
    "    print(\"{:8s} has BMI of {:.2f} which is {:12s}\".\n",
    "          format(names[i], bmi, get_bmi_category(bmi) + \".\"),\n",
    "         \"The BMI prime index is {:.2f}\".\n",
    "          format(bmis_prime[i]))"
   ]
  },
  {
   "cell_type": "markdown",
   "id": "96a6edb1",
   "metadata": {},
   "source": [
    "#### 4. In your own words, discuss the possible advantages and limitations of this measure.\n",
    "A: As compared to BMI, BMI prime is a safer way to measure classify individuals as obese or malnutrioned as it offers insight using the deviation of optimal BMI value. This allows a way to set a standard weight based on differnt subgroups like ethnicity and gender. By having a differnt value of optimal BMI for different subgroups, this method offers a way to standardize BMI across subgroups.<br>\n",
    "Although this method still does not eliminate BMI limitations based on different body structures of athletes and people with uncommon muscle-fat ratio. This method also ignores other medical conditons like pregnancy and hence should not be used to classify during such circumstances."
   ]
  }
 ],
 "metadata": {
  "kernelspec": {
   "display_name": "Python 3 (ipykernel)",
   "language": "python",
   "name": "python3"
  },
  "language_info": {
   "codemirror_mode": {
    "name": "ipython",
    "version": 3
   },
   "file_extension": ".py",
   "mimetype": "text/x-python",
   "name": "python",
   "nbconvert_exporter": "python",
   "pygments_lexer": "ipython3",
   "version": "3.8.8"
  }
 },
 "nbformat": 4,
 "nbformat_minor": 5
}
