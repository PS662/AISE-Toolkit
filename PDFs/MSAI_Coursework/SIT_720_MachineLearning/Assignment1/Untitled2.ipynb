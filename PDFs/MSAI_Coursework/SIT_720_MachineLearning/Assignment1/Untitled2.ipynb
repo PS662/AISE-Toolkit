{
 "cells": [
  {
   "cell_type": "code",
   "execution_count": 1,
   "id": "fbb57d86",
   "metadata": {},
   "outputs": [],
   "source": [
    "import pandas as pd"
   ]
  },
  {
   "cell_type": "code",
   "execution_count": null,
   "id": "b0fd8836",
   "metadata": {},
   "outputs": [],
   "source": []
  },
  {
   "cell_type": "code",
   "execution_count": 2,
   "id": "f78aff27",
   "metadata": {},
   "outputs": [
    {
     "data": {
      "text/plain": [
       "'C:\\\\Users\\\\singh'"
      ]
     },
     "execution_count": 2,
     "metadata": {},
     "output_type": "execute_result"
    }
   ],
   "source": [
    "pwd"
   ]
  },
  {
   "cell_type": "code",
   "execution_count": null,
   "id": "18b59747",
   "metadata": {},
   "outputs": [],
   "source": []
  },
  {
   "cell_type": "code",
   "execution_count": 3,
   "id": "a7c5fec6",
   "metadata": {},
   "outputs": [
    {
     "data": {
      "text/plain": [
       "'C:\\\\Users\\\\singh'"
      ]
     },
     "execution_count": 3,
     "metadata": {},
     "output_type": "execute_result"
    }
   ],
   "source": [
    "pwd"
   ]
  },
  {
   "cell_type": "code",
   "execution_count": 4,
   "id": "10e2b4af",
   "metadata": {},
   "outputs": [
    {
     "name": "stdout",
     "output_type": "stream",
     "text": [
      "C:\\Users\\singh\\Documents\\MastersAppliedAIDeakin\\SIT720_Machine_Learning\\Week1\\A1\n"
     ]
    }
   ],
   "source": [
    "cd \"C:\\Users\\singh\\Documents\\MastersAppliedAIDeakin\\SIT720_Machine_Learning\\Week1\\A1\\\""
   ]
  },
  {
   "cell_type": "code",
   "execution_count": 5,
   "id": "4fe1fa07",
   "metadata": {},
   "outputs": [
    {
     "name": "stdout",
     "output_type": "stream",
     "text": [
      " Volume in drive C is Windows-SSD\n",
      " Volume Serial Number is BE80-AB7D\n",
      "\n",
      " Directory of C:\\Users\\singh\\Documents\\MastersAppliedAIDeakin\\SIT720_Machine_Learning\\Week1\\A1\n",
      "\n",
      "25-07-2021  01:04    <DIR>          .\n",
      "25-07-2021  01:04    <DIR>          ..\n",
      "11-07-2021  11:22            18,173 A1_heart_disease_dataset.csv\n",
      "25-07-2021  00:26               360 age_group_stat.csv\n",
      "15-07-2021  14:17           259,967 Assessment-1-T2-2021.pdf\n",
      "25-07-2021  01:04            19,657 clean_data.csv\n",
      "               4 File(s)        298,157 bytes\n",
      "               2 Dir(s)  387,650,879,488 bytes free\n"
     ]
    }
   ],
   "source": [
    "ls"
   ]
  },
  {
   "cell_type": "code",
   "execution_count": 6,
   "id": "a8b92848",
   "metadata": {},
   "outputs": [],
   "source": [
    "df = pd.read_csv(\"A1_heart_disease_dataset.csv\")"
   ]
  },
  {
   "cell_type": "code",
   "execution_count": 7,
   "id": "d9450adf",
   "metadata": {},
   "outputs": [
    {
     "name": "stdout",
     "output_type": "stream",
     "text": [
      "Data dimension before removing:  (303, 14)\n"
     ]
    }
   ],
   "source": [
    "print (\"Data dimension before removing: \", df.shape)"
   ]
  },
  {
   "cell_type": "code",
   "execution_count": 8,
   "id": "be6ecc33",
   "metadata": {},
   "outputs": [],
   "source": [
    "diagnosed_col = df[\"state\"]"
   ]
  },
  {
   "cell_type": "code",
   "execution_count": 9,
   "id": "dd4909a1",
   "metadata": {},
   "outputs": [
    {
     "data": {
      "text/plain": [
       "(303,)"
      ]
     },
     "execution_count": 9,
     "metadata": {},
     "output_type": "execute_result"
    }
   ],
   "source": [
    "diagnosed_col.shape"
   ]
  },
  {
   "cell_type": "code",
   "execution_count": 10,
   "id": "f8060ada",
   "metadata": {},
   "outputs": [
    {
     "data": {
      "text/html": [
       "<div>\n",
       "<style scoped>\n",
       "    .dataframe tbody tr th:only-of-type {\n",
       "        vertical-align: middle;\n",
       "    }\n",
       "\n",
       "    .dataframe tbody tr th {\n",
       "        vertical-align: top;\n",
       "    }\n",
       "\n",
       "    .dataframe thead th {\n",
       "        text-align: right;\n",
       "    }\n",
       "</style>\n",
       "<table border=\"1\" class=\"dataframe\">\n",
       "  <thead>\n",
       "    <tr style=\"text-align: right;\">\n",
       "      <th></th>\n",
       "      <th>age</th>\n",
       "      <th>sex</th>\n",
       "      <th>cp</th>\n",
       "      <th>trestbps</th>\n",
       "      <th>chol</th>\n",
       "      <th>fbs</th>\n",
       "      <th>restecg</th>\n",
       "      <th>thalach</th>\n",
       "      <th>exang</th>\n",
       "      <th>oldpeak</th>\n",
       "      <th>slope</th>\n",
       "      <th>ca</th>\n",
       "      <th>thal</th>\n",
       "      <th>state</th>\n",
       "    </tr>\n",
       "  </thead>\n",
       "  <tbody>\n",
       "    <tr>\n",
       "      <th>0</th>\n",
       "      <td>63.0</td>\n",
       "      <td>M</td>\n",
       "      <td>tap</td>\n",
       "      <td>145.0</td>\n",
       "      <td>233.0</td>\n",
       "      <td>yes</td>\n",
       "      <td>2.0</td>\n",
       "      <td>150.0</td>\n",
       "      <td>0.0</td>\n",
       "      <td>2.3</td>\n",
       "      <td>3.0</td>\n",
       "      <td>0.0</td>\n",
       "      <td>6.0</td>\n",
       "      <td>0.0</td>\n",
       "    </tr>\n",
       "    <tr>\n",
       "      <th>1</th>\n",
       "      <td>67.0</td>\n",
       "      <td>M</td>\n",
       "      <td>asp</td>\n",
       "      <td>160.0</td>\n",
       "      <td>286.0</td>\n",
       "      <td>no</td>\n",
       "      <td>2.0</td>\n",
       "      <td>108.0</td>\n",
       "      <td>1.0</td>\n",
       "      <td>1.5</td>\n",
       "      <td>2.0</td>\n",
       "      <td>3.0</td>\n",
       "      <td>3.0</td>\n",
       "      <td>2.0</td>\n",
       "    </tr>\n",
       "    <tr>\n",
       "      <th>2</th>\n",
       "      <td>67.0</td>\n",
       "      <td>M</td>\n",
       "      <td>asp</td>\n",
       "      <td>120.0</td>\n",
       "      <td>229.0</td>\n",
       "      <td>no</td>\n",
       "      <td>2.0</td>\n",
       "      <td>129.0</td>\n",
       "      <td>1.0</td>\n",
       "      <td>2.6</td>\n",
       "      <td>2.0</td>\n",
       "      <td>2.0</td>\n",
       "      <td>7.0</td>\n",
       "      <td>1.0</td>\n",
       "    </tr>\n",
       "    <tr>\n",
       "      <th>3</th>\n",
       "      <td>37.0</td>\n",
       "      <td>M</td>\n",
       "      <td>nap</td>\n",
       "      <td>130.0</td>\n",
       "      <td>250.0</td>\n",
       "      <td>no</td>\n",
       "      <td>0.0</td>\n",
       "      <td>187.0</td>\n",
       "      <td>0.0</td>\n",
       "      <td>3.5</td>\n",
       "      <td>3.0</td>\n",
       "      <td>0.0</td>\n",
       "      <td>3.0</td>\n",
       "      <td>0.0</td>\n",
       "    </tr>\n",
       "    <tr>\n",
       "      <th>4</th>\n",
       "      <td>41.0</td>\n",
       "      <td>F</td>\n",
       "      <td>aap</td>\n",
       "      <td>130.0</td>\n",
       "      <td>204.0</td>\n",
       "      <td>no</td>\n",
       "      <td>2.0</td>\n",
       "      <td>172.0</td>\n",
       "      <td>0.0</td>\n",
       "      <td>1.4</td>\n",
       "      <td>1.0</td>\n",
       "      <td>0.0</td>\n",
       "      <td>3.0</td>\n",
       "      <td>0.0</td>\n",
       "    </tr>\n",
       "    <tr>\n",
       "      <th>5</th>\n",
       "      <td>56.0</td>\n",
       "      <td>M</td>\n",
       "      <td>aap</td>\n",
       "      <td>120.0</td>\n",
       "      <td>236.0</td>\n",
       "      <td>no</td>\n",
       "      <td>0.0</td>\n",
       "      <td>178.0</td>\n",
       "      <td>0.0</td>\n",
       "      <td>0.8</td>\n",
       "      <td>1.0</td>\n",
       "      <td>0.0</td>\n",
       "      <td>3.0</td>\n",
       "      <td>0.0</td>\n",
       "    </tr>\n",
       "    <tr>\n",
       "      <th>6</th>\n",
       "      <td>62.0</td>\n",
       "      <td>F</td>\n",
       "      <td>NaN</td>\n",
       "      <td>140.0</td>\n",
       "      <td>268.0</td>\n",
       "      <td>no</td>\n",
       "      <td>2.0</td>\n",
       "      <td>160.0</td>\n",
       "      <td>0.0</td>\n",
       "      <td>3.6</td>\n",
       "      <td>3.0</td>\n",
       "      <td>2.0</td>\n",
       "      <td>3.0</td>\n",
       "      <td>3.0</td>\n",
       "    </tr>\n",
       "    <tr>\n",
       "      <th>7</th>\n",
       "      <td>57.0</td>\n",
       "      <td>F</td>\n",
       "      <td>asp</td>\n",
       "      <td>120.0</td>\n",
       "      <td>354.0</td>\n",
       "      <td>no</td>\n",
       "      <td>0.0</td>\n",
       "      <td>163.0</td>\n",
       "      <td>1.0</td>\n",
       "      <td>0.6</td>\n",
       "      <td>1.0</td>\n",
       "      <td>0.0</td>\n",
       "      <td>3.0</td>\n",
       "      <td>0.0</td>\n",
       "    </tr>\n",
       "    <tr>\n",
       "      <th>8</th>\n",
       "      <td>63.0</td>\n",
       "      <td>M</td>\n",
       "      <td>asp</td>\n",
       "      <td>130.0</td>\n",
       "      <td>254.0</td>\n",
       "      <td>no</td>\n",
       "      <td>2.0</td>\n",
       "      <td>147.0</td>\n",
       "      <td>0.0</td>\n",
       "      <td>1.4</td>\n",
       "      <td>2.0</td>\n",
       "      <td>1.0</td>\n",
       "      <td>7.0</td>\n",
       "      <td>2.0</td>\n",
       "    </tr>\n",
       "    <tr>\n",
       "      <th>9</th>\n",
       "      <td>53.0</td>\n",
       "      <td>M</td>\n",
       "      <td>asp</td>\n",
       "      <td>140.0</td>\n",
       "      <td>203.0</td>\n",
       "      <td>yes</td>\n",
       "      <td>2.0</td>\n",
       "      <td>155.0</td>\n",
       "      <td>1.0</td>\n",
       "      <td>3.1</td>\n",
       "      <td>3.0</td>\n",
       "      <td>0.0</td>\n",
       "      <td>7.0</td>\n",
       "      <td>1.0</td>\n",
       "    </tr>\n",
       "  </tbody>\n",
       "</table>\n",
       "</div>"
      ],
      "text/plain": [
       "    age sex   cp  trestbps   chol  fbs  restecg  thalach  exang  oldpeak  \\\n",
       "0  63.0   M  tap     145.0  233.0  yes      2.0    150.0    0.0      2.3   \n",
       "1  67.0   M  asp     160.0  286.0   no      2.0    108.0    1.0      1.5   \n",
       "2  67.0   M  asp     120.0  229.0   no      2.0    129.0    1.0      2.6   \n",
       "3  37.0   M  nap     130.0  250.0   no      0.0    187.0    0.0      3.5   \n",
       "4  41.0   F  aap     130.0  204.0   no      2.0    172.0    0.0      1.4   \n",
       "5  56.0   M  aap     120.0  236.0   no      0.0    178.0    0.0      0.8   \n",
       "6  62.0   F  NaN     140.0  268.0   no      2.0    160.0    0.0      3.6   \n",
       "7  57.0   F  asp     120.0  354.0   no      0.0    163.0    1.0      0.6   \n",
       "8  63.0   M  asp     130.0  254.0   no      2.0    147.0    0.0      1.4   \n",
       "9  53.0   M  asp     140.0  203.0  yes      2.0    155.0    1.0      3.1   \n",
       "\n",
       "   slope   ca  thal  state  \n",
       "0    3.0  0.0   6.0    0.0  \n",
       "1    2.0  3.0   3.0    2.0  \n",
       "2    2.0  2.0   7.0    1.0  \n",
       "3    3.0  0.0   3.0    0.0  \n",
       "4    1.0  0.0   3.0    0.0  \n",
       "5    1.0  0.0   3.0    0.0  \n",
       "6    3.0  2.0   3.0    3.0  \n",
       "7    1.0  0.0   3.0    0.0  \n",
       "8    2.0  1.0   7.0    2.0  \n",
       "9    3.0  0.0   7.0    1.0  "
      ]
     },
     "execution_count": 10,
     "metadata": {},
     "output_type": "execute_result"
    }
   ],
   "source": [
    "df.head(10)"
   ]
  },
  {
   "cell_type": "code",
   "execution_count": 11,
   "id": "497f1ea4",
   "metadata": {},
   "outputs": [
    {
     "name": "stdout",
     "output_type": "stream",
     "text": [
      "<class 'pandas.core.frame.DataFrame'>\n",
      "RangeIndex: 303 entries, 0 to 302\n",
      "Data columns (total 14 columns):\n",
      " #   Column    Non-Null Count  Dtype  \n",
      "---  ------    --------------  -----  \n",
      " 0   age       295 non-null    float64\n",
      " 1   sex       295 non-null    object \n",
      " 2   cp        292 non-null    object \n",
      " 3   trestbps  295 non-null    float64\n",
      " 4   chol      293 non-null    float64\n",
      " 5   fbs       295 non-null    object \n",
      " 6   restecg   295 non-null    float64\n",
      " 7   thalach   291 non-null    float64\n",
      " 8   exang     295 non-null    float64\n",
      " 9   oldpeak   295 non-null    float64\n",
      " 10  slope     295 non-null    float64\n",
      " 11  ca        291 non-null    float64\n",
      " 12  thal      295 non-null    float64\n",
      " 13  state     293 non-null    float64\n",
      "dtypes: float64(11), object(3)\n",
      "memory usage: 33.3+ KB\n"
     ]
    }
   ],
   "source": [
    "df.info()"
   ]
  },
  {
   "cell_type": "code",
   "execution_count": 12,
   "id": "c9a68762",
   "metadata": {},
   "outputs": [],
   "source": [
    "non_diagnosed = pd.isnull(df[\"state\"])"
   ]
  },
  {
   "cell_type": "code",
   "execution_count": 13,
   "id": "dd6e04ea",
   "metadata": {},
   "outputs": [
    {
     "data": {
      "text/plain": [
       "0      False\n",
       "1      False\n",
       "2      False\n",
       "3      False\n",
       "4      False\n",
       "       ...  \n",
       "298    False\n",
       "299    False\n",
       "300     True\n",
       "301    False\n",
       "302    False\n",
       "Name: state, Length: 303, dtype: bool"
      ]
     },
     "execution_count": 13,
     "metadata": {},
     "output_type": "execute_result"
    }
   ],
   "source": [
    "non_diagnosed"
   ]
  },
  {
   "cell_type": "code",
   "execution_count": 14,
   "id": "ae3da305",
   "metadata": {},
   "outputs": [
    {
     "data": {
      "text/plain": [
       "True"
      ]
     },
     "execution_count": 14,
     "metadata": {},
     "output_type": "execute_result"
    }
   ],
   "source": [
    "non_diagnosed[16]"
   ]
  },
  {
   "cell_type": "code",
   "execution_count": 15,
   "id": "c5181d29",
   "metadata": {},
   "outputs": [
    {
     "data": {
      "text/html": [
       "<div>\n",
       "<style scoped>\n",
       "    .dataframe tbody tr th:only-of-type {\n",
       "        vertical-align: middle;\n",
       "    }\n",
       "\n",
       "    .dataframe tbody tr th {\n",
       "        vertical-align: top;\n",
       "    }\n",
       "\n",
       "    .dataframe thead th {\n",
       "        text-align: right;\n",
       "    }\n",
       "</style>\n",
       "<table border=\"1\" class=\"dataframe\">\n",
       "  <thead>\n",
       "    <tr style=\"text-align: right;\">\n",
       "      <th></th>\n",
       "      <th>age</th>\n",
       "      <th>sex</th>\n",
       "      <th>cp</th>\n",
       "      <th>trestbps</th>\n",
       "      <th>chol</th>\n",
       "      <th>fbs</th>\n",
       "      <th>restecg</th>\n",
       "      <th>thalach</th>\n",
       "      <th>exang</th>\n",
       "      <th>oldpeak</th>\n",
       "      <th>slope</th>\n",
       "      <th>ca</th>\n",
       "      <th>thal</th>\n",
       "      <th>state</th>\n",
       "    </tr>\n",
       "  </thead>\n",
       "  <tbody>\n",
       "  </tbody>\n",
       "</table>\n",
       "</div>"
      ],
      "text/plain": [
       "Empty DataFrame\n",
       "Columns: [age, sex, cp, trestbps, chol, fbs, restecg, thalach, exang, oldpeak, slope, ca, thal, state]\n",
       "Index: []"
      ]
     },
     "execution_count": 15,
     "metadata": {},
     "output_type": "execute_result"
    }
   ],
   "source": [
    "df.head(0)"
   ]
  },
  {
   "cell_type": "code",
   "execution_count": 16,
   "id": "bfae0811",
   "metadata": {},
   "outputs": [],
   "source": [
    "df = df[df[\"state\"].notnull()]"
   ]
  },
  {
   "cell_type": "code",
   "execution_count": 17,
   "id": "41498ec7",
   "metadata": {},
   "outputs": [
    {
     "data": {
      "text/plain": [
       "(293, 14)"
      ]
     },
     "execution_count": 17,
     "metadata": {},
     "output_type": "execute_result"
    }
   ],
   "source": [
    "df.shape"
   ]
  },
  {
   "cell_type": "code",
   "execution_count": 18,
   "id": "99f5d60c",
   "metadata": {},
   "outputs": [
    {
     "name": "stdout",
     "output_type": "stream",
     "text": [
      "Number of rows with atleast one value missing:  9\n",
      "Indices of rows with atleast one value missing:  [6, 111, 112, 128, 209, 214, 219, 281, 292]\n"
     ]
    }
   ],
   "source": [
    "missing_rows = df[df.isnull().any(axis=1)]\n",
    "missing_rows_indices = [i for i, itr in enumerate(df.isnull().any(axis=1)) if itr]\n",
    "print(\"Number of rows with atleast one value missing: \", len(missing_rows_indices))\n",
    "print(\"Indices of rows with atleast one value missing: \", missing_rows_indices)"
   ]
  },
  {
   "cell_type": "code",
   "execution_count": 19,
   "id": "5175595a",
   "metadata": {},
   "outputs": [
    {
     "data": {
      "text/plain": [
       "(293, 14)"
      ]
     },
     "execution_count": 19,
     "metadata": {},
     "output_type": "execute_result"
    }
   ],
   "source": [
    "df.shape"
   ]
  },
  {
   "cell_type": "code",
   "execution_count": 20,
   "id": "78b711a7",
   "metadata": {},
   "outputs": [
    {
     "name": "stdout",
     "output_type": "stream",
     "text": [
      "<class 'pandas.core.frame.DataFrame'>\n",
      "Int64Index: 293 entries, 0 to 302\n",
      "Data columns (total 14 columns):\n",
      " #   Column    Non-Null Count  Dtype  \n",
      "---  ------    --------------  -----  \n",
      " 0   age       293 non-null    float64\n",
      " 1   sex       293 non-null    object \n",
      " 2   cp        290 non-null    object \n",
      " 3   trestbps  293 non-null    float64\n",
      " 4   chol      291 non-null    float64\n",
      " 5   fbs       293 non-null    object \n",
      " 6   restecg   293 non-null    float64\n",
      " 7   thalach   289 non-null    float64\n",
      " 8   exang     293 non-null    float64\n",
      " 9   oldpeak   293 non-null    float64\n",
      " 10  slope     293 non-null    float64\n",
      " 11  ca        290 non-null    float64\n",
      " 12  thal      293 non-null    float64\n",
      " 13  state     293 non-null    float64\n",
      "dtypes: float64(11), object(3)\n",
      "memory usage: 34.3+ KB\n"
     ]
    }
   ],
   "source": [
    "df.info()"
   ]
  },
  {
   "cell_type": "code",
   "execution_count": 21,
   "id": "bd05ec1e",
   "metadata": {},
   "outputs": [
    {
     "data": {
      "text/html": [
       "<div>\n",
       "<style scoped>\n",
       "    .dataframe tbody tr th:only-of-type {\n",
       "        vertical-align: middle;\n",
       "    }\n",
       "\n",
       "    .dataframe tbody tr th {\n",
       "        vertical-align: top;\n",
       "    }\n",
       "\n",
       "    .dataframe thead th {\n",
       "        text-align: right;\n",
       "    }\n",
       "</style>\n",
       "<table border=\"1\" class=\"dataframe\">\n",
       "  <thead>\n",
       "    <tr style=\"text-align: right;\">\n",
       "      <th></th>\n",
       "      <th>age</th>\n",
       "      <th>sex</th>\n",
       "      <th>cp</th>\n",
       "      <th>trestbps</th>\n",
       "      <th>chol</th>\n",
       "      <th>fbs</th>\n",
       "      <th>restecg</th>\n",
       "      <th>thalach</th>\n",
       "      <th>exang</th>\n",
       "      <th>oldpeak</th>\n",
       "      <th>slope</th>\n",
       "      <th>ca</th>\n",
       "      <th>thal</th>\n",
       "      <th>state</th>\n",
       "    </tr>\n",
       "  </thead>\n",
       "  <tbody>\n",
       "    <tr>\n",
       "      <th>0</th>\n",
       "      <td>63.0</td>\n",
       "      <td>M</td>\n",
       "      <td>tap</td>\n",
       "      <td>145.0</td>\n",
       "      <td>233.0</td>\n",
       "      <td>yes</td>\n",
       "      <td>2.0</td>\n",
       "      <td>150.0</td>\n",
       "      <td>0.0</td>\n",
       "      <td>2.3</td>\n",
       "      <td>3.0</td>\n",
       "      <td>0.0</td>\n",
       "      <td>6.0</td>\n",
       "      <td>0.0</td>\n",
       "    </tr>\n",
       "    <tr>\n",
       "      <th>1</th>\n",
       "      <td>67.0</td>\n",
       "      <td>M</td>\n",
       "      <td>asp</td>\n",
       "      <td>160.0</td>\n",
       "      <td>286.0</td>\n",
       "      <td>no</td>\n",
       "      <td>2.0</td>\n",
       "      <td>108.0</td>\n",
       "      <td>1.0</td>\n",
       "      <td>1.5</td>\n",
       "      <td>2.0</td>\n",
       "      <td>3.0</td>\n",
       "      <td>3.0</td>\n",
       "      <td>2.0</td>\n",
       "    </tr>\n",
       "    <tr>\n",
       "      <th>2</th>\n",
       "      <td>67.0</td>\n",
       "      <td>M</td>\n",
       "      <td>asp</td>\n",
       "      <td>120.0</td>\n",
       "      <td>229.0</td>\n",
       "      <td>no</td>\n",
       "      <td>2.0</td>\n",
       "      <td>129.0</td>\n",
       "      <td>1.0</td>\n",
       "      <td>2.6</td>\n",
       "      <td>2.0</td>\n",
       "      <td>2.0</td>\n",
       "      <td>7.0</td>\n",
       "      <td>1.0</td>\n",
       "    </tr>\n",
       "    <tr>\n",
       "      <th>3</th>\n",
       "      <td>37.0</td>\n",
       "      <td>M</td>\n",
       "      <td>nap</td>\n",
       "      <td>130.0</td>\n",
       "      <td>250.0</td>\n",
       "      <td>no</td>\n",
       "      <td>0.0</td>\n",
       "      <td>187.0</td>\n",
       "      <td>0.0</td>\n",
       "      <td>3.5</td>\n",
       "      <td>3.0</td>\n",
       "      <td>0.0</td>\n",
       "      <td>3.0</td>\n",
       "      <td>0.0</td>\n",
       "    </tr>\n",
       "    <tr>\n",
       "      <th>4</th>\n",
       "      <td>41.0</td>\n",
       "      <td>F</td>\n",
       "      <td>aap</td>\n",
       "      <td>130.0</td>\n",
       "      <td>204.0</td>\n",
       "      <td>no</td>\n",
       "      <td>2.0</td>\n",
       "      <td>172.0</td>\n",
       "      <td>0.0</td>\n",
       "      <td>1.4</td>\n",
       "      <td>1.0</td>\n",
       "      <td>0.0</td>\n",
       "      <td>3.0</td>\n",
       "      <td>0.0</td>\n",
       "    </tr>\n",
       "  </tbody>\n",
       "</table>\n",
       "</div>"
      ],
      "text/plain": [
       "    age sex   cp  trestbps   chol  fbs  restecg  thalach  exang  oldpeak  \\\n",
       "0  63.0   M  tap     145.0  233.0  yes      2.0    150.0    0.0      2.3   \n",
       "1  67.0   M  asp     160.0  286.0   no      2.0    108.0    1.0      1.5   \n",
       "2  67.0   M  asp     120.0  229.0   no      2.0    129.0    1.0      2.6   \n",
       "3  37.0   M  nap     130.0  250.0   no      0.0    187.0    0.0      3.5   \n",
       "4  41.0   F  aap     130.0  204.0   no      2.0    172.0    0.0      1.4   \n",
       "\n",
       "   slope   ca  thal  state  \n",
       "0    3.0  0.0   6.0    0.0  \n",
       "1    2.0  3.0   3.0    2.0  \n",
       "2    2.0  2.0   7.0    1.0  \n",
       "3    3.0  0.0   3.0    0.0  \n",
       "4    1.0  0.0   3.0    0.0  "
      ]
     },
     "execution_count": 21,
     "metadata": {},
     "output_type": "execute_result"
    }
   ],
   "source": [
    "df.head()"
   ]
  },
  {
   "cell_type": "code",
   "execution_count": 22,
   "id": "acdb52c1",
   "metadata": {},
   "outputs": [
    {
     "data": {
      "text/plain": [
       "age         float64\n",
       "sex          object\n",
       "cp           object\n",
       "trestbps    float64\n",
       "chol        float64\n",
       "fbs          object\n",
       "restecg     float64\n",
       "thalach     float64\n",
       "exang       float64\n",
       "oldpeak     float64\n",
       "slope       float64\n",
       "ca          float64\n",
       "thal        float64\n",
       "state       float64\n",
       "dtype: object"
      ]
     },
     "execution_count": 22,
     "metadata": {},
     "output_type": "execute_result"
    }
   ],
   "source": [
    "df.dtypes"
   ]
  },
  {
   "cell_type": "code",
   "execution_count": 23,
   "id": "55b19ea7",
   "metadata": {},
   "outputs": [
    {
     "data": {
      "text/plain": [
       "Series([], dtype: object)"
      ]
     },
     "execution_count": 23,
     "metadata": {},
     "output_type": "execute_result"
    }
   ],
   "source": [
    "df.select_dtypes(include=['category','int']).dtypes"
   ]
  },
  {
   "cell_type": "code",
   "execution_count": 24,
   "id": "961f86f1",
   "metadata": {},
   "outputs": [
    {
     "data": {
      "text/plain": [
       "age         float64\n",
       "sex          object\n",
       "cp           object\n",
       "trestbps    float64\n",
       "chol        float64\n",
       "fbs          object\n",
       "restecg     float64\n",
       "thalach     float64\n",
       "exang       float64\n",
       "oldpeak     float64\n",
       "slope       float64\n",
       "ca          float64\n",
       "thal        float64\n",
       "state       float64\n",
       "dtype: object"
      ]
     },
     "execution_count": 24,
     "metadata": {},
     "output_type": "execute_result"
    }
   ],
   "source": [
    "df.select_dtypes(include=['category','int','float', 'object']).dtypes"
   ]
  },
  {
   "cell_type": "code",
   "execution_count": 25,
   "id": "fba8db27",
   "metadata": {},
   "outputs": [],
   "source": [
    "missing_rows_categorical = missing_rows.select_dtypes(include=['object']).dtypes"
   ]
  },
  {
   "cell_type": "code",
   "execution_count": 26,
   "id": "00d1b60e",
   "metadata": {},
   "outputs": [
    {
     "data": {
      "text/plain": [
       "0      True\n",
       "1      True\n",
       "2      True\n",
       "3      True\n",
       "4      True\n",
       "       ... \n",
       "297    True\n",
       "298    True\n",
       "299    True\n",
       "301    True\n",
       "302    True\n",
       "Name: state, Length: 293, dtype: bool"
      ]
     },
     "execution_count": 26,
     "metadata": {},
     "output_type": "execute_result"
    }
   ],
   "source": [
    "df[\"state\"].notnull()"
   ]
  },
  {
   "cell_type": "code",
   "execution_count": 27,
   "id": "04291ca6",
   "metadata": {},
   "outputs": [
    {
     "data": {
      "text/plain": [
       "age          41\n",
       "sex           2\n",
       "cp            4\n",
       "trestbps     50\n",
       "chol        151\n",
       "fbs           2\n",
       "restecg       3\n",
       "thalach      90\n",
       "exang         2\n",
       "oldpeak      40\n",
       "slope         3\n",
       "ca            4\n",
       "thal          4\n",
       "state         5\n",
       "dtype: int64"
      ]
     },
     "execution_count": 27,
     "metadata": {},
     "output_type": "execute_result"
    }
   ],
   "source": [
    "unique_vals = df.nunique()\n",
    "unique_vals"
   ]
  },
  {
   "cell_type": "code",
   "execution_count": 28,
   "id": "73c1267e",
   "metadata": {},
   "outputs": [],
   "source": [
    "categorical_cols = list(unique_vals[unique_vals.values < 10].keys())"
   ]
  },
  {
   "cell_type": "code",
   "execution_count": 29,
   "id": "1762e459",
   "metadata": {},
   "outputs": [
    {
     "data": {
      "text/plain": [
       "['sex', 'cp', 'fbs', 'restecg', 'exang', 'slope', 'ca', 'thal', 'state']"
      ]
     },
     "execution_count": 29,
     "metadata": {},
     "output_type": "execute_result"
    }
   ],
   "source": [
    "(categorical_cols)"
   ]
  },
  {
   "cell_type": "code",
   "execution_count": 30,
   "id": "187841e7",
   "metadata": {},
   "outputs": [
    {
     "data": {
      "text/plain": [
       "age          41\n",
       "sex           2\n",
       "cp            4\n",
       "trestbps     50\n",
       "chol        151\n",
       "fbs           2\n",
       "restecg       3\n",
       "thalach      90\n",
       "exang         2\n",
       "oldpeak      40\n",
       "slope         3\n",
       "ca            4\n",
       "thal          4\n",
       "state         5\n",
       "dtype: int64"
      ]
     },
     "execution_count": 30,
     "metadata": {},
     "output_type": "execute_result"
    }
   ],
   "source": [
    "unique_vals"
   ]
  },
  {
   "cell_type": "code",
   "execution_count": 31,
   "id": "f9264b73",
   "metadata": {},
   "outputs": [
    {
     "data": {
      "text/plain": [
       "age         float64\n",
       "sex          object\n",
       "cp           object\n",
       "trestbps    float64\n",
       "chol        float64\n",
       "fbs          object\n",
       "restecg     float64\n",
       "thalach     float64\n",
       "exang       float64\n",
       "oldpeak     float64\n",
       "slope       float64\n",
       "ca          float64\n",
       "thal        float64\n",
       "state       float64\n",
       "dtype: object"
      ]
     },
     "execution_count": 31,
     "metadata": {},
     "output_type": "execute_result"
    }
   ],
   "source": [
    "df.dtypes"
   ]
  },
  {
   "cell_type": "code",
   "execution_count": 32,
   "id": "808a751c",
   "metadata": {},
   "outputs": [
    {
     "data": {
      "text/html": [
       "<div>\n",
       "<style scoped>\n",
       "    .dataframe tbody tr th:only-of-type {\n",
       "        vertical-align: middle;\n",
       "    }\n",
       "\n",
       "    .dataframe tbody tr th {\n",
       "        vertical-align: top;\n",
       "    }\n",
       "\n",
       "    .dataframe thead th {\n",
       "        text-align: right;\n",
       "    }\n",
       "</style>\n",
       "<table border=\"1\" class=\"dataframe\">\n",
       "  <thead>\n",
       "    <tr style=\"text-align: right;\">\n",
       "      <th></th>\n",
       "      <th>age</th>\n",
       "      <th>sex</th>\n",
       "      <th>cp</th>\n",
       "      <th>trestbps</th>\n",
       "      <th>chol</th>\n",
       "      <th>fbs</th>\n",
       "      <th>restecg</th>\n",
       "      <th>thalach</th>\n",
       "      <th>exang</th>\n",
       "      <th>oldpeak</th>\n",
       "      <th>slope</th>\n",
       "      <th>ca</th>\n",
       "      <th>thal</th>\n",
       "      <th>state</th>\n",
       "    </tr>\n",
       "  </thead>\n",
       "  <tbody>\n",
       "    <tr>\n",
       "      <th>6</th>\n",
       "      <td>62.0</td>\n",
       "      <td>F</td>\n",
       "      <td>NaN</td>\n",
       "      <td>140.0</td>\n",
       "      <td>268.0</td>\n",
       "      <td>no</td>\n",
       "      <td>2.0</td>\n",
       "      <td>160.0</td>\n",
       "      <td>0.0</td>\n",
       "      <td>3.6</td>\n",
       "      <td>3.0</td>\n",
       "      <td>2.0</td>\n",
       "      <td>3.0</td>\n",
       "      <td>3.0</td>\n",
       "    </tr>\n",
       "    <tr>\n",
       "      <th>115</th>\n",
       "      <td>41.0</td>\n",
       "      <td>M</td>\n",
       "      <td>NaN</td>\n",
       "      <td>135.0</td>\n",
       "      <td>NaN</td>\n",
       "      <td>no</td>\n",
       "      <td>0.0</td>\n",
       "      <td>NaN</td>\n",
       "      <td>0.0</td>\n",
       "      <td>0.0</td>\n",
       "      <td>2.0</td>\n",
       "      <td>NaN</td>\n",
       "      <td>6.0</td>\n",
       "      <td>0.0</td>\n",
       "    </tr>\n",
       "    <tr>\n",
       "      <th>116</th>\n",
       "      <td>58.0</td>\n",
       "      <td>M</td>\n",
       "      <td>nap</td>\n",
       "      <td>140.0</td>\n",
       "      <td>211.0</td>\n",
       "      <td>yes</td>\n",
       "      <td>2.0</td>\n",
       "      <td>NaN</td>\n",
       "      <td>0.0</td>\n",
       "      <td>0.0</td>\n",
       "      <td>1.0</td>\n",
       "      <td>0.0</td>\n",
       "      <td>3.0</td>\n",
       "      <td>0.0</td>\n",
       "    </tr>\n",
       "    <tr>\n",
       "      <th>132</th>\n",
       "      <td>29.0</td>\n",
       "      <td>M</td>\n",
       "      <td>NaN</td>\n",
       "      <td>130.0</td>\n",
       "      <td>204.0</td>\n",
       "      <td>no</td>\n",
       "      <td>2.0</td>\n",
       "      <td>202.0</td>\n",
       "      <td>0.0</td>\n",
       "      <td>0.0</td>\n",
       "      <td>1.0</td>\n",
       "      <td>0.0</td>\n",
       "      <td>3.0</td>\n",
       "      <td>0.0</td>\n",
       "    </tr>\n",
       "    <tr>\n",
       "      <th>218</th>\n",
       "      <td>64.0</td>\n",
       "      <td>F</td>\n",
       "      <td>asp</td>\n",
       "      <td>130.0</td>\n",
       "      <td>303.0</td>\n",
       "      <td>no</td>\n",
       "      <td>0.0</td>\n",
       "      <td>NaN</td>\n",
       "      <td>0.0</td>\n",
       "      <td>2.0</td>\n",
       "      <td>2.0</td>\n",
       "      <td>2.0</td>\n",
       "      <td>3.0</td>\n",
       "      <td>0.0</td>\n",
       "    </tr>\n",
       "    <tr>\n",
       "      <th>223</th>\n",
       "      <td>53.0</td>\n",
       "      <td>M</td>\n",
       "      <td>asp</td>\n",
       "      <td>123.0</td>\n",
       "      <td>282.0</td>\n",
       "      <td>no</td>\n",
       "      <td>0.0</td>\n",
       "      <td>95.0</td>\n",
       "      <td>1.0</td>\n",
       "      <td>2.0</td>\n",
       "      <td>2.0</td>\n",
       "      <td>NaN</td>\n",
       "      <td>7.0</td>\n",
       "      <td>3.0</td>\n",
       "    </tr>\n",
       "    <tr>\n",
       "      <th>228</th>\n",
       "      <td>54.0</td>\n",
       "      <td>M</td>\n",
       "      <td>asp</td>\n",
       "      <td>110.0</td>\n",
       "      <td>NaN</td>\n",
       "      <td>no</td>\n",
       "      <td>2.0</td>\n",
       "      <td>108.0</td>\n",
       "      <td>1.0</td>\n",
       "      <td>0.0</td>\n",
       "      <td>2.0</td>\n",
       "      <td>1.0</td>\n",
       "      <td>3.0</td>\n",
       "      <td>3.0</td>\n",
       "    </tr>\n",
       "    <tr>\n",
       "      <th>290</th>\n",
       "      <td>67.0</td>\n",
       "      <td>M</td>\n",
       "      <td>nap</td>\n",
       "      <td>152.0</td>\n",
       "      <td>212.0</td>\n",
       "      <td>no</td>\n",
       "      <td>2.0</td>\n",
       "      <td>NaN</td>\n",
       "      <td>0.0</td>\n",
       "      <td>0.8</td>\n",
       "      <td>2.0</td>\n",
       "      <td>0.0</td>\n",
       "      <td>7.0</td>\n",
       "      <td>1.0</td>\n",
       "    </tr>\n",
       "    <tr>\n",
       "      <th>302</th>\n",
       "      <td>38.0</td>\n",
       "      <td>M</td>\n",
       "      <td>nap</td>\n",
       "      <td>138.0</td>\n",
       "      <td>175.0</td>\n",
       "      <td>no</td>\n",
       "      <td>0.0</td>\n",
       "      <td>173.0</td>\n",
       "      <td>0.0</td>\n",
       "      <td>0.0</td>\n",
       "      <td>1.0</td>\n",
       "      <td>NaN</td>\n",
       "      <td>3.0</td>\n",
       "      <td>0.0</td>\n",
       "    </tr>\n",
       "  </tbody>\n",
       "</table>\n",
       "</div>"
      ],
      "text/plain": [
       "      age sex   cp  trestbps   chol  fbs  restecg  thalach  exang  oldpeak  \\\n",
       "6    62.0   F  NaN     140.0  268.0   no      2.0    160.0    0.0      3.6   \n",
       "115  41.0   M  NaN     135.0    NaN   no      0.0      NaN    0.0      0.0   \n",
       "116  58.0   M  nap     140.0  211.0  yes      2.0      NaN    0.0      0.0   \n",
       "132  29.0   M  NaN     130.0  204.0   no      2.0    202.0    0.0      0.0   \n",
       "218  64.0   F  asp     130.0  303.0   no      0.0      NaN    0.0      2.0   \n",
       "223  53.0   M  asp     123.0  282.0   no      0.0     95.0    1.0      2.0   \n",
       "228  54.0   M  asp     110.0    NaN   no      2.0    108.0    1.0      0.0   \n",
       "290  67.0   M  nap     152.0  212.0   no      2.0      NaN    0.0      0.8   \n",
       "302  38.0   M  nap     138.0  175.0   no      0.0    173.0    0.0      0.0   \n",
       "\n",
       "     slope   ca  thal  state  \n",
       "6      3.0  2.0   3.0    3.0  \n",
       "115    2.0  NaN   6.0    0.0  \n",
       "116    1.0  0.0   3.0    0.0  \n",
       "132    1.0  0.0   3.0    0.0  \n",
       "218    2.0  2.0   3.0    0.0  \n",
       "223    2.0  NaN   7.0    3.0  \n",
       "228    2.0  1.0   3.0    3.0  \n",
       "290    2.0  0.0   7.0    1.0  \n",
       "302    1.0  NaN   3.0    0.0  "
      ]
     },
     "execution_count": 32,
     "metadata": {},
     "output_type": "execute_result"
    }
   ],
   "source": [
    "missing_rows"
   ]
  },
  {
   "cell_type": "code",
   "execution_count": 33,
   "id": "84e3c9a5",
   "metadata": {},
   "outputs": [
    {
     "data": {
      "text/plain": [
       "['sex', 'cp', 'fbs', 'restecg', 'exang', 'slope', 'ca', 'thal', 'state']"
      ]
     },
     "execution_count": 33,
     "metadata": {},
     "output_type": "execute_result"
    }
   ],
   "source": [
    "categorical_cols"
   ]
  },
  {
   "cell_type": "code",
   "execution_count": 34,
   "id": "74703028",
   "metadata": {},
   "outputs": [],
   "source": [
    "continuos_cols = list(set(list(df.columns)) - set(categorical_cols))"
   ]
  },
  {
   "cell_type": "code",
   "execution_count": 35,
   "id": "44c1a82b",
   "metadata": {},
   "outputs": [
    {
     "data": {
      "text/plain": [
       "['trestbps', 'chol', 'oldpeak', 'thalach', 'age']"
      ]
     },
     "execution_count": 35,
     "metadata": {},
     "output_type": "execute_result"
    }
   ],
   "source": [
    "continuos_cols"
   ]
  },
  {
   "cell_type": "code",
   "execution_count": 36,
   "id": "e3120467",
   "metadata": {},
   "outputs": [
    {
     "data": {
      "text/html": [
       "<div>\n",
       "<style scoped>\n",
       "    .dataframe tbody tr th:only-of-type {\n",
       "        vertical-align: middle;\n",
       "    }\n",
       "\n",
       "    .dataframe tbody tr th {\n",
       "        vertical-align: top;\n",
       "    }\n",
       "\n",
       "    .dataframe thead th {\n",
       "        text-align: right;\n",
       "    }\n",
       "</style>\n",
       "<table border=\"1\" class=\"dataframe\">\n",
       "  <thead>\n",
       "    <tr style=\"text-align: right;\">\n",
       "      <th></th>\n",
       "      <th>age</th>\n",
       "      <th>sex</th>\n",
       "      <th>cp</th>\n",
       "      <th>trestbps</th>\n",
       "      <th>chol</th>\n",
       "      <th>fbs</th>\n",
       "      <th>restecg</th>\n",
       "      <th>thalach</th>\n",
       "      <th>exang</th>\n",
       "      <th>oldpeak</th>\n",
       "      <th>slope</th>\n",
       "      <th>ca</th>\n",
       "      <th>thal</th>\n",
       "      <th>state</th>\n",
       "    </tr>\n",
       "  </thead>\n",
       "  <tbody>\n",
       "    <tr>\n",
       "      <th>115</th>\n",
       "      <td>41.0</td>\n",
       "      <td>M</td>\n",
       "      <td>NaN</td>\n",
       "      <td>135.0</td>\n",
       "      <td>NaN</td>\n",
       "      <td>no</td>\n",
       "      <td>0.0</td>\n",
       "      <td>NaN</td>\n",
       "      <td>0.0</td>\n",
       "      <td>0.0</td>\n",
       "      <td>2.0</td>\n",
       "      <td>NaN</td>\n",
       "      <td>6.0</td>\n",
       "      <td>0.0</td>\n",
       "    </tr>\n",
       "    <tr>\n",
       "      <th>116</th>\n",
       "      <td>58.0</td>\n",
       "      <td>M</td>\n",
       "      <td>nap</td>\n",
       "      <td>140.0</td>\n",
       "      <td>211.0</td>\n",
       "      <td>yes</td>\n",
       "      <td>2.0</td>\n",
       "      <td>NaN</td>\n",
       "      <td>0.0</td>\n",
       "      <td>0.0</td>\n",
       "      <td>1.0</td>\n",
       "      <td>0.0</td>\n",
       "      <td>3.0</td>\n",
       "      <td>0.0</td>\n",
       "    </tr>\n",
       "    <tr>\n",
       "      <th>218</th>\n",
       "      <td>64.0</td>\n",
       "      <td>F</td>\n",
       "      <td>asp</td>\n",
       "      <td>130.0</td>\n",
       "      <td>303.0</td>\n",
       "      <td>no</td>\n",
       "      <td>0.0</td>\n",
       "      <td>NaN</td>\n",
       "      <td>0.0</td>\n",
       "      <td>2.0</td>\n",
       "      <td>2.0</td>\n",
       "      <td>2.0</td>\n",
       "      <td>3.0</td>\n",
       "      <td>0.0</td>\n",
       "    </tr>\n",
       "    <tr>\n",
       "      <th>228</th>\n",
       "      <td>54.0</td>\n",
       "      <td>M</td>\n",
       "      <td>asp</td>\n",
       "      <td>110.0</td>\n",
       "      <td>NaN</td>\n",
       "      <td>no</td>\n",
       "      <td>2.0</td>\n",
       "      <td>108.0</td>\n",
       "      <td>1.0</td>\n",
       "      <td>0.0</td>\n",
       "      <td>2.0</td>\n",
       "      <td>1.0</td>\n",
       "      <td>3.0</td>\n",
       "      <td>3.0</td>\n",
       "    </tr>\n",
       "    <tr>\n",
       "      <th>290</th>\n",
       "      <td>67.0</td>\n",
       "      <td>M</td>\n",
       "      <td>nap</td>\n",
       "      <td>152.0</td>\n",
       "      <td>212.0</td>\n",
       "      <td>no</td>\n",
       "      <td>2.0</td>\n",
       "      <td>NaN</td>\n",
       "      <td>0.0</td>\n",
       "      <td>0.8</td>\n",
       "      <td>2.0</td>\n",
       "      <td>0.0</td>\n",
       "      <td>7.0</td>\n",
       "      <td>1.0</td>\n",
       "    </tr>\n",
       "  </tbody>\n",
       "</table>\n",
       "</div>"
      ],
      "text/plain": [
       "      age sex   cp  trestbps   chol  fbs  restecg  thalach  exang  oldpeak  \\\n",
       "115  41.0   M  NaN     135.0    NaN   no      0.0      NaN    0.0      0.0   \n",
       "116  58.0   M  nap     140.0  211.0  yes      2.0      NaN    0.0      0.0   \n",
       "218  64.0   F  asp     130.0  303.0   no      0.0      NaN    0.0      2.0   \n",
       "228  54.0   M  asp     110.0    NaN   no      2.0    108.0    1.0      0.0   \n",
       "290  67.0   M  nap     152.0  212.0   no      2.0      NaN    0.0      0.8   \n",
       "\n",
       "     slope   ca  thal  state  \n",
       "115    2.0  NaN   6.0    0.0  \n",
       "116    1.0  0.0   3.0    0.0  \n",
       "218    2.0  2.0   3.0    0.0  \n",
       "228    2.0  1.0   3.0    3.0  \n",
       "290    2.0  0.0   7.0    1.0  "
      ]
     },
     "execution_count": 36,
     "metadata": {},
     "output_type": "execute_result"
    }
   ],
   "source": [
    "df[df[continuos_cols].isnull().any(axis=1)]"
   ]
  },
  {
   "cell_type": "code",
   "execution_count": 37,
   "id": "183c2981",
   "metadata": {},
   "outputs": [
    {
     "name": "stdout",
     "output_type": "stream",
     "text": [
      "(293, 14)\n",
      "age          55.0\n",
      "trestbps    130.0\n",
      "chol        243.0\n",
      "restecg       1.0\n",
      "thalach     153.0\n",
      "exang         0.0\n",
      "oldpeak       0.7\n",
      "slope         2.0\n",
      "ca            0.0\n",
      "thal          3.0\n",
      "state         0.0\n",
      "dtype: float64\n"
     ]
    }
   ],
   "source": [
    "print(df.shape)\n",
    "print(df.median(axis = 0))"
   ]
  },
  {
   "cell_type": "code",
   "execution_count": 38,
   "id": "25ce3c62",
   "metadata": {},
   "outputs": [],
   "source": [
    "df.dropna(subset=categorical_cols, how='any', inplace=True)"
   ]
  },
  {
   "cell_type": "code",
   "execution_count": 39,
   "id": "a89b74cc",
   "metadata": {},
   "outputs": [
    {
     "data": {
      "text/plain": [
       "(288, 14)"
      ]
     },
     "execution_count": 39,
     "metadata": {},
     "output_type": "execute_result"
    }
   ],
   "source": [
    "df.shape"
   ]
  },
  {
   "cell_type": "code",
   "execution_count": null,
   "id": "d2ba9fcb",
   "metadata": {},
   "outputs": [],
   "source": []
  },
  {
   "cell_type": "code",
   "execution_count": 40,
   "id": "0fa61451",
   "metadata": {},
   "outputs": [],
   "source": [
    "missing_rows = df[df.isnull().any(axis=1)].copy()"
   ]
  },
  {
   "cell_type": "code",
   "execution_count": 41,
   "id": "5a28f383",
   "metadata": {},
   "outputs": [],
   "source": [
    "df[continuos_cols] = df[continuos_cols].fillna(df[continuos_cols].min())"
   ]
  },
  {
   "cell_type": "code",
   "execution_count": 42,
   "id": "8d797237",
   "metadata": {},
   "outputs": [
    {
     "data": {
      "text/plain": [
       "(288, 14)"
      ]
     },
     "execution_count": 42,
     "metadata": {},
     "output_type": "execute_result"
    }
   ],
   "source": [
    "df.shape"
   ]
  },
  {
   "cell_type": "code",
   "execution_count": 43,
   "id": "f4e4adbb",
   "metadata": {},
   "outputs": [
    {
     "data": {
      "text/plain": [
       "age          56.00\n",
       "trestbps    130.00\n",
       "chol        242.50\n",
       "restecg       1.00\n",
       "thalach     152.00\n",
       "exang         0.00\n",
       "oldpeak       0.75\n",
       "slope         2.00\n",
       "ca            0.00\n",
       "thal          3.00\n",
       "state         0.00\n",
       "dtype: float64"
      ]
     },
     "execution_count": 43,
     "metadata": {},
     "output_type": "execute_result"
    }
   ],
   "source": [
    "df.median(axis = 0)"
   ]
  },
  {
   "cell_type": "code",
   "execution_count": 44,
   "id": "62b3124a",
   "metadata": {},
   "outputs": [
    {
     "data": {
      "text/plain": [
       "age         float64\n",
       "sex          object\n",
       "cp           object\n",
       "trestbps    float64\n",
       "chol        float64\n",
       "fbs          object\n",
       "restecg     float64\n",
       "thalach     float64\n",
       "exang       float64\n",
       "oldpeak     float64\n",
       "slope       float64\n",
       "ca          float64\n",
       "thal        float64\n",
       "state       float64\n",
       "dtype: object"
      ]
     },
     "execution_count": 44,
     "metadata": {},
     "output_type": "execute_result"
    }
   ],
   "source": [
    "df.dtypes"
   ]
  },
  {
   "cell_type": "markdown",
   "id": "97541916",
   "metadata": {},
   "source": [
    "#### 4. Continue from question 3. Print the total numbers and ration of male and female patients who are at highest risk of heart disease."
   ]
  },
  {
   "cell_type": "code",
   "execution_count": 45,
   "id": "65ff7fc1",
   "metadata": {},
   "outputs": [
    {
     "name": "stdout",
     "output_type": "stream",
     "text": [
      "Male patients with highest risk of heart disease:  11\n",
      "Female patients with highest risk of heart disease:  2\n",
      "Ratio of Male patients:  0.05641025641025641\n",
      "Ratio of Female patients:  0.021505376344086023\n"
     ]
    }
   ],
   "source": [
    "male_patients_num = len(df.loc[(df['sex'] == 'M') & (df['state'] == 4)])\n",
    "female_patients_num = len(df.loc[(df['sex'] == 'F') & (df['state'] == 4)])\n",
    "print (\"Male patients with highest risk of heart disease: \", male_patients_num)\n",
    "print (\"Female patients with highest risk of heart disease: \", female_patients_num)\n",
    "print (\"Ratio of Male patients: \", male_patients_num/len(df.loc[(df['sex'] == 'M')]))\n",
    "print (\"Ratio of Female patients: \", female_patients_num/len(df.loc[(df['sex'] == 'F')]))"
   ]
  },
  {
   "cell_type": "markdown",
   "id": "2ceb35ac",
   "metadata": {},
   "source": [
    "#### 5. Continue from question 3. Is there any association between heart rate and severity of heart disease? Explain your results from given dataset."
   ]
  },
  {
   "cell_type": "code",
   "execution_count": 46,
   "id": "2bee7fd7",
   "metadata": {},
   "outputs": [
    {
     "name": "stdout",
     "output_type": "stream",
     "text": [
      "Samples with no heart disease:  157 Mean heart rate:  157.11464968152868\n",
      "Samples with heart disease risk:  131 Mean heart rate:  139.3053435114504\n",
      "\n",
      "Mean Heart rate state wise grouping: \n",
      " state\n",
      "0.0    157.114650\n",
      "1.0    144.716981\n",
      "2.0    137.176471\n",
      "3.0    131.838710\n",
      "4.0    140.615385\n",
      "Name: thalach, dtype: float64\n",
      "\n",
      "Statistical Details of risk level vs heart dissease: \n",
      "       thalach                                                            \n",
      "        count        mean        std    min     25%    50%     75%    max\n",
      "state                                                                    \n",
      "0.0     157.0  157.114650  21.284691   71.0  148.00  160.0  172.00  194.0\n",
      "1.0      53.0  144.716981  24.746699   71.0  131.00  147.0  161.00  195.0\n",
      "2.0      34.0  137.176471  20.163680   71.0  128.25  142.0  146.75  170.0\n",
      "3.0      31.0  131.838710  21.591814   90.0  115.00  130.0  148.50  173.0\n",
      "4.0      13.0  140.615385  19.881057  114.0  125.00  132.0  154.00  182.0\n"
     ]
    }
   ],
   "source": [
    "no_heart_disease_df = df.loc[(df['state'] == 0)]\n",
    "\n",
    "heart_disease_df = df.loc[(df['state'] != 0)]\n",
    "\n",
    "print(\"Samples with no heart disease: \", len(no_heart_disease_df), \n",
    "      \"Mean heart rate: \", no_heart_disease_df[\"thalach\"].mean(axis=0))\n",
    "print(\"Samples with heart disease risk: \", len(heart_disease_df), \n",
    "      \"Mean heart rate: \", heart_disease_df[\"thalach\"].mean(axis=0))\n",
    "\n",
    "print (\"\\nMean Heart rate state wise grouping: \\n\", df.groupby(['state'])['thalach'].mean())\n",
    "\n",
    "print(\"\\nStatistical Details of risk level vs heart dissease: \\n\", \n",
    "      df[['state', 'thalach']].groupby([\"state\"]).describe())"
   ]
  },
  {
   "cell_type": "code",
   "execution_count": 47,
   "id": "5a712eb0",
   "metadata": {},
   "outputs": [
    {
     "data": {
      "text/html": [
       "<div>\n",
       "<style scoped>\n",
       "    .dataframe tbody tr th:only-of-type {\n",
       "        vertical-align: middle;\n",
       "    }\n",
       "\n",
       "    .dataframe tbody tr th {\n",
       "        vertical-align: top;\n",
       "    }\n",
       "\n",
       "    .dataframe thead th {\n",
       "        text-align: right;\n",
       "    }\n",
       "</style>\n",
       "<table border=\"1\" class=\"dataframe\">\n",
       "  <thead>\n",
       "    <tr style=\"text-align: right;\">\n",
       "      <th></th>\n",
       "      <th>age</th>\n",
       "      <th>sex</th>\n",
       "      <th>cp</th>\n",
       "      <th>trestbps</th>\n",
       "      <th>chol</th>\n",
       "      <th>fbs</th>\n",
       "      <th>restecg</th>\n",
       "      <th>thalach</th>\n",
       "      <th>exang</th>\n",
       "      <th>oldpeak</th>\n",
       "      <th>slope</th>\n",
       "      <th>ca</th>\n",
       "      <th>thal</th>\n",
       "      <th>state</th>\n",
       "    </tr>\n",
       "  </thead>\n",
       "  <tbody>\n",
       "    <tr>\n",
       "      <th>1</th>\n",
       "      <td>67.0</td>\n",
       "      <td>M</td>\n",
       "      <td>asp</td>\n",
       "      <td>160.0</td>\n",
       "      <td>286.0</td>\n",
       "      <td>no</td>\n",
       "      <td>2.0</td>\n",
       "      <td>108.0</td>\n",
       "      <td>1.0</td>\n",
       "      <td>1.5</td>\n",
       "      <td>2.0</td>\n",
       "      <td>3.0</td>\n",
       "      <td>3.0</td>\n",
       "      <td>2.0</td>\n",
       "    </tr>\n",
       "    <tr>\n",
       "      <th>2</th>\n",
       "      <td>67.0</td>\n",
       "      <td>M</td>\n",
       "      <td>asp</td>\n",
       "      <td>120.0</td>\n",
       "      <td>229.0</td>\n",
       "      <td>no</td>\n",
       "      <td>2.0</td>\n",
       "      <td>129.0</td>\n",
       "      <td>1.0</td>\n",
       "      <td>2.6</td>\n",
       "      <td>2.0</td>\n",
       "      <td>2.0</td>\n",
       "      <td>7.0</td>\n",
       "      <td>1.0</td>\n",
       "    </tr>\n",
       "    <tr>\n",
       "      <th>8</th>\n",
       "      <td>63.0</td>\n",
       "      <td>M</td>\n",
       "      <td>asp</td>\n",
       "      <td>130.0</td>\n",
       "      <td>254.0</td>\n",
       "      <td>no</td>\n",
       "      <td>2.0</td>\n",
       "      <td>147.0</td>\n",
       "      <td>0.0</td>\n",
       "      <td>1.4</td>\n",
       "      <td>2.0</td>\n",
       "      <td>1.0</td>\n",
       "      <td>7.0</td>\n",
       "      <td>2.0</td>\n",
       "    </tr>\n",
       "    <tr>\n",
       "      <th>9</th>\n",
       "      <td>53.0</td>\n",
       "      <td>M</td>\n",
       "      <td>asp</td>\n",
       "      <td>140.0</td>\n",
       "      <td>203.0</td>\n",
       "      <td>yes</td>\n",
       "      <td>2.0</td>\n",
       "      <td>155.0</td>\n",
       "      <td>1.0</td>\n",
       "      <td>3.1</td>\n",
       "      <td>3.0</td>\n",
       "      <td>0.0</td>\n",
       "      <td>7.0</td>\n",
       "      <td>1.0</td>\n",
       "    </tr>\n",
       "    <tr>\n",
       "      <th>12</th>\n",
       "      <td>56.0</td>\n",
       "      <td>M</td>\n",
       "      <td>nap</td>\n",
       "      <td>130.0</td>\n",
       "      <td>256.0</td>\n",
       "      <td>yes</td>\n",
       "      <td>2.0</td>\n",
       "      <td>142.0</td>\n",
       "      <td>1.0</td>\n",
       "      <td>0.6</td>\n",
       "      <td>2.0</td>\n",
       "      <td>1.0</td>\n",
       "      <td>6.0</td>\n",
       "      <td>2.0</td>\n",
       "    </tr>\n",
       "    <tr>\n",
       "      <th>...</th>\n",
       "      <td>...</td>\n",
       "      <td>...</td>\n",
       "      <td>...</td>\n",
       "      <td>...</td>\n",
       "      <td>...</td>\n",
       "      <td>...</td>\n",
       "      <td>...</td>\n",
       "      <td>...</td>\n",
       "      <td>...</td>\n",
       "      <td>...</td>\n",
       "      <td>...</td>\n",
       "      <td>...</td>\n",
       "      <td>...</td>\n",
       "      <td>...</td>\n",
       "    </tr>\n",
       "    <tr>\n",
       "      <th>296</th>\n",
       "      <td>59.0</td>\n",
       "      <td>M</td>\n",
       "      <td>asp</td>\n",
       "      <td>164.0</td>\n",
       "      <td>176.0</td>\n",
       "      <td>yes</td>\n",
       "      <td>2.0</td>\n",
       "      <td>90.0</td>\n",
       "      <td>0.0</td>\n",
       "      <td>1.0</td>\n",
       "      <td>2.0</td>\n",
       "      <td>2.0</td>\n",
       "      <td>6.0</td>\n",
       "      <td>3.0</td>\n",
       "    </tr>\n",
       "    <tr>\n",
       "      <th>297</th>\n",
       "      <td>57.0</td>\n",
       "      <td>F</td>\n",
       "      <td>asp</td>\n",
       "      <td>140.0</td>\n",
       "      <td>241.0</td>\n",
       "      <td>no</td>\n",
       "      <td>0.0</td>\n",
       "      <td>123.0</td>\n",
       "      <td>1.0</td>\n",
       "      <td>0.2</td>\n",
       "      <td>2.0</td>\n",
       "      <td>0.0</td>\n",
       "      <td>7.0</td>\n",
       "      <td>1.0</td>\n",
       "    </tr>\n",
       "    <tr>\n",
       "      <th>298</th>\n",
       "      <td>45.0</td>\n",
       "      <td>M</td>\n",
       "      <td>tap</td>\n",
       "      <td>110.0</td>\n",
       "      <td>264.0</td>\n",
       "      <td>no</td>\n",
       "      <td>0.0</td>\n",
       "      <td>132.0</td>\n",
       "      <td>0.0</td>\n",
       "      <td>1.2</td>\n",
       "      <td>2.0</td>\n",
       "      <td>0.0</td>\n",
       "      <td>7.0</td>\n",
       "      <td>1.0</td>\n",
       "    </tr>\n",
       "    <tr>\n",
       "      <th>299</th>\n",
       "      <td>68.0</td>\n",
       "      <td>M</td>\n",
       "      <td>asp</td>\n",
       "      <td>144.0</td>\n",
       "      <td>193.0</td>\n",
       "      <td>yes</td>\n",
       "      <td>0.0</td>\n",
       "      <td>141.0</td>\n",
       "      <td>0.0</td>\n",
       "      <td>3.4</td>\n",
       "      <td>2.0</td>\n",
       "      <td>2.0</td>\n",
       "      <td>7.0</td>\n",
       "      <td>2.0</td>\n",
       "    </tr>\n",
       "    <tr>\n",
       "      <th>301</th>\n",
       "      <td>57.0</td>\n",
       "      <td>F</td>\n",
       "      <td>aap</td>\n",
       "      <td>130.0</td>\n",
       "      <td>236.0</td>\n",
       "      <td>no</td>\n",
       "      <td>2.0</td>\n",
       "      <td>174.0</td>\n",
       "      <td>0.0</td>\n",
       "      <td>0.0</td>\n",
       "      <td>2.0</td>\n",
       "      <td>1.0</td>\n",
       "      <td>3.0</td>\n",
       "      <td>1.0</td>\n",
       "    </tr>\n",
       "  </tbody>\n",
       "</table>\n",
       "<p>131 rows × 14 columns</p>\n",
       "</div>"
      ],
      "text/plain": [
       "      age sex   cp  trestbps   chol  fbs  restecg  thalach  exang  oldpeak  \\\n",
       "1    67.0   M  asp     160.0  286.0   no      2.0    108.0    1.0      1.5   \n",
       "2    67.0   M  asp     120.0  229.0   no      2.0    129.0    1.0      2.6   \n",
       "8    63.0   M  asp     130.0  254.0   no      2.0    147.0    0.0      1.4   \n",
       "9    53.0   M  asp     140.0  203.0  yes      2.0    155.0    1.0      3.1   \n",
       "12   56.0   M  nap     130.0  256.0  yes      2.0    142.0    1.0      0.6   \n",
       "..    ...  ..  ...       ...    ...  ...      ...      ...    ...      ...   \n",
       "296  59.0   M  asp     164.0  176.0  yes      2.0     90.0    0.0      1.0   \n",
       "297  57.0   F  asp     140.0  241.0   no      0.0    123.0    1.0      0.2   \n",
       "298  45.0   M  tap     110.0  264.0   no      0.0    132.0    0.0      1.2   \n",
       "299  68.0   M  asp     144.0  193.0  yes      0.0    141.0    0.0      3.4   \n",
       "301  57.0   F  aap     130.0  236.0   no      2.0    174.0    0.0      0.0   \n",
       "\n",
       "     slope   ca  thal  state  \n",
       "1      2.0  3.0   3.0    2.0  \n",
       "2      2.0  2.0   7.0    1.0  \n",
       "8      2.0  1.0   7.0    2.0  \n",
       "9      3.0  0.0   7.0    1.0  \n",
       "12     2.0  1.0   6.0    2.0  \n",
       "..     ...  ...   ...    ...  \n",
       "296    2.0  2.0   6.0    3.0  \n",
       "297    2.0  0.0   7.0    1.0  \n",
       "298    2.0  0.0   7.0    1.0  \n",
       "299    2.0  2.0   7.0    2.0  \n",
       "301    2.0  1.0   3.0    1.0  \n",
       "\n",
       "[131 rows x 14 columns]"
      ]
     },
     "execution_count": 47,
     "metadata": {},
     "output_type": "execute_result"
    }
   ],
   "source": [
    "heart_disease_df"
   ]
  },
  {
   "cell_type": "markdown",
   "id": "cd667125",
   "metadata": {},
   "source": [
    "#### 6. Continue from question 3. Print the average cholesterol level for different number of blocked blood vessels across gender. Please report the pattern found in the result, if any."
   ]
  },
  {
   "cell_type": "code",
   "execution_count": 48,
   "id": "6519c579",
   "metadata": {},
   "outputs": [
    {
     "name": "stdout",
     "output_type": "stream",
     "text": [
      "Average cholesterol level for different number of blocked blood vessels across gender: \n",
      "\n",
      " ca   sex\n",
      "0.0  F      255.953125\n",
      "     M      235.851852\n",
      "1.0  F      271.785714\n",
      "     M      241.312500\n",
      "2.0  F      275.454545\n",
      "     M      244.208333\n",
      "3.0  F      272.500000\n",
      "     M      264.866667\n",
      "Name: chol, dtype: float64\n"
     ]
    }
   ],
   "source": [
    "print (\"Average cholesterol level for different \"\n",
    "       \"number of blocked blood vessels across gender: \\n\\n\", df.groupby(['ca', 'sex'])['chol'].mean())"
   ]
  },
  {
   "cell_type": "code",
   "execution_count": 49,
   "id": "be50e77e",
   "metadata": {},
   "outputs": [
    {
     "data": {
      "text/html": [
       "<div>\n",
       "<style scoped>\n",
       "    .dataframe tbody tr th:only-of-type {\n",
       "        vertical-align: middle;\n",
       "    }\n",
       "\n",
       "    .dataframe tbody tr th {\n",
       "        vertical-align: top;\n",
       "    }\n",
       "\n",
       "    .dataframe thead th {\n",
       "        text-align: right;\n",
       "    }\n",
       "</style>\n",
       "<table border=\"1\" class=\"dataframe\">\n",
       "  <thead>\n",
       "    <tr style=\"text-align: right;\">\n",
       "      <th></th>\n",
       "      <th>age</th>\n",
       "      <th>trestbps</th>\n",
       "      <th>chol</th>\n",
       "      <th>restecg</th>\n",
       "      <th>thalach</th>\n",
       "      <th>exang</th>\n",
       "      <th>oldpeak</th>\n",
       "      <th>slope</th>\n",
       "      <th>ca</th>\n",
       "      <th>thal</th>\n",
       "      <th>state</th>\n",
       "    </tr>\n",
       "  </thead>\n",
       "  <tbody>\n",
       "    <tr>\n",
       "      <th>count</th>\n",
       "      <td>288.000000</td>\n",
       "      <td>288.000000</td>\n",
       "      <td>288.000000</td>\n",
       "      <td>288.000000</td>\n",
       "      <td>288.000000</td>\n",
       "      <td>288.000000</td>\n",
       "      <td>288.000000</td>\n",
       "      <td>288.000000</td>\n",
       "      <td>288.00000</td>\n",
       "      <td>288.000000</td>\n",
       "      <td>288.000000</td>\n",
       "    </tr>\n",
       "    <tr>\n",
       "      <th>mean</th>\n",
       "      <td>54.524306</td>\n",
       "      <td>131.291667</td>\n",
       "      <td>247.204861</td>\n",
       "      <td>1.006944</td>\n",
       "      <td>149.013889</td>\n",
       "      <td>0.319444</td>\n",
       "      <td>1.038889</td>\n",
       "      <td>1.590278</td>\n",
       "      <td>0.65625</td>\n",
       "      <td>4.659722</td>\n",
       "      <td>0.923611</td>\n",
       "    </tr>\n",
       "    <tr>\n",
       "      <th>std</th>\n",
       "      <td>8.925130</td>\n",
       "      <td>17.425551</td>\n",
       "      <td>52.405578</td>\n",
       "      <td>0.994735</td>\n",
       "      <td>23.668143</td>\n",
       "      <td>0.467073</td>\n",
       "      <td>1.166496</td>\n",
       "      <td>0.612451</td>\n",
       "      <td>0.93139</td>\n",
       "      <td>1.968969</td>\n",
       "      <td>1.224488</td>\n",
       "    </tr>\n",
       "    <tr>\n",
       "      <th>min</th>\n",
       "      <td>34.000000</td>\n",
       "      <td>94.000000</td>\n",
       "      <td>126.000000</td>\n",
       "      <td>0.000000</td>\n",
       "      <td>71.000000</td>\n",
       "      <td>0.000000</td>\n",
       "      <td>0.000000</td>\n",
       "      <td>1.000000</td>\n",
       "      <td>0.00000</td>\n",
       "      <td>0.000000</td>\n",
       "      <td>0.000000</td>\n",
       "    </tr>\n",
       "    <tr>\n",
       "      <th>25%</th>\n",
       "      <td>48.000000</td>\n",
       "      <td>120.000000</td>\n",
       "      <td>211.750000</td>\n",
       "      <td>0.000000</td>\n",
       "      <td>133.750000</td>\n",
       "      <td>0.000000</td>\n",
       "      <td>0.000000</td>\n",
       "      <td>1.000000</td>\n",
       "      <td>0.00000</td>\n",
       "      <td>3.000000</td>\n",
       "      <td>0.000000</td>\n",
       "    </tr>\n",
       "    <tr>\n",
       "      <th>50%</th>\n",
       "      <td>56.000000</td>\n",
       "      <td>130.000000</td>\n",
       "      <td>242.500000</td>\n",
       "      <td>1.000000</td>\n",
       "      <td>152.000000</td>\n",
       "      <td>0.000000</td>\n",
       "      <td>0.750000</td>\n",
       "      <td>2.000000</td>\n",
       "      <td>0.00000</td>\n",
       "      <td>3.000000</td>\n",
       "      <td>0.000000</td>\n",
       "    </tr>\n",
       "    <tr>\n",
       "      <th>75%</th>\n",
       "      <td>61.000000</td>\n",
       "      <td>140.000000</td>\n",
       "      <td>276.250000</td>\n",
       "      <td>2.000000</td>\n",
       "      <td>165.250000</td>\n",
       "      <td>1.000000</td>\n",
       "      <td>1.600000</td>\n",
       "      <td>2.000000</td>\n",
       "      <td>1.00000</td>\n",
       "      <td>7.000000</td>\n",
       "      <td>2.000000</td>\n",
       "    </tr>\n",
       "    <tr>\n",
       "      <th>max</th>\n",
       "      <td>77.000000</td>\n",
       "      <td>200.000000</td>\n",
       "      <td>564.000000</td>\n",
       "      <td>2.000000</td>\n",
       "      <td>195.000000</td>\n",
       "      <td>1.000000</td>\n",
       "      <td>6.200000</td>\n",
       "      <td>3.000000</td>\n",
       "      <td>3.00000</td>\n",
       "      <td>7.000000</td>\n",
       "      <td>4.000000</td>\n",
       "    </tr>\n",
       "  </tbody>\n",
       "</table>\n",
       "</div>"
      ],
      "text/plain": [
       "              age    trestbps        chol     restecg     thalach       exang  \\\n",
       "count  288.000000  288.000000  288.000000  288.000000  288.000000  288.000000   \n",
       "mean    54.524306  131.291667  247.204861    1.006944  149.013889    0.319444   \n",
       "std      8.925130   17.425551   52.405578    0.994735   23.668143    0.467073   \n",
       "min     34.000000   94.000000  126.000000    0.000000   71.000000    0.000000   \n",
       "25%     48.000000  120.000000  211.750000    0.000000  133.750000    0.000000   \n",
       "50%     56.000000  130.000000  242.500000    1.000000  152.000000    0.000000   \n",
       "75%     61.000000  140.000000  276.250000    2.000000  165.250000    1.000000   \n",
       "max     77.000000  200.000000  564.000000    2.000000  195.000000    1.000000   \n",
       "\n",
       "          oldpeak       slope         ca        thal       state  \n",
       "count  288.000000  288.000000  288.00000  288.000000  288.000000  \n",
       "mean     1.038889    1.590278    0.65625    4.659722    0.923611  \n",
       "std      1.166496    0.612451    0.93139    1.968969    1.224488  \n",
       "min      0.000000    1.000000    0.00000    0.000000    0.000000  \n",
       "25%      0.000000    1.000000    0.00000    3.000000    0.000000  \n",
       "50%      0.750000    2.000000    0.00000    3.000000    0.000000  \n",
       "75%      1.600000    2.000000    1.00000    7.000000    2.000000  \n",
       "max      6.200000    3.000000    3.00000    7.000000    4.000000  "
      ]
     },
     "execution_count": 49,
     "metadata": {},
     "output_type": "execute_result"
    }
   ],
   "source": [
    "df.describe()"
   ]
  },
  {
   "cell_type": "markdown",
   "id": "bf8273cb",
   "metadata": {},
   "source": [
    "#### 7. Print the percentage of patients at risk of heart disease having abnormality in both ECG and blood sugar with asymptomatic chest pain."
   ]
  },
  {
   "cell_type": "code",
   "execution_count": 50,
   "id": "48ae218f",
   "metadata": {},
   "outputs": [
    {
     "name": "stdout",
     "output_type": "stream",
     "text": [
      "num_patients_heart_disease:  131\n",
      "num_patients_heart_disease with abnormality:  11\n",
      "Percentage of patients at risk of heart disease having abnormality in both ECG and blood sugar with asymptomatic chest pain:  8.396946564885496\n"
     ]
    }
   ],
   "source": [
    "num_patients_heart_disease = len(df.loc[df['state'] != 0])\n",
    "print (\"num_patients_heart_disease: \", num_patients_heart_disease)\n",
    "num_patients_abnormality = len(df.loc[(df['restecg'] != 0) & (df['fbs'] == 'yes')\n",
    "                           & (df['cp'] == 'asp') & (df['state'] != 0)])\n",
    "print (\"num_patients_heart_disease with abnormality: \", num_patients_abnormality)\n",
    "percentage_patients_abnormality = (num_patients_abnormality/num_patients_heart_disease) * 100\n",
    "print (\"Percentage of patients \"\n",
    "       \"at risk of heart disease having \"\n",
    "       \"abnormality in both ECG and blood sugar with asymptomatic chest pain: \", percentage_patients_abnormality)"
   ]
  },
  {
   "cell_type": "markdown",
   "id": "545d5f29",
   "metadata": {},
   "source": [
    "#### 8. Calculate and print the average blood pressure of all observations with non-flat ST slopes of ECG."
   ]
  },
  {
   "cell_type": "code",
   "execution_count": 51,
   "id": "a226c3ad",
   "metadata": {},
   "outputs": [
    {
     "name": "stdout",
     "output_type": "stream",
     "text": [
      "Average blood pressure of all observations with non-flat ST slopes of ECG:  130.94871794871796\n"
     ]
    }
   ],
   "source": [
    "print (\"Average blood pressure of all observations \"\n",
    "       \"with non-flat ST slopes of ECG: \", df.loc[df['slope'] != 2]['trestbps'].mean())"
   ]
  },
  {
   "cell_type": "markdown",
   "id": "ea039972",
   "metadata": {},
   "source": [
    "#### 9. Create and print a dataframe of the heart rate, blood pressure and cholesterol levels for different age groups (based on 10 years interval)."
   ]
  },
  {
   "cell_type": "code",
   "execution_count": 52,
   "id": "3a834bf2",
   "metadata": {},
   "outputs": [
    {
     "name": "stdout",
     "output_type": "stream",
     "text": [
      "Dataframe of the heart rate, blood pressure and cholesterol levels for different age groups (based on 10 years interval): \n",
      "\n",
      "   age_group     thalach    trestbps        chol\n",
      "0  (30, 40]  167.062500  125.250000  218.187500\n",
      "1  (40, 50]  158.726027  124.082192  237.465753\n",
      "2  (50, 60]  147.896000  133.752000  249.176000\n",
      "3  (60, 70]  137.544118  136.235294  260.823529\n",
      "4  (70, 80]  136.000000  127.833333  247.666667\n"
     ]
    }
   ],
   "source": [
    "age_bins = []\n",
    "age_interval = 10\n",
    "#taking only the age groups present in the dataset\n",
    "for group in range((int((df[\"age\"].min()-age_interval)/age_interval)+1)*age_interval, \n",
    "                   (int((df[\"age\"].max()+age_interval)/age_interval)+1)*age_interval, age_interval):\n",
    "    age_bins.append(group)\n",
    "\n",
    "'''\n",
    "#This was when I considered all data instead of mean\n",
    "df_age = df.filter([\"thalach\", \"trestbps\", \"chol\"], axis = 1)\n",
    "df_age[\"ages\"] = pd.cut(x=df['age'], bins=age_bins)    \n",
    "'''\n",
    "\n",
    "df_age = df.groupby([pd.cut(df[\"age\"], age_bins)])[[\"thalach\", \"trestbps\", \"chol\"]].mean().reset_index()\n",
    "#renaming age as age_group to avoid column name confusion\n",
    "df_age.rename(columns={\"age\": \"age_group\"}, inplace=True)\n",
    "print (\"Dataframe of the heart rate, blood pressure and cholesterol \"\n",
    "       \"levels for different age groups (based on 10 years interval): \\n\\n\", df_age)\n"
   ]
  },
  {
   "cell_type": "markdown",
   "id": "151112db",
   "metadata": {},
   "source": [
    "#### 10. Continue from question 3. Find the average cholesterol level of across gender for each age group. Please explain the results."
   ]
  },
  {
   "cell_type": "code",
   "execution_count": 53,
   "id": "4aed2354",
   "metadata": {},
   "outputs": [
    {
     "name": "stdout",
     "output_type": "stream",
     "text": [
      "Average cholesterol level of across gender for each age group: \n",
      "\n",
      " sex  age     \n",
      "F    (30, 40]    205.400000\n",
      "     (40, 50]    235.136364\n",
      "     (50, 60]    271.027778\n",
      "     (60, 70]    286.680000\n",
      "     (70, 80]    236.400000\n",
      "M    (30, 40]    224.000000\n",
      "     (40, 50]    238.470588\n",
      "     (50, 60]    240.337079\n",
      "     (60, 70]    245.790698\n",
      "     (70, 80]    304.000000\n",
      "Name: chol, dtype: float64\n"
     ]
    }
   ],
   "source": [
    "print(\"Average cholesterol level of across gender for each age group: \\n\\n\", \n",
    "      df.groupby(['sex', pd.cut(df[\"age\"], age_bins)])[\"chol\"].mean())"
   ]
  },
  {
   "cell_type": "markdown",
   "id": "bd298e39",
   "metadata": {},
   "source": [
    "#### 11. Continue from question 3. Draw two scatter plots of cholesterol level, one against blood pressure and another against heart rate. Draw them in two subplots of the same plot."
   ]
  },
  {
   "cell_type": "code",
   "execution_count": 54,
   "id": "86623521",
   "metadata": {},
   "outputs": [
    {
     "data": {
      "image/png": "[encoded data removed]",
      "text/plain": [
       "<Figure size 432x288 with 2 Axes>"
      ]
     },
     "metadata": {
      "needs_background": "light"
     },
     "output_type": "display_data"
    }
   ],
   "source": [
    "import matplotlib.pyplot as plt\n",
    "fig, (plot1, plot2) = plt.subplots(1,2, sharey=True)\n",
    "fig.suptitle('Scatter plots of cholesterol level')\n",
    "plot1.set(xlabel='blood pressure', ylabel='chol')\n",
    "plot2.set(xlabel='heart rate', ylabel='chol')\n",
    "plot1.scatter(df['trestbps'], df['chol'])\n",
    "plot2.scatter(df['thalach'], df['chol'])\n",
    "plt.show()"
   ]
  },
  {
   "cell_type": "markdown",
   "id": "8dee1323",
   "metadata": {},
   "source": [
    "#### 12. Visualize the cholesterol level against number of blood vessel blocked for male and female using line plot. Explain the graph base on your observation."
   ]
  },
  {
   "cell_type": "code",
   "execution_count": 55,
   "id": "942b29d6",
   "metadata": {},
   "outputs": [
    {
     "data": {
      "image/png": "[encoded data removed]",
      "text/plain": [
       "<Figure size 432x288 with 1 Axes>"
      ]
     },
     "metadata": {
      "needs_background": "light"
     },
     "output_type": "display_data"
    },
    {
     "data": {
      "image/png": "[encoded data removed]",
      "text/plain": [
       "<Figure size 432x288 with 1 Axes>"
      ]
     },
     "metadata": {
      "needs_background": "light"
     },
     "output_type": "display_data"
    }
   ],
   "source": [
    "df.loc[df['sex'] == 'M'].groupby(['ca'])[\"chol\"].mean().plot.line(xlabel = \"cholestrol\", label=\"Male chol mean\", xticks = [0,1,2,3])\n",
    "df.loc[df['sex'] == 'F'].groupby(['ca'])[\"chol\"].mean().plot.line(xlabel = \"blocked blood vessesls\", ylabel = \"cholestrol\", label=\"Female chol mean\", xticks = [0,1,2,3])\n",
    "plt.legend()\n",
    "plt.show()\n",
    "df.loc[df['sex'] == 'M'].groupby(['ca'])[\"chol\"].median().plot.line(label=\"Male chol median\", xticks = [0,1,2,3])\n",
    "df.loc[df['sex'] == 'F'].groupby(['ca'])[\"chol\"].median().plot.line(xlabel = \"blocked blood vessesls\", ylabel = \"cholestrol\", label=\"Female chol median\", xticks = [0,1,2,3])\n",
    "plt.legend()\n",
    "plt.show()"
   ]
  },
  {
   "cell_type": "markdown",
   "id": "607b2e70",
   "metadata": {},
   "source": [
    "#### 13. Draw a group bar diagram of heart rate, blood pressure and total number of patients, based on age groups defined in question 9. Explain your observation from the graph."
   ]
  },
  {
   "cell_type": "code",
   "execution_count": 56,
   "id": "ccb7fba5",
   "metadata": {},
   "outputs": [
    {
     "data": {
      "image/png": "[encoded data removed]",
      "text/plain": [
       "<Figure size 432x288 with 1 Axes>"
      ]
     },
     "metadata": {
      "needs_background": "light"
     },
     "output_type": "display_data"
    }
   ],
   "source": [
    "df_avg = df_age[[\"thalach\", \"trestbps\", \"age_group\"]]\n",
    "df_avg[\"count\"] = df.groupby(pd.cut(df[\"age\"], age_bins)).size().to_list()\n",
    "df_avg.plot.bar(x=\"age_group\", legend=True)\n",
    "plt.show()\n"
   ]
  },
  {
   "cell_type": "markdown",
   "id": "74b0f4d7",
   "metadata": {},
   "source": [
    "#### 14. Continue from question 9. Add two more columns named [‘num_male_patients’, ‘num_female_patients’] and having values of the number of male and female patients affected by heart disease in each age group respectively. Save the combined dataset to a csv file named ‘age_group_stat.csv’ in the same directory of your code file."
   ]
  },
  {
   "cell_type": "code",
   "execution_count": 57,
   "id": "bd515a34",
   "metadata": {},
   "outputs": [],
   "source": [
    "df_male = df.loc[(df[\"sex\"]==\"M\") & (df[\"state\"]!=0)]\n",
    "df_age['num_male_patients'] = df_male.groupby(pd.cut(df_male[\"age\"], age_bins)).size().tolist()\n",
    "\n",
    "df_female = df.loc[(df[\"sex\"]==\"F\") & (df[\"state\"]!=0)]\n",
    "df_age['num_female_patients'] = df_female.groupby(pd.cut(df_female[\"age\"], age_bins)).size().tolist()\n",
    "df_age.to_csv('age_group_stat.csv', index = False)"
   ]
  },
  {
   "cell_type": "markdown",
   "id": "a5d299df",
   "metadata": {},
   "source": [
    "#### 15. Continue from question 1. Replace all the rows where the ‘state’ is null with its immediate previous row. Finally, display and save the resultant dataset to a csv file named ‘clean_data.csv’ in the same directory of your code file"
   ]
  },
  {
   "cell_type": "code",
   "execution_count": 58,
   "id": "052ee9d0",
   "metadata": {},
   "outputs": [
    {
     "name": "stdout",
     "output_type": "stream",
     "text": [
      "      age sex   cp  trestbps   chol  fbs  restecg  thalach  exang  oldpeak  \\\n",
      "0    63.0   M  tap     145.0  233.0  yes      2.0    150.0    0.0      2.3   \n",
      "1    67.0   M  asp     160.0  286.0   no      2.0    108.0    1.0      1.5   \n",
      "2    67.0   M  asp     120.0  229.0   no      2.0    129.0    1.0      2.6   \n",
      "3    37.0   M  nap     130.0  250.0   no      0.0    187.0    0.0      3.5   \n",
      "4    41.0   F  aap     130.0  204.0   no      2.0    172.0    0.0      1.4   \n",
      "..    ...  ..  ...       ...    ...  ...      ...      ...    ...      ...   \n",
      "298  45.0   M  tap     110.0  264.0   no      0.0    132.0    0.0      1.2   \n",
      "299  68.0   M  asp     144.0  193.0  yes      0.0    141.0    0.0      3.4   \n",
      "300  68.0   M  asp     144.0  193.0  yes      0.0    141.0    0.0      3.4   \n",
      "301  57.0   F  aap     130.0  236.0   no      2.0    174.0    0.0      0.0   \n",
      "302  38.0   M  nap     138.0  175.0   no      0.0    173.0    0.0      0.0   \n",
      "\n",
      "     slope   ca  thal  state  \n",
      "0      3.0  0.0   6.0    0.0  \n",
      "1      2.0  3.0   3.0    2.0  \n",
      "2      2.0  2.0   7.0    1.0  \n",
      "3      3.0  0.0   3.0    0.0  \n",
      "4      1.0  0.0   3.0    0.0  \n",
      "..     ...  ...   ...    ...  \n",
      "298    2.0  0.0   7.0    1.0  \n",
      "299    2.0  2.0   7.0    2.0  \n",
      "300    2.0  2.0   7.0    2.0  \n",
      "301    2.0  1.0   3.0    1.0  \n",
      "302    1.0  NaN   3.0    0.0  \n",
      "\n",
      "[303 rows x 14 columns]\n"
     ]
    }
   ],
   "source": [
    "df = pd.read_csv(\"A1_heart_disease_dataset.csv\")\n",
    "null_list = df[\"state\"].isnull().to_list()\n",
    "for bItr in range(len(null_list)):\n",
    "    if (null_list[bItr] == True):\n",
    "        df.iloc[bItr] = df.iloc[bItr - 1]\n",
    "print(df)\n",
    "df.to_csv(\"clean_data.csv\")"
   ]
  },
  {
   "cell_type": "code",
   "execution_count": null,
   "id": "b5d22ef2",
   "metadata": {},
   "outputs": [],
   "source": []
  }
 ],
 "metadata": {
  "kernelspec": {
   "display_name": "Python 3",
   "language": "python",
   "name": "python3"
  },
  "language_info": {
   "codemirror_mode": {
    "name": "ipython",
    "version": 3
   },
   "file_extension": ".py",
   "mimetype": "text/x-python",
   "name": "python",
   "nbconvert_exporter": "python",
   "pygments_lexer": "ipython3",
   "version": "3.8.8"
  }
 },
 "nbformat": 4,
 "nbformat_minor": 5
}
