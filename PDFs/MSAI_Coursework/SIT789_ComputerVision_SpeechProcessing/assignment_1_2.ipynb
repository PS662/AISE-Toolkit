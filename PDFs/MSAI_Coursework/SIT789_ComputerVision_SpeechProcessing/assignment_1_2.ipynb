{
 "cells": [
  {
   "cell_type": "code",
   "execution_count": 1,
   "id": "36f069ae",
   "metadata": {},
   "outputs": [],
   "source": [
    "import numpy as np\n",
    "import cv2 as cv\n",
    "img = cv.imread('img1.jpg')"
   ]
  },
  {
   "cell_type": "code",
   "execution_count": 2,
   "id": "5c44cd1d",
   "metadata": {},
   "outputs": [],
   "source": [
    "img_hsv = cv.cvtColor(img, cv.COLOR_BGR2HSV)\n",
    "cv.imwrite('img_hsv.jpg', img_hsv)\n",
    "\n",
    "cv.imshow('image in HSV', img_hsv)\n",
    "cv.waitKey(0)\n",
    "cv.destroyAllWindows()"
   ]
  },
  {
   "cell_type": "code",
   "execution_count": 3,
   "id": "5b342342",
   "metadata": {},
   "outputs": [],
   "source": [
    "img_gray = cv.cvtColor(img, cv.COLOR_BGR2GRAY)\n",
    "cv.imwrite('img_gray.jpg', img_gray)\n",
    "\n",
    "cv.imshow('image in gray', img_gray)\n",
    "cv.waitKey(0)\n",
    "cv.destroyAllWindows()"
   ]
  },
  {
   "cell_type": "markdown",
   "id": "4a0dda1a",
   "metadata": {},
   "source": [
    "#### Geometric Transforms"
   ]
  },
  {
   "cell_type": "code",
   "execution_count": 4,
   "id": "a06ea2a1",
   "metadata": {},
   "outputs": [],
   "source": [
    "height, width = img.shape[:2]\n",
    "h_scale = 0.5\n",
    "v_scale = 0.4\n",
    "new_height = (int) (height * v_scale)\n",
    "new_width = (int) (width * h_scale)\n",
    "img_resize = cv.resize(img, (new_width, new_height), interpolation = cv.INTER_LINEAR)\n",
    "cv.imwrite('img_resize.jpg', img_resize)\n",
    "\n",
    "cv.imshow('resize', img_resize)\n",
    "cv.waitKey(0)\n",
    "cv.destroyAllWindows()"
   ]
  },
  {
   "cell_type": "code",
   "execution_count": 5,
   "id": "683d3029",
   "metadata": {},
   "outputs": [],
   "source": [
    "t_x = 100\n",
    "t_y = 200"
   ]
  },
  {
   "cell_type": "code",
   "execution_count": 6,
   "id": "c2aa720e",
   "metadata": {},
   "outputs": [],
   "source": [
    "M = np.float32([[1, 0, t_x], [0, 1, t_y]])"
   ]
  },
  {
   "cell_type": "code",
   "execution_count": 7,
   "id": "99314a42",
   "metadata": {},
   "outputs": [],
   "source": [
    "height, width = img.shape[:2]\n",
    "img_translation = cv.warpAffine(img, M, (width, height))\n",
    "cv.imwrite('img_translation.jpg', img_translation)\n",
    "\n",
    "cv.imshow('translation', img_translation)\n",
    "cv.waitKey(0)\n",
    "cv.destroyAllWindows()"
   ]
  },
  {
   "cell_type": "code",
   "execution_count": 8,
   "id": "449c003b",
   "metadata": {},
   "outputs": [],
   "source": [
    "theta = 45"
   ]
  },
  {
   "cell_type": "code",
   "execution_count": 9,
   "id": "7d721155",
   "metadata": {},
   "outputs": [
    {
     "name": "stdout",
     "output_type": "stream",
     "text": [
      "(959.5, 599.5)\n"
     ]
    }
   ],
   "source": [
    "c_x = (width - 1) / 2.0 \n",
    "c_y = (height - 1) / 2.0\n",
    "c = (c_x, c_y)\n",
    "print(c)"
   ]
  },
  {
   "cell_type": "code",
   "execution_count": 10,
   "id": "a0bc9969",
   "metadata": {},
   "outputs": [],
   "source": [
    "s = 1\n",
    "M = cv.getRotationMatrix2D(c, theta, s)"
   ]
  },
  {
   "cell_type": "code",
   "execution_count": 11,
   "id": "ee9c4637",
   "metadata": {},
   "outputs": [],
   "source": [
    "img_rotation = cv.warpAffine(img, M, (width, height))\n",
    "cv.imwrite('img_rotation.jpg', img_rotation)\n",
    "cv.imshow('rotation', img_rotation)\n",
    "cv.waitKey(0)\n",
    "cv.destroyAllWindows()"
   ]
  },
  {
   "cell_type": "code",
   "execution_count": 12,
   "id": "862489ef",
   "metadata": {},
   "outputs": [],
   "source": [
    "m00 = 0.38\n",
    "m01 = 0.27\n",
    "m02 = -47.18\n",
    "m10 = -0.14\n",
    "m11 = 0.75\n",
    "m12 = 564.32\n",
    "M = np.float32([[m00, m01, m02], [m10, m11, m12]])"
   ]
  },
  {
   "cell_type": "code",
   "execution_count": 13,
   "id": "2d3c8b6f",
   "metadata": {},
   "outputs": [],
   "source": [
    "height, width = img.shape[:2]\n",
    "img_affine = cv.warpAffine(img, M, (width, height))\n",
    "cv.imwrite('img_affine.jpg', img_affine)\n",
    "cv.imshow('affine', img_affine)\n",
    "cv.waitKey(0)\n",
    "cv.destroyAllWindows()"
   ]
  },
  {
   "cell_type": "code",
   "execution_count": null,
   "id": "d9ff6d7b",
   "metadata": {},
   "outputs": [],
   "source": []
  }
 ],
 "metadata": {
  "kernelspec": {
   "display_name": "Python 3",
   "language": "python",
   "name": "python3"
  },
  "language_info": {
   "codemirror_mode": {
    "name": "ipython",
    "version": 3
   },
   "file_extension": ".py",
   "mimetype": "text/x-python",
   "name": "python",
   "nbconvert_exporter": "python",
   "pygments_lexer": "ipython3",
   "version": "3.8.8"
  }
 },
 "nbformat": 4,
 "nbformat_minor": 5
}
