{
 "cells": [
  {
   "cell_type": "code",
   "execution_count": 1,
   "id": "23d4b21f",
   "metadata": {},
   "outputs": [
    {
     "name": "stderr",
     "output_type": "stream",
     "text": [
      "<frozen importlib._bootstrap>:219: RuntimeWarning: scipy._lib.messagestream.MessageStream size changed, may indicate binary incompatibility. Expected 56 from C header, got 64 from PyObject\n",
      "C:\\Users\\singh\\anaconda3\\lib\\site-packages\\pydub\\utils.py:170: RuntimeWarning: Couldn't find ffmpeg or avconv - defaulting to ffmpeg, but may not work\n",
      "  warn(\"Couldn't find ffmpeg or avconv - defaulting to ffmpeg, but may not work\", RuntimeWarning)\n"
     ]
    }
   ],
   "source": [
    "import numpy as np\n",
    "import matplotlib.pyplot as plt\n",
    "import librosa\n",
    "import librosa.display\n",
    "import IPython.display as ipd\n",
    "from pydub import AudioSegment\n",
    "from pydub.utils import mediainfo\n",
    "\n",
    "import os\n",
    "from sklearn import svm\n",
    "from sklearn.ensemble import AdaBoostClassifier\n",
    "from sklearn.metrics import classification_report, confusion_matrix\n",
    "import pickle"
   ]
  },
  {
   "cell_type": "code",
   "execution_count": 2,
   "id": "e77944d8",
   "metadata": {},
   "outputs": [],
   "source": [
    "def mfcc_extraction(audio_filename, #.wav filename\n",
    "                    hop_duration, #hop_length in seconds, e.g., 0.015s (i.e., 15ms)\n",
    "                    num_mfcc, #number of mfcc features\n",
    "                    num_frames #number of frames\n",
    "                   ):\n",
    "    speech = AudioSegment.from_wav(audio_filename) #Read audio data from file\n",
    "    samples = speech.get_array_of_samples() #samples x(t)\n",
    "    sampling_rate = speech.frame_rate #sampling rate f - see slide 24 in week 7 lecture slides\n",
    "    mfcc = librosa.feature.mfcc(\n",
    "        np.float32(samples),\n",
    "        sr = sampling_rate,\n",
    "        hop_length = int(sampling_rate * hop_duration),\n",
    "        n_mfcc = num_mfcc)\n",
    "    mfcc_truncated = np.zeros((num_mfcc, num_frames), np.float32)\n",
    "    for i in range(min(num_frames, mfcc.shape[1])):\n",
    "        mfcc_truncated[:, i] = mfcc[:, i]\n",
    "    \n",
    "    #output is a vector including mfcc_truncated.shape[0] * mfcc_truncated.shape[1] elements\n",
    "    return np.reshape(mfcc_truncated.T, mfcc_truncated.shape[0] * mfcc_truncated.shape[1])"
   ]
  },
  {
   "cell_type": "code",
   "execution_count": 3,
   "id": "d5a9f7b1",
   "metadata": {},
   "outputs": [],
   "source": [
    "sub_bands = [[300, 627], [628, 1060], [1061, 1633], [1634, 2393], [2394, 3400]]\n",
    "n_freq = 16384 \n",
    "n_mel_freq = 3401\n",
    "win_duration = 0.030\n",
    "hop_duration = 0.015\n",
    "num_frames = 200\n",
    "window = 'hann'"
   ]
  },
  {
   "cell_type": "code",
   "execution_count": 4,
   "id": "e05f677e",
   "metadata": {},
   "outputs": [],
   "source": [
    "def SC_extraction(audio_filename):#250\n",
    "    speech = AudioSegment.from_wav(audio_filename)\n",
    "    samples = speech.get_array_of_samples()\n",
    "    sampling_rate = speech.frame_rate\n",
    "    \n",
    "    spec = librosa.feature.melspectrogram(np.float32(samples),\n",
    "                                         hop_length = int(sampling_rate * hop_duration),\n",
    "                                         n_fft = n_freq,\n",
    "                                         n_mels = n_mel_freq,\n",
    "                                         power = 2)\n",
    "    \n",
    "    spec_truncated = np.zeros((spec.shape[0], num_frames), np.float32)\n",
    "    for i in range (min(num_frames, spec.shape[1])):\n",
    "        spec_truncated[:,i] = spec[:,i]\n",
    "        \n",
    "    features = np.zeros((len(sub_bands), num_frames), np.float32)\n",
    "    for b in range(len(sub_bands)):\n",
    "        for f in range(num_frames):\n",
    "            s = 0.000001\n",
    "            for k in range(sub_bands[b][0], sub_bands[b][1] + 1):\n",
    "                features[b][f] += k * spec_truncated[k][f]\n",
    "                s += spec_truncated[k][f]\n",
    "            features[b][f] /= s\n",
    "            \n",
    "    return np.reshape(features.T, features.shape[0] * features.shape[1])\n",
    "    "
   ]
  },
  {
   "cell_type": "code",
   "execution_count": 5,
   "id": "e4388104",
   "metadata": {},
   "outputs": [],
   "source": [
    "def SBW_extraction(audio_filename):#251\n",
    "    speech = AudioSegment.from_wav(audio_filename)\n",
    "    samples = speech.get_array_of_samples()\n",
    "    sampling_rate = speech.frame_rate\n",
    "    \n",
    "    spec = librosa.feature.melspectrogram(np.float32(samples),\n",
    "                                         hop_length = int(sampling_rate * hop_duration),\n",
    "                                         n_fft = n_freq,\n",
    "                                         n_mels = n_mel_freq,\n",
    "                                         power = 2)\n",
    "    spec_truncated = np.zeros((spec.shape[0], num_frames), np.float32)\n",
    "    for i in range(min(num_frames, spec.shape[1])):\n",
    "        spec_truncated[:,i] = spec[:, i]\n",
    "        \n",
    "    features = np.zeros((len(sub_bands), num_frames), np.float32)\n",
    "    for b in range(len(sub_bands)):\n",
    "        for f in range(num_frames):\n",
    "            SC = 0\n",
    "            s = 0.000001\n",
    "            for k in range(sub_bands[b][0], sub_bands[b][1] + 1):\n",
    "                SC += k * spec_truncated[k][f]\n",
    "                s += spec_truncated[k][f]\n",
    "            SC /= s\n",
    "            for k in range(sub_bands[b][0], sub_bands[b][1] + 1):\n",
    "                features[b][f] += (k - SC) * (k - SC) * spec_truncated[k][f]\n",
    "            features[b][f] /= s\n",
    "            \n",
    "    return np.reshape(features.T, features.shape[0] * features.shape[1])"
   ]
  },
  {
   "cell_type": "code",
   "execution_count": 6,
   "id": "717ad93f",
   "metadata": {},
   "outputs": [],
   "source": [
    "def SBE_extraction(audio_filename):#252 ~60% SVM (c=0.1)\n",
    "    speech = AudioSegment.from_wav(audio_filename)\n",
    "    samples = speech.get_array_of_samples()\n",
    "    sampling_rate = speech.frame_rate\n",
    "    \n",
    "    spec = librosa.feature.melspectrogram(np.float32(samples),\n",
    "                                         hop_length = int(sampling_rate * hop_duration),\n",
    "                                         n_fft = n_freq,\n",
    "                                         n_mels = n_mel_freq,\n",
    "                                         power = 2)\n",
    "    spec_truncated = np.zeros((spec.shape[0], num_frames), np.float32)\n",
    "    for i in range(min(num_frames, spec.shape[1])):\n",
    "        spec_truncated[:,i] = spec[:, i]\n",
    "        \n",
    "    features = np.zeros((len(sub_bands), num_frames), np.float32)\n",
    "    for b in range(len(sub_bands)):\n",
    "        for f in range(num_frames):\n",
    "            for k in range(sub_bands[b][0], sub_bands[b][1] + 1):\n",
    "                features[b][f] += spec_truncated[k][f]\n",
    "    \n",
    "    for f in range(num_frames):\n",
    "        s = np.sum(features[:,f]) + 0.000001\n",
    "        features[:, f] /= s\n",
    "\n",
    "    return np.reshape(features.T, features.shape[0] * features.shape[1])"
   ]
  },
  {
   "cell_type": "code",
   "execution_count": 7,
   "id": "5c7c1f8e",
   "metadata": {},
   "outputs": [],
   "source": [
    "def SFM_extraction(audio_filename):#253\n",
    "    speech = AudioSegment.from_wav(audio_filename)\n",
    "    samples = speech.get_array_of_samples()\n",
    "    sampling_rate = speech.frame_rate\n",
    "    \n",
    "    spec = librosa.feature.melspectrogram(np.float32(samples),\n",
    "                                         hop_length = int(sampling_rate * hop_duration),\n",
    "                                         n_fft = n_freq,\n",
    "                                         n_mels = n_mel_freq,\n",
    "                                         power = 2)\n",
    "    spec_truncated = np.zeros((spec.shape[0], num_frames), np.float32)\n",
    "    for i in range(min(num_frames, spec.shape[1])):\n",
    "        spec_truncated[:,i] = spec[:, i]\n",
    "        \n",
    "    features = np.zeros((len(sub_bands), num_frames), np.float32)\n",
    "    for b in range(len(sub_bands)):\n",
    "        p = 1 / (sub_bands[b][1] - sub_bands[b][0] + 1)\n",
    "        for f in range(num_frames):\n",
    "            s = 0.000001\n",
    "            for k in range(sub_bands[b][0], sub_bands[b][1] + 1):\n",
    "                features[b][f] *= np.power(spec_truncated[k][f], p)\n",
    "                s += spec_truncated[k][f]\n",
    "            features[b][f] /= (p * s)\n",
    "\n",
    "    return np.reshape(features.T, features.shape[0] * features.shape[1])"
   ]
  },
  {
   "cell_type": "code",
   "execution_count": 8,
   "id": "811e9764",
   "metadata": {},
   "outputs": [],
   "source": [
    "def SCF_extraction(audio_filename):#254\n",
    "    speech = AudioSegment.from_wav(audio_filename)\n",
    "    samples = speech.get_array_of_samples()\n",
    "    sampling_rate = speech.frame_rate\n",
    "    \n",
    "    spec = librosa.feature.melspectrogram(np.float32(samples),\n",
    "                                         hop_length = int(sampling_rate * hop_duration),\n",
    "                                         n_fft = n_freq,\n",
    "                                         n_mels = n_mel_freq,\n",
    "                                         power = 2)\n",
    "    spec_truncated = np.zeros((spec.shape[0], num_frames), np.float32)\n",
    "    for i in range(min(num_frames, spec.shape[1])):\n",
    "        spec_truncated[:,i] = spec[:, i]\n",
    "\n",
    "    features = np.zeros((len(sub_bands), num_frames), np.float32)\n",
    "    for b in range(len(sub_bands)):\n",
    "        p = 1 / (sub_bands[b][1] - sub_bands[b][0] + 1)\n",
    "        for f in range(num_frames):\n",
    "            s = 0.000001\n",
    "            for k in range(sub_bands[b][0], sub_bands[b][1] + 1):\n",
    "                s += spec_truncated[k][f]\n",
    "            features[b][f] = np.max(spec_truncated[sub_bands[b][0]:sub_bands[b][1] + 1][f]) / (p * s)\n",
    "    return np.reshape(features.T, features.shape[0] * features.shape[1])"
   ]
  },
  {
   "cell_type": "code",
   "execution_count": 9,
   "id": "d17899d2",
   "metadata": {},
   "outputs": [],
   "source": [
    "def RE_extraction(audio_filename, alpha = 3):#255\n",
    "    speech = AudioSegment.from_wav(audio_filename)\n",
    "    samples = speech.get_array_of_samples()\n",
    "    sampling_rate = speech.frame_rate\n",
    "    \n",
    "    spec = librosa.feature.melspectrogram(np.float32(samples),\n",
    "                                         hop_length = int(sampling_rate * hop_duration),\n",
    "                                         n_fft = n_freq,\n",
    "                                         n_mels = n_mel_freq,\n",
    "                                         power = 1)\n",
    "    \n",
    "    spec_truncated = np.zeros((spec.shape[0], num_frames), np.float32)\n",
    "    for i in range(min(num_frames, spec.shape[1])):\n",
    "        spec_truncated[:,i] = abs(spec[:, i])\n",
    "        \n",
    "    features = np.zeros((len(sub_bands), num_frames), np.float32)\n",
    "    for b in range(len(sub_bands)):\n",
    "        for f in range(num_frames):\n",
    "            m = 0.000001 + np.sum(spec_truncated[sub_bands[b][0]:sub_bands[b][1] + 1][f])\n",
    "            s = 0.000001\n",
    "            for k in range(sub_bands[b][0], sub_bands[b][1] + 1):\n",
    "                s += np.power(spec_truncated[k][f] / m, alpha)\n",
    "            features[b][f] = 1 / (1 - alpha) * np.log2(s)\n",
    "    return np.reshape(features.T, features.shape[0] * features.shape[1])"
   ]
  },
  {
   "cell_type": "code",
   "execution_count": 10,
   "id": "2e92ca4d",
   "metadata": {},
   "outputs": [],
   "source": [
    "def SE_extraction(audio_filename):#255\n",
    "    speech = AudioSegment.from_wav(audio_filename)\n",
    "    samples = speech.get_array_of_samples()\n",
    "    sampling_rate = speech.frame_rate\n",
    "    \n",
    "    spec = librosa.feature.melspectrogram(np.float32(samples),\n",
    "                                         hop_length = int(sampling_rate * hop_duration),\n",
    "                                         n_fft = n_freq,\n",
    "                                         n_mels = n_mel_freq,\n",
    "                                         power = 1)\n",
    "    \n",
    "    spec_truncated = np.zeros((spec.shape[0], num_frames), np.float32)\n",
    "    for i in range(min(num_frames, spec.shape[1])):\n",
    "        spec_truncated[:,i] = abs(spec[:, i])\n",
    "        \n",
    "    features = np.zeros((len(sub_bands), num_frames), np.float32)\n",
    "    for b in range(len(sub_bands)):\n",
    "        for f in range(num_frames):\n",
    "            s = 0.000001 + np.sum(spec_truncated[sub_bands[b][0]:sub_bands[b][1] + 1][f])\n",
    "            for k in range(sub_bands[b][0], sub_bands[b][1] + 1):\n",
    "                ratio = 0.000001 + spec_truncated[k][f] / s\n",
    "                features[b][f] -= ratio * np.log2(ratio)\n",
    "                \n",
    "    return np.reshape(features.T, features.shape[0] * features.shape[1])"
   ]
  },
  {
   "cell_type": "code",
   "execution_count": 32,
   "id": "b71787af",
   "metadata": {},
   "outputs": [],
   "source": [
    "path = \"EmotionSpeech/\"\n",
    "emotions = ['Angry', 'Calm', 'Happy', 'Sad']\n",
    "\n",
    "training_file_names = []\n",
    "training_emotion_labels = []\n",
    "\n",
    "for i in range(0, len(emotions)):\n",
    "    sub_path = path + 'Train/' + emotions[i] + \"/\"\n",
    "    sub_file_names = [os.path.join(sub_path, f) for f in os.listdir(sub_path)]\n",
    "    sub_emotion_labels = [i] * len(sub_file_names)\n",
    "    training_file_names += sub_file_names\n",
    "    training_emotion_labels += sub_emotion_labels\n",
    "\n",
    "test_file_names = []\n",
    "test_emotion_labels = []\n",
    "for i in range(0, len(emotions)):\n",
    "    sub_path = path + 'Test/' + emotions[i] + \"/\"\n",
    "    sub_file_names = [os.path.join(sub_path, f) for f in os.listdir(sub_path)]\n",
    "    sub_emotion_labels = [i] * len(sub_file_names)\n",
    "    test_file_names += sub_file_names\n",
    "    test_emotion_labels += sub_emotion_labels"
   ]
  },
  {
   "cell_type": "code",
   "execution_count": 12,
   "id": "4700638d",
   "metadata": {},
   "outputs": [
    {
     "name": "stdout",
     "output_type": "stream",
     "text": [
      "1 : 128 : EmotionSpeech/Train/Angry/03-01-05-01-01-01-01.wav\n"
     ]
    },
    {
     "name": "stderr",
     "output_type": "stream",
     "text": [
      "C:\\Users\\singh\\AppData\\Local\\Temp\\ipykernel_7852\\3620632353.py:6: FutureWarning: Pass y=[0. 0. 0. ... 0. 0. 0.] as keyword args. From version 0.10 passing these as positional arguments will result in an error\n",
      "  spec = librosa.feature.melspectrogram(np.float32(samples),\n"
     ]
    },
    {
     "name": "stdout",
     "output_type": "stream",
     "text": [
      "2 : 128 : EmotionSpeech/Train/Angry/03-01-05-01-01-01-02.wav\n",
      "3 : 128 : EmotionSpeech/Train/Angry/03-01-05-01-01-01-03.wav\n"
     ]
    },
    {
     "name": "stderr",
     "output_type": "stream",
     "text": [
      "C:\\Users\\singh\\AppData\\Local\\Temp\\ipykernel_7852\\3620632353.py:6: FutureWarning: Pass y=[-3. -5.  0. ...  4.  4.  5.] as keyword args. From version 0.10 passing these as positional arguments will result in an error\n",
      "  spec = librosa.feature.melspectrogram(np.float32(samples),\n"
     ]
    },
    {
     "name": "stdout",
     "output_type": "stream",
     "text": [
      "4 : 128 : EmotionSpeech/Train/Angry/03-01-05-01-01-01-04.wav\n",
      "5 : 128 : EmotionSpeech/Train/Angry/03-01-05-01-01-02-01.wav\n"
     ]
    },
    {
     "name": "stderr",
     "output_type": "stream",
     "text": [
      "C:\\Users\\singh\\AppData\\Local\\Temp\\ipykernel_7852\\3620632353.py:6: FutureWarning: Pass y=[1. 0. 0. ... 0. 0. 0.] as keyword args. From version 0.10 passing these as positional arguments will result in an error\n",
      "  spec = librosa.feature.melspectrogram(np.float32(samples),\n"
     ]
    },
    {
     "name": "stdout",
     "output_type": "stream",
     "text": [
      "6 : 128 : EmotionSpeech/Train/Angry/03-01-05-01-01-02-02.wav\n"
     ]
    },
    {
     "name": "stderr",
     "output_type": "stream",
     "text": [
      "C:\\Users\\singh\\AppData\\Local\\Temp\\ipykernel_7852\\3620632353.py:6: FutureWarning: Pass y=[0. 0. 0. ... 0. 0. 1.] as keyword args. From version 0.10 passing these as positional arguments will result in an error\n",
      "  spec = librosa.feature.melspectrogram(np.float32(samples),\n"
     ]
    },
    {
     "name": "stdout",
     "output_type": "stream",
     "text": [
      "7 : 128 : EmotionSpeech/Train/Angry/03-01-05-01-01-02-03.wav\n"
     ]
    },
    {
     "name": "stderr",
     "output_type": "stream",
     "text": [
      "C:\\Users\\singh\\AppData\\Local\\Temp\\ipykernel_7852\\3620632353.py:6: FutureWarning: Pass y=[ 0.  0.  0. ... -1.  0.  0.] as keyword args. From version 0.10 passing these as positional arguments will result in an error\n",
      "  spec = librosa.feature.melspectrogram(np.float32(samples),\n"
     ]
    },
    {
     "name": "stdout",
     "output_type": "stream",
     "text": [
      "8 : 128 : EmotionSpeech/Train/Angry/03-01-05-01-01-02-04.wav\n",
      "9 : 128 : EmotionSpeech/Train/Angry/03-01-05-01-02-01-01.wav\n"
     ]
    },
    {
     "name": "stderr",
     "output_type": "stream",
     "text": [
      "C:\\Users\\singh\\AppData\\Local\\Temp\\ipykernel_7852\\3620632353.py:6: FutureWarning: Pass y=[ 0.  0. -1. ...  0.  0.  0.] as keyword args. From version 0.10 passing these as positional arguments will result in an error\n",
      "  spec = librosa.feature.melspectrogram(np.float32(samples),\n"
     ]
    },
    {
     "name": "stdout",
     "output_type": "stream",
     "text": [
      "10 : 128 : EmotionSpeech/Train/Angry/03-01-05-01-02-01-02.wav\n",
      "11 : 128 : EmotionSpeech/Train/Angry/03-01-05-01-02-01-03.wav\n"
     ]
    },
    {
     "name": "stderr",
     "output_type": "stream",
     "text": [
      "C:\\Users\\singh\\AppData\\Local\\Temp\\ipykernel_7852\\3620632353.py:6: FutureWarning: Pass y=[0. 0. 0. ... 1. 5. 7.] as keyword args. From version 0.10 passing these as positional arguments will result in an error\n",
      "  spec = librosa.feature.melspectrogram(np.float32(samples),\n"
     ]
    },
    {
     "name": "stdout",
     "output_type": "stream",
     "text": [
      "12 : 128 : EmotionSpeech/Train/Angry/03-01-05-01-02-01-04.wav\n",
      "13 : 128 : EmotionSpeech/Train/Angry/03-01-05-01-02-02-01.wav\n",
      "14 : 128 : EmotionSpeech/Train/Angry/03-01-05-01-02-02-02.wav\n",
      "15 : 128 : EmotionSpeech/Train/Angry/03-01-05-01-02-02-03.wav\n"
     ]
    },
    {
     "name": "stderr",
     "output_type": "stream",
     "text": [
      "C:\\Users\\singh\\AppData\\Local\\Temp\\ipykernel_7852\\3620632353.py:6: FutureWarning: Pass y=[  -3.   -3.   -2. ... -199. -199. -199.] as keyword args. From version 0.10 passing these as positional arguments will result in an error\n",
      "  spec = librosa.feature.melspectrogram(np.float32(samples),\n"
     ]
    },
    {
     "name": "stdout",
     "output_type": "stream",
     "text": [
      "16 : 128 : EmotionSpeech/Train/Angry/03-01-05-01-02-02-04.wav\n"
     ]
    },
    {
     "name": "stderr",
     "output_type": "stream",
     "text": [
      "C:\\Users\\singh\\AppData\\Local\\Temp\\ipykernel_7852\\3620632353.py:6: FutureWarning: Pass y=[1. 1. 2. ... 0. 0. 0.] as keyword args. From version 0.10 passing these as positional arguments will result in an error\n",
      "  spec = librosa.feature.melspectrogram(np.float32(samples),\n"
     ]
    },
    {
     "name": "stdout",
     "output_type": "stream",
     "text": [
      "17 : 128 : EmotionSpeech/Train/Angry/03-01-05-02-01-01-01.wav\n"
     ]
    },
    {
     "name": "stderr",
     "output_type": "stream",
     "text": [
      "C:\\Users\\singh\\AppData\\Local\\Temp\\ipykernel_7852\\3620632353.py:6: FutureWarning: Pass y=[-27. -17. -18. ...   0.   0.   0.] as keyword args. From version 0.10 passing these as positional arguments will result in an error\n",
      "  spec = librosa.feature.melspectrogram(np.float32(samples),\n"
     ]
    },
    {
     "name": "stdout",
     "output_type": "stream",
     "text": [
      "18 : 128 : EmotionSpeech/Train/Angry/03-01-05-02-01-01-02.wav\n",
      "19 : 128 : EmotionSpeech/Train/Angry/03-01-05-02-01-01-03.wav\n"
     ]
    },
    {
     "name": "stderr",
     "output_type": "stream",
     "text": [
      "C:\\Users\\singh\\AppData\\Local\\Temp\\ipykernel_7852\\3620632353.py:6: FutureWarning: Pass y=[-7. -9.  4. ... -5. -5. -7.] as keyword args. From version 0.10 passing these as positional arguments will result in an error\n",
      "  spec = librosa.feature.melspectrogram(np.float32(samples),\n"
     ]
    },
    {
     "name": "stdout",
     "output_type": "stream",
     "text": [
      "20 : 128 : EmotionSpeech/Train/Angry/03-01-05-02-01-01-04.wav\n",
      "21 : 128 : EmotionSpeech/Train/Angry/03-01-05-02-01-02-01.wav\n"
     ]
    },
    {
     "name": "stderr",
     "output_type": "stream",
     "text": [
      "C:\\Users\\singh\\AppData\\Local\\Temp\\ipykernel_7852\\3620632353.py:6: FutureWarning: Pass y=[-22.  83. 104. ...   0.   0.   0.] as keyword args. From version 0.10 passing these as positional arguments will result in an error\n",
      "  spec = librosa.feature.melspectrogram(np.float32(samples),\n"
     ]
    },
    {
     "name": "stdout",
     "output_type": "stream",
     "text": [
      "22 : 128 : EmotionSpeech/Train/Angry/03-01-05-02-01-02-02.wav\n",
      "23 : 128 : EmotionSpeech/Train/Angry/03-01-05-02-01-02-03.wav\n"
     ]
    },
    {
     "name": "stderr",
     "output_type": "stream",
     "text": [
      "C:\\Users\\singh\\AppData\\Local\\Temp\\ipykernel_7852\\3620632353.py:6: FutureWarning: Pass y=[ 22.  19.  15. ... -59. -74. -48.] as keyword args. From version 0.10 passing these as positional arguments will result in an error\n",
      "  spec = librosa.feature.melspectrogram(np.float32(samples),\n"
     ]
    },
    {
     "name": "stdout",
     "output_type": "stream",
     "text": [
      "24 : 128 : EmotionSpeech/Train/Angry/03-01-05-02-01-02-04.wav\n"
     ]
    },
    {
     "name": "stderr",
     "output_type": "stream",
     "text": [
      "C:\\Users\\singh\\AppData\\Local\\Temp\\ipykernel_7852\\3620632353.py:6: FutureWarning: Pass y=[0. 0. 0. ... 1. 2. 2.] as keyword args. From version 0.10 passing these as positional arguments will result in an error\n",
      "  spec = librosa.feature.melspectrogram(np.float32(samples),\n"
     ]
    },
    {
     "name": "stdout",
     "output_type": "stream",
     "text": [
      "25 : 128 : EmotionSpeech/Train/Angry/03-01-05-02-02-01-01.wav\n"
     ]
    },
    {
     "name": "stderr",
     "output_type": "stream",
     "text": [
      "C:\\Users\\singh\\AppData\\Local\\Temp\\ipykernel_7852\\3620632353.py:6: FutureWarning: Pass y=[14. 20. 44. ... -8. -9.  2.] as keyword args. From version 0.10 passing these as positional arguments will result in an error\n",
      "  spec = librosa.feature.melspectrogram(np.float32(samples),\n"
     ]
    },
    {
     "name": "stdout",
     "output_type": "stream",
     "text": [
      "26 : 128 : EmotionSpeech/Train/Angry/03-01-05-02-02-01-02.wav\n"
     ]
    },
    {
     "name": "stderr",
     "output_type": "stream",
     "text": [
      "C:\\Users\\singh\\AppData\\Local\\Temp\\ipykernel_7852\\3620632353.py:6: FutureWarning: Pass y=[0. 0. 0. ... 1. 0. 0.] as keyword args. From version 0.10 passing these as positional arguments will result in an error\n",
      "  spec = librosa.feature.melspectrogram(np.float32(samples),\n"
     ]
    },
    {
     "name": "stdout",
     "output_type": "stream",
     "text": [
      "27 : 128 : EmotionSpeech/Train/Angry/03-01-05-02-02-01-03.wav\n"
     ]
    },
    {
     "name": "stderr",
     "output_type": "stream",
     "text": [
      "C:\\Users\\singh\\AppData\\Local\\Temp\\ipykernel_7852\\3620632353.py:6: FutureWarning: Pass y=[3. 0. 6. ... 6. 3. 3.] as keyword args. From version 0.10 passing these as positional arguments will result in an error\n",
      "  spec = librosa.feature.melspectrogram(np.float32(samples),\n"
     ]
    },
    {
     "name": "stdout",
     "output_type": "stream",
     "text": [
      "28 : 128 : EmotionSpeech/Train/Angry/03-01-05-02-02-01-04.wav\n"
     ]
    },
    {
     "name": "stderr",
     "output_type": "stream",
     "text": [
      "C:\\Users\\singh\\AppData\\Local\\Temp\\ipykernel_7852\\3620632353.py:6: FutureWarning: Pass y=[0. 0. 0. ... 1. 1. 0.] as keyword args. From version 0.10 passing these as positional arguments will result in an error\n",
      "  spec = librosa.feature.melspectrogram(np.float32(samples),\n"
     ]
    },
    {
     "name": "stdout",
     "output_type": "stream",
     "text": [
      "29 : 128 : EmotionSpeech/Train/Angry/03-01-05-02-02-02-01.wav\n"
     ]
    },
    {
     "name": "stderr",
     "output_type": "stream",
     "text": [
      "C:\\Users\\singh\\AppData\\Local\\Temp\\ipykernel_7852\\3620632353.py:6: FutureWarning: Pass y=[12. 11.  9. ... 17. 19. 25.] as keyword args. From version 0.10 passing these as positional arguments will result in an error\n",
      "  spec = librosa.feature.melspectrogram(np.float32(samples),\n"
     ]
    },
    {
     "name": "stdout",
     "output_type": "stream",
     "text": [
      "30 : 128 : EmotionSpeech/Train/Angry/03-01-05-02-02-02-02.wav\n"
     ]
    },
    {
     "name": "stderr",
     "output_type": "stream",
     "text": [
      "C:\\Users\\singh\\AppData\\Local\\Temp\\ipykernel_7852\\3620632353.py:6: FutureWarning: Pass y=[0. 0. 0. ... 0. 1. 0.] as keyword args. From version 0.10 passing these as positional arguments will result in an error\n",
      "  spec = librosa.feature.melspectrogram(np.float32(samples),\n"
     ]
    },
    {
     "name": "stdout",
     "output_type": "stream",
     "text": [
      "31 : 128 : EmotionSpeech/Train/Angry/03-01-05-02-02-02-03.wav\n"
     ]
    },
    {
     "name": "stderr",
     "output_type": "stream",
     "text": [
      "C:\\Users\\singh\\AppData\\Local\\Temp\\ipykernel_7852\\3620632353.py:6: FutureWarning: Pass y=[ 0.  1.  1. ... 24. 25. 36.] as keyword args. From version 0.10 passing these as positional arguments will result in an error\n",
      "  spec = librosa.feature.melspectrogram(np.float32(samples),\n"
     ]
    },
    {
     "name": "stdout",
     "output_type": "stream",
     "text": [
      "32 : 128 : EmotionSpeech/Train/Angry/03-01-05-02-02-02-04.wav\n",
      "33 : 128 : EmotionSpeech/Train/Calm/03-01-02-01-01-01-01.wav\n",
      "34 : 128 : EmotionSpeech/Train/Calm/03-01-02-01-01-01-02.wav\n",
      "35 : 128 : EmotionSpeech/Train/Calm/03-01-02-01-01-01-03.wav\n"
     ]
    },
    {
     "name": "stderr",
     "output_type": "stream",
     "text": [
      "C:\\Users\\singh\\AppData\\Local\\Temp\\ipykernel_7852\\3620632353.py:6: FutureWarning: Pass y=[ 0.  0.  0. ... -2. -1. -1.] as keyword args. From version 0.10 passing these as positional arguments will result in an error\n",
      "  spec = librosa.feature.melspectrogram(np.float32(samples),\n"
     ]
    },
    {
     "name": "stdout",
     "output_type": "stream",
     "text": [
      "36 : 128 : EmotionSpeech/Train/Calm/03-01-02-01-01-01-04.wav\n",
      "37 : 128 : EmotionSpeech/Train/Calm/03-01-02-01-01-02-01.wav\n",
      "38 : 128 : EmotionSpeech/Train/Calm/03-01-02-01-01-02-02.wav\n",
      "39 : 128 : EmotionSpeech/Train/Calm/03-01-02-01-01-02-03.wav\n"
     ]
    },
    {
     "name": "stderr",
     "output_type": "stream",
     "text": [
      "C:\\Users\\singh\\AppData\\Local\\Temp\\ipykernel_7852\\3620632353.py:6: FutureWarning: Pass y=[ 0.  0.  0. ... -2. -3. -2.] as keyword args. From version 0.10 passing these as positional arguments will result in an error\n",
      "  spec = librosa.feature.melspectrogram(np.float32(samples),\n"
     ]
    },
    {
     "name": "stdout",
     "output_type": "stream",
     "text": [
      "40 : 128 : EmotionSpeech/Train/Calm/03-01-02-01-01-02-04.wav\n",
      "41 : 128 : EmotionSpeech/Train/Calm/03-01-02-01-02-01-01.wav\n",
      "42 : 128 : EmotionSpeech/Train/Calm/03-01-02-01-02-01-02.wav\n"
     ]
    },
    {
     "name": "stderr",
     "output_type": "stream",
     "text": [
      "C:\\Users\\singh\\AppData\\Local\\Temp\\ipykernel_7852\\3620632353.py:6: FutureWarning: Pass y=[0. 0. 0. ... 1. 0. 1.] as keyword args. From version 0.10 passing these as positional arguments will result in an error\n",
      "  spec = librosa.feature.melspectrogram(np.float32(samples),\n"
     ]
    },
    {
     "name": "stdout",
     "output_type": "stream",
     "text": [
      "43 : 128 : EmotionSpeech/Train/Calm/03-01-02-01-02-01-03.wav\n",
      "44 : 128 : EmotionSpeech/Train/Calm/03-01-02-01-02-01-04.wav\n"
     ]
    },
    {
     "name": "stderr",
     "output_type": "stream",
     "text": [
      "C:\\Users\\singh\\AppData\\Local\\Temp\\ipykernel_7852\\3620632353.py:6: FutureWarning: Pass y=[0. 0. 0. ... 3. 1. 2.] as keyword args. From version 0.10 passing these as positional arguments will result in an error\n",
      "  spec = librosa.feature.melspectrogram(np.float32(samples),\n"
     ]
    },
    {
     "name": "stdout",
     "output_type": "stream",
     "text": [
      "45 : 128 : EmotionSpeech/Train/Calm/03-01-02-01-02-02-01.wav\n"
     ]
    },
    {
     "name": "stderr",
     "output_type": "stream",
     "text": [
      "C:\\Users\\singh\\AppData\\Local\\Temp\\ipykernel_7852\\3620632353.py:6: FutureWarning: Pass y=[0. 0. 1. ... 0. 0. 0.] as keyword args. From version 0.10 passing these as positional arguments will result in an error\n",
      "  spec = librosa.feature.melspectrogram(np.float32(samples),\n"
     ]
    },
    {
     "name": "stdout",
     "output_type": "stream",
     "text": [
      "46 : 128 : EmotionSpeech/Train/Calm/03-01-02-01-02-02-02.wav\n",
      "47 : 128 : EmotionSpeech/Train/Calm/03-01-02-01-02-02-03.wav\n"
     ]
    },
    {
     "name": "stderr",
     "output_type": "stream",
     "text": [
      "C:\\Users\\singh\\AppData\\Local\\Temp\\ipykernel_7852\\3620632353.py:6: FutureWarning: Pass y=[0. 0. 0. ... 4. 4. 3.] as keyword args. From version 0.10 passing these as positional arguments will result in an error\n",
      "  spec = librosa.feature.melspectrogram(np.float32(samples),\n"
     ]
    },
    {
     "name": "stdout",
     "output_type": "stream",
     "text": [
      "48 : 128 : EmotionSpeech/Train/Calm/03-01-02-01-02-02-04.wav\n",
      "49 : 128 : EmotionSpeech/Train/Calm/03-01-02-02-01-01-01.wav\n"
     ]
    },
    {
     "name": "stderr",
     "output_type": "stream",
     "text": [
      "C:\\Users\\singh\\AppData\\Local\\Temp\\ipykernel_7852\\3620632353.py:6: FutureWarning: Pass y=[ 0.  0. -1. ... -1. -1. -1.] as keyword args. From version 0.10 passing these as positional arguments will result in an error\n",
      "  spec = librosa.feature.melspectrogram(np.float32(samples),\n"
     ]
    },
    {
     "name": "stdout",
     "output_type": "stream",
     "text": [
      "50 : 128 : EmotionSpeech/Train/Calm/03-01-02-02-01-01-02.wav\n",
      "51 : 128 : EmotionSpeech/Train/Calm/03-01-02-02-01-01-03.wav\n"
     ]
    },
    {
     "name": "stderr",
     "output_type": "stream",
     "text": [
      "C:\\Users\\singh\\AppData\\Local\\Temp\\ipykernel_7852\\3620632353.py:6: FutureWarning: Pass y=[ 0.  0.  0. ...  0.  0. -2.] as keyword args. From version 0.10 passing these as positional arguments will result in an error\n",
      "  spec = librosa.feature.melspectrogram(np.float32(samples),\n"
     ]
    },
    {
     "name": "stdout",
     "output_type": "stream",
     "text": [
      "52 : 128 : EmotionSpeech/Train/Calm/03-01-02-02-01-01-04.wav\n",
      "53 : 128 : EmotionSpeech/Train/Calm/03-01-02-02-01-02-01.wav\n",
      "54 : 128 : EmotionSpeech/Train/Calm/03-01-02-02-01-02-02.wav\n",
      "55 : 128 : EmotionSpeech/Train/Calm/03-01-02-02-01-02-03.wav\n"
     ]
    },
    {
     "name": "stderr",
     "output_type": "stream",
     "text": [
      "C:\\Users\\singh\\AppData\\Local\\Temp\\ipykernel_7852\\3620632353.py:6: FutureWarning: Pass y=[ 0.  0.  0. ...  0.  0. -1.] as keyword args. From version 0.10 passing these as positional arguments will result in an error\n",
      "  spec = librosa.feature.melspectrogram(np.float32(samples),\n"
     ]
    },
    {
     "name": "stdout",
     "output_type": "stream",
     "text": [
      "56 : 128 : EmotionSpeech/Train/Calm/03-01-02-02-01-02-04.wav\n",
      "57 : 128 : EmotionSpeech/Train/Calm/03-01-02-02-02-01-01.wav\n"
     ]
    },
    {
     "name": "stderr",
     "output_type": "stream",
     "text": [
      "C:\\Users\\singh\\AppData\\Local\\Temp\\ipykernel_7852\\3620632353.py:6: FutureWarning: Pass y=[ 1.  1.  1. ...  0. -1.  0.] as keyword args. From version 0.10 passing these as positional arguments will result in an error\n",
      "  spec = librosa.feature.melspectrogram(np.float32(samples),\n"
     ]
    },
    {
     "name": "stdout",
     "output_type": "stream",
     "text": [
      "58 : 128 : EmotionSpeech/Train/Calm/03-01-02-02-02-01-02.wav\n",
      "59 : 128 : EmotionSpeech/Train/Calm/03-01-02-02-02-01-03.wav\n"
     ]
    },
    {
     "name": "stderr",
     "output_type": "stream",
     "text": [
      "C:\\Users\\singh\\AppData\\Local\\Temp\\ipykernel_7852\\3620632353.py:6: FutureWarning: Pass y=[ 0. -1. -1. ... -7. -8. -8.] as keyword args. From version 0.10 passing these as positional arguments will result in an error\n",
      "  spec = librosa.feature.melspectrogram(np.float32(samples),\n"
     ]
    },
    {
     "name": "stdout",
     "output_type": "stream",
     "text": [
      "60 : 128 : EmotionSpeech/Train/Calm/03-01-02-02-02-01-04.wav\n"
     ]
    },
    {
     "name": "stderr",
     "output_type": "stream",
     "text": [
      "C:\\Users\\singh\\AppData\\Local\\Temp\\ipykernel_7852\\3620632353.py:6: FutureWarning: Pass y=[ 0.  0.  0. ... -1.  0. -1.] as keyword args. From version 0.10 passing these as positional arguments will result in an error\n",
      "  spec = librosa.feature.melspectrogram(np.float32(samples),\n"
     ]
    },
    {
     "name": "stdout",
     "output_type": "stream",
     "text": [
      "61 : 128 : EmotionSpeech/Train/Calm/03-01-02-02-02-02-01.wav\n",
      "62 : 128 : EmotionSpeech/Train/Calm/03-01-02-02-02-02-02.wav\n",
      "63 : 128 : EmotionSpeech/Train/Calm/03-01-02-02-02-02-03.wav\n"
     ]
    },
    {
     "name": "stderr",
     "output_type": "stream",
     "text": [
      "C:\\Users\\singh\\AppData\\Local\\Temp\\ipykernel_7852\\3620632353.py:6: FutureWarning: Pass y=[2. 0. 1. ... 7. 6. 5.] as keyword args. From version 0.10 passing these as positional arguments will result in an error\n",
      "  spec = librosa.feature.melspectrogram(np.float32(samples),\n"
     ]
    },
    {
     "name": "stdout",
     "output_type": "stream",
     "text": [
      "64 : 128 : EmotionSpeech/Train/Calm/03-01-02-02-02-02-04.wav\n",
      "65 : 128 : EmotionSpeech/Train/Happy/03-01-03-01-01-01-01.wav\n",
      "66 : 128 : EmotionSpeech/Train/Happy/03-01-03-01-01-01-02.wav\n",
      "67 : 128 : EmotionSpeech/Train/Happy/03-01-03-01-01-01-03.wav\n"
     ]
    },
    {
     "name": "stderr",
     "output_type": "stream",
     "text": [
      "C:\\Users\\singh\\AppData\\Local\\Temp\\ipykernel_7852\\3620632353.py:6: FutureWarning: Pass y=[1. 3. 2. ... 0. 0. 0.] as keyword args. From version 0.10 passing these as positional arguments will result in an error\n",
      "  spec = librosa.feature.melspectrogram(np.float32(samples),\n"
     ]
    },
    {
     "name": "stdout",
     "output_type": "stream",
     "text": [
      "68 : 128 : EmotionSpeech/Train/Happy/03-01-03-01-01-01-04.wav\n",
      "69 : 128 : EmotionSpeech/Train/Happy/03-01-03-01-01-02-01.wav\n",
      "70 : 128 : EmotionSpeech/Train/Happy/03-01-03-01-01-02-02.wav\n",
      "71 : 128 : EmotionSpeech/Train/Happy/03-01-03-01-01-02-03.wav\n"
     ]
    },
    {
     "name": "stderr",
     "output_type": "stream",
     "text": [
      "C:\\Users\\singh\\AppData\\Local\\Temp\\ipykernel_7852\\3620632353.py:6: FutureWarning: Pass y=[15. 22.  2. ... -1. -1. -1.] as keyword args. From version 0.10 passing these as positional arguments will result in an error\n",
      "  spec = librosa.feature.melspectrogram(np.float32(samples),\n"
     ]
    },
    {
     "name": "stdout",
     "output_type": "stream",
     "text": [
      "72 : 128 : EmotionSpeech/Train/Happy/03-01-03-01-01-02-04.wav\n",
      "73 : 128 : EmotionSpeech/Train/Happy/03-01-03-01-02-01-01.wav\n",
      "74 : 128 : EmotionSpeech/Train/Happy/03-01-03-01-02-01-02.wav\n",
      "75 : 128 : EmotionSpeech/Train/Happy/03-01-03-01-02-01-03.wav\n"
     ]
    },
    {
     "name": "stderr",
     "output_type": "stream",
     "text": [
      "C:\\Users\\singh\\AppData\\Local\\Temp\\ipykernel_7852\\3620632353.py:6: FutureWarning: Pass y=[0. 0. 0. ... 2. 2. 0.] as keyword args. From version 0.10 passing these as positional arguments will result in an error\n",
      "  spec = librosa.feature.melspectrogram(np.float32(samples),\n"
     ]
    },
    {
     "name": "stdout",
     "output_type": "stream",
     "text": [
      "76 : 128 : EmotionSpeech/Train/Happy/03-01-03-01-02-01-04.wav\n",
      "77 : 128 : EmotionSpeech/Train/Happy/03-01-03-01-02-02-01.wav\n"
     ]
    },
    {
     "name": "stderr",
     "output_type": "stream",
     "text": [
      "C:\\Users\\singh\\AppData\\Local\\Temp\\ipykernel_7852\\3620632353.py:6: FutureWarning: Pass y=[0. 1. 0. ... 0. 0. 0.] as keyword args. From version 0.10 passing these as positional arguments will result in an error\n",
      "  spec = librosa.feature.melspectrogram(np.float32(samples),\n"
     ]
    },
    {
     "name": "stdout",
     "output_type": "stream",
     "text": [
      "78 : 128 : EmotionSpeech/Train/Happy/03-01-03-01-02-02-02.wav\n",
      "79 : 128 : EmotionSpeech/Train/Happy/03-01-03-01-02-02-03.wav\n",
      "80 : 128 : EmotionSpeech/Train/Happy/03-01-03-01-02-02-04.wav\n",
      "81 : 128 : EmotionSpeech/Train/Happy/03-01-03-02-01-01-01.wav\n",
      "82 : 128 : EmotionSpeech/Train/Happy/03-01-03-02-01-01-02.wav\n",
      "83 : 128 : EmotionSpeech/Train/Happy/03-01-03-02-01-01-03.wav\n"
     ]
    },
    {
     "name": "stderr",
     "output_type": "stream",
     "text": [
      "C:\\Users\\singh\\AppData\\Local\\Temp\\ipykernel_7852\\3620632353.py:6: FutureWarning: Pass y=[1. 0. 0. ... 0. 0. 1.] as keyword args. From version 0.10 passing these as positional arguments will result in an error\n",
      "  spec = librosa.feature.melspectrogram(np.float32(samples),\n"
     ]
    },
    {
     "name": "stdout",
     "output_type": "stream",
     "text": [
      "84 : 128 : EmotionSpeech/Train/Happy/03-01-03-02-01-01-04.wav\n"
     ]
    },
    {
     "name": "stderr",
     "output_type": "stream",
     "text": [
      "C:\\Users\\singh\\AppData\\Local\\Temp\\ipykernel_7852\\3620632353.py:6: FutureWarning: Pass y=[ 0.  0.  0. ...  0. -1.  0.] as keyword args. From version 0.10 passing these as positional arguments will result in an error\n",
      "  spec = librosa.feature.melspectrogram(np.float32(samples),\n"
     ]
    },
    {
     "name": "stdout",
     "output_type": "stream",
     "text": [
      "85 : 128 : EmotionSpeech/Train/Happy/03-01-03-02-01-02-01.wav\n",
      "86 : 128 : EmotionSpeech/Train/Happy/03-01-03-02-01-02-02.wav\n",
      "87 : 128 : EmotionSpeech/Train/Happy/03-01-03-02-01-02-03.wav\n"
     ]
    },
    {
     "name": "stderr",
     "output_type": "stream",
     "text": [
      "C:\\Users\\singh\\AppData\\Local\\Temp\\ipykernel_7852\\3620632353.py:6: FutureWarning: Pass y=[7. 5. 2. ... 0. 1. 0.] as keyword args. From version 0.10 passing these as positional arguments will result in an error\n",
      "  spec = librosa.feature.melspectrogram(np.float32(samples),\n"
     ]
    },
    {
     "name": "stdout",
     "output_type": "stream",
     "text": [
      "88 : 128 : EmotionSpeech/Train/Happy/03-01-03-02-01-02-04.wav\n",
      "89 : 128 : EmotionSpeech/Train/Happy/03-01-03-02-02-01-01.wav\n",
      "90 : 128 : EmotionSpeech/Train/Happy/03-01-03-02-02-01-02.wav\n",
      "91 : 128 : EmotionSpeech/Train/Happy/03-01-03-02-02-01-03.wav\n"
     ]
    },
    {
     "name": "stderr",
     "output_type": "stream",
     "text": [
      "C:\\Users\\singh\\AppData\\Local\\Temp\\ipykernel_7852\\3620632353.py:6: FutureWarning: Pass y=[-9. -8. -9. ... -6. -8. -6.] as keyword args. From version 0.10 passing these as positional arguments will result in an error\n",
      "  spec = librosa.feature.melspectrogram(np.float32(samples),\n"
     ]
    },
    {
     "name": "stdout",
     "output_type": "stream",
     "text": [
      "92 : 128 : EmotionSpeech/Train/Happy/03-01-03-02-02-01-04.wav\n",
      "93 : 128 : EmotionSpeech/Train/Happy/03-01-03-02-02-02-01.wav\n",
      "94 : 128 : EmotionSpeech/Train/Happy/03-01-03-02-02-02-02.wav\n",
      "95 : 128 : EmotionSpeech/Train/Happy/03-01-03-02-02-02-03.wav\n"
     ]
    },
    {
     "name": "stderr",
     "output_type": "stream",
     "text": [
      "C:\\Users\\singh\\AppData\\Local\\Temp\\ipykernel_7852\\3620632353.py:6: FutureWarning: Pass y=[ 23.  -5. -33. ...  11.  12.  12.] as keyword args. From version 0.10 passing these as positional arguments will result in an error\n",
      "  spec = librosa.feature.melspectrogram(np.float32(samples),\n"
     ]
    },
    {
     "name": "stdout",
     "output_type": "stream",
     "text": [
      "96 : 128 : EmotionSpeech/Train/Happy/03-01-03-02-02-02-04.wav\n",
      "97 : 128 : EmotionSpeech/Train/Sad/03-01-04-01-01-01-01.wav\n"
     ]
    },
    {
     "name": "stderr",
     "output_type": "stream",
     "text": [
      "C:\\Users\\singh\\AppData\\Local\\Temp\\ipykernel_7852\\3620632353.py:6: FutureWarning: Pass y=[-1.  0.  0. ...  0.  0.  0.] as keyword args. From version 0.10 passing these as positional arguments will result in an error\n",
      "  spec = librosa.feature.melspectrogram(np.float32(samples),\n"
     ]
    },
    {
     "name": "stdout",
     "output_type": "stream",
     "text": [
      "98 : 128 : EmotionSpeech/Train/Sad/03-01-04-01-01-01-02.wav\n",
      "99 : 128 : EmotionSpeech/Train/Sad/03-01-04-01-01-01-03.wav\n"
     ]
    },
    {
     "name": "stderr",
     "output_type": "stream",
     "text": [
      "C:\\Users\\singh\\AppData\\Local\\Temp\\ipykernel_7852\\3620632353.py:6: FutureWarning: Pass y=[ 0.  0.  0. ... -5. -6. -4.] as keyword args. From version 0.10 passing these as positional arguments will result in an error\n",
      "  spec = librosa.feature.melspectrogram(np.float32(samples),\n"
     ]
    },
    {
     "name": "stdout",
     "output_type": "stream",
     "text": [
      "100 : 128 : EmotionSpeech/Train/Sad/03-01-04-01-01-01-04.wav\n",
      "101 : 128 : EmotionSpeech/Train/Sad/03-01-04-01-01-02-01.wav\n",
      "102 : 128 : EmotionSpeech/Train/Sad/03-01-04-01-01-02-02.wav\n",
      "103 : 128 : EmotionSpeech/Train/Sad/03-01-04-01-01-02-03.wav\n"
     ]
    },
    {
     "name": "stderr",
     "output_type": "stream",
     "text": [
      "C:\\Users\\singh\\AppData\\Local\\Temp\\ipykernel_7852\\3620632353.py:6: FutureWarning: Pass y=[0. 0. 0. ... 2. 1. 1.] as keyword args. From version 0.10 passing these as positional arguments will result in an error\n",
      "  spec = librosa.feature.melspectrogram(np.float32(samples),\n"
     ]
    },
    {
     "name": "stdout",
     "output_type": "stream",
     "text": [
      "104 : 128 : EmotionSpeech/Train/Sad/03-01-04-01-01-02-04.wav\n",
      "105 : 128 : EmotionSpeech/Train/Sad/03-01-04-01-02-01-01.wav\n",
      "106 : 128 : EmotionSpeech/Train/Sad/03-01-04-01-02-01-02.wav\n",
      "107 : 128 : EmotionSpeech/Train/Sad/03-01-04-01-02-01-03.wav\n"
     ]
    },
    {
     "name": "stderr",
     "output_type": "stream",
     "text": [
      "C:\\Users\\singh\\AppData\\Local\\Temp\\ipykernel_7852\\3620632353.py:6: FutureWarning: Pass y=[  0.   0.   0. ... -12. -11. -11.] as keyword args. From version 0.10 passing these as positional arguments will result in an error\n",
      "  spec = librosa.feature.melspectrogram(np.float32(samples),\n"
     ]
    },
    {
     "name": "stdout",
     "output_type": "stream",
     "text": [
      "108 : 128 : EmotionSpeech/Train/Sad/03-01-04-01-02-01-04.wav\n",
      "109 : 128 : EmotionSpeech/Train/Sad/03-01-04-01-02-02-01.wav\n",
      "110 : 128 : EmotionSpeech/Train/Sad/03-01-04-01-02-02-02.wav\n"
     ]
    },
    {
     "name": "stderr",
     "output_type": "stream",
     "text": [
      "C:\\Users\\singh\\AppData\\Local\\Temp\\ipykernel_7852\\3620632353.py:6: FutureWarning: Pass y=[0. 0. 0. ... 0. 1. 1.] as keyword args. From version 0.10 passing these as positional arguments will result in an error\n",
      "  spec = librosa.feature.melspectrogram(np.float32(samples),\n"
     ]
    },
    {
     "name": "stdout",
     "output_type": "stream",
     "text": [
      "111 : 128 : EmotionSpeech/Train/Sad/03-01-04-01-02-02-03.wav\n"
     ]
    },
    {
     "name": "stderr",
     "output_type": "stream",
     "text": [
      "C:\\Users\\singh\\AppData\\Local\\Temp\\ipykernel_7852\\3620632353.py:6: FutureWarning: Pass y=[-1.  0. -1. ...  8.  8.  8.] as keyword args. From version 0.10 passing these as positional arguments will result in an error\n",
      "  spec = librosa.feature.melspectrogram(np.float32(samples),\n"
     ]
    },
    {
     "name": "stdout",
     "output_type": "stream",
     "text": [
      "112 : 128 : EmotionSpeech/Train/Sad/03-01-04-01-02-02-04.wav\n",
      "113 : 128 : EmotionSpeech/Train/Sad/03-01-04-02-01-01-01.wav\n",
      "114 : 128 : EmotionSpeech/Train/Sad/03-01-04-02-01-01-02.wav\n",
      "115 : 128 : EmotionSpeech/Train/Sad/03-01-04-02-01-01-03.wav\n"
     ]
    },
    {
     "name": "stderr",
     "output_type": "stream",
     "text": [
      "C:\\Users\\singh\\AppData\\Local\\Temp\\ipykernel_7852\\3620632353.py:6: FutureWarning: Pass y=[ 1.  0.  1. ... -2.  0. -2.] as keyword args. From version 0.10 passing these as positional arguments will result in an error\n",
      "  spec = librosa.feature.melspectrogram(np.float32(samples),\n"
     ]
    },
    {
     "name": "stdout",
     "output_type": "stream",
     "text": [
      "116 : 128 : EmotionSpeech/Train/Sad/03-01-04-02-01-01-04.wav\n",
      "117 : 128 : EmotionSpeech/Train/Sad/03-01-04-02-01-02-01.wav\n",
      "118 : 128 : EmotionSpeech/Train/Sad/03-01-04-02-01-02-02.wav\n",
      "119 : 128 : EmotionSpeech/Train/Sad/03-01-04-02-01-02-03.wav\n"
     ]
    },
    {
     "name": "stderr",
     "output_type": "stream",
     "text": [
      "C:\\Users\\singh\\AppData\\Local\\Temp\\ipykernel_7852\\3620632353.py:6: FutureWarning: Pass y=[-22. -23. -23. ...   0.   2.   2.] as keyword args. From version 0.10 passing these as positional arguments will result in an error\n",
      "  spec = librosa.feature.melspectrogram(np.float32(samples),\n"
     ]
    },
    {
     "name": "stdout",
     "output_type": "stream",
     "text": [
      "120 : 128 : EmotionSpeech/Train/Sad/03-01-04-02-01-02-04.wav\n"
     ]
    },
    {
     "name": "stderr",
     "output_type": "stream",
     "text": [
      "C:\\Users\\singh\\AppData\\Local\\Temp\\ipykernel_7852\\3620632353.py:6: FutureWarning: Pass y=[-4. -4. -4. ...  0.  0.  0.] as keyword args. From version 0.10 passing these as positional arguments will result in an error\n",
      "  spec = librosa.feature.melspectrogram(np.float32(samples),\n"
     ]
    },
    {
     "name": "stdout",
     "output_type": "stream",
     "text": [
      "121 : 128 : EmotionSpeech/Train/Sad/03-01-04-02-02-01-01.wav\n",
      "122 : 128 : EmotionSpeech/Train/Sad/03-01-04-02-02-01-02.wav\n",
      "123 : 128 : EmotionSpeech/Train/Sad/03-01-04-02-02-01-03.wav\n"
     ]
    },
    {
     "name": "stderr",
     "output_type": "stream",
     "text": [
      "C:\\Users\\singh\\AppData\\Local\\Temp\\ipykernel_7852\\3620632353.py:6: FutureWarning: Pass y=[   0.    0.   -1. ... -357. -323.  -45.] as keyword args. From version 0.10 passing these as positional arguments will result in an error\n",
      "  spec = librosa.feature.melspectrogram(np.float32(samples),\n"
     ]
    },
    {
     "name": "stdout",
     "output_type": "stream",
     "text": [
      "124 : 128 : EmotionSpeech/Train/Sad/03-01-04-02-02-01-04.wav\n",
      "125 : 128 : EmotionSpeech/Train/Sad/03-01-04-02-02-02-01.wav\n",
      "126 : 128 : EmotionSpeech/Train/Sad/03-01-04-02-02-02-02.wav\n",
      "127 : 128 : EmotionSpeech/Train/Sad/03-01-04-02-02-02-03.wav\n"
     ]
    },
    {
     "name": "stderr",
     "output_type": "stream",
     "text": [
      "C:\\Users\\singh\\AppData\\Local\\Temp\\ipykernel_7852\\3620632353.py:6: FutureWarning: Pass y=[ 0.  0.  0. ... 81. 80. 80.] as keyword args. From version 0.10 passing these as positional arguments will result in an error\n",
      "  spec = librosa.feature.melspectrogram(np.float32(samples),\n"
     ]
    },
    {
     "name": "stdout",
     "output_type": "stream",
     "text": [
      "128 : 128 : EmotionSpeech/Train/Sad/03-01-04-02-02-02-04.wav\n"
     ]
    }
   ],
   "source": [
    "training_features_SC = []\n",
    "training_features_SBW = []\n",
    "training_features_SBE = []\n",
    "training_features_SFM = []\n",
    "training_features_SCF = []\n",
    "training_features_RE = []\n",
    "training_features_SE = []\n",
    "count = 0\n",
    "\n",
    "for filename in training_file_names:\n",
    "    count += 1\n",
    "    print (count, \":\", len(training_file_names), \":\", filename)\n",
    "    features = SC_extraction(filename)\n",
    "    training_features_SC.append(features)\n",
    "\n",
    "    features = SBW_extraction(filename)\n",
    "    training_features_SBW.append(features)\n",
    "\n",
    "    features = SBE_extraction(filename)\n",
    "    training_features_SBE.append(features)\n",
    "    \n",
    "    features = SFM_extraction(filename)\n",
    "    training_features_SFM.append(features)\n",
    "    \n",
    "    features = SCF_extraction(filename)\n",
    "    training_features_SCF.append(features)\n",
    "    \n",
    "    features = RE_extraction(filename)\n",
    "    training_features_RE.append(features)\n",
    "\n",
    "    features = SE_extraction(filename)\n",
    "    training_features_SE.append(features)\n",
    "    \n",
    "    \n",
    "with open('sc_mel_train.spc', 'wb') as fs:\n",
    "    pickle.dump(training_features_SC, fs)\n",
    "\n",
    "with open('sbw_mel_train.spc', 'wb') as fs:\n",
    "    pickle.dump(training_features_SBW, fs)\n",
    "\n",
    "with open('sbe_mel_train.spc', 'wb') as fs:\n",
    "    pickle.dump(training_features_SBE, fs)\n",
    "    \n",
    "with open('sfm_mel_train.spc', 'wb') as fs:\n",
    "    pickle.dump(training_features_SFM, fs)\n",
    "    \n",
    "with open('scf_mel_train.spc', 'wb') as fs:\n",
    "    pickle.dump(training_features_SCF, fs)\n",
    "    \n",
    "with open('re_mel_train.spc', 'wb') as fs:\n",
    "    pickle.dump(training_features_RE, fs)\n",
    "    \n",
    "with open('se_mel_train.spc', 'wb') as fs:\n",
    "    pickle.dump(training_features_SE, fs)\n",
    "    "
   ]
  },
  {
   "cell_type": "code",
   "execution_count": 13,
   "id": "6c414cf8",
   "metadata": {},
   "outputs": [
    {
     "name": "stdout",
     "output_type": "stream",
     "text": [
      "1 : 128 : EmotionSpeech/Test/Angry/03-01-05-01-01-01-05.wav\n"
     ]
    },
    {
     "name": "stderr",
     "output_type": "stream",
     "text": [
      "C:\\Users\\singh\\AppData\\Local\\Temp\\ipykernel_7852\\3620632353.py:6: FutureWarning: Pass y=[-2. -2. -1. ... -1. -1. -2.] as keyword args. From version 0.10 passing these as positional arguments will result in an error\n",
      "  spec = librosa.feature.melspectrogram(np.float32(samples),\n"
     ]
    },
    {
     "name": "stdout",
     "output_type": "stream",
     "text": [
      "2 : 128 : EmotionSpeech/Test/Angry/03-01-05-01-01-01-06.wav\n"
     ]
    },
    {
     "name": "stderr",
     "output_type": "stream",
     "text": [
      "C:\\Users\\singh\\AppData\\Local\\Temp\\ipykernel_7852\\3620632353.py:6: FutureWarning: Pass y=[0. 0. 0. ... 0. 0. 0.] as keyword args. From version 0.10 passing these as positional arguments will result in an error\n",
      "  spec = librosa.feature.melspectrogram(np.float32(samples),\n"
     ]
    },
    {
     "name": "stdout",
     "output_type": "stream",
     "text": [
      "3 : 128 : EmotionSpeech/Test/Angry/03-01-05-01-01-01-07.wav\n"
     ]
    },
    {
     "name": "stderr",
     "output_type": "stream",
     "text": [
      "C:\\Users\\singh\\AppData\\Local\\Temp\\ipykernel_7852\\3620632353.py:6: FutureWarning: Pass y=[  0.   1.   1. ... -27. -26. -27.] as keyword args. From version 0.10 passing these as positional arguments will result in an error\n",
      "  spec = librosa.feature.melspectrogram(np.float32(samples),\n"
     ]
    },
    {
     "name": "stdout",
     "output_type": "stream",
     "text": [
      "4 : 128 : EmotionSpeech/Test/Angry/03-01-05-01-01-01-08.wav\n"
     ]
    },
    {
     "name": "stderr",
     "output_type": "stream",
     "text": [
      "C:\\Users\\singh\\AppData\\Local\\Temp\\ipykernel_7852\\3620632353.py:6: FutureWarning: Pass y=[-2. -2. -2. ...  7. 14. 19.] as keyword args. From version 0.10 passing these as positional arguments will result in an error\n",
      "  spec = librosa.feature.melspectrogram(np.float32(samples),\n"
     ]
    },
    {
     "name": "stdout",
     "output_type": "stream",
     "text": [
      "5 : 128 : EmotionSpeech/Test/Angry/03-01-05-01-01-02-05.wav\n",
      "6 : 128 : EmotionSpeech/Test/Angry/03-01-05-01-01-02-06.wav\n"
     ]
    },
    {
     "name": "stderr",
     "output_type": "stream",
     "text": [
      "C:\\Users\\singh\\AppData\\Local\\Temp\\ipykernel_7852\\3620632353.py:6: FutureWarning: Pass y=[0. 0. 0. ... 6. 5. 6.] as keyword args. From version 0.10 passing these as positional arguments will result in an error\n",
      "  spec = librosa.feature.melspectrogram(np.float32(samples),\n"
     ]
    },
    {
     "name": "stdout",
     "output_type": "stream",
     "text": [
      "7 : 128 : EmotionSpeech/Test/Angry/03-01-05-01-01-02-07.wav\n"
     ]
    },
    {
     "name": "stderr",
     "output_type": "stream",
     "text": [
      "C:\\Users\\singh\\AppData\\Local\\Temp\\ipykernel_7852\\3620632353.py:6: FutureWarning: Pass y=[  2.   2.   3. ... -71. -71. -72.] as keyword args. From version 0.10 passing these as positional arguments will result in an error\n",
      "  spec = librosa.feature.melspectrogram(np.float32(samples),\n"
     ]
    },
    {
     "name": "stdout",
     "output_type": "stream",
     "text": [
      "8 : 128 : EmotionSpeech/Test/Angry/03-01-05-01-01-02-08.wav\n"
     ]
    },
    {
     "name": "stderr",
     "output_type": "stream",
     "text": [
      "C:\\Users\\singh\\AppData\\Local\\Temp\\ipykernel_7852\\3620632353.py:6: FutureWarning: Pass y=[  0.   0.  -1. ... -86. -71. -78.] as keyword args. From version 0.10 passing these as positional arguments will result in an error\n",
      "  spec = librosa.feature.melspectrogram(np.float32(samples),\n"
     ]
    },
    {
     "name": "stdout",
     "output_type": "stream",
     "text": [
      "9 : 128 : EmotionSpeech/Test/Angry/03-01-05-01-02-01-05.wav\n"
     ]
    },
    {
     "name": "stderr",
     "output_type": "stream",
     "text": [
      "C:\\Users\\singh\\AppData\\Local\\Temp\\ipykernel_7852\\3620632353.py:6: FutureWarning: Pass y=[0. 0. 1. ... 0. 0. 0.] as keyword args. From version 0.10 passing these as positional arguments will result in an error\n",
      "  spec = librosa.feature.melspectrogram(np.float32(samples),\n"
     ]
    },
    {
     "name": "stdout",
     "output_type": "stream",
     "text": [
      "10 : 128 : EmotionSpeech/Test/Angry/03-01-05-01-02-01-06.wav\n"
     ]
    },
    {
     "name": "stderr",
     "output_type": "stream",
     "text": [
      "C:\\Users\\singh\\AppData\\Local\\Temp\\ipykernel_7852\\3620632353.py:6: FutureWarning: Pass y=[ 0.  0.  0. ...  0.  0. -1.] as keyword args. From version 0.10 passing these as positional arguments will result in an error\n",
      "  spec = librosa.feature.melspectrogram(np.float32(samples),\n"
     ]
    },
    {
     "name": "stdout",
     "output_type": "stream",
     "text": [
      "11 : 128 : EmotionSpeech/Test/Angry/03-01-05-01-02-01-07.wav\n",
      "12 : 128 : EmotionSpeech/Test/Angry/03-01-05-01-02-01-08.wav\n"
     ]
    },
    {
     "name": "stderr",
     "output_type": "stream",
     "text": [
      "C:\\Users\\singh\\AppData\\Local\\Temp\\ipykernel_7852\\3620632353.py:6: FutureWarning: Pass y=[-3. -3. -3. ...  6.  7.  6.] as keyword args. From version 0.10 passing these as positional arguments will result in an error\n",
      "  spec = librosa.feature.melspectrogram(np.float32(samples),\n"
     ]
    },
    {
     "name": "stdout",
     "output_type": "stream",
     "text": [
      "13 : 128 : EmotionSpeech/Test/Angry/03-01-05-01-02-02-05.wav\n"
     ]
    },
    {
     "name": "stderr",
     "output_type": "stream",
     "text": [
      "C:\\Users\\singh\\AppData\\Local\\Temp\\ipykernel_7852\\3620632353.py:6: FutureWarning: Pass y=[-1.  0. -1. ...  0.  0.  0.] as keyword args. From version 0.10 passing these as positional arguments will result in an error\n",
      "  spec = librosa.feature.melspectrogram(np.float32(samples),\n"
     ]
    },
    {
     "name": "stdout",
     "output_type": "stream",
     "text": [
      "14 : 128 : EmotionSpeech/Test/Angry/03-01-05-01-02-02-06.wav\n",
      "15 : 128 : EmotionSpeech/Test/Angry/03-01-05-01-02-02-07.wav\n",
      "16 : 128 : EmotionSpeech/Test/Angry/03-01-05-01-02-02-08.wav\n"
     ]
    },
    {
     "name": "stderr",
     "output_type": "stream",
     "text": [
      "C:\\Users\\singh\\AppData\\Local\\Temp\\ipykernel_7852\\3620632353.py:6: FutureWarning: Pass y=[-6. -6. -7. ...  7.  7.  4.] as keyword args. From version 0.10 passing these as positional arguments will result in an error\n",
      "  spec = librosa.feature.melspectrogram(np.float32(samples),\n"
     ]
    },
    {
     "name": "stdout",
     "output_type": "stream",
     "text": [
      "17 : 128 : EmotionSpeech/Test/Angry/03-01-05-02-01-01-05.wav\n"
     ]
    },
    {
     "name": "stderr",
     "output_type": "stream",
     "text": [
      "C:\\Users\\singh\\AppData\\Local\\Temp\\ipykernel_7852\\3620632353.py:6: FutureWarning: Pass y=[2. 1. 1. ... 0. 0. 0.] as keyword args. From version 0.10 passing these as positional arguments will result in an error\n",
      "  spec = librosa.feature.melspectrogram(np.float32(samples),\n"
     ]
    },
    {
     "name": "stdout",
     "output_type": "stream",
     "text": [
      "18 : 128 : EmotionSpeech/Test/Angry/03-01-05-02-01-01-06.wav\n"
     ]
    },
    {
     "name": "stderr",
     "output_type": "stream",
     "text": [
      "C:\\Users\\singh\\AppData\\Local\\Temp\\ipykernel_7852\\3620632353.py:6: FutureWarning: Pass y=[0. 0. 0. ... 1. 0. 0.] as keyword args. From version 0.10 passing these as positional arguments will result in an error\n",
      "  spec = librosa.feature.melspectrogram(np.float32(samples),\n"
     ]
    },
    {
     "name": "stdout",
     "output_type": "stream",
     "text": [
      "19 : 128 : EmotionSpeech/Test/Angry/03-01-05-02-01-01-07.wav\n"
     ]
    },
    {
     "name": "stderr",
     "output_type": "stream",
     "text": [
      "C:\\Users\\singh\\AppData\\Local\\Temp\\ipykernel_7852\\3620632353.py:6: FutureWarning: Pass y=[-20. -21. -20. ...  76.  75.  74.] as keyword args. From version 0.10 passing these as positional arguments will result in an error\n",
      "  spec = librosa.feature.melspectrogram(np.float32(samples),\n"
     ]
    },
    {
     "name": "stdout",
     "output_type": "stream",
     "text": [
      "20 : 128 : EmotionSpeech/Test/Angry/03-01-05-02-01-01-08.wav\n"
     ]
    },
    {
     "name": "stderr",
     "output_type": "stream",
     "text": [
      "C:\\Users\\singh\\AppData\\Local\\Temp\\ipykernel_7852\\3620632353.py:6: FutureWarning: Pass y=[ 6.  6.  5. ... -5. -5. -6.] as keyword args. From version 0.10 passing these as positional arguments will result in an error\n",
      "  spec = librosa.feature.melspectrogram(np.float32(samples),\n"
     ]
    },
    {
     "name": "stdout",
     "output_type": "stream",
     "text": [
      "21 : 128 : EmotionSpeech/Test/Angry/03-01-05-02-01-02-05.wav\n"
     ]
    },
    {
     "name": "stderr",
     "output_type": "stream",
     "text": [
      "C:\\Users\\singh\\AppData\\Local\\Temp\\ipykernel_7852\\3620632353.py:6: FutureWarning: Pass y=[-3. -2. -2. ... 13. 14. 14.] as keyword args. From version 0.10 passing these as positional arguments will result in an error\n",
      "  spec = librosa.feature.melspectrogram(np.float32(samples),\n"
     ]
    },
    {
     "name": "stdout",
     "output_type": "stream",
     "text": [
      "22 : 128 : EmotionSpeech/Test/Angry/03-01-05-02-01-02-06.wav\n"
     ]
    },
    {
     "name": "stderr",
     "output_type": "stream",
     "text": [
      "C:\\Users\\singh\\AppData\\Local\\Temp\\ipykernel_7852\\3620632353.py:6: FutureWarning: Pass y=[35. 27. 18. ...  0. -1.  0.] as keyword args. From version 0.10 passing these as positional arguments will result in an error\n",
      "  spec = librosa.feature.melspectrogram(np.float32(samples),\n"
     ]
    },
    {
     "name": "stdout",
     "output_type": "stream",
     "text": [
      "23 : 128 : EmotionSpeech/Test/Angry/03-01-05-02-01-02-07.wav\n"
     ]
    },
    {
     "name": "stderr",
     "output_type": "stream",
     "text": [
      "C:\\Users\\singh\\AppData\\Local\\Temp\\ipykernel_7852\\3620632353.py:6: FutureWarning: Pass y=[  4.   4.   4. ... -69. -66. -66.] as keyword args. From version 0.10 passing these as positional arguments will result in an error\n",
      "  spec = librosa.feature.melspectrogram(np.float32(samples),\n"
     ]
    },
    {
     "name": "stdout",
     "output_type": "stream",
     "text": [
      "24 : 128 : EmotionSpeech/Test/Angry/03-01-05-02-01-02-08.wav\n"
     ]
    },
    {
     "name": "stderr",
     "output_type": "stream",
     "text": [
      "C:\\Users\\singh\\AppData\\Local\\Temp\\ipykernel_7852\\3620632353.py:6: FutureWarning: Pass y=[0. 0. 0. ... 1. 1. 1.] as keyword args. From version 0.10 passing these as positional arguments will result in an error\n",
      "  spec = librosa.feature.melspectrogram(np.float32(samples),\n"
     ]
    },
    {
     "name": "stdout",
     "output_type": "stream",
     "text": [
      "25 : 128 : EmotionSpeech/Test/Angry/03-01-05-02-02-01-05.wav\n"
     ]
    },
    {
     "name": "stderr",
     "output_type": "stream",
     "text": [
      "C:\\Users\\singh\\AppData\\Local\\Temp\\ipykernel_7852\\3620632353.py:6: FutureWarning: Pass y=[ 0.  0.  0. ...  0. -1. -1.] as keyword args. From version 0.10 passing these as positional arguments will result in an error\n",
      "  spec = librosa.feature.melspectrogram(np.float32(samples),\n"
     ]
    },
    {
     "name": "stdout",
     "output_type": "stream",
     "text": [
      "26 : 128 : EmotionSpeech/Test/Angry/03-01-05-02-02-01-06.wav\n"
     ]
    },
    {
     "name": "stderr",
     "output_type": "stream",
     "text": [
      "C:\\Users\\singh\\AppData\\Local\\Temp\\ipykernel_7852\\3620632353.py:6: FutureWarning: Pass y=[ 0. -1.  0. ...  0. -1. -1.] as keyword args. From version 0.10 passing these as positional arguments will result in an error\n",
      "  spec = librosa.feature.melspectrogram(np.float32(samples),\n"
     ]
    },
    {
     "name": "stdout",
     "output_type": "stream",
     "text": [
      "27 : 128 : EmotionSpeech/Test/Angry/03-01-05-02-02-01-07.wav\n"
     ]
    },
    {
     "name": "stderr",
     "output_type": "stream",
     "text": [
      "C:\\Users\\singh\\AppData\\Local\\Temp\\ipykernel_7852\\3620632353.py:6: FutureWarning: Pass y=[-2. -2. -2. ...  0.  1.  0.] as keyword args. From version 0.10 passing these as positional arguments will result in an error\n",
      "  spec = librosa.feature.melspectrogram(np.float32(samples),\n"
     ]
    },
    {
     "name": "stdout",
     "output_type": "stream",
     "text": [
      "28 : 128 : EmotionSpeech/Test/Angry/03-01-05-02-02-01-08.wav\n"
     ]
    },
    {
     "name": "stderr",
     "output_type": "stream",
     "text": [
      "C:\\Users\\singh\\AppData\\Local\\Temp\\ipykernel_7852\\3620632353.py:6: FutureWarning: Pass y=[5. 3. 4. ... 0. 0. 0.] as keyword args. From version 0.10 passing these as positional arguments will result in an error\n",
      "  spec = librosa.feature.melspectrogram(np.float32(samples),\n"
     ]
    },
    {
     "name": "stdout",
     "output_type": "stream",
     "text": [
      "29 : 128 : EmotionSpeech/Test/Angry/03-01-05-02-02-02-05.wav\n"
     ]
    },
    {
     "name": "stderr",
     "output_type": "stream",
     "text": [
      "C:\\Users\\singh\\AppData\\Local\\Temp\\ipykernel_7852\\3620632353.py:6: FutureWarning: Pass y=[1. 1. 1. ... 0. 0. 0.] as keyword args. From version 0.10 passing these as positional arguments will result in an error\n",
      "  spec = librosa.feature.melspectrogram(np.float32(samples),\n"
     ]
    },
    {
     "name": "stdout",
     "output_type": "stream",
     "text": [
      "30 : 128 : EmotionSpeech/Test/Angry/03-01-05-02-02-02-06.wav\n"
     ]
    },
    {
     "name": "stderr",
     "output_type": "stream",
     "text": [
      "C:\\Users\\singh\\AppData\\Local\\Temp\\ipykernel_7852\\3620632353.py:6: FutureWarning: Pass y=[6. 2. 0. ... 0. 0. 0.] as keyword args. From version 0.10 passing these as positional arguments will result in an error\n",
      "  spec = librosa.feature.melspectrogram(np.float32(samples),\n"
     ]
    },
    {
     "name": "stdout",
     "output_type": "stream",
     "text": [
      "31 : 128 : EmotionSpeech/Test/Angry/03-01-05-02-02-02-07.wav\n"
     ]
    },
    {
     "name": "stderr",
     "output_type": "stream",
     "text": [
      "C:\\Users\\singh\\AppData\\Local\\Temp\\ipykernel_7852\\3620632353.py:6: FutureWarning: Pass y=[  1.   1.   1. ... -12. -10. -10.] as keyword args. From version 0.10 passing these as positional arguments will result in an error\n",
      "  spec = librosa.feature.melspectrogram(np.float32(samples),\n"
     ]
    },
    {
     "name": "stdout",
     "output_type": "stream",
     "text": [
      "32 : 128 : EmotionSpeech/Test/Angry/03-01-05-02-02-02-08.wav\n"
     ]
    },
    {
     "name": "stderr",
     "output_type": "stream",
     "text": [
      "C:\\Users\\singh\\AppData\\Local\\Temp\\ipykernel_7852\\3620632353.py:6: FutureWarning: Pass y=[6. 5. 7. ... 1. 1. 1.] as keyword args. From version 0.10 passing these as positional arguments will result in an error\n",
      "  spec = librosa.feature.melspectrogram(np.float32(samples),\n"
     ]
    },
    {
     "name": "stdout",
     "output_type": "stream",
     "text": [
      "33 : 128 : EmotionSpeech/Test/Calm/03-01-02-01-01-01-05.wav\n"
     ]
    },
    {
     "name": "stderr",
     "output_type": "stream",
     "text": [
      "C:\\Users\\singh\\AppData\\Local\\Temp\\ipykernel_7852\\3620632353.py:6: FutureWarning: Pass y=[ 0.  0.  0. ... -1. -1. -1.] as keyword args. From version 0.10 passing these as positional arguments will result in an error\n",
      "  spec = librosa.feature.melspectrogram(np.float32(samples),\n"
     ]
    },
    {
     "name": "stdout",
     "output_type": "stream",
     "text": [
      "34 : 128 : EmotionSpeech/Test/Calm/03-01-02-01-01-01-06.wav\n"
     ]
    },
    {
     "name": "stderr",
     "output_type": "stream",
     "text": [
      "C:\\Users\\singh\\AppData\\Local\\Temp\\ipykernel_7852\\3620632353.py:6: FutureWarning: Pass y=[1. 1. 0. ... 0. 0. 0.] as keyword args. From version 0.10 passing these as positional arguments will result in an error\n",
      "  spec = librosa.feature.melspectrogram(np.float32(samples),\n"
     ]
    },
    {
     "name": "stdout",
     "output_type": "stream",
     "text": [
      "35 : 128 : EmotionSpeech/Test/Calm/03-01-02-01-01-01-07.wav\n",
      "36 : 128 : EmotionSpeech/Test/Calm/03-01-02-01-01-01-08.wav\n"
     ]
    },
    {
     "name": "stderr",
     "output_type": "stream",
     "text": [
      "C:\\Users\\singh\\AppData\\Local\\Temp\\ipykernel_7852\\3620632353.py:6: FutureWarning: Pass y=[1. 2. 2. ... 0. 0. 0.] as keyword args. From version 0.10 passing these as positional arguments will result in an error\n",
      "  spec = librosa.feature.melspectrogram(np.float32(samples),\n"
     ]
    },
    {
     "name": "stdout",
     "output_type": "stream",
     "text": [
      "37 : 128 : EmotionSpeech/Test/Calm/03-01-02-01-01-02-05.wav\n",
      "38 : 128 : EmotionSpeech/Test/Calm/03-01-02-01-01-02-06.wav\n"
     ]
    },
    {
     "name": "stderr",
     "output_type": "stream",
     "text": [
      "C:\\Users\\singh\\AppData\\Local\\Temp\\ipykernel_7852\\3620632353.py:6: FutureWarning: Pass y=[1. 0. 0. ... 2. 3. 2.] as keyword args. From version 0.10 passing these as positional arguments will result in an error\n",
      "  spec = librosa.feature.melspectrogram(np.float32(samples),\n"
     ]
    },
    {
     "name": "stdout",
     "output_type": "stream",
     "text": [
      "39 : 128 : EmotionSpeech/Test/Calm/03-01-02-01-01-02-07.wav\n",
      "40 : 128 : EmotionSpeech/Test/Calm/03-01-02-01-01-02-08.wav\n"
     ]
    },
    {
     "name": "stderr",
     "output_type": "stream",
     "text": [
      "C:\\Users\\singh\\AppData\\Local\\Temp\\ipykernel_7852\\3620632353.py:6: FutureWarning: Pass y=[0. 0. 0. ... 3. 4. 3.] as keyword args. From version 0.10 passing these as positional arguments will result in an error\n",
      "  spec = librosa.feature.melspectrogram(np.float32(samples),\n"
     ]
    },
    {
     "name": "stdout",
     "output_type": "stream",
     "text": [
      "41 : 128 : EmotionSpeech/Test/Calm/03-01-02-01-02-01-05.wav\n"
     ]
    },
    {
     "name": "stderr",
     "output_type": "stream",
     "text": [
      "C:\\Users\\singh\\AppData\\Local\\Temp\\ipykernel_7852\\3620632353.py:6: FutureWarning: Pass y=[2. 2. 2. ... 0. 0. 0.] as keyword args. From version 0.10 passing these as positional arguments will result in an error\n",
      "  spec = librosa.feature.melspectrogram(np.float32(samples),\n"
     ]
    },
    {
     "name": "stdout",
     "output_type": "stream",
     "text": [
      "42 : 128 : EmotionSpeech/Test/Calm/03-01-02-01-02-01-06.wav\n"
     ]
    },
    {
     "name": "stderr",
     "output_type": "stream",
     "text": [
      "C:\\Users\\singh\\AppData\\Local\\Temp\\ipykernel_7852\\3620632353.py:6: FutureWarning: Pass y=[0. 0. 0. ... 1. 2. 2.] as keyword args. From version 0.10 passing these as positional arguments will result in an error\n",
      "  spec = librosa.feature.melspectrogram(np.float32(samples),\n"
     ]
    },
    {
     "name": "stdout",
     "output_type": "stream",
     "text": [
      "43 : 128 : EmotionSpeech/Test/Calm/03-01-02-01-02-01-07.wav\n"
     ]
    },
    {
     "name": "stderr",
     "output_type": "stream",
     "text": [
      "C:\\Users\\singh\\AppData\\Local\\Temp\\ipykernel_7852\\3620632353.py:6: FutureWarning: Pass y=[ 3.  3.  2. ... -4. -4. -4.] as keyword args. From version 0.10 passing these as positional arguments will result in an error\n",
      "  spec = librosa.feature.melspectrogram(np.float32(samples),\n"
     ]
    },
    {
     "name": "stdout",
     "output_type": "stream",
     "text": [
      "44 : 128 : EmotionSpeech/Test/Calm/03-01-02-01-02-01-08.wav\n"
     ]
    },
    {
     "name": "stderr",
     "output_type": "stream",
     "text": [
      "C:\\Users\\singh\\AppData\\Local\\Temp\\ipykernel_7852\\3620632353.py:6: FutureWarning: Pass y=[-7. -6. -6. ...  1.  1.  2.] as keyword args. From version 0.10 passing these as positional arguments will result in an error\n",
      "  spec = librosa.feature.melspectrogram(np.float32(samples),\n"
     ]
    },
    {
     "name": "stdout",
     "output_type": "stream",
     "text": [
      "45 : 128 : EmotionSpeech/Test/Calm/03-01-02-01-02-02-05.wav\n"
     ]
    },
    {
     "name": "stderr",
     "output_type": "stream",
     "text": [
      "C:\\Users\\singh\\AppData\\Local\\Temp\\ipykernel_7852\\3620632353.py:6: FutureWarning: Pass y=[ 1.  1.  0. ... -2. -2. -2.] as keyword args. From version 0.10 passing these as positional arguments will result in an error\n",
      "  spec = librosa.feature.melspectrogram(np.float32(samples),\n"
     ]
    },
    {
     "name": "stdout",
     "output_type": "stream",
     "text": [
      "46 : 128 : EmotionSpeech/Test/Calm/03-01-02-01-02-02-06.wav\n"
     ]
    },
    {
     "name": "stderr",
     "output_type": "stream",
     "text": [
      "C:\\Users\\singh\\AppData\\Local\\Temp\\ipykernel_7852\\3620632353.py:6: FutureWarning: Pass y=[-2.  0.  0. ...  0.  0.  0.] as keyword args. From version 0.10 passing these as positional arguments will result in an error\n",
      "  spec = librosa.feature.melspectrogram(np.float32(samples),\n"
     ]
    },
    {
     "name": "stdout",
     "output_type": "stream",
     "text": [
      "47 : 128 : EmotionSpeech/Test/Calm/03-01-02-01-02-02-07.wav\n",
      "48 : 128 : EmotionSpeech/Test/Calm/03-01-02-01-02-02-08.wav\n"
     ]
    },
    {
     "name": "stderr",
     "output_type": "stream",
     "text": [
      "C:\\Users\\singh\\AppData\\Local\\Temp\\ipykernel_7852\\3620632353.py:6: FutureWarning: Pass y=[4. 5. 4. ... 0. 1. 0.] as keyword args. From version 0.10 passing these as positional arguments will result in an error\n",
      "  spec = librosa.feature.melspectrogram(np.float32(samples),\n"
     ]
    },
    {
     "name": "stdout",
     "output_type": "stream",
     "text": [
      "49 : 128 : EmotionSpeech/Test/Calm/03-01-02-02-01-01-05.wav\n",
      "50 : 128 : EmotionSpeech/Test/Calm/03-01-02-02-01-01-06.wav\n"
     ]
    },
    {
     "name": "stderr",
     "output_type": "stream",
     "text": [
      "C:\\Users\\singh\\AppData\\Local\\Temp\\ipykernel_7852\\3620632353.py:6: FutureWarning: Pass y=[ 0.  0.  1. ... -5. -6. -4.] as keyword args. From version 0.10 passing these as positional arguments will result in an error\n",
      "  spec = librosa.feature.melspectrogram(np.float32(samples),\n"
     ]
    },
    {
     "name": "stdout",
     "output_type": "stream",
     "text": [
      "51 : 128 : EmotionSpeech/Test/Calm/03-01-02-02-01-01-07.wav\n"
     ]
    },
    {
     "name": "stderr",
     "output_type": "stream",
     "text": [
      "C:\\Users\\singh\\AppData\\Local\\Temp\\ipykernel_7852\\3620632353.py:6: FutureWarning: Pass y=[ 12.  11.   0. ... -35. -36. -36.] as keyword args. From version 0.10 passing these as positional arguments will result in an error\n",
      "  spec = librosa.feature.melspectrogram(np.float32(samples),\n"
     ]
    },
    {
     "name": "stdout",
     "output_type": "stream",
     "text": [
      "52 : 128 : EmotionSpeech/Test/Calm/03-01-02-02-01-01-08.wav\n",
      "53 : 128 : EmotionSpeech/Test/Calm/03-01-02-02-01-02-05.wav\n",
      "54 : 128 : EmotionSpeech/Test/Calm/03-01-02-02-01-02-06.wav\n"
     ]
    },
    {
     "name": "stderr",
     "output_type": "stream",
     "text": [
      "C:\\Users\\singh\\AppData\\Local\\Temp\\ipykernel_7852\\3620632353.py:6: FutureWarning: Pass y=[ 0. -1. -1. ... -1.  0.  0.] as keyword args. From version 0.10 passing these as positional arguments will result in an error\n",
      "  spec = librosa.feature.melspectrogram(np.float32(samples),\n"
     ]
    },
    {
     "name": "stdout",
     "output_type": "stream",
     "text": [
      "55 : 128 : EmotionSpeech/Test/Calm/03-01-02-02-01-02-07.wav\n"
     ]
    },
    {
     "name": "stderr",
     "output_type": "stream",
     "text": [
      "C:\\Users\\singh\\AppData\\Local\\Temp\\ipykernel_7852\\3620632353.py:6: FutureWarning: Pass y=[ 0.  0. -1. ...  0.  0.  0.] as keyword args. From version 0.10 passing these as positional arguments will result in an error\n",
      "  spec = librosa.feature.melspectrogram(np.float32(samples),\n"
     ]
    },
    {
     "name": "stdout",
     "output_type": "stream",
     "text": [
      "56 : 128 : EmotionSpeech/Test/Calm/03-01-02-02-01-02-08.wav\n"
     ]
    },
    {
     "name": "stderr",
     "output_type": "stream",
     "text": [
      "C:\\Users\\singh\\AppData\\Local\\Temp\\ipykernel_7852\\3620632353.py:6: FutureWarning: Pass y=[-3. -3. -3. ... -2. -2. -2.] as keyword args. From version 0.10 passing these as positional arguments will result in an error\n",
      "  spec = librosa.feature.melspectrogram(np.float32(samples),\n"
     ]
    },
    {
     "name": "stdout",
     "output_type": "stream",
     "text": [
      "57 : 128 : EmotionSpeech/Test/Calm/03-01-02-02-02-01-05.wav\n"
     ]
    },
    {
     "name": "stderr",
     "output_type": "stream",
     "text": [
      "C:\\Users\\singh\\AppData\\Local\\Temp\\ipykernel_7852\\3620632353.py:6: FutureWarning: Pass y=[-1. -1. -1. ...  0.  0.  0.] as keyword args. From version 0.10 passing these as positional arguments will result in an error\n",
      "  spec = librosa.feature.melspectrogram(np.float32(samples),\n"
     ]
    },
    {
     "name": "stdout",
     "output_type": "stream",
     "text": [
      "58 : 128 : EmotionSpeech/Test/Calm/03-01-02-02-02-01-06.wav\n",
      "59 : 128 : EmotionSpeech/Test/Calm/03-01-02-02-02-01-07.wav\n"
     ]
    },
    {
     "name": "stderr",
     "output_type": "stream",
     "text": [
      "C:\\Users\\singh\\AppData\\Local\\Temp\\ipykernel_7852\\3620632353.py:6: FutureWarning: Pass y=[ 0.  0.  0. ... -1.  0. -1.] as keyword args. From version 0.10 passing these as positional arguments will result in an error\n",
      "  spec = librosa.feature.melspectrogram(np.float32(samples),\n"
     ]
    },
    {
     "name": "stdout",
     "output_type": "stream",
     "text": [
      "60 : 128 : EmotionSpeech/Test/Calm/03-01-02-02-02-01-08.wav\n"
     ]
    },
    {
     "name": "stderr",
     "output_type": "stream",
     "text": [
      "C:\\Users\\singh\\AppData\\Local\\Temp\\ipykernel_7852\\3620632353.py:6: FutureWarning: Pass y=[-5. -5. -5. ... -3. -3. -3.] as keyword args. From version 0.10 passing these as positional arguments will result in an error\n",
      "  spec = librosa.feature.melspectrogram(np.float32(samples),\n"
     ]
    },
    {
     "name": "stdout",
     "output_type": "stream",
     "text": [
      "61 : 128 : EmotionSpeech/Test/Calm/03-01-02-02-02-02-05.wav\n",
      "62 : 128 : EmotionSpeech/Test/Calm/03-01-02-02-02-02-06.wav\n",
      "63 : 128 : EmotionSpeech/Test/Calm/03-01-02-02-02-02-07.wav\n"
     ]
    },
    {
     "name": "stderr",
     "output_type": "stream",
     "text": [
      "C:\\Users\\singh\\AppData\\Local\\Temp\\ipykernel_7852\\3620632353.py:6: FutureWarning: Pass y=[2. 2. 3. ... 2. 2. 3.] as keyword args. From version 0.10 passing these as positional arguments will result in an error\n",
      "  spec = librosa.feature.melspectrogram(np.float32(samples),\n"
     ]
    },
    {
     "name": "stdout",
     "output_type": "stream",
     "text": [
      "64 : 128 : EmotionSpeech/Test/Calm/03-01-02-02-02-02-08.wav\n"
     ]
    },
    {
     "name": "stderr",
     "output_type": "stream",
     "text": [
      "C:\\Users\\singh\\AppData\\Local\\Temp\\ipykernel_7852\\3620632353.py:6: FutureWarning: Pass y=[-2. -2. -3. ...  4.  4.  4.] as keyword args. From version 0.10 passing these as positional arguments will result in an error\n",
      "  spec = librosa.feature.melspectrogram(np.float32(samples),\n"
     ]
    },
    {
     "name": "stdout",
     "output_type": "stream",
     "text": [
      "65 : 128 : EmotionSpeech/Test/Happy/03-01-03-01-01-01-05.wav\n",
      "66 : 128 : EmotionSpeech/Test/Happy/03-01-03-01-01-01-06.wav\n",
      "67 : 128 : EmotionSpeech/Test/Happy/03-01-03-01-01-01-07.wav\n",
      "68 : 128 : EmotionSpeech/Test/Happy/03-01-03-01-01-01-08.wav\n"
     ]
    },
    {
     "name": "stderr",
     "output_type": "stream",
     "text": [
      "C:\\Users\\singh\\AppData\\Local\\Temp\\ipykernel_7852\\3620632353.py:6: FutureWarning: Pass y=[2. 2. 2. ... 2. 2. 2.] as keyword args. From version 0.10 passing these as positional arguments will result in an error\n",
      "  spec = librosa.feature.melspectrogram(np.float32(samples),\n"
     ]
    },
    {
     "name": "stdout",
     "output_type": "stream",
     "text": [
      "69 : 128 : EmotionSpeech/Test/Happy/03-01-03-01-01-02-05.wav\n"
     ]
    },
    {
     "name": "stderr",
     "output_type": "stream",
     "text": [
      "C:\\Users\\singh\\AppData\\Local\\Temp\\ipykernel_7852\\3620632353.py:6: FutureWarning: Pass y=[0. 0. 0. ... 0. 0. 1.] as keyword args. From version 0.10 passing these as positional arguments will result in an error\n",
      "  spec = librosa.feature.melspectrogram(np.float32(samples),\n"
     ]
    },
    {
     "name": "stdout",
     "output_type": "stream",
     "text": [
      "70 : 128 : EmotionSpeech/Test/Happy/03-01-03-01-01-02-06.wav\n",
      "71 : 128 : EmotionSpeech/Test/Happy/03-01-03-01-01-02-07.wav\n"
     ]
    },
    {
     "name": "stderr",
     "output_type": "stream",
     "text": [
      "C:\\Users\\singh\\AppData\\Local\\Temp\\ipykernel_7852\\3620632353.py:6: FutureWarning: Pass y=[0. 0. 0. ... 3. 2. 2.] as keyword args. From version 0.10 passing these as positional arguments will result in an error\n",
      "  spec = librosa.feature.melspectrogram(np.float32(samples),\n"
     ]
    },
    {
     "name": "stdout",
     "output_type": "stream",
     "text": [
      "72 : 128 : EmotionSpeech/Test/Happy/03-01-03-01-01-02-08.wav\n",
      "73 : 128 : EmotionSpeech/Test/Happy/03-01-03-01-02-01-05.wav\n",
      "74 : 128 : EmotionSpeech/Test/Happy/03-01-03-01-02-01-06.wav\n",
      "75 : 128 : EmotionSpeech/Test/Happy/03-01-03-01-02-01-07.wav\n"
     ]
    },
    {
     "name": "stderr",
     "output_type": "stream",
     "text": [
      "C:\\Users\\singh\\AppData\\Local\\Temp\\ipykernel_7852\\3620632353.py:6: FutureWarning: Pass y=[-2. -2. -1. ... 10. 10. 10.] as keyword args. From version 0.10 passing these as positional arguments will result in an error\n",
      "  spec = librosa.feature.melspectrogram(np.float32(samples),\n"
     ]
    },
    {
     "name": "stdout",
     "output_type": "stream",
     "text": [
      "76 : 128 : EmotionSpeech/Test/Happy/03-01-03-01-02-01-08.wav\n"
     ]
    },
    {
     "name": "stderr",
     "output_type": "stream",
     "text": [
      "C:\\Users\\singh\\AppData\\Local\\Temp\\ipykernel_7852\\3620632353.py:6: FutureWarning: Pass y=[ 1.  2.  2. ... -5. -4. -5.] as keyword args. From version 0.10 passing these as positional arguments will result in an error\n",
      "  spec = librosa.feature.melspectrogram(np.float32(samples),\n"
     ]
    },
    {
     "name": "stdout",
     "output_type": "stream",
     "text": [
      "77 : 128 : EmotionSpeech/Test/Happy/03-01-03-01-02-02-05.wav\n",
      "78 : 128 : EmotionSpeech/Test/Happy/03-01-03-01-02-02-06.wav\n"
     ]
    },
    {
     "name": "stderr",
     "output_type": "stream",
     "text": [
      "C:\\Users\\singh\\AppData\\Local\\Temp\\ipykernel_7852\\3620632353.py:6: FutureWarning: Pass y=[ 2.  2.  1. ... -2. -1. -1.] as keyword args. From version 0.10 passing these as positional arguments will result in an error\n",
      "  spec = librosa.feature.melspectrogram(np.float32(samples),\n"
     ]
    },
    {
     "name": "stdout",
     "output_type": "stream",
     "text": [
      "79 : 128 : EmotionSpeech/Test/Happy/03-01-03-01-02-02-07.wav\n",
      "80 : 128 : EmotionSpeech/Test/Happy/03-01-03-01-02-02-08.wav\n"
     ]
    },
    {
     "name": "stderr",
     "output_type": "stream",
     "text": [
      "C:\\Users\\singh\\AppData\\Local\\Temp\\ipykernel_7852\\3620632353.py:6: FutureWarning: Pass y=[1. 1. 2. ... 0. 0. 0.] as keyword args. From version 0.10 passing these as positional arguments will result in an error\n",
      "  spec = librosa.feature.melspectrogram(np.float32(samples),\n"
     ]
    },
    {
     "name": "stdout",
     "output_type": "stream",
     "text": [
      "81 : 128 : EmotionSpeech/Test/Happy/03-01-03-02-01-01-05.wav\n",
      "82 : 128 : EmotionSpeech/Test/Happy/03-01-03-02-01-01-06.wav\n"
     ]
    },
    {
     "name": "stderr",
     "output_type": "stream",
     "text": [
      "C:\\Users\\singh\\AppData\\Local\\Temp\\ipykernel_7852\\3620632353.py:6: FutureWarning: Pass y=[ 0.  0. -1. ...  5.  7.  5.] as keyword args. From version 0.10 passing these as positional arguments will result in an error\n",
      "  spec = librosa.feature.melspectrogram(np.float32(samples),\n"
     ]
    },
    {
     "name": "stdout",
     "output_type": "stream",
     "text": [
      "83 : 128 : EmotionSpeech/Test/Happy/03-01-03-02-01-01-07.wav\n"
     ]
    },
    {
     "name": "stderr",
     "output_type": "stream",
     "text": [
      "C:\\Users\\singh\\AppData\\Local\\Temp\\ipykernel_7852\\3620632353.py:6: FutureWarning: Pass y=[ 1.  0. -1. ...  2.  2.  5.] as keyword args. From version 0.10 passing these as positional arguments will result in an error\n",
      "  spec = librosa.feature.melspectrogram(np.float32(samples),\n"
     ]
    },
    {
     "name": "stdout",
     "output_type": "stream",
     "text": [
      "84 : 128 : EmotionSpeech/Test/Happy/03-01-03-02-01-01-08.wav\n"
     ]
    },
    {
     "name": "stderr",
     "output_type": "stream",
     "text": [
      "C:\\Users\\singh\\AppData\\Local\\Temp\\ipykernel_7852\\3620632353.py:6: FutureWarning: Pass y=[-3. -3. -2. ...  0. -2. -2.] as keyword args. From version 0.10 passing these as positional arguments will result in an error\n",
      "  spec = librosa.feature.melspectrogram(np.float32(samples),\n"
     ]
    },
    {
     "name": "stdout",
     "output_type": "stream",
     "text": [
      "85 : 128 : EmotionSpeech/Test/Happy/03-01-03-02-01-02-05.wav\n"
     ]
    },
    {
     "name": "stderr",
     "output_type": "stream",
     "text": [
      "C:\\Users\\singh\\AppData\\Local\\Temp\\ipykernel_7852\\3620632353.py:6: FutureWarning: Pass y=[0. 0. 0. ... 3. 3. 3.] as keyword args. From version 0.10 passing these as positional arguments will result in an error\n",
      "  spec = librosa.feature.melspectrogram(np.float32(samples),\n"
     ]
    },
    {
     "name": "stdout",
     "output_type": "stream",
     "text": [
      "86 : 128 : EmotionSpeech/Test/Happy/03-01-03-02-01-02-06.wav\n",
      "87 : 128 : EmotionSpeech/Test/Happy/03-01-03-02-01-02-07.wav\n"
     ]
    },
    {
     "name": "stderr",
     "output_type": "stream",
     "text": [
      "C:\\Users\\singh\\AppData\\Local\\Temp\\ipykernel_7852\\3620632353.py:6: FutureWarning: Pass y=[ 0. 13. 21. ...  1.  0.  0.] as keyword args. From version 0.10 passing these as positional arguments will result in an error\n",
      "  spec = librosa.feature.melspectrogram(np.float32(samples),\n"
     ]
    },
    {
     "name": "stdout",
     "output_type": "stream",
     "text": [
      "88 : 128 : EmotionSpeech/Test/Happy/03-01-03-02-01-02-08.wav\n"
     ]
    },
    {
     "name": "stderr",
     "output_type": "stream",
     "text": [
      "C:\\Users\\singh\\AppData\\Local\\Temp\\ipykernel_7852\\3620632353.py:6: FutureWarning: Pass y=[ 2.  2.  2. ... -1. -1.  0.] as keyword args. From version 0.10 passing these as positional arguments will result in an error\n",
      "  spec = librosa.feature.melspectrogram(np.float32(samples),\n"
     ]
    },
    {
     "name": "stdout",
     "output_type": "stream",
     "text": [
      "89 : 128 : EmotionSpeech/Test/Happy/03-01-03-02-02-01-05.wav\n"
     ]
    },
    {
     "name": "stderr",
     "output_type": "stream",
     "text": [
      "C:\\Users\\singh\\AppData\\Local\\Temp\\ipykernel_7852\\3620632353.py:6: FutureWarning: Pass y=[-5. -5. -5. ...  1.  0.  0.] as keyword args. From version 0.10 passing these as positional arguments will result in an error\n",
      "  spec = librosa.feature.melspectrogram(np.float32(samples),\n"
     ]
    },
    {
     "name": "stdout",
     "output_type": "stream",
     "text": [
      "90 : 128 : EmotionSpeech/Test/Happy/03-01-03-02-02-01-06.wav\n"
     ]
    },
    {
     "name": "stderr",
     "output_type": "stream",
     "text": [
      "C:\\Users\\singh\\AppData\\Local\\Temp\\ipykernel_7852\\3620632353.py:6: FutureWarning: Pass y=[-1.  0.  0. ...  0.  0.  0.] as keyword args. From version 0.10 passing these as positional arguments will result in an error\n",
      "  spec = librosa.feature.melspectrogram(np.float32(samples),\n"
     ]
    },
    {
     "name": "stdout",
     "output_type": "stream",
     "text": [
      "91 : 128 : EmotionSpeech/Test/Happy/03-01-03-02-02-01-07.wav\n"
     ]
    },
    {
     "name": "stderr",
     "output_type": "stream",
     "text": [
      "C:\\Users\\singh\\AppData\\Local\\Temp\\ipykernel_7852\\3620632353.py:6: FutureWarning: Pass y=[ -2.  -2.  -1. ... -15. -14. -13.] as keyword args. From version 0.10 passing these as positional arguments will result in an error\n",
      "  spec = librosa.feature.melspectrogram(np.float32(samples),\n"
     ]
    },
    {
     "name": "stdout",
     "output_type": "stream",
     "text": [
      "92 : 128 : EmotionSpeech/Test/Happy/03-01-03-02-02-01-08.wav\n"
     ]
    },
    {
     "name": "stderr",
     "output_type": "stream",
     "text": [
      "C:\\Users\\singh\\AppData\\Local\\Temp\\ipykernel_7852\\3620632353.py:6: FutureWarning: Pass y=[  3.   3.   2. ... -12. -12. -12.] as keyword args. From version 0.10 passing these as positional arguments will result in an error\n",
      "  spec = librosa.feature.melspectrogram(np.float32(samples),\n"
     ]
    },
    {
     "name": "stdout",
     "output_type": "stream",
     "text": [
      "93 : 128 : EmotionSpeech/Test/Happy/03-01-03-02-02-02-05.wav\n"
     ]
    },
    {
     "name": "stderr",
     "output_type": "stream",
     "text": [
      "C:\\Users\\singh\\AppData\\Local\\Temp\\ipykernel_7852\\3620632353.py:6: FutureWarning: Pass y=[ 0. -2. -2. ...  2.  1.  2.] as keyword args. From version 0.10 passing these as positional arguments will result in an error\n",
      "  spec = librosa.feature.melspectrogram(np.float32(samples),\n"
     ]
    },
    {
     "name": "stdout",
     "output_type": "stream",
     "text": [
      "94 : 128 : EmotionSpeech/Test/Happy/03-01-03-02-02-02-06.wav\n"
     ]
    },
    {
     "name": "stderr",
     "output_type": "stream",
     "text": [
      "C:\\Users\\singh\\AppData\\Local\\Temp\\ipykernel_7852\\3620632353.py:6: FutureWarning: Pass y=[ 1.  1.  2. ... 21. 17. 18.] as keyword args. From version 0.10 passing these as positional arguments will result in an error\n",
      "  spec = librosa.feature.melspectrogram(np.float32(samples),\n"
     ]
    },
    {
     "name": "stdout",
     "output_type": "stream",
     "text": [
      "95 : 128 : EmotionSpeech/Test/Happy/03-01-03-02-02-02-07.wav\n"
     ]
    },
    {
     "name": "stderr",
     "output_type": "stream",
     "text": [
      "C:\\Users\\singh\\AppData\\Local\\Temp\\ipykernel_7852\\3620632353.py:6: FutureWarning: Pass y=[0. 2. 7. ... 6. 5. 5.] as keyword args. From version 0.10 passing these as positional arguments will result in an error\n",
      "  spec = librosa.feature.melspectrogram(np.float32(samples),\n"
     ]
    },
    {
     "name": "stdout",
     "output_type": "stream",
     "text": [
      "96 : 128 : EmotionSpeech/Test/Happy/03-01-03-02-02-02-08.wav\n"
     ]
    },
    {
     "name": "stderr",
     "output_type": "stream",
     "text": [
      "C:\\Users\\singh\\AppData\\Local\\Temp\\ipykernel_7852\\3620632353.py:6: FutureWarning: Pass y=[-2. -1. -2. ... -4. -4. -5.] as keyword args. From version 0.10 passing these as positional arguments will result in an error\n",
      "  spec = librosa.feature.melspectrogram(np.float32(samples),\n"
     ]
    },
    {
     "name": "stdout",
     "output_type": "stream",
     "text": [
      "97 : 128 : EmotionSpeech/Test/Sad/03-01-04-01-01-01-05.wav\n"
     ]
    },
    {
     "name": "stderr",
     "output_type": "stream",
     "text": [
      "C:\\Users\\singh\\AppData\\Local\\Temp\\ipykernel_7852\\3620632353.py:6: FutureWarning: Pass y=[1. 0. 0. ... 2. 1. 3.] as keyword args. From version 0.10 passing these as positional arguments will result in an error\n",
      "  spec = librosa.feature.melspectrogram(np.float32(samples),\n"
     ]
    },
    {
     "name": "stdout",
     "output_type": "stream",
     "text": [
      "98 : 128 : EmotionSpeech/Test/Sad/03-01-04-01-01-01-06.wav\n",
      "99 : 128 : EmotionSpeech/Test/Sad/03-01-04-01-01-01-07.wav\n",
      "100 : 128 : EmotionSpeech/Test/Sad/03-01-04-01-01-01-08.wav\n"
     ]
    },
    {
     "name": "stderr",
     "output_type": "stream",
     "text": [
      "C:\\Users\\singh\\AppData\\Local\\Temp\\ipykernel_7852\\3620632353.py:6: FutureWarning: Pass y=[7. 8. 9. ... 3. 3. 3.] as keyword args. From version 0.10 passing these as positional arguments will result in an error\n",
      "  spec = librosa.feature.melspectrogram(np.float32(samples),\n"
     ]
    },
    {
     "name": "stdout",
     "output_type": "stream",
     "text": [
      "101 : 128 : EmotionSpeech/Test/Sad/03-01-04-01-01-02-05.wav\n",
      "102 : 128 : EmotionSpeech/Test/Sad/03-01-04-01-01-02-06.wav\n",
      "103 : 128 : EmotionSpeech/Test/Sad/03-01-04-01-01-02-07.wav\n",
      "104 : 128 : EmotionSpeech/Test/Sad/03-01-04-01-01-02-08.wav\n"
     ]
    },
    {
     "name": "stderr",
     "output_type": "stream",
     "text": [
      "C:\\Users\\singh\\AppData\\Local\\Temp\\ipykernel_7852\\3620632353.py:6: FutureWarning: Pass y=[0. 0. 0. ... 2. 2. 2.] as keyword args. From version 0.10 passing these as positional arguments will result in an error\n",
      "  spec = librosa.feature.melspectrogram(np.float32(samples),\n"
     ]
    },
    {
     "name": "stdout",
     "output_type": "stream",
     "text": [
      "105 : 128 : EmotionSpeech/Test/Sad/03-01-04-01-02-01-05.wav\n",
      "106 : 128 : EmotionSpeech/Test/Sad/03-01-04-01-02-01-06.wav\n",
      "107 : 128 : EmotionSpeech/Test/Sad/03-01-04-01-02-01-07.wav\n"
     ]
    },
    {
     "name": "stderr",
     "output_type": "stream",
     "text": [
      "C:\\Users\\singh\\AppData\\Local\\Temp\\ipykernel_7852\\3620632353.py:6: FutureWarning: Pass y=[ 0.  0.  0. ...  0. -1.  0.] as keyword args. From version 0.10 passing these as positional arguments will result in an error\n",
      "  spec = librosa.feature.melspectrogram(np.float32(samples),\n"
     ]
    },
    {
     "name": "stdout",
     "output_type": "stream",
     "text": [
      "108 : 128 : EmotionSpeech/Test/Sad/03-01-04-01-02-01-08.wav\n"
     ]
    },
    {
     "name": "stderr",
     "output_type": "stream",
     "text": [
      "C:\\Users\\singh\\AppData\\Local\\Temp\\ipykernel_7852\\3620632353.py:6: FutureWarning: Pass y=[ 0.  0.  0. ... -3. -4. -3.] as keyword args. From version 0.10 passing these as positional arguments will result in an error\n",
      "  spec = librosa.feature.melspectrogram(np.float32(samples),\n"
     ]
    },
    {
     "name": "stdout",
     "output_type": "stream",
     "text": [
      "109 : 128 : EmotionSpeech/Test/Sad/03-01-04-01-02-02-05.wav\n"
     ]
    },
    {
     "name": "stderr",
     "output_type": "stream",
     "text": [
      "C:\\Users\\singh\\AppData\\Local\\Temp\\ipykernel_7852\\3620632353.py:6: FutureWarning: Pass y=[2. 3. 2. ... 0. 1. 1.] as keyword args. From version 0.10 passing these as positional arguments will result in an error\n",
      "  spec = librosa.feature.melspectrogram(np.float32(samples),\n"
     ]
    },
    {
     "name": "stdout",
     "output_type": "stream",
     "text": [
      "110 : 128 : EmotionSpeech/Test/Sad/03-01-04-01-02-02-06.wav\n",
      "111 : 128 : EmotionSpeech/Test/Sad/03-01-04-01-02-02-07.wav\n"
     ]
    },
    {
     "name": "stderr",
     "output_type": "stream",
     "text": [
      "C:\\Users\\singh\\AppData\\Local\\Temp\\ipykernel_7852\\3620632353.py:6: FutureWarning: Pass y=[1. 2. 1. ... 1. 0. 0.] as keyword args. From version 0.10 passing these as positional arguments will result in an error\n",
      "  spec = librosa.feature.melspectrogram(np.float32(samples),\n"
     ]
    },
    {
     "name": "stdout",
     "output_type": "stream",
     "text": [
      "112 : 128 : EmotionSpeech/Test/Sad/03-01-04-01-02-02-08.wav\n"
     ]
    },
    {
     "name": "stderr",
     "output_type": "stream",
     "text": [
      "C:\\Users\\singh\\AppData\\Local\\Temp\\ipykernel_7852\\3620632353.py:6: FutureWarning: Pass y=[4. 4. 5. ... 6. 6. 6.] as keyword args. From version 0.10 passing these as positional arguments will result in an error\n",
      "  spec = librosa.feature.melspectrogram(np.float32(samples),\n"
     ]
    },
    {
     "name": "stdout",
     "output_type": "stream",
     "text": [
      "113 : 128 : EmotionSpeech/Test/Sad/03-01-04-02-01-01-05.wav\n"
     ]
    },
    {
     "name": "stderr",
     "output_type": "stream",
     "text": [
      "C:\\Users\\singh\\AppData\\Local\\Temp\\ipykernel_7852\\3620632353.py:6: FutureWarning: Pass y=[-1. -1. -1. ... -1. -1.  0.] as keyword args. From version 0.10 passing these as positional arguments will result in an error\n",
      "  spec = librosa.feature.melspectrogram(np.float32(samples),\n"
     ]
    },
    {
     "name": "stdout",
     "output_type": "stream",
     "text": [
      "114 : 128 : EmotionSpeech/Test/Sad/03-01-04-02-01-01-06.wav\n",
      "115 : 128 : EmotionSpeech/Test/Sad/03-01-04-02-01-01-07.wav\n"
     ]
    },
    {
     "name": "stderr",
     "output_type": "stream",
     "text": [
      "C:\\Users\\singh\\AppData\\Local\\Temp\\ipykernel_7852\\3620632353.py:6: FutureWarning: Pass y=[ 0.  0. -3. ...  0. -1. -1.] as keyword args. From version 0.10 passing these as positional arguments will result in an error\n",
      "  spec = librosa.feature.melspectrogram(np.float32(samples),\n"
     ]
    },
    {
     "name": "stdout",
     "output_type": "stream",
     "text": [
      "116 : 128 : EmotionSpeech/Test/Sad/03-01-04-02-01-01-08.wav\n"
     ]
    },
    {
     "name": "stderr",
     "output_type": "stream",
     "text": [
      "C:\\Users\\singh\\AppData\\Local\\Temp\\ipykernel_7852\\3620632353.py:6: FutureWarning: Pass y=[ 7.  6.  7. ...  0. -2. -4.] as keyword args. From version 0.10 passing these as positional arguments will result in an error\n",
      "  spec = librosa.feature.melspectrogram(np.float32(samples),\n"
     ]
    },
    {
     "name": "stdout",
     "output_type": "stream",
     "text": [
      "117 : 128 : EmotionSpeech/Test/Sad/03-01-04-02-01-02-05.wav\n",
      "118 : 128 : EmotionSpeech/Test/Sad/03-01-04-02-01-02-06.wav\n"
     ]
    },
    {
     "name": "stderr",
     "output_type": "stream",
     "text": [
      "C:\\Users\\singh\\AppData\\Local\\Temp\\ipykernel_7852\\3620632353.py:6: FutureWarning: Pass y=[ 8.  8.  7. ...  0. -1.  0.] as keyword args. From version 0.10 passing these as positional arguments will result in an error\n",
      "  spec = librosa.feature.melspectrogram(np.float32(samples),\n"
     ]
    },
    {
     "name": "stdout",
     "output_type": "stream",
     "text": [
      "119 : 128 : EmotionSpeech/Test/Sad/03-01-04-02-01-02-07.wav\n"
     ]
    },
    {
     "name": "stderr",
     "output_type": "stream",
     "text": [
      "C:\\Users\\singh\\AppData\\Local\\Temp\\ipykernel_7852\\3620632353.py:6: FutureWarning: Pass y=[-3. -3. -1. ... 35. 37. 34.] as keyword args. From version 0.10 passing these as positional arguments will result in an error\n",
      "  spec = librosa.feature.melspectrogram(np.float32(samples),\n"
     ]
    },
    {
     "name": "stdout",
     "output_type": "stream",
     "text": [
      "120 : 128 : EmotionSpeech/Test/Sad/03-01-04-02-01-02-08.wav\n"
     ]
    },
    {
     "name": "stderr",
     "output_type": "stream",
     "text": [
      "C:\\Users\\singh\\AppData\\Local\\Temp\\ipykernel_7852\\3620632353.py:6: FutureWarning: Pass y=[ 0.  0.  0. ... 25. 26. 26.] as keyword args. From version 0.10 passing these as positional arguments will result in an error\n",
      "  spec = librosa.feature.melspectrogram(np.float32(samples),\n"
     ]
    },
    {
     "name": "stdout",
     "output_type": "stream",
     "text": [
      "121 : 128 : EmotionSpeech/Test/Sad/03-01-04-02-02-01-05.wav\n"
     ]
    },
    {
     "name": "stderr",
     "output_type": "stream",
     "text": [
      "C:\\Users\\singh\\AppData\\Local\\Temp\\ipykernel_7852\\3620632353.py:6: FutureWarning: Pass y=[19. 18. 19. ...  0.  0.  0.] as keyword args. From version 0.10 passing these as positional arguments will result in an error\n",
      "  spec = librosa.feature.melspectrogram(np.float32(samples),\n"
     ]
    },
    {
     "name": "stdout",
     "output_type": "stream",
     "text": [
      "122 : 128 : EmotionSpeech/Test/Sad/03-01-04-02-02-01-06.wav\n",
      "123 : 128 : EmotionSpeech/Test/Sad/03-01-04-02-02-01-07.wav\n"
     ]
    },
    {
     "name": "stderr",
     "output_type": "stream",
     "text": [
      "C:\\Users\\singh\\AppData\\Local\\Temp\\ipykernel_7852\\3620632353.py:6: FutureWarning: Pass y=[  10.   17.   12. ... -126. -127. -129.] as keyword args. From version 0.10 passing these as positional arguments will result in an error\n",
      "  spec = librosa.feature.melspectrogram(np.float32(samples),\n"
     ]
    },
    {
     "name": "stdout",
     "output_type": "stream",
     "text": [
      "124 : 128 : EmotionSpeech/Test/Sad/03-01-04-02-02-01-08.wav\n"
     ]
    },
    {
     "name": "stderr",
     "output_type": "stream",
     "text": [
      "C:\\Users\\singh\\AppData\\Local\\Temp\\ipykernel_7852\\3620632353.py:6: FutureWarning: Pass y=[0. 0. 0. ... 2. 2. 3.] as keyword args. From version 0.10 passing these as positional arguments will result in an error\n",
      "  spec = librosa.feature.melspectrogram(np.float32(samples),\n"
     ]
    },
    {
     "name": "stdout",
     "output_type": "stream",
     "text": [
      "125 : 128 : EmotionSpeech/Test/Sad/03-01-04-02-02-02-05.wav\n",
      "126 : 128 : EmotionSpeech/Test/Sad/03-01-04-02-02-02-06.wav\n"
     ]
    },
    {
     "name": "stderr",
     "output_type": "stream",
     "text": [
      "C:\\Users\\singh\\AppData\\Local\\Temp\\ipykernel_7852\\3620632353.py:6: FutureWarning: Pass y=[1. 0. 1. ... 0. 0. 1.] as keyword args. From version 0.10 passing these as positional arguments will result in an error\n",
      "  spec = librosa.feature.melspectrogram(np.float32(samples),\n"
     ]
    },
    {
     "name": "stdout",
     "output_type": "stream",
     "text": [
      "127 : 128 : EmotionSpeech/Test/Sad/03-01-04-02-02-02-07.wav\n",
      "128 : 128 : EmotionSpeech/Test/Sad/03-01-04-02-02-02-08.wav\n"
     ]
    },
    {
     "name": "stderr",
     "output_type": "stream",
     "text": [
      "C:\\Users\\singh\\AppData\\Local\\Temp\\ipykernel_7852\\3620632353.py:6: FutureWarning: Pass y=[ 0.  0.  0. ... 76. 75. 73.] as keyword args. From version 0.10 passing these as positional arguments will result in an error\n",
      "  spec = librosa.feature.melspectrogram(np.float32(samples),\n"
     ]
    }
   ],
   "source": [
    "test_features_SC = []\n",
    "test_features_SBW = []\n",
    "test_features_SBE = []\n",
    "test_features_SFM = []\n",
    "test_features_SCF = []\n",
    "test_features_RE = []\n",
    "test_features_SE = []\n",
    "count = 0\n",
    "\n",
    "for filename in test_file_names:\n",
    "    count += 1\n",
    "    print (count, \":\", len(test_file_names), \":\", filename)\n",
    "    features = SC_extraction(filename)\n",
    "    test_features_SC.append(features)\n",
    "\n",
    "    features = SBW_extraction(filename)\n",
    "    test_features_SBW.append(features)\n",
    "\n",
    "    features = SBE_extraction(filename)\n",
    "    test_features_SBE.append(features)\n",
    "    \n",
    "    features = SFM_extraction(filename)\n",
    "    test_features_SFM.append(features)\n",
    "    \n",
    "    features = SCF_extraction(filename)\n",
    "    test_features_SCF.append(features)\n",
    "    \n",
    "    features = RE_extraction(filename)\n",
    "    test_features_RE.append(features)\n",
    "\n",
    "    features = SE_extraction(filename)\n",
    "    test_features_SE.append(features)\n",
    "    \n",
    "    \n",
    "with open('sc_mel_test.spc', 'wb') as fs:\n",
    "    pickle.dump(test_features_SC, fs)\n",
    "\n",
    "with open('sbw_mel_test.spc', 'wb') as fs:\n",
    "    pickle.dump(test_features_SBW, fs)\n",
    "\n",
    "with open('sbe_mel_test.spc', 'wb') as fs:\n",
    "    pickle.dump(test_features_SBE, fs)\n",
    "    \n",
    "with open('sfm_mel_test.spc', 'wb') as fs:\n",
    "    pickle.dump(test_features_SFM, fs)\n",
    "    \n",
    "with open('scf_mel_test.spc', 'wb') as fs:\n",
    "    pickle.dump(test_features_SCF, fs)\n",
    "    \n",
    "with open('re_mel_test.spc', 'wb') as fs:\n",
    "    pickle.dump(test_features_RE, fs)\n",
    "    \n",
    "with open('se_mel_test.spc', 'wb') as fs:\n",
    "    pickle.dump(test_features_SE, fs)"
   ]
  },
  {
   "cell_type": "code",
   "execution_count": 12,
   "id": "91b8bd5e",
   "metadata": {},
   "outputs": [
    {
     "name": "stdout",
     "output_type": "stream",
     "text": [
      "############################################################\n",
      "Testing spectral feature: sc_mel\n",
      "SVM accuracy for spectral feature: sc_mel  is:  0.4140625\n",
      "SVM confusion matrix\n",
      "  [[18  5  3  6]\n",
      " [ 6 16  5  5]\n",
      " [ 4  6 13  9]\n",
      " [ 6  7 13  6]]\n",
      "############################################################\n",
      "Testing spectral feature: sbw_mel\n",
      "SVM accuracy for spectral feature: sbw_mel  is:  0.4921875\n",
      "SVM confusion matrix\n",
      "  [[15  3  7  7]\n",
      " [ 3 17  3  9]\n",
      " [ 7 11 12  2]\n",
      " [ 4  6  3 19]]\n",
      "############################################################\n",
      "Testing spectral feature: sbe_mel\n",
      "SVM accuracy for spectral feature: sbe_mel  is:  0.5859375\n",
      "SVM confusion matrix\n",
      "  [[25  5  2  0]\n",
      " [ 6 24  1  1]\n",
      " [ 8  9 15  0]\n",
      " [ 7  5  9 11]]\n",
      "############################################################\n",
      "Testing spectral feature: sfm_mel\n",
      "SVM accuracy for spectral feature: sfm_mel  is:  0.25\n",
      "SVM confusion matrix\n",
      "  [[ 0  0  0 32]\n",
      " [ 0  0  0 32]\n",
      " [ 0  0  0 32]\n",
      " [ 0  0  0 32]]\n",
      "############################################################\n",
      "Testing spectral feature: re_mel\n",
      "SVM accuracy for spectral feature: re_mel  is:  0.390625\n",
      "SVM confusion matrix\n",
      "  [[10 10 10  2]\n",
      " [ 3 20  5  4]\n",
      " [ 8  6 13  5]\n",
      " [ 9  6 10  7]]\n",
      "############################################################\n",
      "Testing spectral feature: se_mel\n",
      "SVM accuracy for spectral feature: se_mel  is:  0.3671875\n",
      "SVM confusion matrix\n",
      "  [[13 10  3  6]\n",
      " [ 5 19  3  5]\n",
      " [11  7 10  4]\n",
      " [ 9 12  6  5]]\n",
      "############################################################\n"
     ]
    }
   ],
   "source": [
    "svm_classifier = svm.SVC(C=0.1, kernel = 'linear')\n",
    "\n",
    "#spectral_features_list = ['sc_mel', 'sbw_mel', 'sbe_mel', 'sfm_mel', 'scf_mel', 're_mel', 'se_mel'] #scf_mel hangs for some reason\n",
    "spectral_features_list = ['sc_mel', 'sbw_mel', 'sbe_mel', 'sfm_mel', 're_mel', 'se_mel']\n",
    "\n",
    "print(\"############################################################\")\n",
    "for spectral_feature in spectral_features_list:\n",
    "    training_features, test_features = None, None\n",
    "    train_name = spectral_feature + \"_train.spc\"\n",
    "    test_name = spectral_feature + \"_test.spc\"\n",
    "    print(\"Testing spectral feature:\", spectral_feature)\n",
    "    with open(train_name, 'rb') as f:\n",
    "        training_features = pickle.load(f)\n",
    "    with open(test_name, 'rb') as f:\n",
    "        test_features = pickle.load(f)\n",
    "        \n",
    "    svm_classifier.fit(training_features, training_emotion_labels)\n",
    "    \n",
    "    predicted_emotion_labels = svm_classifier.predict(test_features)\n",
    "    print(\"SVM accuracy for spectral feature:\", spectral_feature, \" is: \", \n",
    "          np.sum(predicted_emotion_labels == test_emotion_labels)/ len(test_emotion_labels))\n",
    "    cm = confusion_matrix(test_emotion_labels, predicted_emotion_labels)\n",
    "    print(\"SVM confusion matrix\\n \", cm)\n",
    "    print(\"############################################################\")\n"
   ]
  },
  {
   "cell_type": "markdown",
   "id": "1eaa5d86",
   "metadata": {},
   "source": [
    "#### 3. Speech emotion recognition using deep learning|"
   ]
  },
  {
   "cell_type": "code",
   "execution_count": 13,
   "id": "fb988450",
   "metadata": {},
   "outputs": [],
   "source": [
    "import torch\n",
    "import torchvision\n",
    "import torchvision.transforms as transforms\n",
    "import torch.nn as nn\n",
    "import torch.nn.functional as F\n",
    "import torch.optim as optim\n",
    "from torchvision import datasets\n",
    "import time"
   ]
  },
  {
   "cell_type": "code",
   "execution_count": 14,
   "id": "d8491b69",
   "metadata": {},
   "outputs": [],
   "source": [
    "import numpy as np\n",
    "import cv2 as cv\n",
    "\n",
    "# this method is used to normalise X into [0, 255]\n",
    "def scale(X):\n",
    "    X_min = X.min()\n",
    "    X_max = X.max()\n",
    "    X_scaled = (X - X_min) / (X_max - X_min) * 255\n",
    "    X_scaled = X_scaled.astype(np.uint8)\n",
    "    return X_scaled\n",
    "\n",
    "# this method saves X into image file.\n",
    "def spectrogram2image(X, filename):\n",
    "    X_scaled = scale(X)\n",
    "    cv.imwrite(filename, X_scaled)"
   ]
  },
  {
   "cell_type": "markdown",
   "id": "b2be81c7",
   "metadata": {},
   "source": [
    "#### Save spectrogram images to folder"
   ]
  },
  {
   "cell_type": "code",
   "execution_count": 38,
   "id": "bb62aa33",
   "metadata": {},
   "outputs": [
    {
     "name": "stderr",
     "output_type": "stream",
     "text": [
      "C:\\Users\\singh\\AppData\\Local\\Temp\\ipykernel_14356\\4136644315.py:9: FutureWarning: Pass y=[0. 0. 0. ... 0. 0. 0.] as keyword args. From version 0.10 passing these as positional arguments will result in an error\n",
      "  spec = librosa.feature.melspectrogram(np.float32(samples),\n"
     ]
    },
    {
     "name": "stdout",
     "output_type": "stream",
     "text": [
      "Angry\\03-01-05-01-01-01-01.jpg\n",
      "Angry\\03-01-05-01-01-01-02.jpg\n"
     ]
    },
    {
     "name": "stderr",
     "output_type": "stream",
     "text": [
      "C:\\Users\\singh\\AppData\\Local\\Temp\\ipykernel_14356\\4136644315.py:9: FutureWarning: Pass y=[-3. -5.  0. ...  4.  4.  5.] as keyword args. From version 0.10 passing these as positional arguments will result in an error\n",
      "  spec = librosa.feature.melspectrogram(np.float32(samples),\n"
     ]
    },
    {
     "name": "stdout",
     "output_type": "stream",
     "text": [
      "Angry\\03-01-05-01-01-01-03.jpg\n",
      "Angry\\03-01-05-01-01-01-04.jpg\n"
     ]
    },
    {
     "name": "stderr",
     "output_type": "stream",
     "text": [
      "C:\\Users\\singh\\AppData\\Local\\Temp\\ipykernel_14356\\4136644315.py:9: FutureWarning: Pass y=[1. 0. 0. ... 0. 0. 0.] as keyword args. From version 0.10 passing these as positional arguments will result in an error\n",
      "  spec = librosa.feature.melspectrogram(np.float32(samples),\n"
     ]
    },
    {
     "name": "stdout",
     "output_type": "stream",
     "text": [
      "Angry\\03-01-05-01-01-02-01.jpg\n"
     ]
    },
    {
     "name": "stderr",
     "output_type": "stream",
     "text": [
      "C:\\Users\\singh\\AppData\\Local\\Temp\\ipykernel_14356\\4136644315.py:9: FutureWarning: Pass y=[0. 0. 0. ... 0. 0. 1.] as keyword args. From version 0.10 passing these as positional arguments will result in an error\n",
      "  spec = librosa.feature.melspectrogram(np.float32(samples),\n"
     ]
    },
    {
     "name": "stdout",
     "output_type": "stream",
     "text": [
      "Angry\\03-01-05-01-01-02-02.jpg\n"
     ]
    },
    {
     "name": "stderr",
     "output_type": "stream",
     "text": [
      "C:\\Users\\singh\\AppData\\Local\\Temp\\ipykernel_14356\\4136644315.py:9: FutureWarning: Pass y=[ 0.  0.  0. ... -1.  0.  0.] as keyword args. From version 0.10 passing these as positional arguments will result in an error\n",
      "  spec = librosa.feature.melspectrogram(np.float32(samples),\n"
     ]
    },
    {
     "name": "stdout",
     "output_type": "stream",
     "text": [
      "Angry\\03-01-05-01-01-02-03.jpg\n",
      "Angry\\03-01-05-01-01-02-04.jpg\n"
     ]
    },
    {
     "name": "stderr",
     "output_type": "stream",
     "text": [
      "C:\\Users\\singh\\AppData\\Local\\Temp\\ipykernel_14356\\4136644315.py:9: FutureWarning: Pass y=[ 0.  0. -1. ...  0.  0.  0.] as keyword args. From version 0.10 passing these as positional arguments will result in an error\n",
      "  spec = librosa.feature.melspectrogram(np.float32(samples),\n"
     ]
    },
    {
     "name": "stdout",
     "output_type": "stream",
     "text": [
      "Angry\\03-01-05-01-02-01-01.jpg\n",
      "Angry\\03-01-05-01-02-01-02.jpg\n"
     ]
    },
    {
     "name": "stderr",
     "output_type": "stream",
     "text": [
      "C:\\Users\\singh\\AppData\\Local\\Temp\\ipykernel_14356\\4136644315.py:9: FutureWarning: Pass y=[0. 0. 0. ... 1. 5. 7.] as keyword args. From version 0.10 passing these as positional arguments will result in an error\n",
      "  spec = librosa.feature.melspectrogram(np.float32(samples),\n"
     ]
    },
    {
     "name": "stdout",
     "output_type": "stream",
     "text": [
      "Angry\\03-01-05-01-02-01-03.jpg\n",
      "Angry\\03-01-05-01-02-01-04.jpg\n",
      "Angry\\03-01-05-01-02-02-01.jpg\n",
      "Angry\\03-01-05-01-02-02-02.jpg\n"
     ]
    },
    {
     "name": "stderr",
     "output_type": "stream",
     "text": [
      "C:\\Users\\singh\\AppData\\Local\\Temp\\ipykernel_14356\\4136644315.py:9: FutureWarning: Pass y=[  -3.   -3.   -2. ... -199. -199. -199.] as keyword args. From version 0.10 passing these as positional arguments will result in an error\n",
      "  spec = librosa.feature.melspectrogram(np.float32(samples),\n"
     ]
    },
    {
     "name": "stdout",
     "output_type": "stream",
     "text": [
      "Angry\\03-01-05-01-02-02-03.jpg\n"
     ]
    },
    {
     "name": "stderr",
     "output_type": "stream",
     "text": [
      "C:\\Users\\singh\\AppData\\Local\\Temp\\ipykernel_14356\\4136644315.py:9: FutureWarning: Pass y=[1. 1. 2. ... 0. 0. 0.] as keyword args. From version 0.10 passing these as positional arguments will result in an error\n",
      "  spec = librosa.feature.melspectrogram(np.float32(samples),\n"
     ]
    },
    {
     "name": "stdout",
     "output_type": "stream",
     "text": [
      "Angry\\03-01-05-01-02-02-04.jpg\n"
     ]
    },
    {
     "name": "stderr",
     "output_type": "stream",
     "text": [
      "C:\\Users\\singh\\AppData\\Local\\Temp\\ipykernel_14356\\4136644315.py:9: FutureWarning: Pass y=[-27. -17. -18. ...   0.   0.   0.] as keyword args. From version 0.10 passing these as positional arguments will result in an error\n",
      "  spec = librosa.feature.melspectrogram(np.float32(samples),\n"
     ]
    },
    {
     "name": "stdout",
     "output_type": "stream",
     "text": [
      "Angry\\03-01-05-02-01-01-01.jpg\n",
      "Angry\\03-01-05-02-01-01-02.jpg\n"
     ]
    },
    {
     "name": "stderr",
     "output_type": "stream",
     "text": [
      "C:\\Users\\singh\\AppData\\Local\\Temp\\ipykernel_14356\\4136644315.py:9: FutureWarning: Pass y=[-7. -9.  4. ... -5. -5. -7.] as keyword args. From version 0.10 passing these as positional arguments will result in an error\n",
      "  spec = librosa.feature.melspectrogram(np.float32(samples),\n"
     ]
    },
    {
     "name": "stdout",
     "output_type": "stream",
     "text": [
      "Angry\\03-01-05-02-01-01-03.jpg\n",
      "Angry\\03-01-05-02-01-01-04.jpg\n"
     ]
    },
    {
     "name": "stderr",
     "output_type": "stream",
     "text": [
      "C:\\Users\\singh\\AppData\\Local\\Temp\\ipykernel_14356\\4136644315.py:9: FutureWarning: Pass y=[-22.  83. 104. ...   0.   0.   0.] as keyword args. From version 0.10 passing these as positional arguments will result in an error\n",
      "  spec = librosa.feature.melspectrogram(np.float32(samples),\n"
     ]
    },
    {
     "name": "stdout",
     "output_type": "stream",
     "text": [
      "Angry\\03-01-05-02-01-02-01.jpg\n",
      "Angry\\03-01-05-02-01-02-02.jpg\n"
     ]
    },
    {
     "name": "stderr",
     "output_type": "stream",
     "text": [
      "C:\\Users\\singh\\AppData\\Local\\Temp\\ipykernel_14356\\4136644315.py:9: FutureWarning: Pass y=[ 22.  19.  15. ... -59. -74. -48.] as keyword args. From version 0.10 passing these as positional arguments will result in an error\n",
      "  spec = librosa.feature.melspectrogram(np.float32(samples),\n"
     ]
    },
    {
     "name": "stdout",
     "output_type": "stream",
     "text": [
      "Angry\\03-01-05-02-01-02-03.jpg\n"
     ]
    },
    {
     "name": "stderr",
     "output_type": "stream",
     "text": [
      "C:\\Users\\singh\\AppData\\Local\\Temp\\ipykernel_14356\\4136644315.py:9: FutureWarning: Pass y=[0. 0. 0. ... 1. 2. 2.] as keyword args. From version 0.10 passing these as positional arguments will result in an error\n",
      "  spec = librosa.feature.melspectrogram(np.float32(samples),\n"
     ]
    },
    {
     "name": "stdout",
     "output_type": "stream",
     "text": [
      "Angry\\03-01-05-02-01-02-04.jpg\n"
     ]
    },
    {
     "name": "stderr",
     "output_type": "stream",
     "text": [
      "C:\\Users\\singh\\AppData\\Local\\Temp\\ipykernel_14356\\4136644315.py:9: FutureWarning: Pass y=[14. 20. 44. ... -8. -9.  2.] as keyword args. From version 0.10 passing these as positional arguments will result in an error\n",
      "  spec = librosa.feature.melspectrogram(np.float32(samples),\n"
     ]
    },
    {
     "name": "stdout",
     "output_type": "stream",
     "text": [
      "Angry\\03-01-05-02-02-01-01.jpg\n"
     ]
    },
    {
     "name": "stderr",
     "output_type": "stream",
     "text": [
      "C:\\Users\\singh\\AppData\\Local\\Temp\\ipykernel_14356\\4136644315.py:9: FutureWarning: Pass y=[0. 0. 0. ... 1. 0. 0.] as keyword args. From version 0.10 passing these as positional arguments will result in an error\n",
      "  spec = librosa.feature.melspectrogram(np.float32(samples),\n"
     ]
    },
    {
     "name": "stdout",
     "output_type": "stream",
     "text": [
      "Angry\\03-01-05-02-02-01-02.jpg\n"
     ]
    },
    {
     "name": "stderr",
     "output_type": "stream",
     "text": [
      "C:\\Users\\singh\\AppData\\Local\\Temp\\ipykernel_14356\\4136644315.py:9: FutureWarning: Pass y=[3. 0. 6. ... 6. 3. 3.] as keyword args. From version 0.10 passing these as positional arguments will result in an error\n",
      "  spec = librosa.feature.melspectrogram(np.float32(samples),\n"
     ]
    },
    {
     "name": "stdout",
     "output_type": "stream",
     "text": [
      "Angry\\03-01-05-02-02-01-03.jpg\n"
     ]
    },
    {
     "name": "stderr",
     "output_type": "stream",
     "text": [
      "C:\\Users\\singh\\AppData\\Local\\Temp\\ipykernel_14356\\4136644315.py:9: FutureWarning: Pass y=[0. 0. 0. ... 1. 1. 0.] as keyword args. From version 0.10 passing these as positional arguments will result in an error\n",
      "  spec = librosa.feature.melspectrogram(np.float32(samples),\n"
     ]
    },
    {
     "name": "stdout",
     "output_type": "stream",
     "text": [
      "Angry\\03-01-05-02-02-01-04.jpg\n"
     ]
    },
    {
     "name": "stderr",
     "output_type": "stream",
     "text": [
      "C:\\Users\\singh\\AppData\\Local\\Temp\\ipykernel_14356\\4136644315.py:9: FutureWarning: Pass y=[12. 11.  9. ... 17. 19. 25.] as keyword args. From version 0.10 passing these as positional arguments will result in an error\n",
      "  spec = librosa.feature.melspectrogram(np.float32(samples),\n"
     ]
    },
    {
     "name": "stdout",
     "output_type": "stream",
     "text": [
      "Angry\\03-01-05-02-02-02-01.jpg\n"
     ]
    },
    {
     "name": "stderr",
     "output_type": "stream",
     "text": [
      "C:\\Users\\singh\\AppData\\Local\\Temp\\ipykernel_14356\\4136644315.py:9: FutureWarning: Pass y=[0. 0. 0. ... 0. 1. 0.] as keyword args. From version 0.10 passing these as positional arguments will result in an error\n",
      "  spec = librosa.feature.melspectrogram(np.float32(samples),\n"
     ]
    },
    {
     "name": "stdout",
     "output_type": "stream",
     "text": [
      "Angry\\03-01-05-02-02-02-02.jpg\n"
     ]
    },
    {
     "name": "stderr",
     "output_type": "stream",
     "text": [
      "C:\\Users\\singh\\AppData\\Local\\Temp\\ipykernel_14356\\4136644315.py:9: FutureWarning: Pass y=[ 0.  1.  1. ... 24. 25. 36.] as keyword args. From version 0.10 passing these as positional arguments will result in an error\n",
      "  spec = librosa.feature.melspectrogram(np.float32(samples),\n"
     ]
    },
    {
     "name": "stdout",
     "output_type": "stream",
     "text": [
      "Angry\\03-01-05-02-02-02-03.jpg\n",
      "Angry\\03-01-05-02-02-02-04.jpg\n",
      "Calm\\03-01-02-01-01-01-01.jpg\n",
      "Calm\\03-01-02-01-01-01-02.jpg\n"
     ]
    },
    {
     "name": "stderr",
     "output_type": "stream",
     "text": [
      "C:\\Users\\singh\\AppData\\Local\\Temp\\ipykernel_14356\\4136644315.py:9: FutureWarning: Pass y=[ 0.  0.  0. ... -2. -1. -1.] as keyword args. From version 0.10 passing these as positional arguments will result in an error\n",
      "  spec = librosa.feature.melspectrogram(np.float32(samples),\n"
     ]
    },
    {
     "name": "stdout",
     "output_type": "stream",
     "text": [
      "Calm\\03-01-02-01-01-01-03.jpg\n",
      "Calm\\03-01-02-01-01-01-04.jpg\n",
      "Calm\\03-01-02-01-01-02-01.jpg\n",
      "Calm\\03-01-02-01-01-02-02.jpg\n"
     ]
    },
    {
     "name": "stderr",
     "output_type": "stream",
     "text": [
      "C:\\Users\\singh\\AppData\\Local\\Temp\\ipykernel_14356\\4136644315.py:9: FutureWarning: Pass y=[ 0.  0.  0. ... -2. -3. -2.] as keyword args. From version 0.10 passing these as positional arguments will result in an error\n",
      "  spec = librosa.feature.melspectrogram(np.float32(samples),\n"
     ]
    },
    {
     "name": "stdout",
     "output_type": "stream",
     "text": [
      "Calm\\03-01-02-01-01-02-03.jpg\n",
      "Calm\\03-01-02-01-01-02-04.jpg\n",
      "Calm\\03-01-02-01-02-01-01.jpg\n"
     ]
    },
    {
     "name": "stderr",
     "output_type": "stream",
     "text": [
      "C:\\Users\\singh\\AppData\\Local\\Temp\\ipykernel_14356\\4136644315.py:9: FutureWarning: Pass y=[0. 0. 0. ... 1. 0. 1.] as keyword args. From version 0.10 passing these as positional arguments will result in an error\n",
      "  spec = librosa.feature.melspectrogram(np.float32(samples),\n"
     ]
    },
    {
     "name": "stdout",
     "output_type": "stream",
     "text": [
      "Calm\\03-01-02-01-02-01-02.jpg\n",
      "Calm\\03-01-02-01-02-01-03.jpg\n"
     ]
    },
    {
     "name": "stderr",
     "output_type": "stream",
     "text": [
      "C:\\Users\\singh\\AppData\\Local\\Temp\\ipykernel_14356\\4136644315.py:9: FutureWarning: Pass y=[0. 0. 0. ... 3. 1. 2.] as keyword args. From version 0.10 passing these as positional arguments will result in an error\n",
      "  spec = librosa.feature.melspectrogram(np.float32(samples),\n"
     ]
    },
    {
     "name": "stdout",
     "output_type": "stream",
     "text": [
      "Calm\\03-01-02-01-02-01-04.jpg\n"
     ]
    },
    {
     "name": "stderr",
     "output_type": "stream",
     "text": [
      "C:\\Users\\singh\\AppData\\Local\\Temp\\ipykernel_14356\\4136644315.py:9: FutureWarning: Pass y=[0. 0. 1. ... 0. 0. 0.] as keyword args. From version 0.10 passing these as positional arguments will result in an error\n",
      "  spec = librosa.feature.melspectrogram(np.float32(samples),\n"
     ]
    },
    {
     "name": "stdout",
     "output_type": "stream",
     "text": [
      "Calm\\03-01-02-01-02-02-01.jpg\n",
      "Calm\\03-01-02-01-02-02-02.jpg\n"
     ]
    },
    {
     "name": "stderr",
     "output_type": "stream",
     "text": [
      "C:\\Users\\singh\\AppData\\Local\\Temp\\ipykernel_14356\\4136644315.py:9: FutureWarning: Pass y=[0. 0. 0. ... 4. 4. 3.] as keyword args. From version 0.10 passing these as positional arguments will result in an error\n",
      "  spec = librosa.feature.melspectrogram(np.float32(samples),\n"
     ]
    },
    {
     "name": "stdout",
     "output_type": "stream",
     "text": [
      "Calm\\03-01-02-01-02-02-03.jpg\n",
      "Calm\\03-01-02-01-02-02-04.jpg\n"
     ]
    },
    {
     "name": "stderr",
     "output_type": "stream",
     "text": [
      "C:\\Users\\singh\\AppData\\Local\\Temp\\ipykernel_14356\\4136644315.py:9: FutureWarning: Pass y=[ 0.  0. -1. ... -1. -1. -1.] as keyword args. From version 0.10 passing these as positional arguments will result in an error\n",
      "  spec = librosa.feature.melspectrogram(np.float32(samples),\n"
     ]
    },
    {
     "name": "stdout",
     "output_type": "stream",
     "text": [
      "Calm\\03-01-02-02-01-01-01.jpg\n",
      "Calm\\03-01-02-02-01-01-02.jpg\n"
     ]
    },
    {
     "name": "stderr",
     "output_type": "stream",
     "text": [
      "C:\\Users\\singh\\AppData\\Local\\Temp\\ipykernel_14356\\4136644315.py:9: FutureWarning: Pass y=[ 0.  0.  0. ...  0.  0. -2.] as keyword args. From version 0.10 passing these as positional arguments will result in an error\n",
      "  spec = librosa.feature.melspectrogram(np.float32(samples),\n"
     ]
    },
    {
     "name": "stdout",
     "output_type": "stream",
     "text": [
      "Calm\\03-01-02-02-01-01-03.jpg\n",
      "Calm\\03-01-02-02-01-01-04.jpg\n",
      "Calm\\03-01-02-02-01-02-01.jpg\n",
      "Calm\\03-01-02-02-01-02-02.jpg\n"
     ]
    },
    {
     "name": "stderr",
     "output_type": "stream",
     "text": [
      "C:\\Users\\singh\\AppData\\Local\\Temp\\ipykernel_14356\\4136644315.py:9: FutureWarning: Pass y=[ 0.  0.  0. ...  0.  0. -1.] as keyword args. From version 0.10 passing these as positional arguments will result in an error\n",
      "  spec = librosa.feature.melspectrogram(np.float32(samples),\n"
     ]
    },
    {
     "name": "stdout",
     "output_type": "stream",
     "text": [
      "Calm\\03-01-02-02-01-02-03.jpg\n",
      "Calm\\03-01-02-02-01-02-04.jpg\n"
     ]
    },
    {
     "name": "stderr",
     "output_type": "stream",
     "text": [
      "C:\\Users\\singh\\AppData\\Local\\Temp\\ipykernel_14356\\4136644315.py:9: FutureWarning: Pass y=[ 1.  1.  1. ...  0. -1.  0.] as keyword args. From version 0.10 passing these as positional arguments will result in an error\n",
      "  spec = librosa.feature.melspectrogram(np.float32(samples),\n"
     ]
    },
    {
     "name": "stdout",
     "output_type": "stream",
     "text": [
      "Calm\\03-01-02-02-02-01-01.jpg\n",
      "Calm\\03-01-02-02-02-01-02.jpg\n"
     ]
    },
    {
     "name": "stderr",
     "output_type": "stream",
     "text": [
      "C:\\Users\\singh\\AppData\\Local\\Temp\\ipykernel_14356\\4136644315.py:9: FutureWarning: Pass y=[ 0. -1. -1. ... -7. -8. -8.] as keyword args. From version 0.10 passing these as positional arguments will result in an error\n",
      "  spec = librosa.feature.melspectrogram(np.float32(samples),\n"
     ]
    },
    {
     "name": "stdout",
     "output_type": "stream",
     "text": [
      "Calm\\03-01-02-02-02-01-03.jpg\n"
     ]
    },
    {
     "name": "stderr",
     "output_type": "stream",
     "text": [
      "C:\\Users\\singh\\AppData\\Local\\Temp\\ipykernel_14356\\4136644315.py:9: FutureWarning: Pass y=[ 0.  0.  0. ... -1.  0. -1.] as keyword args. From version 0.10 passing these as positional arguments will result in an error\n",
      "  spec = librosa.feature.melspectrogram(np.float32(samples),\n"
     ]
    },
    {
     "name": "stdout",
     "output_type": "stream",
     "text": [
      "Calm\\03-01-02-02-02-01-04.jpg\n",
      "Calm\\03-01-02-02-02-02-01.jpg\n",
      "Calm\\03-01-02-02-02-02-02.jpg\n"
     ]
    },
    {
     "name": "stderr",
     "output_type": "stream",
     "text": [
      "C:\\Users\\singh\\AppData\\Local\\Temp\\ipykernel_14356\\4136644315.py:9: FutureWarning: Pass y=[2. 0. 1. ... 7. 6. 5.] as keyword args. From version 0.10 passing these as positional arguments will result in an error\n",
      "  spec = librosa.feature.melspectrogram(np.float32(samples),\n"
     ]
    },
    {
     "name": "stdout",
     "output_type": "stream",
     "text": [
      "Calm\\03-01-02-02-02-02-03.jpg\n",
      "Calm\\03-01-02-02-02-02-04.jpg\n",
      "Happy\\03-01-03-01-01-01-01.jpg\n",
      "Happy\\03-01-03-01-01-01-02.jpg\n"
     ]
    },
    {
     "name": "stderr",
     "output_type": "stream",
     "text": [
      "C:\\Users\\singh\\AppData\\Local\\Temp\\ipykernel_14356\\4136644315.py:9: FutureWarning: Pass y=[1. 3. 2. ... 0. 0. 0.] as keyword args. From version 0.10 passing these as positional arguments will result in an error\n",
      "  spec = librosa.feature.melspectrogram(np.float32(samples),\n"
     ]
    },
    {
     "name": "stdout",
     "output_type": "stream",
     "text": [
      "Happy\\03-01-03-01-01-01-03.jpg\n",
      "Happy\\03-01-03-01-01-01-04.jpg\n",
      "Happy\\03-01-03-01-01-02-01.jpg\n",
      "Happy\\03-01-03-01-01-02-02.jpg\n"
     ]
    },
    {
     "name": "stderr",
     "output_type": "stream",
     "text": [
      "C:\\Users\\singh\\AppData\\Local\\Temp\\ipykernel_14356\\4136644315.py:9: FutureWarning: Pass y=[15. 22.  2. ... -1. -1. -1.] as keyword args. From version 0.10 passing these as positional arguments will result in an error\n",
      "  spec = librosa.feature.melspectrogram(np.float32(samples),\n"
     ]
    },
    {
     "name": "stdout",
     "output_type": "stream",
     "text": [
      "Happy\\03-01-03-01-01-02-03.jpg\n",
      "Happy\\03-01-03-01-01-02-04.jpg\n",
      "Happy\\03-01-03-01-02-01-01.jpg\n",
      "Happy\\03-01-03-01-02-01-02.jpg\n"
     ]
    },
    {
     "name": "stderr",
     "output_type": "stream",
     "text": [
      "C:\\Users\\singh\\AppData\\Local\\Temp\\ipykernel_14356\\4136644315.py:9: FutureWarning: Pass y=[0. 0. 0. ... 2. 2. 0.] as keyword args. From version 0.10 passing these as positional arguments will result in an error\n",
      "  spec = librosa.feature.melspectrogram(np.float32(samples),\n"
     ]
    },
    {
     "name": "stdout",
     "output_type": "stream",
     "text": [
      "Happy\\03-01-03-01-02-01-03.jpg\n",
      "Happy\\03-01-03-01-02-01-04.jpg\n"
     ]
    },
    {
     "name": "stderr",
     "output_type": "stream",
     "text": [
      "C:\\Users\\singh\\AppData\\Local\\Temp\\ipykernel_14356\\4136644315.py:9: FutureWarning: Pass y=[0. 1. 0. ... 0. 0. 0.] as keyword args. From version 0.10 passing these as positional arguments will result in an error\n",
      "  spec = librosa.feature.melspectrogram(np.float32(samples),\n"
     ]
    },
    {
     "name": "stdout",
     "output_type": "stream",
     "text": [
      "Happy\\03-01-03-01-02-02-01.jpg\n",
      "Happy\\03-01-03-01-02-02-02.jpg\n",
      "Happy\\03-01-03-01-02-02-03.jpg\n",
      "Happy\\03-01-03-01-02-02-04.jpg\n",
      "Happy\\03-01-03-02-01-01-01.jpg\n",
      "Happy\\03-01-03-02-01-01-02.jpg\n"
     ]
    },
    {
     "name": "stderr",
     "output_type": "stream",
     "text": [
      "C:\\Users\\singh\\AppData\\Local\\Temp\\ipykernel_14356\\4136644315.py:9: FutureWarning: Pass y=[1. 0. 0. ... 0. 0. 1.] as keyword args. From version 0.10 passing these as positional arguments will result in an error\n",
      "  spec = librosa.feature.melspectrogram(np.float32(samples),\n"
     ]
    },
    {
     "name": "stdout",
     "output_type": "stream",
     "text": [
      "Happy\\03-01-03-02-01-01-03.jpg\n"
     ]
    },
    {
     "name": "stderr",
     "output_type": "stream",
     "text": [
      "C:\\Users\\singh\\AppData\\Local\\Temp\\ipykernel_14356\\4136644315.py:9: FutureWarning: Pass y=[ 0.  0.  0. ...  0. -1.  0.] as keyword args. From version 0.10 passing these as positional arguments will result in an error\n",
      "  spec = librosa.feature.melspectrogram(np.float32(samples),\n"
     ]
    },
    {
     "name": "stdout",
     "output_type": "stream",
     "text": [
      "Happy\\03-01-03-02-01-01-04.jpg\n",
      "Happy\\03-01-03-02-01-02-01.jpg\n",
      "Happy\\03-01-03-02-01-02-02.jpg\n"
     ]
    },
    {
     "name": "stderr",
     "output_type": "stream",
     "text": [
      "C:\\Users\\singh\\AppData\\Local\\Temp\\ipykernel_14356\\4136644315.py:9: FutureWarning: Pass y=[7. 5. 2. ... 0. 1. 0.] as keyword args. From version 0.10 passing these as positional arguments will result in an error\n",
      "  spec = librosa.feature.melspectrogram(np.float32(samples),\n"
     ]
    },
    {
     "name": "stdout",
     "output_type": "stream",
     "text": [
      "Happy\\03-01-03-02-01-02-03.jpg\n",
      "Happy\\03-01-03-02-01-02-04.jpg\n",
      "Happy\\03-01-03-02-02-01-01.jpg\n",
      "Happy\\03-01-03-02-02-01-02.jpg\n"
     ]
    },
    {
     "name": "stderr",
     "output_type": "stream",
     "text": [
      "C:\\Users\\singh\\AppData\\Local\\Temp\\ipykernel_14356\\4136644315.py:9: FutureWarning: Pass y=[-9. -8. -9. ... -6. -8. -6.] as keyword args. From version 0.10 passing these as positional arguments will result in an error\n",
      "  spec = librosa.feature.melspectrogram(np.float32(samples),\n"
     ]
    },
    {
     "name": "stdout",
     "output_type": "stream",
     "text": [
      "Happy\\03-01-03-02-02-01-03.jpg\n",
      "Happy\\03-01-03-02-02-01-04.jpg\n",
      "Happy\\03-01-03-02-02-02-01.jpg\n",
      "Happy\\03-01-03-02-02-02-02.jpg\n"
     ]
    },
    {
     "name": "stderr",
     "output_type": "stream",
     "text": [
      "C:\\Users\\singh\\AppData\\Local\\Temp\\ipykernel_14356\\4136644315.py:9: FutureWarning: Pass y=[ 23.  -5. -33. ...  11.  12.  12.] as keyword args. From version 0.10 passing these as positional arguments will result in an error\n",
      "  spec = librosa.feature.melspectrogram(np.float32(samples),\n"
     ]
    },
    {
     "name": "stdout",
     "output_type": "stream",
     "text": [
      "Happy\\03-01-03-02-02-02-03.jpg\n",
      "Happy\\03-01-03-02-02-02-04.jpg\n"
     ]
    },
    {
     "name": "stderr",
     "output_type": "stream",
     "text": [
      "C:\\Users\\singh\\AppData\\Local\\Temp\\ipykernel_14356\\4136644315.py:9: FutureWarning: Pass y=[-1.  0.  0. ...  0.  0.  0.] as keyword args. From version 0.10 passing these as positional arguments will result in an error\n",
      "  spec = librosa.feature.melspectrogram(np.float32(samples),\n"
     ]
    },
    {
     "name": "stdout",
     "output_type": "stream",
     "text": [
      "Sad\\03-01-04-01-01-01-01.jpg\n",
      "Sad\\03-01-04-01-01-01-02.jpg\n"
     ]
    },
    {
     "name": "stderr",
     "output_type": "stream",
     "text": [
      "C:\\Users\\singh\\AppData\\Local\\Temp\\ipykernel_14356\\4136644315.py:9: FutureWarning: Pass y=[ 0.  0.  0. ... -5. -6. -4.] as keyword args. From version 0.10 passing these as positional arguments will result in an error\n",
      "  spec = librosa.feature.melspectrogram(np.float32(samples),\n"
     ]
    },
    {
     "name": "stdout",
     "output_type": "stream",
     "text": [
      "Sad\\03-01-04-01-01-01-03.jpg\n",
      "Sad\\03-01-04-01-01-01-04.jpg\n",
      "Sad\\03-01-04-01-01-02-01.jpg\n",
      "Sad\\03-01-04-01-01-02-02.jpg\n"
     ]
    },
    {
     "name": "stderr",
     "output_type": "stream",
     "text": [
      "C:\\Users\\singh\\AppData\\Local\\Temp\\ipykernel_14356\\4136644315.py:9: FutureWarning: Pass y=[0. 0. 0. ... 2. 1. 1.] as keyword args. From version 0.10 passing these as positional arguments will result in an error\n",
      "  spec = librosa.feature.melspectrogram(np.float32(samples),\n"
     ]
    },
    {
     "name": "stdout",
     "output_type": "stream",
     "text": [
      "Sad\\03-01-04-01-01-02-03.jpg\n",
      "Sad\\03-01-04-01-01-02-04.jpg\n",
      "Sad\\03-01-04-01-02-01-01.jpg\n",
      "Sad\\03-01-04-01-02-01-02.jpg\n"
     ]
    },
    {
     "name": "stderr",
     "output_type": "stream",
     "text": [
      "C:\\Users\\singh\\AppData\\Local\\Temp\\ipykernel_14356\\4136644315.py:9: FutureWarning: Pass y=[  0.   0.   0. ... -12. -11. -11.] as keyword args. From version 0.10 passing these as positional arguments will result in an error\n",
      "  spec = librosa.feature.melspectrogram(np.float32(samples),\n"
     ]
    },
    {
     "name": "stdout",
     "output_type": "stream",
     "text": [
      "Sad\\03-01-04-01-02-01-03.jpg\n",
      "Sad\\03-01-04-01-02-01-04.jpg\n",
      "Sad\\03-01-04-01-02-02-01.jpg\n"
     ]
    },
    {
     "name": "stderr",
     "output_type": "stream",
     "text": [
      "C:\\Users\\singh\\AppData\\Local\\Temp\\ipykernel_14356\\4136644315.py:9: FutureWarning: Pass y=[0. 0. 0. ... 0. 1. 1.] as keyword args. From version 0.10 passing these as positional arguments will result in an error\n",
      "  spec = librosa.feature.melspectrogram(np.float32(samples),\n"
     ]
    },
    {
     "name": "stdout",
     "output_type": "stream",
     "text": [
      "Sad\\03-01-04-01-02-02-02.jpg\n"
     ]
    },
    {
     "name": "stderr",
     "output_type": "stream",
     "text": [
      "C:\\Users\\singh\\AppData\\Local\\Temp\\ipykernel_14356\\4136644315.py:9: FutureWarning: Pass y=[-1.  0. -1. ...  8.  8.  8.] as keyword args. From version 0.10 passing these as positional arguments will result in an error\n",
      "  spec = librosa.feature.melspectrogram(np.float32(samples),\n"
     ]
    },
    {
     "name": "stdout",
     "output_type": "stream",
     "text": [
      "Sad\\03-01-04-01-02-02-03.jpg\n",
      "Sad\\03-01-04-01-02-02-04.jpg\n",
      "Sad\\03-01-04-02-01-01-01.jpg\n",
      "Sad\\03-01-04-02-01-01-02.jpg\n"
     ]
    },
    {
     "name": "stderr",
     "output_type": "stream",
     "text": [
      "C:\\Users\\singh\\AppData\\Local\\Temp\\ipykernel_14356\\4136644315.py:9: FutureWarning: Pass y=[ 1.  0.  1. ... -2.  0. -2.] as keyword args. From version 0.10 passing these as positional arguments will result in an error\n",
      "  spec = librosa.feature.melspectrogram(np.float32(samples),\n"
     ]
    },
    {
     "name": "stdout",
     "output_type": "stream",
     "text": [
      "Sad\\03-01-04-02-01-01-03.jpg\n",
      "Sad\\03-01-04-02-01-01-04.jpg\n",
      "Sad\\03-01-04-02-01-02-01.jpg\n",
      "Sad\\03-01-04-02-01-02-02.jpg\n"
     ]
    },
    {
     "name": "stderr",
     "output_type": "stream",
     "text": [
      "C:\\Users\\singh\\AppData\\Local\\Temp\\ipykernel_14356\\4136644315.py:9: FutureWarning: Pass y=[-22. -23. -23. ...   0.   2.   2.] as keyword args. From version 0.10 passing these as positional arguments will result in an error\n",
      "  spec = librosa.feature.melspectrogram(np.float32(samples),\n"
     ]
    },
    {
     "name": "stdout",
     "output_type": "stream",
     "text": [
      "Sad\\03-01-04-02-01-02-03.jpg\n"
     ]
    },
    {
     "name": "stderr",
     "output_type": "stream",
     "text": [
      "C:\\Users\\singh\\AppData\\Local\\Temp\\ipykernel_14356\\4136644315.py:9: FutureWarning: Pass y=[-4. -4. -4. ...  0.  0.  0.] as keyword args. From version 0.10 passing these as positional arguments will result in an error\n",
      "  spec = librosa.feature.melspectrogram(np.float32(samples),\n"
     ]
    },
    {
     "name": "stdout",
     "output_type": "stream",
     "text": [
      "Sad\\03-01-04-02-01-02-04.jpg\n",
      "Sad\\03-01-04-02-02-01-01.jpg\n",
      "Sad\\03-01-04-02-02-01-02.jpg\n"
     ]
    },
    {
     "name": "stderr",
     "output_type": "stream",
     "text": [
      "C:\\Users\\singh\\AppData\\Local\\Temp\\ipykernel_14356\\4136644315.py:9: FutureWarning: Pass y=[   0.    0.   -1. ... -357. -323.  -45.] as keyword args. From version 0.10 passing these as positional arguments will result in an error\n",
      "  spec = librosa.feature.melspectrogram(np.float32(samples),\n"
     ]
    },
    {
     "name": "stdout",
     "output_type": "stream",
     "text": [
      "Sad\\03-01-04-02-02-01-03.jpg\n",
      "Sad\\03-01-04-02-02-01-04.jpg\n",
      "Sad\\03-01-04-02-02-02-01.jpg\n",
      "Sad\\03-01-04-02-02-02-02.jpg\n"
     ]
    },
    {
     "name": "stderr",
     "output_type": "stream",
     "text": [
      "C:\\Users\\singh\\AppData\\Local\\Temp\\ipykernel_14356\\4136644315.py:9: FutureWarning: Pass y=[ 0.  0.  0. ... 81. 80. 80.] as keyword args. From version 0.10 passing these as positional arguments will result in an error\n",
      "  spec = librosa.feature.melspectrogram(np.float32(samples),\n"
     ]
    },
    {
     "name": "stdout",
     "output_type": "stream",
     "text": [
      "Sad\\03-01-04-02-02-02-03.jpg\n",
      "Sad\\03-01-04-02-02-02-04.jpg\n"
     ]
    },
    {
     "name": "stderr",
     "output_type": "stream",
     "text": [
      "C:\\Users\\singh\\AppData\\Local\\Temp\\ipykernel_14356\\4136644315.py:33: FutureWarning: Pass y=[-2. -2. -1. ... -1. -1. -2.] as keyword args. From version 0.10 passing these as positional arguments will result in an error\n",
      "  spec = librosa.feature.melspectrogram(np.float32(samples),\n",
      "C:\\Users\\singh\\AppData\\Local\\Temp\\ipykernel_14356\\4136644315.py:33: FutureWarning: Pass y=[0. 0. 0. ... 0. 0. 0.] as keyword args. From version 0.10 passing these as positional arguments will result in an error\n",
      "  spec = librosa.feature.melspectrogram(np.float32(samples),\n",
      "C:\\Users\\singh\\AppData\\Local\\Temp\\ipykernel_14356\\4136644315.py:33: FutureWarning: Pass y=[  0.   1.   1. ... -27. -26. -27.] as keyword args. From version 0.10 passing these as positional arguments will result in an error\n",
      "  spec = librosa.feature.melspectrogram(np.float32(samples),\n",
      "C:\\Users\\singh\\AppData\\Local\\Temp\\ipykernel_14356\\4136644315.py:33: FutureWarning: Pass y=[-2. -2. -2. ...  7. 14. 19.] as keyword args. From version 0.10 passing these as positional arguments will result in an error\n",
      "  spec = librosa.feature.melspectrogram(np.float32(samples),\n",
      "C:\\Users\\singh\\AppData\\Local\\Temp\\ipykernel_14356\\4136644315.py:33: FutureWarning: Pass y=[0. 0. 0. ... 6. 5. 6.] as keyword args. From version 0.10 passing these as positional arguments will result in an error\n",
      "  spec = librosa.feature.melspectrogram(np.float32(samples),\n",
      "C:\\Users\\singh\\AppData\\Local\\Temp\\ipykernel_14356\\4136644315.py:33: FutureWarning: Pass y=[  2.   2.   3. ... -71. -71. -72.] as keyword args. From version 0.10 passing these as positional arguments will result in an error\n",
      "  spec = librosa.feature.melspectrogram(np.float32(samples),\n",
      "C:\\Users\\singh\\AppData\\Local\\Temp\\ipykernel_14356\\4136644315.py:33: FutureWarning: Pass y=[  0.   0.  -1. ... -86. -71. -78.] as keyword args. From version 0.10 passing these as positional arguments will result in an error\n",
      "  spec = librosa.feature.melspectrogram(np.float32(samples),\n",
      "C:\\Users\\singh\\AppData\\Local\\Temp\\ipykernel_14356\\4136644315.py:33: FutureWarning: Pass y=[0. 0. 1. ... 0. 0. 0.] as keyword args. From version 0.10 passing these as positional arguments will result in an error\n",
      "  spec = librosa.feature.melspectrogram(np.float32(samples),\n",
      "C:\\Users\\singh\\AppData\\Local\\Temp\\ipykernel_14356\\4136644315.py:33: FutureWarning: Pass y=[ 0.  0.  0. ...  0.  0. -1.] as keyword args. From version 0.10 passing these as positional arguments will result in an error\n",
      "  spec = librosa.feature.melspectrogram(np.float32(samples),\n",
      "C:\\Users\\singh\\AppData\\Local\\Temp\\ipykernel_14356\\4136644315.py:33: FutureWarning: Pass y=[-3. -3. -3. ...  6.  7.  6.] as keyword args. From version 0.10 passing these as positional arguments will result in an error\n",
      "  spec = librosa.feature.melspectrogram(np.float32(samples),\n",
      "C:\\Users\\singh\\AppData\\Local\\Temp\\ipykernel_14356\\4136644315.py:33: FutureWarning: Pass y=[-1.  0. -1. ...  0.  0.  0.] as keyword args. From version 0.10 passing these as positional arguments will result in an error\n",
      "  spec = librosa.feature.melspectrogram(np.float32(samples),\n",
      "C:\\Users\\singh\\AppData\\Local\\Temp\\ipykernel_14356\\4136644315.py:33: FutureWarning: Pass y=[-6. -6. -7. ...  7.  7.  4.] as keyword args. From version 0.10 passing these as positional arguments will result in an error\n",
      "  spec = librosa.feature.melspectrogram(np.float32(samples),\n",
      "C:\\Users\\singh\\AppData\\Local\\Temp\\ipykernel_14356\\4136644315.py:33: FutureWarning: Pass y=[2. 1. 1. ... 0. 0. 0.] as keyword args. From version 0.10 passing these as positional arguments will result in an error\n",
      "  spec = librosa.feature.melspectrogram(np.float32(samples),\n",
      "C:\\Users\\singh\\AppData\\Local\\Temp\\ipykernel_14356\\4136644315.py:33: FutureWarning: Pass y=[0. 0. 0. ... 1. 0. 0.] as keyword args. From version 0.10 passing these as positional arguments will result in an error\n",
      "  spec = librosa.feature.melspectrogram(np.float32(samples),\n",
      "C:\\Users\\singh\\AppData\\Local\\Temp\\ipykernel_14356\\4136644315.py:33: FutureWarning: Pass y=[-20. -21. -20. ...  76.  75.  74.] as keyword args. From version 0.10 passing these as positional arguments will result in an error\n",
      "  spec = librosa.feature.melspectrogram(np.float32(samples),\n",
      "C:\\Users\\singh\\AppData\\Local\\Temp\\ipykernel_14356\\4136644315.py:33: FutureWarning: Pass y=[ 6.  6.  5. ... -5. -5. -6.] as keyword args. From version 0.10 passing these as positional arguments will result in an error\n",
      "  spec = librosa.feature.melspectrogram(np.float32(samples),\n",
      "C:\\Users\\singh\\AppData\\Local\\Temp\\ipykernel_14356\\4136644315.py:33: FutureWarning: Pass y=[-3. -2. -2. ... 13. 14. 14.] as keyword args. From version 0.10 passing these as positional arguments will result in an error\n",
      "  spec = librosa.feature.melspectrogram(np.float32(samples),\n",
      "C:\\Users\\singh\\AppData\\Local\\Temp\\ipykernel_14356\\4136644315.py:33: FutureWarning: Pass y=[35. 27. 18. ...  0. -1.  0.] as keyword args. From version 0.10 passing these as positional arguments will result in an error\n",
      "  spec = librosa.feature.melspectrogram(np.float32(samples),\n",
      "C:\\Users\\singh\\AppData\\Local\\Temp\\ipykernel_14356\\4136644315.py:33: FutureWarning: Pass y=[  4.   4.   4. ... -69. -66. -66.] as keyword args. From version 0.10 passing these as positional arguments will result in an error\n",
      "  spec = librosa.feature.melspectrogram(np.float32(samples),\n",
      "C:\\Users\\singh\\AppData\\Local\\Temp\\ipykernel_14356\\4136644315.py:33: FutureWarning: Pass y=[0. 0. 0. ... 1. 1. 1.] as keyword args. From version 0.10 passing these as positional arguments will result in an error\n",
      "  spec = librosa.feature.melspectrogram(np.float32(samples),\n",
      "C:\\Users\\singh\\AppData\\Local\\Temp\\ipykernel_14356\\4136644315.py:33: FutureWarning: Pass y=[ 0.  0.  0. ...  0. -1. -1.] as keyword args. From version 0.10 passing these as positional arguments will result in an error\n",
      "  spec = librosa.feature.melspectrogram(np.float32(samples),\n",
      "C:\\Users\\singh\\AppData\\Local\\Temp\\ipykernel_14356\\4136644315.py:33: FutureWarning: Pass y=[ 0. -1.  0. ...  0. -1. -1.] as keyword args. From version 0.10 passing these as positional arguments will result in an error\n",
      "  spec = librosa.feature.melspectrogram(np.float32(samples),\n",
      "C:\\Users\\singh\\AppData\\Local\\Temp\\ipykernel_14356\\4136644315.py:33: FutureWarning: Pass y=[-2. -2. -2. ...  0.  1.  0.] as keyword args. From version 0.10 passing these as positional arguments will result in an error\n",
      "  spec = librosa.feature.melspectrogram(np.float32(samples),\n",
      "C:\\Users\\singh\\AppData\\Local\\Temp\\ipykernel_14356\\4136644315.py:33: FutureWarning: Pass y=[5. 3. 4. ... 0. 0. 0.] as keyword args. From version 0.10 passing these as positional arguments will result in an error\n",
      "  spec = librosa.feature.melspectrogram(np.float32(samples),\n",
      "C:\\Users\\singh\\AppData\\Local\\Temp\\ipykernel_14356\\4136644315.py:33: FutureWarning: Pass y=[1. 1. 1. ... 0. 0. 0.] as keyword args. From version 0.10 passing these as positional arguments will result in an error\n",
      "  spec = librosa.feature.melspectrogram(np.float32(samples),\n",
      "C:\\Users\\singh\\AppData\\Local\\Temp\\ipykernel_14356\\4136644315.py:33: FutureWarning: Pass y=[6. 2. 0. ... 0. 0. 0.] as keyword args. From version 0.10 passing these as positional arguments will result in an error\n",
      "  spec = librosa.feature.melspectrogram(np.float32(samples),\n",
      "C:\\Users\\singh\\AppData\\Local\\Temp\\ipykernel_14356\\4136644315.py:33: FutureWarning: Pass y=[  1.   1.   1. ... -12. -10. -10.] as keyword args. From version 0.10 passing these as positional arguments will result in an error\n",
      "  spec = librosa.feature.melspectrogram(np.float32(samples),\n",
      "C:\\Users\\singh\\AppData\\Local\\Temp\\ipykernel_14356\\4136644315.py:33: FutureWarning: Pass y=[6. 5. 7. ... 1. 1. 1.] as keyword args. From version 0.10 passing these as positional arguments will result in an error\n",
      "  spec = librosa.feature.melspectrogram(np.float32(samples),\n",
      "C:\\Users\\singh\\AppData\\Local\\Temp\\ipykernel_14356\\4136644315.py:33: FutureWarning: Pass y=[ 0.  0.  0. ... -1. -1. -1.] as keyword args. From version 0.10 passing these as positional arguments will result in an error\n",
      "  spec = librosa.feature.melspectrogram(np.float32(samples),\n",
      "C:\\Users\\singh\\AppData\\Local\\Temp\\ipykernel_14356\\4136644315.py:33: FutureWarning: Pass y=[1. 1. 0. ... 0. 0. 0.] as keyword args. From version 0.10 passing these as positional arguments will result in an error\n",
      "  spec = librosa.feature.melspectrogram(np.float32(samples),\n"
     ]
    },
    {
     "name": "stderr",
     "output_type": "stream",
     "text": [
      "C:\\Users\\singh\\AppData\\Local\\Temp\\ipykernel_14356\\4136644315.py:33: FutureWarning: Pass y=[1. 2. 2. ... 0. 0. 0.] as keyword args. From version 0.10 passing these as positional arguments will result in an error\n",
      "  spec = librosa.feature.melspectrogram(np.float32(samples),\n",
      "C:\\Users\\singh\\AppData\\Local\\Temp\\ipykernel_14356\\4136644315.py:33: FutureWarning: Pass y=[1. 0. 0. ... 2. 3. 2.] as keyword args. From version 0.10 passing these as positional arguments will result in an error\n",
      "  spec = librosa.feature.melspectrogram(np.float32(samples),\n",
      "C:\\Users\\singh\\AppData\\Local\\Temp\\ipykernel_14356\\4136644315.py:33: FutureWarning: Pass y=[0. 0. 0. ... 3. 4. 3.] as keyword args. From version 0.10 passing these as positional arguments will result in an error\n",
      "  spec = librosa.feature.melspectrogram(np.float32(samples),\n",
      "C:\\Users\\singh\\AppData\\Local\\Temp\\ipykernel_14356\\4136644315.py:33: FutureWarning: Pass y=[2. 2. 2. ... 0. 0. 0.] as keyword args. From version 0.10 passing these as positional arguments will result in an error\n",
      "  spec = librosa.feature.melspectrogram(np.float32(samples),\n",
      "C:\\Users\\singh\\AppData\\Local\\Temp\\ipykernel_14356\\4136644315.py:33: FutureWarning: Pass y=[0. 0. 0. ... 1. 2. 2.] as keyword args. From version 0.10 passing these as positional arguments will result in an error\n",
      "  spec = librosa.feature.melspectrogram(np.float32(samples),\n",
      "C:\\Users\\singh\\AppData\\Local\\Temp\\ipykernel_14356\\4136644315.py:33: FutureWarning: Pass y=[ 3.  3.  2. ... -4. -4. -4.] as keyword args. From version 0.10 passing these as positional arguments will result in an error\n",
      "  spec = librosa.feature.melspectrogram(np.float32(samples),\n",
      "C:\\Users\\singh\\AppData\\Local\\Temp\\ipykernel_14356\\4136644315.py:33: FutureWarning: Pass y=[-7. -6. -6. ...  1.  1.  2.] as keyword args. From version 0.10 passing these as positional arguments will result in an error\n",
      "  spec = librosa.feature.melspectrogram(np.float32(samples),\n",
      "C:\\Users\\singh\\AppData\\Local\\Temp\\ipykernel_14356\\4136644315.py:33: FutureWarning: Pass y=[ 1.  1.  0. ... -2. -2. -2.] as keyword args. From version 0.10 passing these as positional arguments will result in an error\n",
      "  spec = librosa.feature.melspectrogram(np.float32(samples),\n",
      "C:\\Users\\singh\\AppData\\Local\\Temp\\ipykernel_14356\\4136644315.py:33: FutureWarning: Pass y=[-2.  0.  0. ...  0.  0.  0.] as keyword args. From version 0.10 passing these as positional arguments will result in an error\n",
      "  spec = librosa.feature.melspectrogram(np.float32(samples),\n",
      "C:\\Users\\singh\\AppData\\Local\\Temp\\ipykernel_14356\\4136644315.py:33: FutureWarning: Pass y=[4. 5. 4. ... 0. 1. 0.] as keyword args. From version 0.10 passing these as positional arguments will result in an error\n",
      "  spec = librosa.feature.melspectrogram(np.float32(samples),\n",
      "C:\\Users\\singh\\AppData\\Local\\Temp\\ipykernel_14356\\4136644315.py:33: FutureWarning: Pass y=[ 0.  0.  1. ... -5. -6. -4.] as keyword args. From version 0.10 passing these as positional arguments will result in an error\n",
      "  spec = librosa.feature.melspectrogram(np.float32(samples),\n",
      "C:\\Users\\singh\\AppData\\Local\\Temp\\ipykernel_14356\\4136644315.py:33: FutureWarning: Pass y=[ 12.  11.   0. ... -35. -36. -36.] as keyword args. From version 0.10 passing these as positional arguments will result in an error\n",
      "  spec = librosa.feature.melspectrogram(np.float32(samples),\n",
      "C:\\Users\\singh\\AppData\\Local\\Temp\\ipykernel_14356\\4136644315.py:33: FutureWarning: Pass y=[ 0. -1. -1. ... -1.  0.  0.] as keyword args. From version 0.10 passing these as positional arguments will result in an error\n",
      "  spec = librosa.feature.melspectrogram(np.float32(samples),\n",
      "C:\\Users\\singh\\AppData\\Local\\Temp\\ipykernel_14356\\4136644315.py:33: FutureWarning: Pass y=[ 0.  0. -1. ...  0.  0.  0.] as keyword args. From version 0.10 passing these as positional arguments will result in an error\n",
      "  spec = librosa.feature.melspectrogram(np.float32(samples),\n",
      "C:\\Users\\singh\\AppData\\Local\\Temp\\ipykernel_14356\\4136644315.py:33: FutureWarning: Pass y=[-3. -3. -3. ... -2. -2. -2.] as keyword args. From version 0.10 passing these as positional arguments will result in an error\n",
      "  spec = librosa.feature.melspectrogram(np.float32(samples),\n",
      "C:\\Users\\singh\\AppData\\Local\\Temp\\ipykernel_14356\\4136644315.py:33: FutureWarning: Pass y=[-1. -1. -1. ...  0.  0.  0.] as keyword args. From version 0.10 passing these as positional arguments will result in an error\n",
      "  spec = librosa.feature.melspectrogram(np.float32(samples),\n",
      "C:\\Users\\singh\\AppData\\Local\\Temp\\ipykernel_14356\\4136644315.py:33: FutureWarning: Pass y=[ 0.  0.  0. ... -1.  0. -1.] as keyword args. From version 0.10 passing these as positional arguments will result in an error\n",
      "  spec = librosa.feature.melspectrogram(np.float32(samples),\n",
      "C:\\Users\\singh\\AppData\\Local\\Temp\\ipykernel_14356\\4136644315.py:33: FutureWarning: Pass y=[-5. -5. -5. ... -3. -3. -3.] as keyword args. From version 0.10 passing these as positional arguments will result in an error\n",
      "  spec = librosa.feature.melspectrogram(np.float32(samples),\n",
      "C:\\Users\\singh\\AppData\\Local\\Temp\\ipykernel_14356\\4136644315.py:33: FutureWarning: Pass y=[2. 2. 3. ... 2. 2. 3.] as keyword args. From version 0.10 passing these as positional arguments will result in an error\n",
      "  spec = librosa.feature.melspectrogram(np.float32(samples),\n",
      "C:\\Users\\singh\\AppData\\Local\\Temp\\ipykernel_14356\\4136644315.py:33: FutureWarning: Pass y=[-2. -2. -3. ...  4.  4.  4.] as keyword args. From version 0.10 passing these as positional arguments will result in an error\n",
      "  spec = librosa.feature.melspectrogram(np.float32(samples),\n",
      "C:\\Users\\singh\\AppData\\Local\\Temp\\ipykernel_14356\\4136644315.py:33: FutureWarning: Pass y=[2. 2. 2. ... 2. 2. 2.] as keyword args. From version 0.10 passing these as positional arguments will result in an error\n",
      "  spec = librosa.feature.melspectrogram(np.float32(samples),\n",
      "C:\\Users\\singh\\AppData\\Local\\Temp\\ipykernel_14356\\4136644315.py:33: FutureWarning: Pass y=[0. 0. 0. ... 0. 0. 1.] as keyword args. From version 0.10 passing these as positional arguments will result in an error\n",
      "  spec = librosa.feature.melspectrogram(np.float32(samples),\n",
      "C:\\Users\\singh\\AppData\\Local\\Temp\\ipykernel_14356\\4136644315.py:33: FutureWarning: Pass y=[0. 0. 0. ... 3. 2. 2.] as keyword args. From version 0.10 passing these as positional arguments will result in an error\n",
      "  spec = librosa.feature.melspectrogram(np.float32(samples),\n",
      "C:\\Users\\singh\\AppData\\Local\\Temp\\ipykernel_14356\\4136644315.py:33: FutureWarning: Pass y=[-2. -2. -1. ... 10. 10. 10.] as keyword args. From version 0.10 passing these as positional arguments will result in an error\n",
      "  spec = librosa.feature.melspectrogram(np.float32(samples),\n",
      "C:\\Users\\singh\\AppData\\Local\\Temp\\ipykernel_14356\\4136644315.py:33: FutureWarning: Pass y=[ 1.  2.  2. ... -5. -4. -5.] as keyword args. From version 0.10 passing these as positional arguments will result in an error\n",
      "  spec = librosa.feature.melspectrogram(np.float32(samples),\n",
      "C:\\Users\\singh\\AppData\\Local\\Temp\\ipykernel_14356\\4136644315.py:33: FutureWarning: Pass y=[ 2.  2.  1. ... -2. -1. -1.] as keyword args. From version 0.10 passing these as positional arguments will result in an error\n",
      "  spec = librosa.feature.melspectrogram(np.float32(samples),\n",
      "C:\\Users\\singh\\AppData\\Local\\Temp\\ipykernel_14356\\4136644315.py:33: FutureWarning: Pass y=[1. 1. 2. ... 0. 0. 0.] as keyword args. From version 0.10 passing these as positional arguments will result in an error\n",
      "  spec = librosa.feature.melspectrogram(np.float32(samples),\n",
      "C:\\Users\\singh\\AppData\\Local\\Temp\\ipykernel_14356\\4136644315.py:33: FutureWarning: Pass y=[ 0.  0. -1. ...  5.  7.  5.] as keyword args. From version 0.10 passing these as positional arguments will result in an error\n",
      "  spec = librosa.feature.melspectrogram(np.float32(samples),\n",
      "C:\\Users\\singh\\AppData\\Local\\Temp\\ipykernel_14356\\4136644315.py:33: FutureWarning: Pass y=[ 1.  0. -1. ...  2.  2.  5.] as keyword args. From version 0.10 passing these as positional arguments will result in an error\n",
      "  spec = librosa.feature.melspectrogram(np.float32(samples),\n",
      "C:\\Users\\singh\\AppData\\Local\\Temp\\ipykernel_14356\\4136644315.py:33: FutureWarning: Pass y=[-3. -3. -2. ...  0. -2. -2.] as keyword args. From version 0.10 passing these as positional arguments will result in an error\n",
      "  spec = librosa.feature.melspectrogram(np.float32(samples),\n"
     ]
    },
    {
     "name": "stderr",
     "output_type": "stream",
     "text": [
      "C:\\Users\\singh\\AppData\\Local\\Temp\\ipykernel_14356\\4136644315.py:33: FutureWarning: Pass y=[0. 0. 0. ... 3. 3. 3.] as keyword args. From version 0.10 passing these as positional arguments will result in an error\n",
      "  spec = librosa.feature.melspectrogram(np.float32(samples),\n",
      "C:\\Users\\singh\\AppData\\Local\\Temp\\ipykernel_14356\\4136644315.py:33: FutureWarning: Pass y=[ 0. 13. 21. ...  1.  0.  0.] as keyword args. From version 0.10 passing these as positional arguments will result in an error\n",
      "  spec = librosa.feature.melspectrogram(np.float32(samples),\n",
      "C:\\Users\\singh\\AppData\\Local\\Temp\\ipykernel_14356\\4136644315.py:33: FutureWarning: Pass y=[ 2.  2.  2. ... -1. -1.  0.] as keyword args. From version 0.10 passing these as positional arguments will result in an error\n",
      "  spec = librosa.feature.melspectrogram(np.float32(samples),\n",
      "C:\\Users\\singh\\AppData\\Local\\Temp\\ipykernel_14356\\4136644315.py:33: FutureWarning: Pass y=[-5. -5. -5. ...  1.  0.  0.] as keyword args. From version 0.10 passing these as positional arguments will result in an error\n",
      "  spec = librosa.feature.melspectrogram(np.float32(samples),\n",
      "C:\\Users\\singh\\AppData\\Local\\Temp\\ipykernel_14356\\4136644315.py:33: FutureWarning: Pass y=[-1.  0.  0. ...  0.  0.  0.] as keyword args. From version 0.10 passing these as positional arguments will result in an error\n",
      "  spec = librosa.feature.melspectrogram(np.float32(samples),\n",
      "C:\\Users\\singh\\AppData\\Local\\Temp\\ipykernel_14356\\4136644315.py:33: FutureWarning: Pass y=[ -2.  -2.  -1. ... -15. -14. -13.] as keyword args. From version 0.10 passing these as positional arguments will result in an error\n",
      "  spec = librosa.feature.melspectrogram(np.float32(samples),\n",
      "C:\\Users\\singh\\AppData\\Local\\Temp\\ipykernel_14356\\4136644315.py:33: FutureWarning: Pass y=[  3.   3.   2. ... -12. -12. -12.] as keyword args. From version 0.10 passing these as positional arguments will result in an error\n",
      "  spec = librosa.feature.melspectrogram(np.float32(samples),\n",
      "C:\\Users\\singh\\AppData\\Local\\Temp\\ipykernel_14356\\4136644315.py:33: FutureWarning: Pass y=[ 0. -2. -2. ...  2.  1.  2.] as keyword args. From version 0.10 passing these as positional arguments will result in an error\n",
      "  spec = librosa.feature.melspectrogram(np.float32(samples),\n",
      "C:\\Users\\singh\\AppData\\Local\\Temp\\ipykernel_14356\\4136644315.py:33: FutureWarning: Pass y=[ 1.  1.  2. ... 21. 17. 18.] as keyword args. From version 0.10 passing these as positional arguments will result in an error\n",
      "  spec = librosa.feature.melspectrogram(np.float32(samples),\n",
      "C:\\Users\\singh\\AppData\\Local\\Temp\\ipykernel_14356\\4136644315.py:33: FutureWarning: Pass y=[0. 2. 7. ... 6. 5. 5.] as keyword args. From version 0.10 passing these as positional arguments will result in an error\n",
      "  spec = librosa.feature.melspectrogram(np.float32(samples),\n",
      "C:\\Users\\singh\\AppData\\Local\\Temp\\ipykernel_14356\\4136644315.py:33: FutureWarning: Pass y=[-2. -1. -2. ... -4. -4. -5.] as keyword args. From version 0.10 passing these as positional arguments will result in an error\n",
      "  spec = librosa.feature.melspectrogram(np.float32(samples),\n",
      "C:\\Users\\singh\\AppData\\Local\\Temp\\ipykernel_14356\\4136644315.py:33: FutureWarning: Pass y=[1. 0. 0. ... 2. 1. 3.] as keyword args. From version 0.10 passing these as positional arguments will result in an error\n",
      "  spec = librosa.feature.melspectrogram(np.float32(samples),\n",
      "C:\\Users\\singh\\AppData\\Local\\Temp\\ipykernel_14356\\4136644315.py:33: FutureWarning: Pass y=[7. 8. 9. ... 3. 3. 3.] as keyword args. From version 0.10 passing these as positional arguments will result in an error\n",
      "  spec = librosa.feature.melspectrogram(np.float32(samples),\n",
      "C:\\Users\\singh\\AppData\\Local\\Temp\\ipykernel_14356\\4136644315.py:33: FutureWarning: Pass y=[0. 0. 0. ... 2. 2. 2.] as keyword args. From version 0.10 passing these as positional arguments will result in an error\n",
      "  spec = librosa.feature.melspectrogram(np.float32(samples),\n",
      "C:\\Users\\singh\\AppData\\Local\\Temp\\ipykernel_14356\\4136644315.py:33: FutureWarning: Pass y=[ 0.  0.  0. ...  0. -1.  0.] as keyword args. From version 0.10 passing these as positional arguments will result in an error\n",
      "  spec = librosa.feature.melspectrogram(np.float32(samples),\n",
      "C:\\Users\\singh\\AppData\\Local\\Temp\\ipykernel_14356\\4136644315.py:33: FutureWarning: Pass y=[ 0.  0.  0. ... -3. -4. -3.] as keyword args. From version 0.10 passing these as positional arguments will result in an error\n",
      "  spec = librosa.feature.melspectrogram(np.float32(samples),\n",
      "C:\\Users\\singh\\AppData\\Local\\Temp\\ipykernel_14356\\4136644315.py:33: FutureWarning: Pass y=[2. 3. 2. ... 0. 1. 1.] as keyword args. From version 0.10 passing these as positional arguments will result in an error\n",
      "  spec = librosa.feature.melspectrogram(np.float32(samples),\n",
      "C:\\Users\\singh\\AppData\\Local\\Temp\\ipykernel_14356\\4136644315.py:33: FutureWarning: Pass y=[1. 2. 1. ... 1. 0. 0.] as keyword args. From version 0.10 passing these as positional arguments will result in an error\n",
      "  spec = librosa.feature.melspectrogram(np.float32(samples),\n",
      "C:\\Users\\singh\\AppData\\Local\\Temp\\ipykernel_14356\\4136644315.py:33: FutureWarning: Pass y=[4. 4. 5. ... 6. 6. 6.] as keyword args. From version 0.10 passing these as positional arguments will result in an error\n",
      "  spec = librosa.feature.melspectrogram(np.float32(samples),\n",
      "C:\\Users\\singh\\AppData\\Local\\Temp\\ipykernel_14356\\4136644315.py:33: FutureWarning: Pass y=[-1. -1. -1. ... -1. -1.  0.] as keyword args. From version 0.10 passing these as positional arguments will result in an error\n",
      "  spec = librosa.feature.melspectrogram(np.float32(samples),\n",
      "C:\\Users\\singh\\AppData\\Local\\Temp\\ipykernel_14356\\4136644315.py:33: FutureWarning: Pass y=[ 0.  0. -3. ...  0. -1. -1.] as keyword args. From version 0.10 passing these as positional arguments will result in an error\n",
      "  spec = librosa.feature.melspectrogram(np.float32(samples),\n",
      "C:\\Users\\singh\\AppData\\Local\\Temp\\ipykernel_14356\\4136644315.py:33: FutureWarning: Pass y=[ 7.  6.  7. ...  0. -2. -4.] as keyword args. From version 0.10 passing these as positional arguments will result in an error\n",
      "  spec = librosa.feature.melspectrogram(np.float32(samples),\n",
      "C:\\Users\\singh\\AppData\\Local\\Temp\\ipykernel_14356\\4136644315.py:33: FutureWarning: Pass y=[ 8.  8.  7. ...  0. -1.  0.] as keyword args. From version 0.10 passing these as positional arguments will result in an error\n",
      "  spec = librosa.feature.melspectrogram(np.float32(samples),\n",
      "C:\\Users\\singh\\AppData\\Local\\Temp\\ipykernel_14356\\4136644315.py:33: FutureWarning: Pass y=[-3. -3. -1. ... 35. 37. 34.] as keyword args. From version 0.10 passing these as positional arguments will result in an error\n",
      "  spec = librosa.feature.melspectrogram(np.float32(samples),\n",
      "C:\\Users\\singh\\AppData\\Local\\Temp\\ipykernel_14356\\4136644315.py:33: FutureWarning: Pass y=[ 0.  0.  0. ... 25. 26. 26.] as keyword args. From version 0.10 passing these as positional arguments will result in an error\n",
      "  spec = librosa.feature.melspectrogram(np.float32(samples),\n",
      "C:\\Users\\singh\\AppData\\Local\\Temp\\ipykernel_14356\\4136644315.py:33: FutureWarning: Pass y=[19. 18. 19. ...  0.  0.  0.] as keyword args. From version 0.10 passing these as positional arguments will result in an error\n",
      "  spec = librosa.feature.melspectrogram(np.float32(samples),\n",
      "C:\\Users\\singh\\AppData\\Local\\Temp\\ipykernel_14356\\4136644315.py:33: FutureWarning: Pass y=[  10.   17.   12. ... -126. -127. -129.] as keyword args. From version 0.10 passing these as positional arguments will result in an error\n",
      "  spec = librosa.feature.melspectrogram(np.float32(samples),\n",
      "C:\\Users\\singh\\AppData\\Local\\Temp\\ipykernel_14356\\4136644315.py:33: FutureWarning: Pass y=[0. 0. 0. ... 2. 2. 3.] as keyword args. From version 0.10 passing these as positional arguments will result in an error\n",
      "  spec = librosa.feature.melspectrogram(np.float32(samples),\n",
      "C:\\Users\\singh\\AppData\\Local\\Temp\\ipykernel_14356\\4136644315.py:33: FutureWarning: Pass y=[1. 0. 1. ... 0. 0. 1.] as keyword args. From version 0.10 passing these as positional arguments will result in an error\n",
      "  spec = librosa.feature.melspectrogram(np.float32(samples),\n",
      "C:\\Users\\singh\\AppData\\Local\\Temp\\ipykernel_14356\\4136644315.py:33: FutureWarning: Pass y=[ 0.  0.  0. ... 76. 75. 73.] as keyword args. From version 0.10 passing these as positional arguments will result in an error\n",
      "  spec = librosa.feature.melspectrogram(np.float32(samples),\n"
     ]
    }
   ],
   "source": [
    "basepath = \"C:\\\\Users\\\\singh\\\\Documents\\\\MastersAppliedAIDeakin\\\\SIT789_CompVision_SpeechProcessing\\\\Practicals\\\\\"\n",
    "savepath_train = basepath + \"spectrogram_train_images\\\\\"\n",
    "savepath_test = basepath + \"spectrogram_test_images\\\\\"\n",
    "\n",
    "for filename in training_file_names:\n",
    "    speech = AudioSegment.from_wav(filename)\n",
    "    samples = speech.get_array_of_samples()\n",
    "    sampling_rate = speech.frame_rate\n",
    "    spec = librosa.feature.melspectrogram(np.float32(samples),\n",
    "                                         hop_length = int(sampling_rate * hop_duration),\n",
    "                                         n_fft = n_freq,\n",
    "                                         n_mels = n_mel_freq,\n",
    "                                         power = 1)\n",
    "    spec_db = librosa.amplitude_to_db(spec, ref=np.max)\n",
    "    \n",
    "    file_basename = os.path.basename(filename)\n",
    "    if \"Angry\" in filename:\n",
    "        filename_jpg = \"Angry\\\\\" + file_basename[:file_basename.rfind(\".\")] + \".jpg\"\n",
    "    if \"Calm\" in filename:\n",
    "        filename_jpg = \"Calm\\\\\" + file_basename[:file_basename.rfind(\".\")] + \".jpg\"\n",
    "    if \"Happy\" in filename:\n",
    "        filename_jpg = \"Happy\\\\\" + file_basename[:file_basename.rfind(\".\")] + \".jpg\"\n",
    "    if \"Sad\" in filename:\n",
    "        filename_jpg = \"Sad\\\\\" + file_basename[:file_basename.rfind(\".\")] + \".jpg\"\n",
    "\n",
    "    print(filename_jpg)\n",
    "    spectrogram2image(spec_db, savepath_train + filename_jpg)\n",
    "    \n",
    "for filename in test_file_names:\n",
    "    speech = AudioSegment.from_wav(filename)\n",
    "    samples = speech.get_array_of_samples()\n",
    "    sampling_rate = speech.frame_rate\n",
    "    spec = librosa.feature.melspectrogram(np.float32(samples),\n",
    "                                         hop_length = int(sampling_rate * hop_duration),\n",
    "                                         n_fft = n_freq,\n",
    "                                         n_mels = n_mel_freq,\n",
    "                                         power = 1)\n",
    "    spec_db = librosa.amplitude_to_db(spec, ref=np.max)\n",
    "\n",
    "    file_basename = os.path.basename(filename)\n",
    "    if \"Angry\" in filename:\n",
    "        filename_jpg = \"Angry\\\\\" + file_basename[:file_basename.rfind(\".\")] + \".jpg\"\n",
    "    if \"Calm\" in filename:\n",
    "        filename_jpg = \"Calm\\\\\" + file_basename[:file_basename.rfind(\".\")] + \".jpg\"\n",
    "    if \"Happy\" in filename:\n",
    "        filename_jpg = \"Happy\\\\\" + file_basename[:file_basename.rfind(\".\")] + \".jpg\"\n",
    "    if \"Sad\" in filename:\n",
    "        filename_jpg = \"Sad\\\\\" + file_basename[:file_basename.rfind(\".\")] + \".jpg\"\n",
    "        \n",
    "    spectrogram2image(spec_db, savepath_test + filename_jpg)"
   ]
  },
  {
   "cell_type": "code",
   "execution_count": 39,
   "id": "ec12681f",
   "metadata": {},
   "outputs": [],
   "source": [
    "transform = transforms.Compose(\n",
    "    [transforms.Resize((150, 50)),\n",
    "     transforms.Grayscale(num_output_channels=1),\n",
    "     transforms.ToTensor(),\n",
    "     transforms.Normalize((0.5), (0.5))])\n",
    "\n",
    "trainset = datasets.ImageFolder(savepath_train, transform=transform)\n",
    "trainloader = torch.utils.data.DataLoader(trainset,\n",
    "                                          batch_size=8, #process only 4 images at a time\n",
    "                                          shuffle=True, num_workers=2)\n",
    "\n",
    "testset = datasets.ImageFolder(savepath_test, transform=transform)\n",
    "testloader = torch.utils.data.DataLoader(testset,\n",
    "                                         batch_size=4, #process only 4 images at a time\n",
    "                                         shuffle=False, num_workers=2)\n",
    "classes = ('Angry', 'Calm', 'Happy', 'Sad')"
   ]
  },
  {
   "cell_type": "code",
   "execution_count": 40,
   "id": "c098956e",
   "metadata": {},
   "outputs": [
    {
     "name": "stdout",
     "output_type": "stream",
     "text": [
      "tensor([3, 3, 1, 2, 0, 0, 3, 3])\n",
      "tensor([0, 0, 3, 0, 3, 0, 1, 0])\n",
      "tensor([0, 1, 3, 1, 1, 0, 2, 0])\n",
      "tensor([3, 1, 2, 0, 2, 3, 2, 2])\n",
      "tensor([1, 3, 3, 3, 2, 3, 3, 2])\n",
      "tensor([2, 1, 0, 3, 0, 3, 3, 2])\n",
      "tensor([1, 1, 1, 1, 3, 2, 1, 1])\n",
      "tensor([3, 2, 3, 2, 3, 0, 2, 1])\n",
      "tensor([0, 1, 1, 3, 0, 0, 1, 1])\n",
      "tensor([0, 0, 1, 2, 2, 2, 0, 2])\n",
      "tensor([2, 1, 0, 3, 0, 1, 0, 2])\n",
      "tensor([2, 0, 3, 1, 3, 0, 0, 0])\n",
      "tensor([0, 1, 3, 2, 1, 3, 3, 1])\n",
      "tensor([2, 3, 0, 2, 3, 2, 1, 0])\n",
      "tensor([1, 3, 2, 2, 2, 1, 1, 2])\n",
      "tensor([1, 2, 3, 0, 1, 2, 0, 2])\n"
     ]
    }
   ],
   "source": [
    "for i, data in enumerate(trainloader, 0):\n",
    "    inputs, labels = data\n",
    "    print (labels)"
   ]
  },
  {
   "cell_type": "code",
   "execution_count": 41,
   "id": "229b42c7",
   "metadata": {},
   "outputs": [
    {
     "name": "stdout",
     "output_type": "stream",
     "text": [
      "Net(\n",
      "  (conv1): Conv2d(1, 5, kernel_size=(7, 7), stride=(1, 1))\n",
      "  (pool): MaxPool2d(kernel_size=2, stride=2, padding=0, dilation=1, ceil_mode=False)\n",
      "  (conv2): Conv2d(5, 10, kernel_size=(5, 5), stride=(1, 1))\n",
      "  (fc1): Linear(in_features=3060, out_features=120, bias=True)\n",
      "  (fc2): Linear(in_features=120, out_features=84, bias=True)\n",
      "  (fc3): Linear(in_features=84, out_features=4, bias=True)\n",
      ")\n"
     ]
    }
   ],
   "source": [
    "class Net(nn.Module):\n",
    "    def __init__(self):\n",
    "        super(Net, self).__init__()\n",
    "        self.conv1 = nn.Conv2d(1, 5, 7)\n",
    "        self.pool = nn.MaxPool2d(2, 2)\n",
    "        self.conv2 = nn.Conv2d(5, 10, 5)\n",
    "        self.pool = nn.MaxPool2d(2, 2)\n",
    "        self.fc1 = nn.Linear(9 * 34 * 10, 120)\n",
    "        self.fc2 = nn.Linear(120, 84)\n",
    "        self.fc3 = nn.Linear(84, 4)\n",
    "    def forward(self, x):\n",
    "        x = self.pool(F.relu(self.conv1(x))) #x = self.conv1(x), x = F.relu(x), x = self.pool(x)\n",
    "        x = self.pool(F.relu(self.conv2(x))) #x = self.conv2(x), x = F.relu(x), x = self.pool(x)\n",
    "        x = x.view(-1, 9 * 34 * 10) #flatten a 16x5x5 tensor to 16x5x5-dimensional vector\n",
    "        x = F.relu(self.fc1(x))\n",
    "        x = F.relu(self.fc2(x))\n",
    "        x = self.fc3(x)\n",
    "        return x\n",
    "net = Net()\n",
    "print (net)"
   ]
  },
  {
   "cell_type": "code",
   "execution_count": 42,
   "id": "20276743",
   "metadata": {},
   "outputs": [
    {
     "name": "stdout",
     "output_type": "stream",
     "text": [
      "cuda:0\n",
      "[1,    10] loss: 0.007\n",
      "[2,    10] loss: 0.007\n",
      "[3,    10] loss: 0.007\n",
      "[4,    10] loss: 0.007\n",
      "[5,    10] loss: 0.007\n",
      "[6,    10] loss: 0.007\n",
      "[7,    10] loss: 0.006\n",
      "[8,    10] loss: 0.007\n",
      "[9,    10] loss: 0.006\n",
      "[10,    10] loss: 0.005\n",
      "[11,    10] loss: 0.006\n",
      "[12,    10] loss: 0.005\n",
      "[13,    10] loss: 0.006\n",
      "[14,    10] loss: 0.005\n",
      "[15,    10] loss: 0.004\n",
      "[16,    10] loss: 0.004\n",
      "[17,    10] loss: 0.002\n",
      "[18,    10] loss: 0.002\n",
      "[19,    10] loss: 0.004\n",
      "[20,    10] loss: 0.003\n",
      "[21,    10] loss: 0.002\n",
      "[22,    10] loss: 0.003\n",
      "[23,    10] loss: 0.002\n",
      "[24,    10] loss: 0.001\n",
      "[25,    10] loss: 0.002\n",
      "[26,    10] loss: 0.001\n",
      "[27,    10] loss: 0.001\n",
      "[28,    10] loss: 0.001\n",
      "[29,    10] loss: 0.000\n",
      "[30,    10] loss: 0.001\n",
      "[31,    10] loss: 0.001\n",
      "[32,    10] loss: 0.001\n",
      "[33,    10] loss: 0.002\n",
      "[34,    10] loss: 0.000\n",
      "[35,    10] loss: 0.000\n",
      "[36,    10] loss: 0.001\n",
      "[37,    10] loss: 0.002\n",
      "[38,    10] loss: 0.001\n",
      "[39,    10] loss: 0.000\n",
      "[40,    10] loss: 0.000\n",
      "[41,    10] loss: 0.000\n",
      "[42,    10] loss: 0.000\n",
      "[43,    10] loss: 0.000\n",
      "[44,    10] loss: 0.000\n",
      "[45,    10] loss: 0.000\n",
      "[46,    10] loss: 0.000\n",
      "[47,    10] loss: 0.000\n",
      "[48,    10] loss: 0.000\n",
      "[49,    10] loss: 0.000\n",
      "[50,    10] loss: 0.000\n",
      "Finished GPU Training in time:(avg time per epoch)  1.4427582025527954\n"
     ]
    },
    {
     "data": {
      "image/png": "[encoded data removed]",
      "text/plain": [
       "<Figure size 432x288 with 1 Axes>"
      ]
     },
     "metadata": {
      "needs_background": "light"
     },
     "output_type": "display_data"
    }
   ],
   "source": [
    "device = torch.device(\"cuda:0\" if torch.cuda.is_available() else \"cpu\")\n",
    "print (device)\n",
    "net = net.to(device)\n",
    "criterion = nn.CrossEntropyLoss().to(device)\n",
    "optimizer = optim.SGD(net.parameters(), lr=0.01, momentum=0.9)\n",
    "loss_history = []\n",
    "epoch = 50\n",
    "\n",
    "start = time.time()\n",
    "for e in range(epoch): # loop over the dataset multiple times\n",
    "    running_loss = 0.0\n",
    "    for i, data in enumerate(trainloader, 0):\n",
    "    # get the inputs; data is a list of [inputs, labels]\n",
    "        inputs, labels = data[0].to(device), data[1].to(device)\n",
    "        # zero the parameter gradients\n",
    "        optimizer.zero_grad()\n",
    "        \n",
    "        # forward + backward + optimize\n",
    "        outputs = net(inputs)\n",
    "        loss = criterion(outputs, labels)\n",
    "        loss.backward()\n",
    "        optimizer.step()\n",
    "        \n",
    "        # print statistics\n",
    "        running_loss += loss.item()\n",
    "        if i % 10 == 9: # print every 2000 mini-batches\n",
    "            print('[%d, %5d] loss: %.3f' %\n",
    "                  (e + 1, i + 1, running_loss / 2000))\n",
    "            loss_history.append(running_loss)\n",
    "            running_loss = 0.0\n",
    "            \n",
    "time1 = time.time() - start\n",
    "print('Finished GPU Training in time:(avg time per epoch) ', time1/epoch)\n",
    "plt.plot(loss_history, label = 'training loss', color = 'r')\n",
    "plt.legend(loc = \"upper left\")\n",
    "plt.show()"
   ]
  },
  {
   "cell_type": "code",
   "execution_count": 43,
   "id": "a7ced9a4",
   "metadata": {},
   "outputs": [
    {
     "name": "stdout",
     "output_type": "stream",
     "text": [
      "Finished GPU Testing in time:  1.6055960655212402\n",
      "Accuracy of Angry : 68 %\n",
      "Accuracy of  Calm : 56 %\n",
      "Accuracy of Happy : 37 %\n",
      "Accuracy of   Sad : 40 %\n",
      "Confusion matrix: \n",
      " [[22  1  6  3]\n",
      " [ 4 18  1  9]\n",
      " [ 4  7 12  9]\n",
      " [ 7  1 11 13]]\n"
     ]
    }
   ],
   "source": [
    "class_correct = list(0. for i in range(4))\n",
    "class_total = list(0. for i in range(4))\n",
    "\n",
    "predicted_labels_entire = []\n",
    "groundtruth_labels_entire = []\n",
    "\n",
    "start = time.time()\n",
    "with torch.no_grad():\n",
    "    for data in testloader:\n",
    "        images, groundtruth_labels = data[0].to(device), data[1].to(device)\n",
    "        \n",
    "        groundtruth_labels_entire += groundtruth_labels.cpu()\n",
    "        \n",
    "        outputs = net(images)\n",
    "        _, predicted_labels = torch.max(outputs, 1)\n",
    "           \n",
    "        predicted_labels_entire += predicted_labels.cpu()\n",
    "\n",
    "        c = (predicted_labels == groundtruth_labels).squeeze()\n",
    "        for i in range(4):\n",
    "            label = groundtruth_labels[i]\n",
    "            class_correct[label] += c[i].item()\n",
    "            class_total[label] += 1\n",
    "\n",
    "time1 = time.time() - start\n",
    "print('Finished GPU Testing in time: ', time1)\n",
    "\n",
    "for i in range(4):\n",
    "    print('Accuracy of %5s : %2d %%' % (\n",
    "        classes[i], 100 * class_correct[i] / class_total[i]))\n",
    "    \n",
    "cm = confusion_matrix(groundtruth_labels_entire, predicted_labels_entire)\n",
    "print (\"Confusion matrix: \\n\", cm)"
   ]
  },
  {
   "cell_type": "code",
   "execution_count": 47,
   "id": "8e3ddc75",
   "metadata": {},
   "outputs": [
    {
     "name": "stdout",
     "output_type": "stream",
     "text": [
      "              precision    recall  f1-score   support\n",
      "\n",
      "           0       0.59      0.69      0.64        32\n",
      "           1       0.67      0.56      0.61        32\n",
      "           2       0.40      0.38      0.39        32\n",
      "           3       0.38      0.41      0.39        32\n",
      "\n",
      "    accuracy                           0.51       128\n",
      "   macro avg       0.51      0.51      0.51       128\n",
      "weighted avg       0.51      0.51      0.51       128\n",
      "\n"
     ]
    }
   ],
   "source": [
    "print(classification_report(groundtruth_labels_entire, predicted_labels_entire))"
   ]
  },
  {
   "cell_type": "code",
   "execution_count": 45,
   "id": "539709ec",
   "metadata": {},
   "outputs": [
    {
     "name": "stdout",
     "output_type": "stream",
     "text": [
      "0 : 128 : EmotionSpeech/Train/Happy/03-01-03-02-02-02-03.wav\n"
     ]
    },
    {
     "name": "stderr",
     "output_type": "stream",
     "text": [
      "C:\\Users\\singh\\AppData\\Local\\Temp\\ipykernel_14356\\2879885147.py:10: FutureWarning: Pass y=[ 23.  -5. -33. ...  11.  12.  12.] as keyword args. From version 0.10 passing these as positional arguments will result in an error\n",
      "  spec = librosa.feature.melspectrogram(np.float32(samples),\n"
     ]
    },
    {
     "data": {
      "image/png": "[encoded data removed]",
      "text/plain": [
       "<Figure size 1080x360 with 1 Axes>"
      ]
     },
     "metadata": {
      "needs_background": "light"
     },
     "output_type": "display_data"
    },
    {
     "name": "stdout",
     "output_type": "stream",
     "text": [
      "1 : 128 : EmotionSpeech/Train/Sad/03-01-04-02-02-02-03.wav\n"
     ]
    },
    {
     "name": "stderr",
     "output_type": "stream",
     "text": [
      "C:\\Users\\singh\\AppData\\Local\\Temp\\ipykernel_14356\\2879885147.py:10: FutureWarning: Pass y=[ 0.  0.  0. ... 81. 80. 80.] as keyword args. From version 0.10 passing these as positional arguments will result in an error\n",
      "  spec = librosa.feature.melspectrogram(np.float32(samples),\n"
     ]
    },
    {
     "data": {
      "image/png": "[encoded data removed]",
      "text/plain": [
       "<Figure size 1080x360 with 1 Axes>"
      ]
     },
     "metadata": {
      "needs_background": "light"
     },
     "output_type": "display_data"
    },
    {
     "name": "stdout",
     "output_type": "stream",
     "text": [
      "2 : 128 : EmotionSpeech/Train/Sad/03-01-04-02-02-01-02.wav\n"
     ]
    },
    {
     "name": "stderr",
     "output_type": "stream",
     "text": [
      "C:\\Users\\singh\\AppData\\Local\\Temp\\ipykernel_14356\\2879885147.py:10: FutureWarning: Pass y=[0. 0. 0. ... 0. 0. 0.] as keyword args. From version 0.10 passing these as positional arguments will result in an error\n",
      "  spec = librosa.feature.melspectrogram(np.float32(samples),\n"
     ]
    },
    {
     "data": {
      "image/png": "[encoded data removed]",
      "text/plain": [
       "<Figure size 1080x360 with 1 Axes>"
      ]
     },
     "metadata": {
      "needs_background": "light"
     },
     "output_type": "display_data"
    },
    {
     "name": "stdout",
     "output_type": "stream",
     "text": [
      "3 : 128 : EmotionSpeech/Train/Angry/03-01-05-02-02-02-02.wav\n"
     ]
    },
    {
     "name": "stderr",
     "output_type": "stream",
     "text": [
      "C:\\Users\\singh\\AppData\\Local\\Temp\\ipykernel_14356\\2879885147.py:10: FutureWarning: Pass y=[0. 0. 0. ... 0. 1. 0.] as keyword args. From version 0.10 passing these as positional arguments will result in an error\n",
      "  spec = librosa.feature.melspectrogram(np.float32(samples),\n"
     ]
    },
    {
     "data": {
      "image/png": "[encoded data removed]",
      "text/plain": [
       "<Figure size 1080x360 with 1 Axes>"
      ]
     },
     "metadata": {
      "needs_background": "light"
     },
     "output_type": "display_data"
    },
    {
     "name": "stdout",
     "output_type": "stream",
     "text": [
      "4 : 128 : EmotionSpeech/Train/Angry/03-01-05-02-01-01-03.wav\n"
     ]
    },
    {
     "name": "stderr",
     "output_type": "stream",
     "text": [
      "C:\\Users\\singh\\AppData\\Local\\Temp\\ipykernel_14356\\2879885147.py:10: FutureWarning: Pass y=[-7. -9.  4. ... -5. -5. -7.] as keyword args. From version 0.10 passing these as positional arguments will result in an error\n",
      "  spec = librosa.feature.melspectrogram(np.float32(samples),\n"
     ]
    },
    {
     "data": {
      "image/png": "[encoded data removed]",
      "text/plain": [
       "<Figure size 1080x360 with 1 Axes>"
      ]
     },
     "metadata": {
      "needs_background": "light"
     },
     "output_type": "display_data"
    },
    {
     "name": "stdout",
     "output_type": "stream",
     "text": [
      "5 : 128 : EmotionSpeech/Train/Calm/03-01-02-01-02-02-04.wav\n"
     ]
    },
    {
     "data": {
      "image/png": "[encoded data removed]",
      "text/plain": [
       "<Figure size 1080x360 with 1 Axes>"
      ]
     },
     "metadata": {
      "needs_background": "light"
     },
     "output_type": "display_data"
    },
    {
     "name": "stdout",
     "output_type": "stream",
     "text": [
      "6 : 128 : EmotionSpeech/Train/Angry/03-01-05-02-01-02-04.wav\n"
     ]
    },
    {
     "name": "stderr",
     "output_type": "stream",
     "text": [
      "C:\\Users\\singh\\AppData\\Local\\Temp\\ipykernel_14356\\2879885147.py:10: FutureWarning: Pass y=[0. 0. 0. ... 1. 2. 2.] as keyword args. From version 0.10 passing these as positional arguments will result in an error\n",
      "  spec = librosa.feature.melspectrogram(np.float32(samples),\n"
     ]
    },
    {
     "data": {
      "image/png": "[encoded data removed]",
      "text/plain": [
       "<Figure size 1080x360 with 1 Axes>"
      ]
     },
     "metadata": {
      "needs_background": "light"
     },
     "output_type": "display_data"
    },
    {
     "name": "stdout",
     "output_type": "stream",
     "text": [
      "7 : 128 : EmotionSpeech/Train/Happy/03-01-03-02-01-02-01.wav\n"
     ]
    },
    {
     "data": {
      "image/png": "[encoded data removed]",
      "text/plain": [
       "<Figure size 1080x360 with 1 Axes>"
      ]
     },
     "metadata": {
      "needs_background": "light"
     },
     "output_type": "display_data"
    },
    {
     "name": "stderr",
     "output_type": "stream",
     "text": [
      "C:\\Users\\singh\\AppData\\Local\\Temp\\ipykernel_14356\\2879885147.py:10: FutureWarning: Pass y=[ 0.  0.  0. ... -1.  0.  0.] as keyword args. From version 0.10 passing these as positional arguments will result in an error\n",
      "  spec = librosa.feature.melspectrogram(np.float32(samples),\n"
     ]
    },
    {
     "name": "stdout",
     "output_type": "stream",
     "text": [
      "8 : 128 : EmotionSpeech/Train/Angry/03-01-05-01-01-02-03.wav\n"
     ]
    },
    {
     "data": {
      "image/png": "[encoded data removed]",
      "text/plain": [
       "<Figure size 1080x360 with 1 Axes>"
      ]
     },
     "metadata": {
      "needs_background": "light"
     },
     "output_type": "display_data"
    },
    {
     "name": "stdout",
     "output_type": "stream",
     "text": [
      "9 : 128 : EmotionSpeech/Train/Calm/03-01-02-02-02-02-02.wav\n"
     ]
    },
    {
     "data": {
      "image/png": "[encoded data removed]",
      "text/plain": [
       "<Figure size 1080x360 with 1 Axes>"
      ]
     },
     "metadata": {
      "needs_background": "light"
     },
     "output_type": "display_data"
    }
   ],
   "source": [
    "#display 10 random spectograms\n",
    "import random\n",
    "count = 0\n",
    "for filename in random.sample(training_file_names, 10):\n",
    "    print (count, \":\", len(training_file_names), \":\", filename)\n",
    "    speech = AudioSegment.from_wav(filename)\n",
    "    samples = speech.get_array_of_samples()\n",
    "    sampling_rate = speech.frame_rate\n",
    "    count += 1\n",
    "    spec = librosa.feature.melspectrogram(np.float32(samples),\n",
    "                                             hop_length = int(sampling_rate * hop_duration),\n",
    "                                             n_fft = n_freq,\n",
    "                                             n_mels = n_mel_freq,\n",
    "                                             power = 2)\n",
    "    plt.figure(figsize = (15, 5))\n",
    "    #convert the amplitude to decibels, just for illustration purpose\n",
    "    Xdb = librosa.amplitude_to_db(abs(spec))\n",
    "    librosa.display.specshow(\n",
    "        #spectrogram\n",
    "        Xdb,\n",
    "        #sampling rate\n",
    "        sr = sampling_rate,\n",
    "        #label for horizontal axis\n",
    "        x_axis = 'time',\n",
    "        #presentation scale\n",
    "        y_axis = 'linear',\n",
    "        #hop_length\n",
    "        hop_length = int(sampling_rate * hop_duration))\n",
    "    plt.show()"
   ]
  },
  {
   "cell_type": "code",
   "execution_count": null,
   "id": "8cf3ebe4",
   "metadata": {},
   "outputs": [],
   "source": []
  }
 ],
 "metadata": {
  "kernelspec": {
   "display_name": "Python 3 (ipykernel)",
   "language": "python",
   "name": "python3"
  },
  "language_info": {
   "codemirror_mode": {
    "name": "ipython",
    "version": 3
   },
   "file_extension": ".py",
   "mimetype": "text/x-python",
   "name": "python",
   "nbconvert_exporter": "python",
   "pygments_lexer": "ipython3",
   "version": "3.8.8"
  }
 },
 "nbformat": 4,
 "nbformat_minor": 5
}
