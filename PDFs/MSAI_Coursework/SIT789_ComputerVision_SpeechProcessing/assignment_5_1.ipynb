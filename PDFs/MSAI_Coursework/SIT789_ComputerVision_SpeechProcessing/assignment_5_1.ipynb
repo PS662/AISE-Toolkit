{
 "cells": [
  {
   "cell_type": "code",
   "execution_count": 1,
   "id": "e71719c8",
   "metadata": {},
   "outputs": [],
   "source": [
    "import torch\n",
    "import torchvision\n",
    "import torchvision.transforms as transforms\n",
    "import torch.nn as nn\n",
    "import torch.nn.functional as F\n",
    "import torch.optim as optim\n",
    "from torchvision import datasets\n",
    "\n",
    "import matplotlib.pyplot as plt\n",
    "import numpy as np\n",
    "\n",
    "from sklearn.metrics import classification_report,confusion_matrix\n",
    "\n",
    "import time"
   ]
  },
  {
   "cell_type": "code",
   "execution_count": 2,
   "id": "d5c53eef",
   "metadata": {},
   "outputs": [
    {
     "name": "stdout",
     "output_type": "stream",
     "text": [
      "tensor([[0.6127, 0.6820, 0.2027],\n",
      "        [0.2521, 0.7725, 0.4371],\n",
      "        [0.4966, 0.8517, 0.6814],\n",
      "        [0.1092, 0.9823, 0.7345],\n",
      "        [0.3466, 0.1094, 0.7131]])\n",
      "torch.Size([5, 3])\n",
      "tensor([[1.1524, 1.3249, 0.6441],\n",
      "        [0.4991, 1.6321, 1.4121],\n",
      "        [1.0437, 1.1209, 1.6487],\n",
      "        [1.0202, 1.1897, 0.9030],\n",
      "        [0.5524, 0.8504, 1.0614]])\n",
      "[[0.61271435 0.68197167 0.20272791]\n",
      " [0.2520677  0.77252984 0.43707693]\n",
      " [0.49660766 0.85171604 0.68142396]\n",
      " [0.10917765 0.98233765 0.73446816]\n",
      " [0.34664464 0.10944206 0.71311504]]\n",
      "tensor([[0.6127, 0.6820, 0.2027],\n",
      "        [0.2521, 0.7725, 0.4371],\n",
      "        [0.4966, 0.8517, 0.6814],\n",
      "        [0.1092, 0.9823, 0.7345],\n",
      "        [0.3466, 0.1094, 0.7131]])\n"
     ]
    }
   ],
   "source": [
    "x = torch.rand(5, 3)\n",
    "print(x)\n",
    "print(x.size())\n",
    "y = torch.rand(5, 3)\n",
    "z = x + y\n",
    "print(z)\n",
    "t = x.numpy()\n",
    "print(t)\n",
    "u = torch.from_numpy(t)\n",
    "print(u)"
   ]
  },
  {
   "cell_type": "code",
   "execution_count": 3,
   "id": "7ee239b1",
   "metadata": {},
   "outputs": [
    {
     "name": "stdout",
     "output_type": "stream",
     "text": [
      "99 42.014129638671875\n",
      "199 0.574786901473999\n",
      "299 0.0030316589400172234\n",
      "399 9.283474355470389e-06\n",
      "499 1.4790353830562708e-08\n"
     ]
    }
   ],
   "source": [
    "# N is batch size; D_in is input dimension;\n",
    "# H is hidden dimension; D_out is output dimension.\n",
    "N, D_in, H, D_out = 64, 1000, 100, 10\n",
    "# Create random Tensors to hold inputs and outputs\n",
    "x = torch.randn(N, D_in)\n",
    "y = torch.randn(N, D_out)\n",
    "\n",
    "# Use the nn package to define our model and loss function.\n",
    "model = torch.nn.Sequential(\n",
    "torch.nn.Linear(D_in, H),\n",
    "torch.nn.ReLU(),\n",
    "torch.nn.Linear(H, D_out),\n",
    ")\n",
    "loss_fn = torch.nn.MSELoss(reduction='sum')\n",
    "# Use the optim package to define an Optimizer that will update the weights of\n",
    "# the model for us. Here we will use Adam; the optim package contains many other\n",
    "# optimization algorithms. The first argument to the Adam constructor tells the\n",
    "# optimizer which Tensors it should update.\n",
    "learning_rate = 1e-4\n",
    "optimizer = torch.optim.Adam(model.parameters(), lr=learning_rate)\n",
    "\n",
    "for t in range(500):\n",
    "    # Forward pass: compute predicted y by passing x to the model.\n",
    "    y_pred = model(x)\n",
    "    # Compute and print loss.\n",
    "    loss = loss_fn(y_pred, y)\n",
    "    if t % 100 == 99:\n",
    "        print(t, loss.item())\n",
    "    # Before the backward pass, use the optimizer object to zero all of the\n",
    "    # gradients for the variables it will update (which are the learnable\n",
    "    # weights of the model). This is because by default, gradients are\n",
    "    # accumulated in buffers( i.e, not overwritten) whenever .backward()\n",
    "    # is called. Checkout docs of torch.autograd.backward for more details.\n",
    "    optimizer.zero_grad()\n",
    "    # Backward pass: compute gradient of the loss with respect to model\n",
    "    # parameters\n",
    "    loss.backward()\n",
    "    # Calling the step function on an Optimizer makes an update to its\n",
    "    # parameters\n",
    "    optimizer.step()"
   ]
  },
  {
   "cell_type": "code",
   "execution_count": 4,
   "id": "0bb2b44f",
   "metadata": {},
   "outputs": [],
   "source": [
    "import torch\n",
    "class TwoLayerNet(torch.nn.Module):\n",
    "    def __init__(self, D_in, H, D_out): #D_in: input layer, H: hidden layer, D_out: output layer\n",
    "        super(TwoLayerNet, self).__init__()\n",
    "        self.linear1 = torch.nn.Linear(D_in, H)\n",
    "        self.linear2 = torch.nn.Linear(H, D_out)\n",
    "        \n",
    "    def forward(self, x):\n",
    "        h_relu = self.linear1(x).clamp(min=0)\n",
    "        y_pred = self.linear2(h_relu)\n",
    "        return y_pred"
   ]
  },
  {
   "cell_type": "code",
   "execution_count": 5,
   "id": "4046104f",
   "metadata": {},
   "outputs": [
    {
     "name": "stdout",
     "output_type": "stream",
     "text": [
      "99 1.49753737449646\n",
      "199 0.019455822184681892\n",
      "299 0.0005275917937979102\n",
      "399 1.9685712686623447e-05\n",
      "499 8.689493711244722e-07\n"
     ]
    }
   ],
   "source": [
    "N, D_in, H, D_out = 64, 1000, 100, 10\n",
    "x = torch.randn(N, D_in)\n",
    "y = torch.randn(N, D_out)\n",
    "model = TwoLayerNet(D_in, H, D_out)\n",
    "criterion = torch.nn.MSELoss(reduction='sum')\n",
    "optimizer = torch.optim.SGD(model.parameters(), lr=1e-4)\n",
    "for t in range(500):\n",
    "    y_pred = model(x)\n",
    "    loss = criterion(y_pred, y)\n",
    "    if t % 100 == 99:\n",
    "        print(t, loss.item())\n",
    "    optimizer.zero_grad()\n",
    "    loss.backward()\n",
    "    optimizer.step()"
   ]
  },
  {
   "cell_type": "markdown",
   "id": "d9cc4420",
   "metadata": {},
   "source": [
    "#### 2. Building cnn with torch"
   ]
  },
  {
   "cell_type": "code",
   "execution_count": 6,
   "id": "4999b67c",
   "metadata": {},
   "outputs": [
    {
     "name": "stdout",
     "output_type": "stream",
     "text": [
      "Files already downloaded and verified\n",
      "Files already downloaded and verified\n"
     ]
    }
   ],
   "source": [
    "transform = transforms.Compose(\n",
    "    [transforms.ToTensor(),\n",
    "     transforms.Normalize((0.5, 0.5, 0.5), (0.5, 0.5, 0.5))])\n",
    "\n",
    "trainset = torchvision.datasets.CIFAR10(root='./data',\n",
    "                                        train=True, #for training\n",
    "                                        download=True, transform=transform)\n",
    "\n",
    "trainloader = torch.utils.data.DataLoader(trainset,\n",
    "                                          batch_size=4, #process only 4 images at a time\n",
    "                                          shuffle=True, num_workers=2)\n",
    "\n",
    "testset = torchvision.datasets.CIFAR10(root='./data',\n",
    "                                       train=False, #not for training\n",
    "                                       download=True, transform=transform)\n",
    "\n",
    "testloader = torch.utils.data.DataLoader(testset,\n",
    "                                         batch_size=4, #process only 4 images at a time\n",
    "                                         shuffle=False, num_workers=2)\n",
    "classes = ('plane', 'car', 'bird', 'cat',\n",
    "           'deer', 'dog', 'frog', 'horse', 'ship', 'truck')\n"
   ]
  },
  {
   "cell_type": "code",
   "execution_count": 7,
   "id": "8385ae7b",
   "metadata": {},
   "outputs": [
    {
     "data": {
      "image/png": "[encoded data removed]",
      "text/plain": [
       "<Figure size 432x288 with 1 Axes>"
      ]
     },
     "metadata": {
      "needs_background": "light"
     },
     "output_type": "display_data"
    },
    {
     "name": "stdout",
     "output_type": "stream",
     "text": [
      " ship horse   dog  bird\n"
     ]
    }
   ],
   "source": [
    "# function to show an image\n",
    "def imshow(img):\n",
    "    img = img / 2 + 0.5 # unnormalize\n",
    "    npimg = img.numpy()\n",
    "    plt.imshow(np.transpose(npimg, (1, 2, 0)))\n",
    "    plt.show()\n",
    "    \n",
    "# get some random training images\n",
    "dataiter = iter(trainloader)\n",
    "images, labels = dataiter.next()\n",
    "# show images\n",
    "imshow(torchvision.utils.make_grid(images))\n",
    "# print true labels of the images\n",
    "print(' '.join('%5s' % classes[labels[j]] for j in range(4)))"
   ]
  },
  {
   "cell_type": "code",
   "execution_count": 8,
   "id": "fa5063b8",
   "metadata": {},
   "outputs": [],
   "source": [
    "class Net(nn.Module):\n",
    "    def __init__(self):\n",
    "        super(Net, self).__init__()\n",
    "        self.conv1 = nn.Conv2d(3, 6, 5)\n",
    "        self.pool = nn.MaxPool2d(2, 2)\n",
    "        self.conv2 = nn.Conv2d(6, 16, 5)\n",
    "        self.fc1 = nn.Linear(16 * 5 * 5, 120)\n",
    "        self.fc2 = nn.Linear(120, 84)\n",
    "        self.fc3 = nn.Linear(84, 10)\n",
    "    def forward(self, x):\n",
    "        x = self.pool(F.relu(self.conv1(x))) #x = self.conv1(x), x = F.relu(x), x = self.pool(x)\n",
    "        x = self.pool(F.relu(self.conv2(x))) #x = self.conv2(x), x = F.relu(x), x = self.pool(x)\n",
    "        x = x.view(-1, 16 * 5 * 5) #flatten a 16x5x5 tensor to 16x5x5-dimensional vector\n",
    "        x = F.relu(self.fc1(x))\n",
    "        x = F.relu(self.fc2(x))\n",
    "        x = self.fc3(x)\n",
    "        return x\n",
    "net = Net()"
   ]
  },
  {
   "cell_type": "code",
   "execution_count": 9,
   "id": "33365131",
   "metadata": {},
   "outputs": [],
   "source": [
    "criterion = nn.CrossEntropyLoss()\n",
    "optimizer = optim.SGD(net.parameters(), lr=0.001, momentum=0.9)\n",
    "loss_history = []\n",
    "epoch = 2"
   ]
  },
  {
   "cell_type": "code",
   "execution_count": 10,
   "id": "981241fd",
   "metadata": {},
   "outputs": [
    {
     "name": "stdout",
     "output_type": "stream",
     "text": [
      "[1,  2000] loss: 2.201\n",
      "[1,  4000] loss: 1.843\n",
      "[1,  6000] loss: 1.673\n",
      "[1,  8000] loss: 1.575\n",
      "[1, 10000] loss: 1.502\n",
      "[1, 12000] loss: 1.453\n",
      "[2,  2000] loss: 1.385\n",
      "[2,  4000] loss: 1.346\n",
      "[2,  6000] loss: 1.313\n",
      "[2,  8000] loss: 1.313\n",
      "[2, 10000] loss: 1.276\n",
      "[2, 12000] loss: 1.284\n",
      "Finished CIFAR Training in time: 138.22674226760864\n"
     ]
    },
    {
     "data": {
      "image/png": "[encoded data removed]",
      "text/plain": [
       "<Figure size 432x288 with 1 Axes>"
      ]
     },
     "metadata": {
      "needs_background": "light"
     },
     "output_type": "display_data"
    }
   ],
   "source": [
    "start = time.time() \n",
    "\n",
    "for e in range(epoch): # loop over the dataset multiple times\n",
    "    running_loss = 0.0\n",
    "    for i, data in enumerate(trainloader, 0):\n",
    "    # get the inputs; data is a list of [inputs, labels]\n",
    "        inputs, labels = data\n",
    "        \n",
    "        # zero the parameter gradients\n",
    "        optimizer.zero_grad()\n",
    "        \n",
    "        # forward + backward + optimize\n",
    "        outputs = net(inputs)\n",
    "        loss = criterion(outputs, labels)\n",
    "        loss.backward()\n",
    "        optimizer.step()\n",
    "        \n",
    "        # print statistics\n",
    "        running_loss += loss.item()\n",
    "        if i % 2000 == 1999: # print every 2000 mini-batches\n",
    "            print('[%d, %5d] loss: %.3f' %\n",
    "                  (e + 1, i + 1, running_loss / 2000))\n",
    "            loss_history.append(running_loss)\n",
    "            running_loss = 0.0\n",
    "            \n",
    "time1 = time.time() - start\n",
    "print('Finished CIFAR Training in time:', time1)\n",
    "plt.plot(loss_history, label = 'training loss', color = 'r')\n",
    "plt.legend(loc = \"upper left\")\n",
    "plt.show()"
   ]
  },
  {
   "cell_type": "code",
   "execution_count": 11,
   "id": "76761fce",
   "metadata": {},
   "outputs": [],
   "source": [
    "PATH = './cifar_net.pth'\n",
    "torch.save(net.state_dict(), PATH)"
   ]
  },
  {
   "cell_type": "code",
   "execution_count": 12,
   "id": "a7cd623e",
   "metadata": {},
   "outputs": [
    {
     "data": {
      "image/png": "[encoded data removed]",
      "text/plain": [
       "<Figure size 432x288 with 1 Axes>"
      ]
     },
     "metadata": {
      "needs_background": "light"
     },
     "output_type": "display_data"
    },
    {
     "name": "stdout",
     "output_type": "stream",
     "text": [
      "GroundTruth:    cat  ship  ship plane\n"
     ]
    }
   ],
   "source": [
    "dataiter = iter(testloader)\n",
    "images, labels = dataiter.next()\n",
    "# print images\n",
    "imshow(torchvision.utils.make_grid(images))\n",
    "print('GroundTruth: ', ' '.join('%5s' % classes[labels[j]] for j in range(4)))"
   ]
  },
  {
   "cell_type": "code",
   "execution_count": 13,
   "id": "5e4c9222",
   "metadata": {},
   "outputs": [],
   "source": [
    "#load the trained network\n",
    "net = Net()\n",
    "net.load_state_dict(torch.load(PATH))\n",
    "outputs = net(images)"
   ]
  },
  {
   "cell_type": "code",
   "execution_count": 14,
   "id": "eef83def",
   "metadata": {},
   "outputs": [
    {
     "name": "stdout",
     "output_type": "stream",
     "text": [
      "Predicted:    cat   car   car plane\n"
     ]
    }
   ],
   "source": [
    "_, predicted_labels = torch.max(outputs, 1)\n",
    "print('Predicted: ', ' '.join('%5s' % classes[predicted_labels[j]]\n",
    "for j in range(4)))"
   ]
  },
  {
   "cell_type": "code",
   "execution_count": 15,
   "id": "39993e1f",
   "metadata": {},
   "outputs": [
    {
     "name": "stdout",
     "output_type": "stream",
     "text": [
      "Accuracy of the network on the 10000 test images: 55 %\n"
     ]
    }
   ],
   "source": [
    "correct = 0\n",
    "total = 0\n",
    "with torch.no_grad():\n",
    "    for data in testloader:\n",
    "        images, groundtruth_labels = data\n",
    "        outputs = net(images)\n",
    "        _, predicted_labels = torch.max(outputs.data, 1)\n",
    "        total += groundtruth_labels.size(0)\n",
    "        correct += (predicted_labels == groundtruth_labels).sum().item()\n",
    "print('Accuracy of the network on the 10000 test images: %d %%' % (100 * correct / total))"
   ]
  },
  {
   "cell_type": "code",
   "execution_count": 16,
   "id": "f6e0e577",
   "metadata": {},
   "outputs": [
    {
     "name": "stdout",
     "output_type": "stream",
     "text": [
      "Finished CIFAR Testing in time:  5.601983308792114\n",
      "Accuracy of plane : 62 %\n",
      "Accuracy of   car : 70 %\n",
      "Accuracy of  bird : 55 %\n",
      "Accuracy of   cat : 32 %\n",
      "Accuracy of  deer : 35 %\n",
      "Accuracy of   dog : 56 %\n",
      "Accuracy of  frog : 60 %\n",
      "Accuracy of horse : 68 %\n",
      "Accuracy of  ship : 53 %\n",
      "Accuracy of truck : 60 %\n",
      "Confusion matrix: \n",
      " [[628  39  92  22  22  17  22  44  69  45]\n",
      " [ 34 703  11  17   9  14  21  26  24 141]\n",
      " [ 69   6 558  68  75  99  48  56  12   9]\n",
      " [ 28  19 119 329  49 259  86  87   9  15]\n",
      " [ 41   4 230  61 352 104  69 125   8   6]\n",
      " [ 10   2 122 133  40 560  28  89   5  11]\n",
      " [  3   5 104  69  99  83 600  26   2   9]\n",
      " [  8   4  79  45  36 120   7 687   3  11]\n",
      " [168  95  38  19  18  17  14  21 538  72]\n",
      " [ 36 182  11  22  11  20  29  66  16 607]]\n"
     ]
    }
   ],
   "source": [
    "class_correct = list(0. for i in range(10))\n",
    "class_total = list(0. for i in range(10))\n",
    "\n",
    "predicted_labels_entire = []\n",
    "groundtruth_labels_entire = []\n",
    "\n",
    "start = time.time()\n",
    "with torch.no_grad():\n",
    "    for data in testloader:\n",
    "        images, groundtruth_labels = data\n",
    "        \n",
    "        groundtruth_labels_entire += groundtruth_labels\n",
    "        \n",
    "        outputs = net(images)\n",
    "        _, predicted_labels = torch.max(outputs, 1)\n",
    "           \n",
    "        predicted_labels_entire += predicted_labels\n",
    "\n",
    "        c = (predicted_labels == groundtruth_labels).squeeze()\n",
    "        for i in range(4):\n",
    "            label = groundtruth_labels[i]\n",
    "            class_correct[label] += c[i].item()\n",
    "            class_total[label] += 1\n",
    "            \n",
    "time1 = time.time() - start\n",
    "print('Finished CIFAR Testing in time: ', time1)\n",
    "for i in range(10):\n",
    "    print('Accuracy of %5s : %2d %%' % (\n",
    "        classes[i], 100 * class_correct[i] / class_total[i]))\n",
    "    \n",
    "cm = confusion_matrix(groundtruth_labels_entire, predicted_labels_entire)\n",
    "print (\"Confusion matrix: \\n\", cm)"
   ]
  },
  {
   "cell_type": "code",
   "execution_count": 17,
   "id": "d5dbbd4a",
   "metadata": {},
   "outputs": [
    {
     "name": "stdout",
     "output_type": "stream",
     "text": [
      "tensor([3, 5, 1, 7])\n",
      "tensor([3, 5, 1, 7])\n"
     ]
    }
   ],
   "source": [
    "print (predicted_labels)\n",
    "print (groundtruth_labels)"
   ]
  },
  {
   "cell_type": "markdown",
   "id": "a8229d7c",
   "metadata": {},
   "source": [
    "#### Custom Data"
   ]
  },
  {
   "cell_type": "code",
   "execution_count": 18,
   "id": "7f3bb365",
   "metadata": {},
   "outputs": [],
   "source": [
    "transform = transforms.Compose(\n",
    "    [transforms.Resize((32,32)), # you can change the image size, but need to change the architecture accordingly\n",
    "     transforms.ToTensor(),\n",
    "     transforms.Normalize((0.5, 0.5, 0.5), (0.5, 0.5, 0.5))])\n",
    "\n",
    "trainset = datasets.ImageFolder('FoodImages/Train', transform=transform)\n",
    "trainloader = torch.utils.data.DataLoader(trainset,\n",
    "                                          batch_size=4, #process only 4 images at a time\n",
    "                                          shuffle=True, num_workers=2)\n",
    "\n",
    "testset = datasets.ImageFolder('FoodImages/Test', transform=transform)\n",
    "testloader = torch.utils.data.DataLoader(testset,\n",
    "                                         batch_size=4, #process only 4 images at a time\n",
    "                                         shuffle=False, num_workers=2)\n",
    "classes = ('Cakes', 'Pasta', 'Pizza')"
   ]
  },
  {
   "cell_type": "code",
   "execution_count": 19,
   "id": "82f1ad49",
   "metadata": {},
   "outputs": [
    {
     "name": "stdout",
     "output_type": "stream",
     "text": [
      "tensor([1, 0, 2, 2])\n",
      "tensor([1, 0, 0, 0])\n",
      "tensor([2, 2, 2, 2])\n",
      "tensor([1, 0, 0, 0])\n",
      "tensor([1, 0, 1, 2])\n",
      "tensor([0, 1, 0, 0])\n",
      "tensor([0, 0, 1, 1])\n",
      "tensor([2, 0, 1, 1])\n",
      "tensor([2, 2, 0, 2])\n",
      "tensor([2, 0, 0, 2])\n",
      "tensor([1, 1, 2, 1])\n",
      "tensor([2, 0, 1, 0])\n",
      "tensor([2, 0, 1, 1])\n",
      "tensor([1, 2, 2, 2])\n",
      "tensor([1, 1, 0, 1])\n",
      "tensor([2, 2, 1, 1])\n",
      "tensor([1, 0, 0, 2])\n",
      "tensor([2, 0, 1, 0])\n",
      "tensor([0, 0, 2, 1])\n",
      "tensor([0, 1, 1, 2])\n",
      "tensor([0, 2, 1, 2])\n",
      "tensor([2, 1, 2, 1])\n",
      "tensor([0, 2])\n"
     ]
    }
   ],
   "source": [
    "for i, data in enumerate(trainloader, 0):\n",
    "    inputs, labels = data\n",
    "    print (labels)"
   ]
  },
  {
   "cell_type": "code",
   "execution_count": 29,
   "id": "5330e01a",
   "metadata": {},
   "outputs": [],
   "source": [
    "class Net(nn.Module):\n",
    "    def __init__(self):\n",
    "        super(Net, self).__init__()\n",
    "        self.conv1 = nn.Conv2d(3, 6, 5)\n",
    "        self.pool = nn.MaxPool2d(2, 2)\n",
    "        self.conv2 = nn.Conv2d(6, 16, 5)\n",
    "        self.fc1 = nn.Linear(16 * 5 * 5, 120)\n",
    "        self.fc2 = nn.Linear(120, 84)\n",
    "        self.fc3 = nn.Linear(84, 3)\n",
    "    def forward(self, x):\n",
    "        x = self.pool(F.relu(self.conv1(x))) #x = self.conv1(x), x = F.relu(x), x = self.pool(x)\n",
    "        x = self.pool(F.relu(self.conv2(x))) #x = self.conv2(x), x = F.relu(x), x = self.pool(x)\n",
    "        x = x.view(-1, 16 * 5 * 5) #flatten a 16x5x5 tensor to 16x5x5-dimensional vector\n",
    "        x = F.relu(self.fc1(x))\n",
    "        x = F.relu(self.fc2(x))\n",
    "        x = self.fc3(x)\n",
    "        return x\n",
    "net = Net()"
   ]
  },
  {
   "cell_type": "code",
   "execution_count": 30,
   "id": "345fce0c",
   "metadata": {},
   "outputs": [
    {
     "name": "stdout",
     "output_type": "stream",
     "text": [
      "[1,    10] loss: 0.006\n",
      "[1,    20] loss: 0.006\n",
      "[2,    10] loss: 0.006\n",
      "[2,    20] loss: 0.005\n",
      "[3,    10] loss: 0.006\n",
      "[3,    20] loss: 0.005\n",
      "[4,    10] loss: 0.005\n",
      "[4,    20] loss: 0.005\n",
      "[5,    10] loss: 0.005\n",
      "[5,    20] loss: 0.005\n",
      "[6,    10] loss: 0.005\n",
      "[6,    20] loss: 0.005\n",
      "[7,    10] loss: 0.005\n",
      "[7,    20] loss: 0.005\n",
      "[8,    10] loss: 0.005\n",
      "[8,    20] loss: 0.005\n",
      "[9,    10] loss: 0.005\n",
      "[9,    20] loss: 0.005\n",
      "[10,    10] loss: 0.005\n",
      "[10,    20] loss: 0.005\n",
      "Finished Training in time: (avg time per epoch) 3.0009121656417848\n"
     ]
    },
    {
     "data": {
      "image/png": "[encoded data removed]",
      "text/plain": [
       "<Figure size 432x288 with 1 Axes>"
      ]
     },
     "metadata": {
      "needs_background": "light"
     },
     "output_type": "display_data"
    }
   ],
   "source": [
    "criterion = nn.CrossEntropyLoss()\n",
    "optimizer = optim.SGD(net.parameters(), lr=0.001, momentum=0.9)\n",
    "loss_history = []\n",
    "epoch = 10\n",
    "\n",
    "start = time.time()\n",
    "for e in range(epoch): # loop over the dataset multiple times\n",
    "    running_loss = 0.0\n",
    "    for i, data in enumerate(trainloader, 0):\n",
    "    # get the inputs; data is a list of [inputs, labels]\n",
    "        inputs, labels = data\n",
    "        \n",
    "        # zero the parameter gradients\n",
    "        optimizer.zero_grad()\n",
    "        \n",
    "        # forward + backward + optimize\n",
    "        outputs = net(inputs)\n",
    "        loss = criterion(outputs, labels)\n",
    "        loss.backward()\n",
    "        optimizer.step()\n",
    "        \n",
    "        # print statistics\n",
    "        running_loss += loss.item()\n",
    "        if i % 10 == 9: # print every 2000 mini-batches\n",
    "            print('[%d, %5d] loss: %.3f' %\n",
    "                  (e + 1, i + 1, running_loss / 2000))\n",
    "            loss_history.append(running_loss)\n",
    "            running_loss = 0.0\n",
    "            \n",
    "time1 = time.time() - start\n",
    "print('Finished Training in time: (avg time per epoch)', time1/epoch)\n",
    "plt.plot(loss_history, label = 'training loss', color = 'r')\n",
    "plt.legend(loc = \"upper left\")\n",
    "plt.show()"
   ]
  },
  {
   "cell_type": "code",
   "execution_count": 31,
   "id": "17484948",
   "metadata": {},
   "outputs": [
    {
     "name": "stdout",
     "output_type": "stream",
     "text": [
      "Finished CPU scratch Testing in time:  2.0737481117248535\n",
      "Accuracy of Cakes : 37 %\n",
      "Accuracy of Pasta : 21 %\n",
      "Accuracy of Pizza : 68 %\n",
      "Confusion matrix: \n",
      " [[11  9 10]\n",
      " [17  5  8]\n",
      " [ 7  1 22]]\n"
     ]
    }
   ],
   "source": [
    "class_correct = list(0. for i in range(3))\n",
    "class_total = list(0. for i in range(3))\n",
    "\n",
    "predicted_labels_entire = []\n",
    "groundtruth_labels_entire = []\n",
    "\n",
    "start = time.time()\n",
    "with torch.no_grad():\n",
    "    for data in testloader:\n",
    "        images, groundtruth_labels = data\n",
    "        \n",
    "        groundtruth_labels_entire += groundtruth_labels\n",
    "        \n",
    "        outputs = net(images)\n",
    "        _, predicted_labels = torch.max(outputs, 1)\n",
    "           \n",
    "        predicted_labels_entire += predicted_labels\n",
    "\n",
    "        c = (predicted_labels == groundtruth_labels).squeeze()\n",
    "        for i in range(2):\n",
    "            label = groundtruth_labels[i]\n",
    "            class_correct[label] += c[i].item()\n",
    "            class_total[label] += 1\n",
    "time1 = time.time() - start\n",
    "print('Finished CPU scratch Testing in time: ', time1)        \n",
    "for i in range(3):\n",
    "    print('Accuracy of %5s : %2d %%' % (\n",
    "        classes[i], 100 * class_correct[i] / class_total[i]))\n",
    "    \n",
    "cm = confusion_matrix(groundtruth_labels_entire, predicted_labels_entire)\n",
    "print (\"Confusion matrix: \\n\", cm)"
   ]
  },
  {
   "cell_type": "code",
   "execution_count": 23,
   "id": "d6fb7dba",
   "metadata": {},
   "outputs": [
    {
     "name": "stdout",
     "output_type": "stream",
     "text": [
      "Net(\n",
      "  (conv1): Conv2d(3, 6, kernel_size=(5, 5), stride=(1, 1))\n",
      "  (pool): MaxPool2d(kernel_size=2, stride=2, padding=0, dilation=1, ceil_mode=False)\n",
      "  (conv2): Conv2d(6, 16, kernel_size=(5, 5), stride=(1, 1))\n",
      "  (fc1): Linear(in_features=400, out_features=120, bias=True)\n",
      "  (fc2): Linear(in_features=120, out_features=84, bias=True)\n",
      "  (fc3): Linear(in_features=84, out_features=3, bias=True)\n",
      ")\n"
     ]
    }
   ],
   "source": [
    "PATH = './cifar_net.pth'\n",
    "net = Net()\n",
    "net.fc3 = nn.Linear(84, 10) #To load the pretrained weights\n",
    "net.load_state_dict(torch.load(PATH))\n",
    "net.fc3 = nn.Linear(84, 3)\n",
    "print(net)"
   ]
  },
  {
   "cell_type": "code",
   "execution_count": 24,
   "id": "06c61181",
   "metadata": {},
   "outputs": [
    {
     "name": "stdout",
     "output_type": "stream",
     "text": [
      "[1,    10] loss: 0.006\n",
      "[1,    20] loss: 0.005\n",
      "[2,    10] loss: 0.005\n",
      "[2,    20] loss: 0.005\n",
      "[3,    10] loss: 0.004\n",
      "[3,    20] loss: 0.004\n",
      "[4,    10] loss: 0.003\n",
      "[4,    20] loss: 0.003\n",
      "[5,    10] loss: 0.002\n",
      "[5,    20] loss: 0.003\n",
      "[6,    10] loss: 0.002\n",
      "[6,    20] loss: 0.002\n",
      "[7,    10] loss: 0.002\n",
      "[7,    20] loss: 0.002\n",
      "[8,    10] loss: 0.001\n",
      "[8,    20] loss: 0.001\n",
      "[9,    10] loss: 0.001\n",
      "[9,    20] loss: 0.001\n",
      "[10,    10] loss: 0.001\n",
      "[10,    20] loss: 0.000\n",
      "Finished fine tuned Training in time (avg time per epoch):  1.0502771615982056\n"
     ]
    },
    {
     "data": {
      "image/png": "[encoded data removed]",
      "text/plain": [
       "<Figure size 432x288 with 1 Axes>"
      ]
     },
     "metadata": {
      "needs_background": "light"
     },
     "output_type": "display_data"
    }
   ],
   "source": [
    "criterion = nn.CrossEntropyLoss()\n",
    "optimizer = optim.SGD(net.parameters(), lr=0.001, momentum=0.9)\n",
    "loss_history = []\n",
    "epoch = 10\n",
    "\n",
    "start = time.time()\n",
    "for e in range(epoch): # loop over the dataset multiple times\n",
    "    running_loss = 0.0\n",
    "    for i, data in enumerate(trainloader, 0):\n",
    "    # get the inputs; data is a list of [inputs, labels]\n",
    "        inputs, labels = data\n",
    "        \n",
    "        # zero the parameter gradients\n",
    "        optimizer.zero_grad()\n",
    "        \n",
    "        # forward + backward + optimize\n",
    "        outputs = net(inputs)\n",
    "        loss = criterion(outputs, labels)\n",
    "        loss.backward()\n",
    "        optimizer.step()\n",
    "        \n",
    "        # print statistics\n",
    "        running_loss += loss.item()\n",
    "        if i % 10 == 9: # print every 2000 mini-batches\n",
    "            print('[%d, %5d] loss: %.3f' %\n",
    "                  (e + 1, i + 1, running_loss / 2000))\n",
    "            loss_history.append(running_loss)\n",
    "            running_loss = 0.0\n",
    "            \n",
    "time1 = time.time() - start\n",
    "print('Finished fine tuned Training in time (avg time per epoch): ', time1/epoch)\n",
    "plt.plot(loss_history, label = 'training loss', color = 'r')\n",
    "plt.legend(loc = \"upper left\")\n",
    "plt.show()"
   ]
  },
  {
   "cell_type": "code",
   "execution_count": 25,
   "id": "4c9e0311",
   "metadata": {},
   "outputs": [
    {
     "name": "stdout",
     "output_type": "stream",
     "text": [
      "Finished CPU finetuned Testing in time:  1.0492591857910156\n",
      "Accuracy of Cakes : 75 %\n",
      "Accuracy of Pasta : 100 %\n",
      "Accuracy of Pizza : 81 %\n",
      "Confusion matrix: \n",
      " [[21  5  4]\n",
      " [ 0 27  3]\n",
      " [ 0  6 24]]\n"
     ]
    }
   ],
   "source": [
    "class_correct = list(0. for i in range(3))\n",
    "class_total = list(0. for i in range(3))\n",
    "\n",
    "predicted_labels_entire = []\n",
    "groundtruth_labels_entire = []\n",
    "\n",
    "start = time.time()\n",
    "with torch.no_grad():\n",
    "    for data in testloader:\n",
    "        images, groundtruth_labels = data\n",
    "        \n",
    "        groundtruth_labels_entire += groundtruth_labels\n",
    "        \n",
    "        outputs = net(images)\n",
    "        _, predicted_labels = torch.max(outputs, 1)\n",
    "           \n",
    "        predicted_labels_entire += predicted_labels\n",
    "\n",
    "        c = (predicted_labels == groundtruth_labels).squeeze()\n",
    "        for i in range(2):\n",
    "            label = groundtruth_labels[i]\n",
    "            class_correct[label] += c[i].item()\n",
    "            class_total[label] += 1\n",
    "\n",
    "time1 = time.time() - start\n",
    "print('Finished CPU finetuned Testing in time: ', time1)\n",
    "\n",
    "for i in range(3):\n",
    "    print('Accuracy of %5s : %2d %%' % (\n",
    "        classes[i], 100 * class_correct[i] / class_total[i]))\n",
    "    \n",
    "cm = confusion_matrix(groundtruth_labels_entire, predicted_labels_entire)\n",
    "print (\"Confusion matrix: \\n\", cm)\n"
   ]
  },
  {
   "cell_type": "markdown",
   "id": "928f8735",
   "metadata": {},
   "source": [
    "#### GPU Training and testing"
   ]
  },
  {
   "cell_type": "code",
   "execution_count": 26,
   "id": "572edfb2",
   "metadata": {},
   "outputs": [
    {
     "name": "stdout",
     "output_type": "stream",
     "text": [
      "Net(\n",
      "  (conv1): Conv2d(3, 6, kernel_size=(5, 5), stride=(1, 1))\n",
      "  (pool): MaxPool2d(kernel_size=2, stride=2, padding=0, dilation=1, ceil_mode=False)\n",
      "  (conv2): Conv2d(6, 16, kernel_size=(5, 5), stride=(1, 1))\n",
      "  (fc1): Linear(in_features=400, out_features=120, bias=True)\n",
      "  (fc2): Linear(in_features=120, out_features=84, bias=True)\n",
      "  (fc3): Linear(in_features=84, out_features=3, bias=True)\n",
      ")\n"
     ]
    }
   ],
   "source": [
    "PATH = './cifar_net.pth'\n",
    "net = Net()\n",
    "net.fc3 = nn.Linear(84, 10) #To load the pretrained weights\n",
    "net.load_state_dict(torch.load(PATH))\n",
    "net.fc3 = nn.Linear(84, 3)\n",
    "print(net)\n",
    "net = Net()\n"
   ]
  },
  {
   "cell_type": "code",
   "execution_count": 27,
   "id": "4059989c",
   "metadata": {},
   "outputs": [
    {
     "name": "stdout",
     "output_type": "stream",
     "text": [
      "cuda:0\n",
      "[1,    20] loss: 0.011\n",
      "[2,    20] loss: 0.011\n",
      "[3,    20] loss: 0.011\n",
      "[4,    20] loss: 0.011\n",
      "[5,    20] loss: 0.011\n",
      "[6,    20] loss: 0.011\n",
      "[7,    20] loss: 0.011\n",
      "[8,    20] loss: 0.011\n",
      "[9,    20] loss: 0.010\n",
      "[10,    20] loss: 0.010\n",
      "[11,    20] loss: 0.010\n",
      "[12,    20] loss: 0.010\n",
      "[13,    20] loss: 0.009\n",
      "[14,    20] loss: 0.009\n",
      "[15,    20] loss: 0.009\n",
      "[16,    20] loss: 0.008\n",
      "[17,    20] loss: 0.008\n",
      "[18,    20] loss: 0.007\n",
      "[19,    20] loss: 0.007\n",
      "[20,    20] loss: 0.007\n",
      "Finished GPU Training in time:(avg time per epoch)  1.107454788684845\n"
     ]
    },
    {
     "data": {
      "image/png": "[encoded data removed]",
      "text/plain": [
       "<Figure size 432x288 with 1 Axes>"
      ]
     },
     "metadata": {
      "needs_background": "light"
     },
     "output_type": "display_data"
    }
   ],
   "source": [
    "device = torch.device(\"cuda:0\" if torch.cuda.is_available() else \"cpu\")\n",
    "print (device)\n",
    "net = net.to(device)\n",
    "criterion = nn.CrossEntropyLoss().to(device)\n",
    "optimizer = optim.SGD(net.parameters(), lr=0.001, momentum=0.9)\n",
    "loss_history = []\n",
    "epoch = 20\n",
    "\n",
    "start = time.time()\n",
    "for e in range(epoch): # loop over the dataset multiple times\n",
    "    running_loss = 0.0\n",
    "    for i, data in enumerate(trainloader, 0):\n",
    "    # get the inputs; data is a list of [inputs, labels]\n",
    "        inputs, labels = data[0].to(device), data[1].to(device)\n",
    "        # zero the parameter gradients\n",
    "        optimizer.zero_grad()\n",
    "        \n",
    "        # forward + backward + optimize\n",
    "        outputs = net(inputs)\n",
    "        loss = criterion(outputs, labels)\n",
    "        loss.backward()\n",
    "        optimizer.step()\n",
    "        \n",
    "        # print statistics\n",
    "        running_loss += loss.item()\n",
    "        if i % 20 == 19: # print every 2000 mini-batches\n",
    "            print('[%d, %5d] loss: %.3f' %\n",
    "                  (e + 1, i + 1, running_loss / 2000))\n",
    "            loss_history.append(running_loss)\n",
    "            running_loss = 0.0\n",
    "            \n",
    "time1 = time.time() - start\n",
    "print('Finished GPU Training in time:(avg time per epoch) ', time1/epoch)\n",
    "plt.plot(loss_history, label = 'training loss', color = 'r')\n",
    "plt.legend(loc = \"upper left\")\n",
    "plt.show()"
   ]
  },
  {
   "cell_type": "code",
   "execution_count": 28,
   "id": "870dde2d",
   "metadata": {},
   "outputs": [
    {
     "name": "stdout",
     "output_type": "stream",
     "text": [
      "Finished GPU Testing in time:  0.9928574562072754\n",
      "Accuracy of Cakes : 81 %\n",
      "Accuracy of Pasta : 85 %\n",
      "Accuracy of Pizza : 75 %\n",
      "Confusion matrix: \n",
      " [[22  5  3]\n",
      " [ 2 21  7]\n",
      " [ 1  9 20]]\n"
     ]
    }
   ],
   "source": [
    "class_correct = list(0. for i in range(3))\n",
    "class_total = list(0. for i in range(3))\n",
    "\n",
    "predicted_labels_entire = []\n",
    "groundtruth_labels_entire = []\n",
    "\n",
    "start = time.time()\n",
    "with torch.no_grad():\n",
    "    for data in testloader:\n",
    "        images, groundtruth_labels = data[0].to(device), data[1].to(device)\n",
    "        \n",
    "        groundtruth_labels_entire += groundtruth_labels.cpu()\n",
    "        \n",
    "        outputs = net(images)\n",
    "        _, predicted_labels = torch.max(outputs, 1)\n",
    "           \n",
    "        predicted_labels_entire += predicted_labels.cpu()\n",
    "\n",
    "        c = (predicted_labels == groundtruth_labels).squeeze()\n",
    "        for i in range(2):\n",
    "            label = groundtruth_labels[i]\n",
    "            class_correct[label] += c[i].item()\n",
    "            class_total[label] += 1\n",
    "\n",
    "time1 = time.time() - start\n",
    "print('Finished GPU Testing in time: ', time1)\n",
    "\n",
    "for i in range(3):\n",
    "    print('Accuracy of %5s : %2d %%' % (\n",
    "        classes[i], 100 * class_correct[i] / class_total[i]))\n",
    "    \n",
    "cm = confusion_matrix(groundtruth_labels_entire, predicted_labels_entire)\n",
    "print (\"Confusion matrix: \\n\", cm)\n",
    "\n"
   ]
  },
  {
   "cell_type": "code",
   "execution_count": null,
   "id": "9f98d2ca",
   "metadata": {},
   "outputs": [],
   "source": []
  },
  {
   "cell_type": "code",
   "execution_count": null,
   "id": "391ce454",
   "metadata": {},
   "outputs": [],
   "source": []
  }
 ],
 "metadata": {
  "kernelspec": {
   "display_name": "Python 3 (ipykernel)",
   "language": "python",
   "name": "python3"
  },
  "language_info": {
   "codemirror_mode": {
    "name": "ipython",
    "version": 3
   },
   "file_extension": ".py",
   "mimetype": "text/x-python",
   "name": "python",
   "nbconvert_exporter": "python",
   "pygments_lexer": "ipython3",
   "version": "3.8.8"
  }
 },
 "nbformat": 4,
 "nbformat_minor": 5
}
