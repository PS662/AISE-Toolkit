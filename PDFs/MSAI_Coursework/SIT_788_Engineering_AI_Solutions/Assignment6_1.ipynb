{
 "cells": [
  {
   "cell_type": "code",
   "execution_count": 1,
   "id": "8b82fec1",
   "metadata": {},
   "outputs": [
    {
     "name": "stdout",
     "output_type": "stream",
     "text": [
      "Requirement already satisfied: azure-ai-language-questionanswering in c:\\users\\singh\\anaconda3\\lib\\site-packages (1.0.0)\n",
      "Requirement already satisfied: msrest>=0.6.21 in c:\\users\\singh\\anaconda3\\lib\\site-packages (from azure-ai-language-questionanswering) (0.6.21)\n",
      "Requirement already satisfied: azure-core<2.0.0,>=1.19.1 in c:\\users\\singh\\anaconda3\\lib\\site-packages (from azure-ai-language-questionanswering) (1.21.1)\n",
      "Requirement already satisfied: requests>=2.18.4 in c:\\users\\singh\\anaconda3\\lib\\site-packages (from azure-core<2.0.0,>=1.19.1->azure-ai-language-questionanswering) (2.25.1)\n",
      "Requirement already satisfied: six>=1.11.0 in c:\\users\\singh\\anaconda3\\lib\\site-packages (from azure-core<2.0.0,>=1.19.1->azure-ai-language-questionanswering) (1.15.0)\n",
      "Requirement already satisfied: requests-oauthlib>=0.5.0 in c:\\users\\singh\\anaconda3\\lib\\site-packages (from msrest>=0.6.21->azure-ai-language-questionanswering) (1.3.1)\n",
      "Requirement already satisfied: isodate>=0.6.0 in c:\\users\\singh\\anaconda3\\lib\\site-packages (from msrest>=0.6.21->azure-ai-language-questionanswering) (0.6.1)\n",
      "Requirement already satisfied: certifi>=2017.4.17 in c:\\users\\singh\\anaconda3\\lib\\site-packages (from msrest>=0.6.21->azure-ai-language-questionanswering) (2020.12.5)\n",
      "Requirement already satisfied: chardet<5,>=3.0.2 in c:\\users\\singh\\anaconda3\\lib\\site-packages (from requests>=2.18.4->azure-core<2.0.0,>=1.19.1->azure-ai-language-questionanswering) (4.0.0)\n",
      "Requirement already satisfied: urllib3<1.27,>=1.21.1 in c:\\users\\singh\\anaconda3\\lib\\site-packages (from requests>=2.18.4->azure-core<2.0.0,>=1.19.1->azure-ai-language-questionanswering) (1.26.4)\n",
      "Requirement already satisfied: idna<3,>=2.5 in c:\\users\\singh\\anaconda3\\lib\\site-packages (from requests>=2.18.4->azure-core<2.0.0,>=1.19.1->azure-ai-language-questionanswering) (2.10)\n",
      "Requirement already satisfied: oauthlib>=3.0.0 in c:\\users\\singh\\anaconda3\\lib\\site-packages (from requests-oauthlib>=0.5.0->msrest>=0.6.21->azure-ai-language-questionanswering) (3.2.0)\n"
     ]
    }
   ],
   "source": [
    "!pip install azure-ai-language-questionanswering"
   ]
  },
  {
   "cell_type": "code",
   "execution_count": 2,
   "id": "139bdd09",
   "metadata": {},
   "outputs": [],
   "source": [
    "from azure.core.credentials import AzureKeyCredential\n",
    "from azure.ai.language.questionanswering import QuestionAnsweringClient"
   ]
  },
  {
   "cell_type": "code",
   "execution_count": 3,
   "id": "98f4681e",
   "metadata": {},
   "outputs": [],
   "source": [
    "#connect with created resource using endpoint and secret key\n",
    "endpoint = \"https://westus2.api.cognitive.microsoft.com/\"\n",
    "key_cred = AzureKeyCredential(\"2ed59c25a82542c78db18f0a5a2d0485\")\n",
    "_project_name = \"climateques\"\n",
    "client = QuestionAnsweringClient(endpoint, key_cred)\n",
    "    "
   ]
  },
  {
   "cell_type": "code",
   "execution_count": 5,
   "id": "be9d17b7",
   "metadata": {},
   "outputs": [
    {
     "name": "stdout",
     "output_type": "stream",
     "text": [
      "Question: What is global warming\n",
      "Ans: “Global warming” refers to the long-term warming of the planet. “Climate change” encompasses global warming, but refers to the broader range of changes that are happening to our planet, including rising sea levels; shrinking mountain glaciers; accelerating ice melt in Greenland, Antarctica and the Arctic; and shifts in flower/plant blooming times.\n",
      "[detailed answer](https://climate.nasa.gov/faq/12)\n",
      "Conf: 0.7513\n",
      "_______________________________\n",
      "Question: Is Sun causing global warming?\n",
      "Ans: No. The Sun can influence Earth’s climate, but it isn’t responsible for the warming trend we’ve seen in recent decades.\n",
      "[detailed answer](https://climate.nasa.gov/faq/14)\n",
      "Conf: 0.98\n",
      "_______________________________\n",
      "Question: How do we tackle climate change\n",
      "Ans: Major climate research organizations worldwide have developed mathematically rigorous, peer-reviewed data-processing methods to identify and compensate for changes in observing conditions.\n",
      "[detailed answer](https://climate.nasa.gov/faq/38)\n",
      "Conf: 0.4743\n",
      "_______________________________\n"
     ]
    }
   ],
   "source": [
    "sample_questions = [\"What is global warming\",\n",
    "                   \"Is Sun causing global warming?\",\n",
    "                   \"How do we tackle climate change\"]\n",
    "for ques in sample_questions:\n",
    "    bot_output = client.get_answers(question = ques,\n",
    "                  project_name = _project_name,\n",
    "                  deployment_name = \"production\")\n",
    "    \n",
    "    for answer_ele in bot_output.answers:\n",
    "        print (\"Question: {}\".format(ques))\n",
    "        print (\"Ans: {}\".format(answer_ele.answer))\n",
    "        print (\"Conf: {}\".format(answer_ele.confidence))\n",
    "        print(\"_______________________________\")"
   ]
  },
  {
   "cell_type": "code",
   "execution_count": null,
   "id": "11f8c168",
   "metadata": {},
   "outputs": [],
   "source": []
  }
 ],
 "metadata": {
  "kernelspec": {
   "display_name": "sit_788",
   "language": "python",
   "name": "sit_788"
  },
  "language_info": {
   "codemirror_mode": {
    "name": "ipython",
    "version": 3
   },
   "file_extension": ".py",
   "mimetype": "text/x-python",
   "name": "python",
   "nbconvert_exporter": "python",
   "pygments_lexer": "ipython3",
   "version": "3.8.8"
  }
 },
 "nbformat": 4,
 "nbformat_minor": 5
}
