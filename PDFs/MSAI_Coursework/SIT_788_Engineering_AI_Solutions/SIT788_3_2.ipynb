{
 "cells": [
  {
   "cell_type": "code",
   "execution_count": 1,
   "id": "70161768",
   "metadata": {},
   "outputs": [],
   "source": [
    "#!pip install scikit-multilearn\n",
    "import pandas as pd\n",
    "import zipfile as zf\n",
    "import pickle\n",
    "from sklearn.tree import DecisionTreeClassifier\n",
    "from sklearn.ensemble import RandomForestClassifier\n",
    "import codecs\n",
    "from sklearn.model_selection import train_test_split\n",
    "from sklearn.metrics import classification_report\n",
    "from sklearn.metrics import multilabel_confusion_matrix\n",
    "from sklearn.metrics import accuracy_score\n",
    "from skmultilearn.problem_transform import LabelPowerset\n",
    "from time import time"
   ]
  },
  {
   "cell_type": "markdown",
   "id": "8b595322",
   "metadata": {},
   "source": [
    "#### Load the dataset"
   ]
  },
  {
   "cell_type": "code",
   "execution_count": 2,
   "id": "19756fbd",
   "metadata": {},
   "outputs": [],
   "source": [
    "data_file = \"./SIT788_3_2_Data/diagnosis.data\"\n",
    "udoc = codecs.open(data_file,'rU','UTF-16') #reading with \"universal\" type\n",
    "df = pd.read_csv(udoc, sep='\\t', decimal=',') #Reading tab seperated values and replacing ',' with '.'\n",
    "df.columns =['temp', 'nausea', 'lumbar_pain', 'urine_pushing', 'micturian_pains', \n",
    "             'urethra_pain', 'urinary_bladder_inflammation', 'renal_pelvis_nephritis'] #Add relevant column names"
   ]
  },
  {
   "cell_type": "markdown",
   "id": "26e21e9b",
   "metadata": {},
   "source": [
    "#### Check for null values"
   ]
  },
  {
   "cell_type": "code",
   "execution_count": 3,
   "id": "07c0a66d",
   "metadata": {},
   "outputs": [
    {
     "name": "stdout",
     "output_type": "stream",
     "text": [
      "temp                            0\n",
      "nausea                          0\n",
      "lumbar_pain                     0\n",
      "urine_pushing                   0\n",
      "micturian_pains                 0\n",
      "urethra_pain                    0\n",
      "urinary_bladder_inflammation    0\n",
      "renal_pelvis_nephritis          0\n",
      "dtype: int64\n"
     ]
    }
   ],
   "source": [
    "print(df.isnull().sum())\n"
   ]
  },
  {
   "cell_type": "markdown",
   "id": "6d88fbfc",
   "metadata": {},
   "source": [
    "#### Print 1st 5 rows and data tyes of column"
   ]
  },
  {
   "cell_type": "code",
   "execution_count": 4,
   "id": "4a52c034",
   "metadata": {},
   "outputs": [
    {
     "data": {
      "text/html": [
       "<div>\n",
       "<style scoped>\n",
       "    .dataframe tbody tr th:only-of-type {\n",
       "        vertical-align: middle;\n",
       "    }\n",
       "\n",
       "    .dataframe tbody tr th {\n",
       "        vertical-align: top;\n",
       "    }\n",
       "\n",
       "    .dataframe thead th {\n",
       "        text-align: right;\n",
       "    }\n",
       "</style>\n",
       "<table border=\"1\" class=\"dataframe\">\n",
       "  <thead>\n",
       "    <tr style=\"text-align: right;\">\n",
       "      <th></th>\n",
       "      <th>temp</th>\n",
       "      <th>nausea</th>\n",
       "      <th>lumbar_pain</th>\n",
       "      <th>urine_pushing</th>\n",
       "      <th>micturian_pains</th>\n",
       "      <th>urethra_pain</th>\n",
       "      <th>urinary_bladder_inflammation</th>\n",
       "      <th>renal_pelvis_nephritis</th>\n",
       "    </tr>\n",
       "  </thead>\n",
       "  <tbody>\n",
       "    <tr>\n",
       "      <th>0</th>\n",
       "      <td>35.9</td>\n",
       "      <td>no</td>\n",
       "      <td>no</td>\n",
       "      <td>yes</td>\n",
       "      <td>yes</td>\n",
       "      <td>yes</td>\n",
       "      <td>yes</td>\n",
       "      <td>no</td>\n",
       "    </tr>\n",
       "    <tr>\n",
       "      <th>1</th>\n",
       "      <td>35.9</td>\n",
       "      <td>no</td>\n",
       "      <td>yes</td>\n",
       "      <td>no</td>\n",
       "      <td>no</td>\n",
       "      <td>no</td>\n",
       "      <td>no</td>\n",
       "      <td>no</td>\n",
       "    </tr>\n",
       "    <tr>\n",
       "      <th>2</th>\n",
       "      <td>36.0</td>\n",
       "      <td>no</td>\n",
       "      <td>no</td>\n",
       "      <td>yes</td>\n",
       "      <td>yes</td>\n",
       "      <td>yes</td>\n",
       "      <td>yes</td>\n",
       "      <td>no</td>\n",
       "    </tr>\n",
       "    <tr>\n",
       "      <th>3</th>\n",
       "      <td>36.0</td>\n",
       "      <td>no</td>\n",
       "      <td>yes</td>\n",
       "      <td>no</td>\n",
       "      <td>no</td>\n",
       "      <td>no</td>\n",
       "      <td>no</td>\n",
       "      <td>no</td>\n",
       "    </tr>\n",
       "    <tr>\n",
       "      <th>4</th>\n",
       "      <td>36.0</td>\n",
       "      <td>no</td>\n",
       "      <td>yes</td>\n",
       "      <td>no</td>\n",
       "      <td>no</td>\n",
       "      <td>no</td>\n",
       "      <td>no</td>\n",
       "      <td>no</td>\n",
       "    </tr>\n",
       "  </tbody>\n",
       "</table>\n",
       "</div>"
      ],
      "text/plain": [
       "   temp nausea lumbar_pain urine_pushing micturian_pains urethra_pain  \\\n",
       "0  35.9     no          no           yes             yes          yes   \n",
       "1  35.9     no         yes            no              no           no   \n",
       "2  36.0     no          no           yes             yes          yes   \n",
       "3  36.0     no         yes            no              no           no   \n",
       "4  36.0     no         yes            no              no           no   \n",
       "\n",
       "  urinary_bladder_inflammation renal_pelvis_nephritis  \n",
       "0                          yes                     no  \n",
       "1                           no                     no  \n",
       "2                          yes                     no  \n",
       "3                           no                     no  \n",
       "4                           no                     no  "
      ]
     },
     "metadata": {},
     "output_type": "display_data"
    },
    {
     "data": {
      "text/plain": [
       "temp                            float64\n",
       "nausea                           object\n",
       "lumbar_pain                      object\n",
       "urine_pushing                    object\n",
       "micturian_pains                  object\n",
       "urethra_pain                     object\n",
       "urinary_bladder_inflammation     object\n",
       "renal_pelvis_nephritis           object\n",
       "dtype: object"
      ]
     },
     "metadata": {},
     "output_type": "display_data"
    }
   ],
   "source": [
    "display(df.head(5))\n",
    "display(df.dtypes)"
   ]
  },
  {
   "cell_type": "markdown",
   "id": "dc69cd56",
   "metadata": {},
   "source": [
    "#### Replace categorical string values wth numerical values"
   ]
  },
  {
   "cell_type": "code",
   "execution_count": 5,
   "id": "416d5326",
   "metadata": {},
   "outputs": [
    {
     "data": {
      "text/html": [
       "<div>\n",
       "<style scoped>\n",
       "    .dataframe tbody tr th:only-of-type {\n",
       "        vertical-align: middle;\n",
       "    }\n",
       "\n",
       "    .dataframe tbody tr th {\n",
       "        vertical-align: top;\n",
       "    }\n",
       "\n",
       "    .dataframe thead th {\n",
       "        text-align: right;\n",
       "    }\n",
       "</style>\n",
       "<table border=\"1\" class=\"dataframe\">\n",
       "  <thead>\n",
       "    <tr style=\"text-align: right;\">\n",
       "      <th></th>\n",
       "      <th>temp</th>\n",
       "      <th>nausea</th>\n",
       "      <th>lumbar_pain</th>\n",
       "      <th>urine_pushing</th>\n",
       "      <th>micturian_pains</th>\n",
       "      <th>urethra_pain</th>\n",
       "      <th>urinary_bladder_inflammation</th>\n",
       "      <th>renal_pelvis_nephritis</th>\n",
       "    </tr>\n",
       "  </thead>\n",
       "  <tbody>\n",
       "    <tr>\n",
       "      <th>0</th>\n",
       "      <td>35.9</td>\n",
       "      <td>0</td>\n",
       "      <td>0</td>\n",
       "      <td>1</td>\n",
       "      <td>1</td>\n",
       "      <td>1</td>\n",
       "      <td>1</td>\n",
       "      <td>0</td>\n",
       "    </tr>\n",
       "    <tr>\n",
       "      <th>1</th>\n",
       "      <td>35.9</td>\n",
       "      <td>0</td>\n",
       "      <td>1</td>\n",
       "      <td>0</td>\n",
       "      <td>0</td>\n",
       "      <td>0</td>\n",
       "      <td>0</td>\n",
       "      <td>0</td>\n",
       "    </tr>\n",
       "    <tr>\n",
       "      <th>2</th>\n",
       "      <td>36.0</td>\n",
       "      <td>0</td>\n",
       "      <td>0</td>\n",
       "      <td>1</td>\n",
       "      <td>1</td>\n",
       "      <td>1</td>\n",
       "      <td>1</td>\n",
       "      <td>0</td>\n",
       "    </tr>\n",
       "    <tr>\n",
       "      <th>3</th>\n",
       "      <td>36.0</td>\n",
       "      <td>0</td>\n",
       "      <td>1</td>\n",
       "      <td>0</td>\n",
       "      <td>0</td>\n",
       "      <td>0</td>\n",
       "      <td>0</td>\n",
       "      <td>0</td>\n",
       "    </tr>\n",
       "    <tr>\n",
       "      <th>4</th>\n",
       "      <td>36.0</td>\n",
       "      <td>0</td>\n",
       "      <td>1</td>\n",
       "      <td>0</td>\n",
       "      <td>0</td>\n",
       "      <td>0</td>\n",
       "      <td>0</td>\n",
       "      <td>0</td>\n",
       "    </tr>\n",
       "  </tbody>\n",
       "</table>\n",
       "</div>"
      ],
      "text/plain": [
       "   temp  nausea  lumbar_pain  urine_pushing  micturian_pains  urethra_pain  \\\n",
       "0  35.9       0            0              1                1             1   \n",
       "1  35.9       0            1              0                0             0   \n",
       "2  36.0       0            0              1                1             1   \n",
       "3  36.0       0            1              0                0             0   \n",
       "4  36.0       0            1              0                0             0   \n",
       "\n",
       "   urinary_bladder_inflammation  renal_pelvis_nephritis  \n",
       "0                             1                       0  \n",
       "1                             0                       0  \n",
       "2                             1                       0  \n",
       "3                             0                       0  \n",
       "4                             0                       0  "
      ]
     },
     "metadata": {},
     "output_type": "display_data"
    },
    {
     "data": {
      "text/html": [
       "<div>\n",
       "<style scoped>\n",
       "    .dataframe tbody tr th:only-of-type {\n",
       "        vertical-align: middle;\n",
       "    }\n",
       "\n",
       "    .dataframe tbody tr th {\n",
       "        vertical-align: top;\n",
       "    }\n",
       "\n",
       "    .dataframe thead th {\n",
       "        text-align: right;\n",
       "    }\n",
       "</style>\n",
       "<table border=\"1\" class=\"dataframe\">\n",
       "  <thead>\n",
       "    <tr style=\"text-align: right;\">\n",
       "      <th></th>\n",
       "      <th>temp</th>\n",
       "      <th>nausea</th>\n",
       "      <th>lumbar_pain</th>\n",
       "      <th>urine_pushing</th>\n",
       "      <th>micturian_pains</th>\n",
       "      <th>urethra_pain</th>\n",
       "      <th>urinary_bladder_inflammation</th>\n",
       "      <th>renal_pelvis_nephritis</th>\n",
       "    </tr>\n",
       "  </thead>\n",
       "  <tbody>\n",
       "    <tr>\n",
       "      <th>count</th>\n",
       "      <td>119.000000</td>\n",
       "      <td>119.000000</td>\n",
       "      <td>119.000000</td>\n",
       "      <td>119.000000</td>\n",
       "      <td>119.000000</td>\n",
       "      <td>119.000000</td>\n",
       "      <td>119.000000</td>\n",
       "      <td>119.000000</td>\n",
       "    </tr>\n",
       "    <tr>\n",
       "      <th>mean</th>\n",
       "      <td>38.751261</td>\n",
       "      <td>0.243697</td>\n",
       "      <td>0.579832</td>\n",
       "      <td>0.672269</td>\n",
       "      <td>0.495798</td>\n",
       "      <td>0.420168</td>\n",
       "      <td>0.495798</td>\n",
       "      <td>0.420168</td>\n",
       "    </tr>\n",
       "    <tr>\n",
       "      <th>std</th>\n",
       "      <td>1.802346</td>\n",
       "      <td>0.431128</td>\n",
       "      <td>0.495673</td>\n",
       "      <td>0.471371</td>\n",
       "      <td>0.502096</td>\n",
       "      <td>0.495673</td>\n",
       "      <td>0.502096</td>\n",
       "      <td>0.495673</td>\n",
       "    </tr>\n",
       "    <tr>\n",
       "      <th>min</th>\n",
       "      <td>35.900000</td>\n",
       "      <td>0.000000</td>\n",
       "      <td>0.000000</td>\n",
       "      <td>0.000000</td>\n",
       "      <td>0.000000</td>\n",
       "      <td>0.000000</td>\n",
       "      <td>0.000000</td>\n",
       "      <td>0.000000</td>\n",
       "    </tr>\n",
       "    <tr>\n",
       "      <th>25%</th>\n",
       "      <td>37.150000</td>\n",
       "      <td>0.000000</td>\n",
       "      <td>0.000000</td>\n",
       "      <td>0.000000</td>\n",
       "      <td>0.000000</td>\n",
       "      <td>0.000000</td>\n",
       "      <td>0.000000</td>\n",
       "      <td>0.000000</td>\n",
       "    </tr>\n",
       "    <tr>\n",
       "      <th>50%</th>\n",
       "      <td>38.000000</td>\n",
       "      <td>0.000000</td>\n",
       "      <td>1.000000</td>\n",
       "      <td>1.000000</td>\n",
       "      <td>0.000000</td>\n",
       "      <td>0.000000</td>\n",
       "      <td>0.000000</td>\n",
       "      <td>0.000000</td>\n",
       "    </tr>\n",
       "    <tr>\n",
       "      <th>75%</th>\n",
       "      <td>40.600000</td>\n",
       "      <td>0.000000</td>\n",
       "      <td>1.000000</td>\n",
       "      <td>1.000000</td>\n",
       "      <td>1.000000</td>\n",
       "      <td>1.000000</td>\n",
       "      <td>1.000000</td>\n",
       "      <td>1.000000</td>\n",
       "    </tr>\n",
       "    <tr>\n",
       "      <th>max</th>\n",
       "      <td>41.500000</td>\n",
       "      <td>1.000000</td>\n",
       "      <td>1.000000</td>\n",
       "      <td>1.000000</td>\n",
       "      <td>1.000000</td>\n",
       "      <td>1.000000</td>\n",
       "      <td>1.000000</td>\n",
       "      <td>1.000000</td>\n",
       "    </tr>\n",
       "  </tbody>\n",
       "</table>\n",
       "</div>"
      ],
      "text/plain": [
       "             temp      nausea  lumbar_pain  urine_pushing  micturian_pains  \\\n",
       "count  119.000000  119.000000   119.000000     119.000000       119.000000   \n",
       "mean    38.751261    0.243697     0.579832       0.672269         0.495798   \n",
       "std      1.802346    0.431128     0.495673       0.471371         0.502096   \n",
       "min     35.900000    0.000000     0.000000       0.000000         0.000000   \n",
       "25%     37.150000    0.000000     0.000000       0.000000         0.000000   \n",
       "50%     38.000000    0.000000     1.000000       1.000000         0.000000   \n",
       "75%     40.600000    0.000000     1.000000       1.000000         1.000000   \n",
       "max     41.500000    1.000000     1.000000       1.000000         1.000000   \n",
       "\n",
       "       urethra_pain  urinary_bladder_inflammation  renal_pelvis_nephritis  \n",
       "count    119.000000                    119.000000              119.000000  \n",
       "mean       0.420168                      0.495798                0.420168  \n",
       "std        0.495673                      0.502096                0.495673  \n",
       "min        0.000000                      0.000000                0.000000  \n",
       "25%        0.000000                      0.000000                0.000000  \n",
       "50%        0.000000                      0.000000                0.000000  \n",
       "75%        1.000000                      1.000000                1.000000  \n",
       "max        1.000000                      1.000000                1.000000  "
      ]
     },
     "metadata": {},
     "output_type": "display_data"
    },
    {
     "data": {
      "text/plain": [
       "temp                            float64\n",
       "nausea                            int64\n",
       "lumbar_pain                       int64\n",
       "urine_pushing                     int64\n",
       "micturian_pains                   int64\n",
       "urethra_pain                      int64\n",
       "urinary_bladder_inflammation      int64\n",
       "renal_pelvis_nephritis            int64\n",
       "dtype: object"
      ]
     },
     "metadata": {},
     "output_type": "display_data"
    }
   ],
   "source": [
    "df.replace(to_replace=['no', 'yes'], value=[0, 1], inplace=True)\n",
    "display(df.head(5))\n",
    "display(df.describe())\n",
    "display(df.dtypes)\n"
   ]
  },
  {
   "cell_type": "markdown",
   "id": "d54dc70b",
   "metadata": {},
   "source": [
    "#### Split data into train and test"
   ]
  },
  {
   "cell_type": "code",
   "execution_count": 6,
   "id": "71254edf",
   "metadata": {},
   "outputs": [
    {
     "name": "stdout",
     "output_type": "stream",
     "text": [
      "Data distribution\n",
      "renal_pelvis_nephritis          69\n",
      "urinary_bladder_inflammation    60\n",
      "dtype: int64\n",
      "renal_pelvis_nephritis          50\n",
      "urinary_bladder_inflammation    59\n",
      "dtype: int64\n"
     ]
    }
   ],
   "source": [
    "X, Y = df.loc[:, (df.columns != 'urinary_bladder_inflammation') & (df.columns != 'renal_pelvis_nephritis')], df[['renal_pelvis_nephritis', 'urinary_bladder_inflammation']]\n",
    "x_train, x_test, y_train, y_test = train_test_split(X, Y, test_size=0.40, random_state=42)\n",
    "print (\"Data distribution\")\n",
    "print(Y[Y==0].count())\n",
    "print(Y[Y==1].count())"
   ]
  },
  {
   "cell_type": "markdown",
   "id": "8dcedfe9",
   "metadata": {},
   "source": [
    "#### Training DecisionTree"
   ]
  },
  {
   "cell_type": "code",
   "execution_count": 7,
   "id": "eeb56742",
   "metadata": {},
   "outputs": [
    {
     "name": "stdout",
     "output_type": "stream",
     "text": [
      "Decsion Tree train time:  5\n",
      "Decsion Tree time per prediction:  0.22916666666666666\n"
     ]
    }
   ],
   "source": [
    "clf_dt = LabelPowerset(DecisionTreeClassifier())\n",
    "\n",
    "millis_a = int(time() * 1000)\n",
    "clf_dt.fit(x_train, y_train)\n",
    "millis_b = int(time() * 1000)\n",
    "dif = millis_b - millis_a\n",
    "print (\"Decsion Tree train time: \", dif)\n",
    "\n",
    "millis_a = int(time() * 1000)\n",
    "y_pred_dt = clf_dt.predict(x_test)\n",
    "millis_b = int(time() * 1000)\n",
    "dif = millis_b - millis_a\n",
    "avg_t = dif / len(x_test)\n",
    "print (\"Decsion Tree time per prediction: \", avg_t)"
   ]
  },
  {
   "cell_type": "markdown",
   "id": "d3903db4",
   "metadata": {},
   "source": [
    "#### Training Random Forest"
   ]
  },
  {
   "cell_type": "code",
   "execution_count": 8,
   "id": "c6134420",
   "metadata": {},
   "outputs": [
    {
     "name": "stdout",
     "output_type": "stream",
     "text": [
      "RF train time:  283\n",
      "RF time per prediction:  0.6875\n"
     ]
    }
   ],
   "source": [
    "clf_rf = LabelPowerset(RandomForestClassifier())\n",
    "\n",
    "millis_a = int(time() * 1000)\n",
    "clf_rf = clf_rf.fit(x_train, y_train)\n",
    "millis_b = int(time() * 1000)\n",
    "dif = millis_b - millis_a\n",
    "print (\"RF train time: \", dif)\n",
    "\n",
    "millis_a = int(time() * 1000)\n",
    "y_pred_rf = clf_rf.predict(x_test)\n",
    "millis_b = int(time() * 1000)\n",
    "dif = millis_b - millis_a\n",
    "avg_t = dif / len(x_test)\n",
    "print (\"RF time per prediction: \", avg_t)"
   ]
  },
  {
   "cell_type": "markdown",
   "id": "4a9a0516",
   "metadata": {},
   "source": [
    "#### comparing both the models on different metrics"
   ]
  },
  {
   "cell_type": "code",
   "execution_count": 9,
   "id": "911cc271",
   "metadata": {},
   "outputs": [
    {
     "name": "stdout",
     "output_type": "stream",
     "text": [
      "########################Decision tree metrics###############################\n",
      "              precision    recall  f1-score   support\n",
      "\n",
      "           0       0.95      1.00      0.97        19\n",
      "           1       1.00      1.00      1.00        22\n",
      "\n",
      "   micro avg       0.98      1.00      0.99        41\n",
      "   macro avg       0.97      1.00      0.99        41\n",
      "weighted avg       0.98      1.00      0.99        41\n",
      " samples avg       0.73      0.73      0.73        41\n",
      "\n",
      "DT Accuracy:  0.9791666666666666\n",
      "[[[28  1]\n",
      "  [ 0 19]]\n",
      "\n",
      " [[26  0]\n",
      "  [ 0 22]]]\n",
      "########################Random Forest metrics###############################\n",
      "              precision    recall  f1-score   support\n",
      "\n",
      "           0       1.00      1.00      1.00        19\n",
      "           1       1.00      1.00      1.00        22\n",
      "\n",
      "   micro avg       1.00      1.00      1.00        41\n",
      "   macro avg       1.00      1.00      1.00        41\n",
      "weighted avg       1.00      1.00      1.00        41\n",
      " samples avg       0.73      0.73      0.73        41\n",
      "\n",
      "RF Accuracy: 1.0\n",
      "[[[29  0]\n",
      "  [ 0 19]]\n",
      "\n",
      " [[26  0]\n",
      "  [ 0 22]]]\n"
     ]
    }
   ],
   "source": [
    "print(\"########################Decision tree metrics###############################\")\n",
    "print (classification_report(y_test, y_pred_dt, zero_division=0))\n",
    "print(\"DT Accuracy: \", accuracy_score(y_test, y_pred_dt))\n",
    "print(multilabel_confusion_matrix(y_test, y_pred_dt))\n",
    "\n",
    "print(\"########################Random Forest metrics###############################\")\n",
    "print (classification_report(y_test, y_pred_rf, zero_division=0))\n",
    "print(\"RF Accuracy:\", accuracy_score(y_test, y_pred_rf))\n",
    "print(multilabel_confusion_matrix(y_test, y_pred_rf))\n"
   ]
  },
  {
   "cell_type": "markdown",
   "id": "03387e03",
   "metadata": {},
   "source": [
    "#### Exporting and Saving zipped model"
   ]
  },
  {
   "cell_type": "code",
   "execution_count": 10,
   "id": "6c220c5f",
   "metadata": {},
   "outputs": [],
   "source": [
    "model_f = open('best_model.pkl', 'wb')\n",
    "pickle.dump(clf_rf, model_f)\n",
    "model_f.close()\n",
    "zf.ZipFile('best_model.zip', mode = 'w').write('best_model.pkl')"
   ]
  },
  {
   "cell_type": "code",
   "execution_count": null,
   "id": "eee939d0",
   "metadata": {},
   "outputs": [],
   "source": []
  }
 ],
 "metadata": {
  "kernelspec": {
   "display_name": "Python 3",
   "language": "python",
   "name": "python3"
  },
  "language_info": {
   "codemirror_mode": {
    "name": "ipython",
    "version": 3
   },
   "file_extension": ".py",
   "mimetype": "text/x-python",
   "name": "python",
   "nbconvert_exporter": "python",
   "pygments_lexer": "ipython3",
   "version": "3.8.8"
  }
 },
 "nbformat": 4,
 "nbformat_minor": 5
}
