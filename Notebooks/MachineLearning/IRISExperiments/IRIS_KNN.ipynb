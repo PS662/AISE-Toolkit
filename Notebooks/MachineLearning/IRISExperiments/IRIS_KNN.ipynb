{
 "cells": [
  {
   "cell_type": "code",
   "execution_count": 1,
   "id": "e1b8d761",
   "metadata": {},
   "outputs": [],
   "source": [
    "import pandas as pd #To load data\n",
    "\n",
    "from sklearn.model_selection import train_test_split\n",
    "from sklearn.tree import DecisionTreeClassifier, plot_tree\n",
    "from sklearn.neighbors import KNeighborsClassifier\n",
    "from sklearn.metrics import accuracy_score, confusion_matrix, ConfusionMatrixDisplay\n"
   ]
  },
  {
   "cell_type": "markdown",
   "id": "e57936d2",
   "metadata": {},
   "source": [
    "This example shows various stages of a typical machine learning classification pipeline:\n",
    " - loading the data\n",
    " - selecting a classification model\n",
    " - dividing into training and test set\n",
    " - fiting the data into model\n",
    " - predicting using fitted values"
   ]
  },
  {
   "cell_type": "code",
   "execution_count": 2,
   "id": "87b6024e",
   "metadata": {},
   "outputs": [],
   "source": [
    "#Loading the data\n",
    "#For this examle I choose the famous iris data\n",
    "url = 'http://archive.ics.uci.edu/ml/machine-learning-databases/iris/iris.data' #Iris url\n",
    "columns = [\"sepal_length\", \"sepal_width\", \"petal_length\", \"petal_width\", \"class\"] #Init column header\n",
    "iris_data = pd.read_csv(url, names = columns) #reading from url\n",
    "iris_data.columns = columns #Adding column header"
   ]
  },
  {
   "cell_type": "code",
   "execution_count": 3,
   "id": "d67a509a",
   "metadata": {},
   "outputs": [],
   "source": [
    "#Preprocessing the data to add headers and dividing into features and labels (X and Y)\n",
    "X = iris_data[['sepal_length','sepal_width','petal_length','petal_width']]\n",
    "Y = iris_data['class']"
   ]
  },
  {
   "cell_type": "code",
   "execution_count": 4,
   "id": "5b8fec1e",
   "metadata": {},
   "outputs": [],
   "source": [
    "#splitting into training and testing set\n",
    "x_train, x_test, y_train, y_test = train_test_split(X, Y, test_size=0.3)"
   ]
  },
  {
   "cell_type": "code",
   "execution_count": 7,
   "id": "8820095b",
   "metadata": {},
   "outputs": [
    {
     "name": "stdout",
     "output_type": "stream",
     "text": [
      "Accuracy of decision tree is 0.9777777777777777\n"
     ]
    },
    {
     "data": {
      "image/png": "[encoded data removed]",
      "text/plain": [
       "<Figure size 432x288 with 2 Axes>"
      ]
     },
     "metadata": {
      "needs_background": "light"
     },
     "output_type": "display_data"
    }
   ],
   "source": [
    "# Using decisoin trees with default model params\n",
    "dt = DecisionTreeClassifier()\n",
    "\n",
    "#Fitting training data into decision tree\n",
    "dt.fit(x_train,y_train)\n",
    "\n",
    "#Predicting using decision tree\n",
    "prediction = dt.predict(x_test)\n",
    "accuracy_dt = accuracy_score(prediction,y_test)\n",
    "print('Accuracy of decision tree is', accuracy_dt)\n",
    "\n",
    "cm = confusion_matrix(y_test, prediction)\n",
    "\n",
    "cm_display = ConfusionMatrixDisplay(cm).plot()\n",
    "\n"
   ]
  },
  {
   "cell_type": "code",
   "execution_count": 6,
   "id": "ca299c50",
   "metadata": {},
   "outputs": [
    {
     "name": "stdout",
     "output_type": "stream",
     "text": [
      "Accuracy of knn tree is 1.0\n"
     ]
    },
    {
     "data": {
      "image/png": "[encoded data removed]",
      "text/plain": [
       "<Figure size 432x288 with 2 Axes>"
      ]
     },
     "metadata": {
      "needs_background": "light"
     },
     "output_type": "display_data"
    }
   ],
   "source": [
    "# Using KNN with default model params\n",
    "knn = KNeighborsClassifier()\n",
    "\n",
    "#Fitting data into knn\n",
    "knn.fit(x_train,y_train)\n",
    "\n",
    "#Predicting using knn\n",
    "prediction = knn.predict(x_test)\n",
    "accuracy_knn = accuracy_score(prediction,y_test)\n",
    "print('Accuracy of knn tree is', accuracy_knn)\n",
    "\n",
    "cm = confusion_matrix(y_test, prediction)\n",
    "\n",
    "cm_display = ConfusionMatrixDisplay(cm).plot()"
   ]
  }
 ],
 "metadata": {
  "kernelspec": {
   "display_name": "Python 3",
   "language": "python",
   "name": "python3"
  },
  "language_info": {
   "codemirror_mode": {
    "name": "ipython",
    "version": 3
   },
   "file_extension": ".py",
   "mimetype": "text/x-python",
   "name": "python",
   "nbconvert_exporter": "python",
   "pygments_lexer": "ipython3",
   "version": "3.8.8"
  }
 },
 "nbformat": 4,
 "nbformat_minor": 5
}
