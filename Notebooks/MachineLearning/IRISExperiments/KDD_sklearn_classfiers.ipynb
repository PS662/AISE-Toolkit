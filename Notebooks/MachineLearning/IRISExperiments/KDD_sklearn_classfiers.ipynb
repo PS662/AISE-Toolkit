{
 "cells": [
  {
   "cell_type": "markdown",
   "metadata": {},
   "source": [
    "# SECTION 1: DECLARE THE MODULES"
   ]
  },
  {
   "cell_type": "code",
   "execution_count": 1,
   "metadata": {},
   "outputs": [],
   "source": [
    "import os\n",
    "from collections import defaultdict\n",
    "import pandas as pd\n",
    "import numpy as np\n",
    "import matplotlib.pyplot as plt\n",
    "import timeit\n",
    "from sklearn.metrics import classification_report, confusion_matrix\n",
    "from sklearn import metrics\n",
    "from sklearn.metrics import precision_recall_curve\n",
    "from sklearn.metrics import PrecisionRecallDisplay\n",
    "from sklearn.metrics import roc_curve\n",
    "\n",
    "#import warnings\n",
    "#warnings.filterwarnings('ignore')\n",
    "\n",
    "from sklearn.metrics import ConfusionMatrixDisplay\n",
    "import wget\n",
    "\n",
    "from sklearn.ensemble import RandomForestClassifier\n",
    "from sklearn.tree import DecisionTreeClassifier\n",
    "from sklearn.metrics import confusion_matrix, zero_one_loss\n",
    "from sklearn.model_selection import GridSearchCV\n",
    "\n",
    "data2_path = \"C:/Users/singh/Documents/MastersAppliedAIDeakin/SIT719_Analytics_Security_Privacy/2020-S2-master/data/Processed_Combined_IoT_dataset.csv\"\n",
    "data2 = pd.read_csv(data2_path)\n",
    "D1 = {} #Dict to store accuracy values from dataset 1\n",
    "D2 = {} #Dict to store accuracy values from dataset 2"
   ]
  },
  {
   "cell_type": "markdown",
   "metadata": {},
   "source": [
    "# SECTION 2: Data import and preprocess\n",
    "#Run this but dont worry if it does not make any sense Jump to SECTION 3 that is related to your HD task."
   ]
  },
  {
   "cell_type": "code",
   "execution_count": 2,
   "metadata": {},
   "outputs": [
    {
     "name": "stdout",
     "output_type": "stream",
     "text": [
      "Requirement already satisfied: wget in c:\\users\\singh\\anaconda3\\lib\\site-packages (3.2)\n",
      "100% [..................................................................................] 500 / 500"
     ]
    }
   ],
   "source": [
    "!pip install wget\n",
    "link_to_data = 'https://raw.githubusercontent.com/SIT719/2020-S2/master/data/Week_5_NSL-KDD-Dataset/training_attack_types.txt?raw=true'\n",
    "DataSet = wget.download(link_to_data) "
   ]
  },
  {
   "cell_type": "code",
   "execution_count": 3,
   "metadata": {},
   "outputs": [
    {
     "data": {
      "text/plain": [
       "'training_attack_types (5).txt'"
      ]
     },
     "execution_count": 3,
     "metadata": {},
     "output_type": "execute_result"
    }
   ],
   "source": [
    "DataSet"
   ]
  },
  {
   "cell_type": "code",
   "execution_count": 4,
   "metadata": {},
   "outputs": [],
   "source": [
    "header_names = ['duration', 'protocol_type', 'service', 'flag', 'src_bytes', 'dst_bytes', 'land', 'wrong_fragment', 'urgent', 'hot', 'num_failed_logins', 'logged_in', 'num_compromised', 'root_shell', 'su_attempted', 'num_root', 'num_file_creations', 'num_shells', 'num_access_files', 'num_outbound_cmds', 'is_host_login', 'is_guest_login', 'count', 'srv_count', 'serror_rate', 'srv_serror_rate', 'rerror_rate', 'srv_rerror_rate', 'same_srv_rate', 'diff_srv_rate', 'srv_diff_host_rate', 'dst_host_count', 'dst_host_srv_count', 'dst_host_same_srv_rate', 'dst_host_diff_srv_rate', 'dst_host_same_src_port_rate', 'dst_host_srv_diff_host_rate', 'dst_host_serror_rate', 'dst_host_srv_serror_rate', 'dst_host_rerror_rate', 'dst_host_srv_rerror_rate', 'attack_type', 'success_pred']\n",
    "\n",
    "\n",
    "# Differentiating between nominal, binary, and numeric features\n",
    "\n",
    "# root_shell is marked as a continuous feature in the kddcup.names \n",
    "# file, but it is supposed to be a binary feature according to the \n",
    "# dataset documentation\n",
    "\n",
    "# training_attack_types.txt maps each of the 22 different attacks to 1 of 4 categories\n",
    "# file obtained from http://kdd.ics.uci.edu/databases/kddcup99/training_attack_types\n",
    "\n",
    "col_names = np.array(header_names)\n",
    "\n",
    "nominal_idx = [1, 2, 3]\n",
    "binary_idx = [6, 11, 13, 14, 20, 21]\n",
    "numeric_idx = list(set(range(41)).difference(nominal_idx).difference(binary_idx))\n",
    "\n",
    "nominal_cols = col_names[nominal_idx].tolist()\n",
    "binary_cols = col_names[binary_idx].tolist()\n",
    "numeric_cols = col_names[numeric_idx].tolist()"
   ]
  },
  {
   "cell_type": "code",
   "execution_count": 5,
   "metadata": {},
   "outputs": [],
   "source": [
    "# training_attack_types.txt maps each of the 22 different attacks to 1 of 4 categories\n",
    "# file obtained from http://kdd.ics.uci.edu/databases/kddcup99/training_attack_types\n",
    "\n",
    "category = defaultdict(list)\n",
    "category['benign'].append('normal')\n",
    "\n",
    "with open(DataSet, 'r') as f:\n",
    "    for line in f.readlines():\n",
    "        attack, cat = line.strip().split(' ')\n",
    "        category[cat].append(attack)\n",
    "\n",
    "attack_mapping = dict((v,k) for k in category for v in category[k])"
   ]
  },
  {
   "cell_type": "code",
   "execution_count": 6,
   "metadata": {},
   "outputs": [
    {
     "data": {
      "text/plain": [
       "{'normal': 'benign',\n",
       " 'apache2': 'dos',\n",
       " 'back': 'dos',\n",
       " 'mailbomb': 'dos',\n",
       " 'processtable': 'dos',\n",
       " 'snmpgetattack': 'dos',\n",
       " 'teardrop': 'dos',\n",
       " 'smurf': 'dos',\n",
       " 'land': 'dos',\n",
       " 'neptune': 'dos',\n",
       " 'pod': 'dos',\n",
       " 'udpstorm': 'dos',\n",
       " 'ps': 'u2r',\n",
       " 'buffer_overflow': 'u2r',\n",
       " 'perl': 'u2r',\n",
       " 'rootkit': 'u2r',\n",
       " 'loadmodule': 'u2r',\n",
       " 'xterm': 'u2r',\n",
       " 'sqlattack': 'u2r',\n",
       " 'httptunnel': 'u2r',\n",
       " 'ftp_write': 'r2l',\n",
       " 'guess_passwd': 'r2l',\n",
       " 'snmpguess': 'r2l',\n",
       " 'imap': 'r2l',\n",
       " 'spy': 'r2l',\n",
       " 'warezclient': 'r2l',\n",
       " 'warezmaster': 'r2l',\n",
       " 'multihop': 'r2l',\n",
       " 'phf': 'r2l',\n",
       " 'named': 'r2l',\n",
       " 'sendmail': 'r2l',\n",
       " 'xlock': 'r2l',\n",
       " 'xsnoop': 'r2l',\n",
       " 'worm': 'probe',\n",
       " 'nmap': 'probe',\n",
       " 'ipsweep': 'probe',\n",
       " 'portsweep': 'probe',\n",
       " 'satan': 'probe',\n",
       " 'mscan': 'probe',\n",
       " 'saint': 'probe'}"
      ]
     },
     "execution_count": 6,
     "metadata": {},
     "output_type": "execute_result"
    }
   ],
   "source": [
    "attack_mapping"
   ]
  },
  {
   "cell_type": "code",
   "execution_count": 7,
   "metadata": {},
   "outputs": [],
   "source": [
    "#Processing Training Data\n",
    "\n",
    "train_file='https://raw.githubusercontent.com/SIT719/2020-S2/master/data/Week_5_NSL-KDD-Dataset/KDDTrain%2B.txt'\n",
    "\n",
    "\n",
    "\n",
    "train_df = pd.read_csv(train_file, names=header_names)\n",
    "\n",
    "train_df['attack_category'] = train_df['attack_type'] \\\n",
    "                                .map(lambda x: attack_mapping[x])\n",
    "\n",
    "train_df.drop(['success_pred'], axis=1, inplace=True)\n",
    "\n",
    "\n",
    "\n",
    "\n"
   ]
  },
  {
   "cell_type": "code",
   "execution_count": 8,
   "metadata": {},
   "outputs": [],
   "source": [
    "#Processing test Data\n",
    "test_file='https://raw.githubusercontent.com/SIT719/2020-S2/master/data/Week_5_NSL-KDD-Dataset/KDDTest%2B.txt'\n",
    "\n",
    "test_df = pd.read_csv(test_file, names=header_names)\n",
    "test_df['attack_category'] = test_df['attack_type'] \\\n",
    "                                .map(lambda x: attack_mapping[x])\n",
    "test_df.drop(['success_pred'], axis=1, inplace=True)"
   ]
  },
  {
   "cell_type": "code",
   "execution_count": 9,
   "metadata": {
    "scrolled": true
   },
   "outputs": [
    {
     "name": "stderr",
     "output_type": "stream",
     "text": [
      "<>:89: SyntaxWarning: \"is\" with a literal. Did you mean \"==\"?\n",
      "<>:90: SyntaxWarning: \"is\" with a literal. Did you mean \"==\"?\n",
      "<>:89: SyntaxWarning: \"is\" with a literal. Did you mean \"==\"?\n",
      "<>:90: SyntaxWarning: \"is\" with a literal. Did you mean \"==\"?\n",
      "<ipython-input-9-432fdc8d5f2a>:79: SettingWithCopyWarning: \n",
      "A value is trying to be set on a copy of a slice from a DataFrame.\n",
      "Try using .loc[row_indexer,col_indexer] = value instead\n",
      "\n",
      "See the caveats in the documentation: https://pandas.pydata.org/pandas-docs/stable/user_guide/indexing.html#returning-a-view-versus-a-copy\n",
      "  train_x[numeric_cols] = \\\n",
      "C:\\Users\\singh\\anaconda3\\lib\\site-packages\\pandas\\core\\indexing.py:1738: SettingWithCopyWarning: \n",
      "A value is trying to be set on a copy of a slice from a DataFrame.\n",
      "Try using .loc[row_indexer,col_indexer] = value instead\n",
      "\n",
      "See the caveats in the documentation: https://pandas.pydata.org/pandas-docs/stable/user_guide/indexing.html#returning-a-view-versus-a-copy\n",
      "  self._setitem_single_column(loc, value[:, i].tolist(), pi)\n",
      "<ipython-input-9-432fdc8d5f2a>:82: SettingWithCopyWarning: \n",
      "A value is trying to be set on a copy of a slice from a DataFrame.\n",
      "Try using .loc[row_indexer,col_indexer] = value instead\n",
      "\n",
      "See the caveats in the documentation: https://pandas.pydata.org/pandas-docs/stable/user_guide/indexing.html#returning-a-view-versus-a-copy\n",
      "  test_x[numeric_cols] = \\\n",
      "C:\\Users\\singh\\anaconda3\\lib\\site-packages\\pandas\\core\\indexing.py:1738: SettingWithCopyWarning: \n",
      "A value is trying to be set on a copy of a slice from a DataFrame.\n",
      "Try using .loc[row_indexer,col_indexer] = value instead\n",
      "\n",
      "See the caveats in the documentation: https://pandas.pydata.org/pandas-docs/stable/user_guide/indexing.html#returning-a-view-versus-a-copy\n",
      "  self._setitem_single_column(loc, value[:, i].tolist(), pi)\n",
      "<ipython-input-9-432fdc8d5f2a>:89: SyntaxWarning: \"is\" with a literal. Did you mean \"==\"?\n",
      "  train_Y_bin = train_Y.apply(lambda x: 0 if x is 'benign' else 1)\n",
      "<ipython-input-9-432fdc8d5f2a>:90: SyntaxWarning: \"is\" with a literal. Did you mean \"==\"?\n",
      "  test_Y_bin = test_Y.apply(lambda x: 0 if x is 'benign' else 1)\n"
     ]
    },
    {
     "data": {
      "image/png": "[encoded data removed]",
      "text/plain": [
       "<Figure size 1440x720 with 1 Axes>"
      ]
     },
     "metadata": {
      "needs_background": "light"
     },
     "output_type": "display_data"
    }
   ],
   "source": [
    "train_attack_types = train_df['attack_type'].value_counts()\n",
    "train_attack_cats = train_df['attack_category'].value_counts()\n",
    "\n",
    "test_attack_types = test_df['attack_type'].value_counts()\n",
    "test_attack_cats = test_df['attack_category'].value_counts()\n",
    "\n",
    "train_attack_types.plot(kind='barh', figsize=(20,10), fontsize=20)\n",
    "\n",
    "train_attack_cats.plot(kind='barh', figsize=(20,10), fontsize=30)\n",
    "\n",
    "train_df[binary_cols].describe().transpose()\n",
    "train_df.groupby(['su_attempted']).size()\n",
    "train_df['su_attempted'].replace(2, 0, inplace=True)\n",
    "test_df['su_attempted'].replace(2, 0, inplace=True)\n",
    "train_df.groupby(['su_attempted']).size()\n",
    "train_df.groupby(['num_outbound_cmds']).size()\n",
    "\n",
    "#Now, that's not a very useful feature - let's drop it from the dataset\n",
    "\n",
    "train_df.drop('num_outbound_cmds', axis = 1, inplace=True)\n",
    "test_df.drop('num_outbound_cmds', axis = 1, inplace=True)\n",
    "numeric_cols.remove('num_outbound_cmds')\n",
    "\n",
    "\n",
    "\n",
    "#Data Preparation\n",
    "\n",
    "train_Y = train_df['attack_category']\n",
    "train_x_raw = train_df.drop(['attack_category','attack_type'], axis=1)\n",
    "test_Y = test_df['attack_category']\n",
    "test_x_raw = test_df.drop(['attack_category','attack_type'], axis=1)\n",
    "\n",
    "\n",
    "combined_df_raw = pd.concat([train_x_raw, test_x_raw])\n",
    "combined_df = pd.get_dummies(combined_df_raw, columns=nominal_cols, drop_first=True)\n",
    "\n",
    "train_x = combined_df[:len(train_x_raw)]\n",
    "test_x = combined_df[len(train_x_raw):]\n",
    "\n",
    "# Store dummy variable feature names\n",
    "dummy_variables = list(set(train_x)-set(combined_df_raw))\n",
    "\n",
    "#execute the commands in console\n",
    "train_x.describe()\n",
    "train_x['duration'].describe()\n",
    "# Experimenting with StandardScaler on the single 'duration' feature\n",
    "from sklearn.preprocessing import StandardScaler\n",
    "\n",
    "durations = train_x['duration'].values.reshape(-1, 1)\n",
    "standard_scaler = StandardScaler().fit(durations)\n",
    "scaled_durations = standard_scaler.transform(durations)\n",
    "pd.Series(scaled_durations.flatten()).describe()\n",
    "\n",
    "# Experimenting with MinMaxScaler on the single 'duration' feature\n",
    "from sklearn.preprocessing import MinMaxScaler\n",
    "\n",
    "min_max_scaler = MinMaxScaler().fit(durations)\n",
    "min_max_scaled_durations = min_max_scaler.transform(durations)\n",
    "pd.Series(min_max_scaled_durations.flatten()).describe()\n",
    "\n",
    "# Experimenting with RobustScaler on the single 'duration' feature\n",
    "from sklearn.preprocessing import RobustScaler\n",
    "\n",
    "min_max_scaler = RobustScaler().fit(durations)\n",
    "robust_scaled_durations = min_max_scaler.transform(durations)\n",
    "pd.Series(robust_scaled_durations.flatten()).describe()\n",
    "\n",
    "# Experimenting with MaxAbsScaler on the single 'duration' feature\n",
    "from sklearn.preprocessing import MaxAbsScaler\n",
    "\n",
    "max_Abs_scaler = MaxAbsScaler().fit(durations)\n",
    "robust_scaled_durations = max_Abs_scaler.transform(durations)\n",
    "pd.Series(robust_scaled_durations.flatten()).describe()\n",
    "\n",
    "# Let's proceed with StandardScaler- Apply to all the numeric columns\n",
    "\n",
    "standard_scaler = StandardScaler().fit(train_x[numeric_cols])\n",
    "\n",
    "train_x[numeric_cols] = \\\n",
    "    standard_scaler.transform(train_x[numeric_cols])\n",
    "\n",
    "test_x[numeric_cols] = \\\n",
    "    standard_scaler.transform(test_x[numeric_cols])\n",
    "    \n",
    "train_x.describe()\n",
    "\n",
    "\n",
    "\n",
    "train_Y_bin = train_Y.apply(lambda x: 0 if x is 'benign' else 1)\n",
    "test_Y_bin = test_Y.apply(lambda x: 0 if x is 'benign' else 1)\n"
   ]
  },
  {
   "cell_type": "markdown",
   "metadata": {},
   "source": [
    "# SECTION 3: Multi class classification\n",
    "#This is the section where you have to add other algorithms, tune algorithms and visualize to compare and analyze algorithms\n",
    "### Decision Tree"
   ]
  },
  {
   "cell_type": "code",
   "execution_count": 10,
   "metadata": {},
   "outputs": [
    {
     "name": "stdout",
     "output_type": "stream",
     "text": [
      "{'max_depth': 20}\n"
     ]
    }
   ],
   "source": [
    "hyperparamsList = {'max_depth': np.arange(10, 50, 10).tolist(), \n",
    "                  }\n",
    "\n",
    "clf = DecisionTreeClassifier()\n",
    "\n",
    "grid = GridSearchCV(estimator=clf, param_grid=hyperparamsList, cv=2,\n",
    "                    scoring='accuracy', n_jobs = 4)\n",
    "\n",
    "grid.fit(train_x, train_Y)\n",
    "print (grid.best_params_)"
   ]
  },
  {
   "cell_type": "code",
   "execution_count": 11,
   "metadata": {},
   "outputs": [
    {
     "name": "stdout",
     "output_type": "stream",
     "text": [
      "[KDD-Dataset] Model Training Time for Decision Tree:  2.4197240999999963\n",
      "[KDD-Dataset] Prediction Time for Decision Tree:  0.033972300000002065\n",
      "[KDD-Dataset] Confusion Matrix for Decision Tree:\n",
      " [[9377   59  272    3    0]\n",
      " [1541 5998   97    0    0]\n",
      " [ 679  220 1524    0    0]\n",
      " [2316    0    8  247    3]\n",
      " [ 173    0    2    5   20]]\n",
      "[KDD-Dataset] Classification Report for Decision Tree:\n",
      "               precision    recall  f1-score   support\n",
      "\n",
      "      benign       0.67      0.97      0.79      9711\n",
      "         dos       0.96      0.79      0.86      7636\n",
      "       probe       0.80      0.63      0.70      2423\n",
      "         r2l       0.97      0.10      0.17      2574\n",
      "         u2r       0.87      0.10      0.18       200\n",
      "\n",
      "    accuracy                           0.76     22544\n",
      "   macro avg       0.85      0.52      0.54     22544\n",
      "weighted avg       0.81      0.76      0.73     22544\n",
      "\n",
      "[KDD-Dataset] Precision Decision Tree:  0.814796424202564\n",
      "[KDD-Dataset] Recall Decision Tree:  0.761444286728176\n",
      "[KDD-Dataset] F1 score Decision Tree:  0.7287739992315527\n",
      "FPR:  0.059638928317955996\n"
     ]
    },
    {
     "data": {
      "image/png": "[encoded data removed]",
      "text/plain": [
       "<Figure size 432x288 with 2 Axes>"
      ]
     },
     "metadata": {
      "needs_background": "light"
     },
     "output_type": "display_data"
    }
   ],
   "source": [
    "# 5-class classification version\n",
    "\n",
    "start = timeit.default_timer()\n",
    "clf = DecisionTreeClassifier(max_depth = grid.best_params_['max_depth'], random_state=17)\n",
    "\n",
    "clf.fit(train_x, train_Y)\n",
    "\n",
    "#Calculate Stop time\n",
    "stop = timeit.default_timer()\n",
    "train_time = stop - start\n",
    "\n",
    "#Calculate start time\n",
    "start = timeit.default_timer()\n",
    "\n",
    "# Predict the model\n",
    "y_pred=clf.predict(test_x)\n",
    "\n",
    "#Calculate Stop time\n",
    "stop = timeit.default_timer()\n",
    "test_time= stop - start\n",
    "results = confusion_matrix(test_Y, y_pred)\n",
    "\n",
    "\n",
    "precision = metrics.precision_score(test_Y, y_pred, average=\"weighted\")\n",
    "recall = metrics.recall_score(test_Y, y_pred, average=\"weighted\")\n",
    "f1Score = metrics.f1_score(test_Y, y_pred, average=\"weighted\")\n",
    "\n",
    "cm_display = ConfusionMatrixDisplay(results).plot()\n",
    "\n",
    "print (\"[KDD-Dataset] Model Training Time for Decision Tree: \", train_time)\n",
    "print (\"[KDD-Dataset] Prediction Time for Decision Tree: \", test_time)\n",
    "print(\"[KDD-Dataset] Confusion Matrix for Decision Tree:\\n\", results)\n",
    "print(\"[KDD-Dataset] Classification Report for Decision Tree:\\n\", classification_report(test_Y,y_pred))\n",
    "print(\"[KDD-Dataset] Precision Decision Tree: \", precision)\n",
    "print(\"[KDD-Dataset] Recall Decision Tree: \", recall)\n",
    "print(\"[KDD-Dataset] F1 score Decision Tree: \", f1Score)\n",
    "\n",
    "#Taken from: \n",
    "#https://stackoverflow.com/questions/50666091/true-positive-rate-and-false-positive-rate-tpr-fpr-for-multi-class-data-in-py\n",
    "FP = results.sum(axis=0) - np.diag(results)  \n",
    "FN = results.sum(axis=1) - np.diag(results)\n",
    "TP = np.diag(results)\n",
    "TN = results.sum() - (FP + FN + TP)\n",
    "\n",
    "FP = FP.astype(float)\n",
    "FN = FN.astype(float)\n",
    "TP = TP.astype(float)\n",
    "TN = TN.astype(float)\n",
    "FPR = FP.sum()/(FP.sum()+TN.sum())\n",
    "\n",
    "print(\"FPR: \", FPR)\n",
    "D1['DT'] = metrics.accuracy_score(test_Y, y_pred)"
   ]
  },
  {
   "cell_type": "markdown",
   "metadata": {},
   "source": [
    "#### KNN"
   ]
  },
  {
   "cell_type": "code",
   "execution_count": 12,
   "metadata": {},
   "outputs": [
    {
     "name": "stdout",
     "output_type": "stream",
     "text": [
      "[KDD-Dataset] Model Training Time for KNN:  0.14264639999964857\n",
      "[KDD-Dataset] Prediction Time for KNN:  52.846228399999745\n",
      "[KDD-Dataset] Confusion Matrix for KNN:\n",
      " [[9444   54  207    5    1]\n",
      " [1630 5925   81    0    0]\n",
      " [ 614  180 1629    0    0]\n",
      " [2362    2   40  170    0]\n",
      " [ 170    0   17    4    9]]\n",
      "[KDD-Dataset] Classification Report for KNN:\n",
      "               precision    recall  f1-score   support\n",
      "\n",
      "      benign       0.66      0.97      0.79      9711\n",
      "         dos       0.96      0.78      0.86      7636\n",
      "       probe       0.83      0.67      0.74      2423\n",
      "         r2l       0.95      0.07      0.12      2574\n",
      "         u2r       0.90      0.04      0.09       200\n",
      "\n",
      "    accuracy                           0.76     22544\n",
      "   macro avg       0.86      0.51      0.52     22544\n",
      "weighted avg       0.82      0.76      0.73     22544\n",
      "\n",
      "[KDD-Dataset] Precision KNN:  0.8169367895224233\n",
      "[KDD-Dataset] Recall KNN:  0.7619322214336409\n",
      "[KDD-Dataset] F1 score KNN:  0.7253992182451958\n",
      "FPR:  0.05951694464158978\n"
     ]
    },
    {
     "data": {
      "image/png": "[encoded data removed]",
      "text/plain": [
       "<Figure size 432x288 with 2 Axes>"
      ]
     },
     "metadata": {
      "needs_background": "light"
     },
     "output_type": "display_data"
    }
   ],
   "source": [
    "from sklearn.neighbors import KNeighborsClassifier\n",
    "\n",
    "start = timeit.default_timer()\n",
    "clf = KNeighborsClassifier()\n",
    "clf.fit(train_x, train_Y)\n",
    "\n",
    "#Calculate Stop time\n",
    "stop = timeit.default_timer()\n",
    "train_time = stop - start\n",
    "\n",
    "#Calculate start time\n",
    "start = timeit.default_timer()\n",
    "\n",
    "# Predict the model \n",
    "y_pred=clf.predict(test_x)\n",
    "\n",
    "#Calculate Stop time\n",
    "stop = timeit.default_timer()\n",
    "test_time= stop - start\n",
    "results = confusion_matrix(test_Y,y_pred)\n",
    "\n",
    "\n",
    "precision = metrics.precision_score(test_Y, y_pred, average=\"weighted\")\n",
    "recall = metrics.recall_score(test_Y, y_pred, average=\"weighted\")\n",
    "f1Score = metrics.f1_score(test_Y, y_pred, average=\"weighted\")\n",
    "\n",
    "cm_display = ConfusionMatrixDisplay(results).plot()\n",
    "\n",
    "print (\"[KDD-Dataset] Model Training Time for KNN: \", train_time)\n",
    "print (\"[KDD-Dataset] Prediction Time for KNN: \", test_time)\n",
    "print(\"[KDD-Dataset] Confusion Matrix for KNN:\\n\", results)\n",
    "print(\"[KDD-Dataset] Classification Report for KNN:\\n\", classification_report(test_Y,y_pred))\n",
    "print(\"[KDD-Dataset] Precision KNN: \", precision)\n",
    "print(\"[KDD-Dataset] Recall KNN: \", recall)\n",
    "print(\"[KDD-Dataset] F1 score KNN: \", f1Score)\n",
    "#Taken from: \n",
    "#https://stackoverflow.com/questions/50666091/true-positive-rate-and-false-positive-rate-tpr-fpr-for-multi-class-data-in-py\n",
    "FP = results.sum(axis=0) - np.diag(results)  \n",
    "FN = results.sum(axis=1) - np.diag(results)\n",
    "TP = np.diag(results)\n",
    "TN = results.sum() - (FP + FN + TP)\n",
    "\n",
    "FP = FP.astype(float)\n",
    "FN = FN.astype(float)\n",
    "TP = TP.astype(float)\n",
    "TN = TN.astype(float)\n",
    "FPR = FP.sum()/(FP.sum()+TN.sum())\n",
    "\n",
    "print(\"FPR: \", FPR)\n",
    "D1['KNN'] = metrics.accuracy_score(test_Y, y_pred)"
   ]
  },
  {
   "cell_type": "markdown",
   "metadata": {},
   "source": [
    "#### SVM"
   ]
  },
  {
   "cell_type": "code",
   "execution_count": 13,
   "metadata": {},
   "outputs": [
    {
     "name": "stdout",
     "output_type": "stream",
     "text": [
      "[KDD-Dataset] Model Training Time for SVM:  81.30716839999877\n",
      "[KDD-Dataset] Prediction Time for SVM:  429.9792696000004\n",
      "[KDD-Dataset] Confusion Matrix for SVM:\n",
      " [[9462   62  187    0    0]\n",
      " [1882 5693   61    0    0]\n",
      " [ 836  175 1412    0    0]\n",
      " [2318    0    4  252    0]\n",
      " [ 177    0   15    3    5]]\n",
      "[KDD-Dataset] Classification Report for SVM:\n",
      "               precision    recall  f1-score   support\n",
      "\n",
      "      benign       0.64      0.97      0.78      9711\n",
      "         dos       0.96      0.75      0.84      7636\n",
      "       probe       0.84      0.58      0.69      2423\n",
      "         r2l       0.99      0.10      0.18      2574\n",
      "         u2r       1.00      0.03      0.05       200\n",
      "\n",
      "    accuracy                           0.75     22544\n",
      "   macro avg       0.89      0.49      0.51     22544\n",
      "weighted avg       0.82      0.75      0.71     22544\n",
      "\n",
      "[KDD-Dataset] Precision SVM:  0.8150099156636176\n",
      "[KDD-Dataset] Recall SVM:  0.7462739531582683\n",
      "[KDD-Dataset] F1 score SVM:  0.7133283906613614\n",
      "FPR:  0.06343151171043293\n"
     ]
    },
    {
     "data": {
      "image/png": "[encoded data removed]",
      "text/plain": [
       "<Figure size 432x288 with 2 Axes>"
      ]
     },
     "metadata": {
      "needs_background": "light"
     },
     "output_type": "display_data"
    }
   ],
   "source": [
    "from sklearn.svm import SVC \n",
    "\n",
    "start = timeit.default_timer()\n",
    "clf = SVC(kernel='rbf') \n",
    "clf.fit(train_x, train_Y)\n",
    "\n",
    "#Calculate Stop time\n",
    "stop = timeit.default_timer()\n",
    "train_time = stop - start\n",
    "\n",
    "#Calculate start time\n",
    "start = timeit.default_timer()\n",
    "\n",
    "# Predict the model\n",
    "y_pred=clf.predict(test_x)\n",
    "\n",
    "#Calculate Stop time\n",
    "stop = timeit.default_timer()\n",
    "test_time= stop - start\n",
    "results = confusion_matrix(test_Y,y_pred)\n",
    "\n",
    "\n",
    "precision = metrics.precision_score(test_Y, y_pred, average=\"weighted\")\n",
    "recall = metrics.recall_score(test_Y, y_pred, average=\"weighted\")\n",
    "f1Score = metrics.f1_score(test_Y, y_pred, average=\"weighted\")\n",
    "\n",
    "cm_display = ConfusionMatrixDisplay(results).plot()\n",
    "\n",
    "print (\"[KDD-Dataset] Model Training Time for SVM: \", train_time)\n",
    "print (\"[KDD-Dataset] Prediction Time for SVM: \", test_time)\n",
    "print(\"[KDD-Dataset] Confusion Matrix for SVM:\\n\", results)\n",
    "print(\"[KDD-Dataset] Classification Report for SVM:\\n\", classification_report(test_Y,y_pred))\n",
    "print(\"[KDD-Dataset] Precision SVM: \", precision)\n",
    "print(\"[KDD-Dataset] Recall SVM: \", recall)\n",
    "print(\"[KDD-Dataset] F1 score SVM: \", f1Score)\n",
    "#Taken from: \n",
    "#https://stackoverflow.com/questions/50666091/true-positive-rate-and-false-positive-rate-tpr-fpr-for-multi-class-data-in-py\n",
    "FP = results.sum(axis=0) - np.diag(results)  \n",
    "FN = results.sum(axis=1) - np.diag(results)\n",
    "TP = np.diag(results)\n",
    "TN = results.sum() - (FP + FN + TP)\n",
    "\n",
    "FP = FP.astype(float)\n",
    "FN = FN.astype(float)\n",
    "TP = TP.astype(float)\n",
    "TN = TN.astype(float)\n",
    "FPR = FP.sum()/(FP.sum()+TN.sum())\n",
    "\n",
    "print(\"FPR: \", FPR)\n",
    "D1['SVM'] = metrics.accuracy_score(test_Y, y_pred)"
   ]
  },
  {
   "cell_type": "markdown",
   "metadata": {},
   "source": [
    "#### MLP"
   ]
  },
  {
   "cell_type": "code",
   "execution_count": 14,
   "metadata": {},
   "outputs": [
    {
     "name": "stderr",
     "output_type": "stream",
     "text": [
      "C:\\Users\\singh\\anaconda3\\lib\\site-packages\\sklearn\\neural_network\\_multilayer_perceptron.py:500: ConvergenceWarning: lbfgs failed to converge (status=1):\n",
      "STOP: TOTAL NO. of ITERATIONS REACHED LIMIT.\n",
      "\n",
      "Increase the number of iterations (max_iter) or scale the data as shown in:\n",
      "    https://scikit-learn.org/stable/modules/preprocessing.html\n",
      "  self.n_iter_ = _check_optimize_result(\"lbfgs\", opt_res, self.max_iter)\n",
      "C:\\Users\\singh\\anaconda3\\lib\\site-packages\\sklearn\\metrics\\_classification.py:1245: UndefinedMetricWarning: Precision is ill-defined and being set to 0.0 in labels with no predicted samples. Use `zero_division` parameter to control this behavior.\n",
      "  _warn_prf(average, modifier, msg_start, len(result))\n"
     ]
    },
    {
     "name": "stdout",
     "output_type": "stream",
     "text": [
      "[KDD-Dataset] Model Training Time for MLP:  27.760867300001337\n",
      "[KDD-Dataset] Prediction Time for MLP:  0.03590330000042741\n",
      "[KDD-Dataset] Confusion Matrix for MLP:\n",
      " [[9044  372  257   38    0]\n",
      " [1792 5677  166    1    0]\n",
      " [ 491  164 1768    0    0]\n",
      " [1955  259    3  357    0]\n",
      " [ 180    7    0   13    0]]\n"
     ]
    },
    {
     "name": "stderr",
     "output_type": "stream",
     "text": [
      "C:\\Users\\singh\\anaconda3\\lib\\site-packages\\sklearn\\metrics\\_classification.py:1245: UndefinedMetricWarning: Precision and F-score are ill-defined and being set to 0.0 in labels with no predicted samples. Use `zero_division` parameter to control this behavior.\n",
      "  _warn_prf(average, modifier, msg_start, len(result))\n",
      "C:\\Users\\singh\\anaconda3\\lib\\site-packages\\sklearn\\metrics\\_classification.py:1245: UndefinedMetricWarning: Precision and F-score are ill-defined and being set to 0.0 in labels with no predicted samples. Use `zero_division` parameter to control this behavior.\n",
      "  _warn_prf(average, modifier, msg_start, len(result))\n",
      "C:\\Users\\singh\\anaconda3\\lib\\site-packages\\sklearn\\metrics\\_classification.py:1245: UndefinedMetricWarning: Precision and F-score are ill-defined and being set to 0.0 in labels with no predicted samples. Use `zero_division` parameter to control this behavior.\n",
      "  _warn_prf(average, modifier, msg_start, len(result))\n"
     ]
    },
    {
     "name": "stdout",
     "output_type": "stream",
     "text": [
      "[KDD-Dataset] Classification Report for MLP:\n",
      "               precision    recall  f1-score   support\n",
      "\n",
      "      benign       0.67      0.93      0.78      9711\n",
      "         dos       0.88      0.74      0.80      7636\n",
      "       probe       0.81      0.73      0.77      2423\n",
      "         r2l       0.87      0.14      0.24      2574\n",
      "         u2r       0.00      0.00      0.00       200\n",
      "\n",
      "    accuracy                           0.75     22544\n",
      "   macro avg       0.65      0.51      0.52     22544\n",
      "weighted avg       0.77      0.75      0.72     22544\n",
      "\n",
      "[KDD-Dataset] Precision MLP:  0.7724483293331498\n",
      "[KDD-Dataset] Recall MLP:  0.747249822569198\n",
      "[KDD-Dataset] F1 score MLP:  0.7183369798925279\n",
      "FPR:  0.06318754435770049\n"
     ]
    },
    {
     "data": {
      "image/png": "[encoded data removed]",
      "text/plain": [
       "<Figure size 432x288 with 2 Axes>"
      ]
     },
     "metadata": {
      "needs_background": "light"
     },
     "output_type": "display_data"
    }
   ],
   "source": [
    "from sklearn.neural_network import MLPClassifier\n",
    "\n",
    "start = timeit.default_timer()\n",
    "\n",
    "clf = MLPClassifier(solver='lbfgs', alpha=1e-5,\n",
    "                    hidden_layer_sizes=(5, 2), random_state=1)\n",
    "clf.fit(train_x, train_Y)\n",
    "\n",
    "#Calculate Stop time\n",
    "stop = timeit.default_timer()\n",
    "train_time = stop - start\n",
    "\n",
    "#Calculate start time\n",
    "start = timeit.default_timer()\n",
    "\n",
    "# Predict the model\n",
    "y_pred=clf.predict(test_x)\n",
    "\n",
    "#Calculate Stop time\n",
    "stop = timeit.default_timer()\n",
    "test_time= stop - start\n",
    "results = confusion_matrix(test_Y,y_pred)\n",
    "\n",
    "\n",
    "precision = metrics.precision_score(test_Y, y_pred, average=\"weighted\")\n",
    "recall = metrics.recall_score(test_Y, y_pred, average=\"weighted\")\n",
    "f1Score = metrics.f1_score(test_Y, y_pred, average=\"weighted\")\n",
    "\n",
    "cm_display = ConfusionMatrixDisplay(results).plot()\n",
    "\n",
    "print (\"[KDD-Dataset] Model Training Time for MLP: \", train_time)\n",
    "print (\"[KDD-Dataset] Prediction Time for MLP: \", test_time)\n",
    "print(\"[KDD-Dataset] Confusion Matrix for MLP:\\n\", results)\n",
    "print(\"[KDD-Dataset] Classification Report for MLP:\\n\", classification_report(test_Y,y_pred))\n",
    "print(\"[KDD-Dataset] Precision MLP: \", precision)\n",
    "print(\"[KDD-Dataset] Recall MLP: \", recall)\n",
    "print(\"[KDD-Dataset] F1 score MLP: \", f1Score)\n",
    "#Taken from: \n",
    "#https://stackoverflow.com/questions/50666091/true-positive-rate-and-false-positive-rate-tpr-fpr-for-multi-class-data-in-py\n",
    "FP = results.sum(axis=0) - np.diag(results)  \n",
    "FN = results.sum(axis=1) - np.diag(results)\n",
    "TP = np.diag(results)\n",
    "TN = results.sum() - (FP + FN + TP)\n",
    "\n",
    "FP = FP.astype(float)\n",
    "FN = FN.astype(float)\n",
    "TP = TP.astype(float)\n",
    "TN = TN.astype(float)\n",
    "FPR = FP.sum()/(FP.sum()+TN.sum())\n",
    "\n",
    "print(\"FPR: \", FPR)\n",
    "D1['MLP'] = metrics.accuracy_score(test_Y, y_pred)"
   ]
  },
  {
   "cell_type": "markdown",
   "metadata": {},
   "source": [
    "#### Logistic Regression"
   ]
  },
  {
   "cell_type": "code",
   "execution_count": 15,
   "metadata": {},
   "outputs": [
    {
     "name": "stderr",
     "output_type": "stream",
     "text": [
      "C:\\Users\\singh\\anaconda3\\lib\\site-packages\\sklearn\\linear_model\\_logistic.py:763: ConvergenceWarning: lbfgs failed to converge (status=1):\n",
      "STOP: TOTAL NO. of ITERATIONS REACHED LIMIT.\n",
      "\n",
      "Increase the number of iterations (max_iter) or scale the data as shown in:\n",
      "    https://scikit-learn.org/stable/modules/preprocessing.html\n",
      "Please also refer to the documentation for alternative solver options:\n",
      "    https://scikit-learn.org/stable/modules/linear_model.html#logistic-regression\n",
      "  n_iter_i = _check_optimize_result(\n"
     ]
    },
    {
     "name": "stdout",
     "output_type": "stream",
     "text": [
      "[KDD-Dataset] Model Training Time for Logistic Regression:  10.360886800001026\n",
      "[KDD-Dataset] Prediction Time for Logistic Regression:  0.028180400000564987\n",
      "[KDD-Dataset] Confusion Matrix for Logistic Regression:\n",
      " [[8993   90  624    2    2]\n",
      " [1560 6052   24    0    0]\n",
      " [ 496   99 1825    3    0]\n",
      " [2471    2    2   99    0]\n",
      " [ 184    3    0    5    8]]\n",
      "[KDD-Dataset] Classification Report for Logistic Regression:\n",
      "               precision    recall  f1-score   support\n",
      "\n",
      "      benign       0.66      0.93      0.77      9711\n",
      "         dos       0.97      0.79      0.87      7636\n",
      "       probe       0.74      0.75      0.75      2423\n",
      "         r2l       0.91      0.04      0.07      2574\n",
      "         u2r       0.80      0.04      0.08       200\n",
      "\n",
      "    accuracy                           0.75     22544\n",
      "   macro avg       0.81      0.51      0.51     22544\n",
      "weighted avg       0.80      0.75      0.72     22544\n",
      "\n",
      "[KDD-Dataset] Precision Logistic Regression:  0.8009227794310351\n",
      "[KDD-Dataset] Recall Logistic Regression:  0.7530606813342796\n",
      "[KDD-Dataset] F1 score Logistic Regression:  0.7154103937115577\n",
      "FPR:  0.06173482966643009\n"
     ]
    },
    {
     "data": {
      "image/png": "[encoded data removed]",
      "text/plain": [
       "<Figure size 432x288 with 2 Axes>"
      ]
     },
     "metadata": {
      "needs_background": "light"
     },
     "output_type": "display_data"
    }
   ],
   "source": [
    "from sklearn.linear_model import LogisticRegression\n",
    "start = timeit.default_timer()\n",
    "clf = LogisticRegression()\n",
    "clf.fit(train_x, train_Y)\n",
    "\n",
    "#Calculate Stop time\n",
    "stop = timeit.default_timer()\n",
    "train_time = stop - start\n",
    "\n",
    "#Calculate start time\n",
    "start = timeit.default_timer()\n",
    "\n",
    "# Predict the model\n",
    "y_pred=clf.predict(test_x)\n",
    "\n",
    "#Calculate Stop time\n",
    "stop = timeit.default_timer()\n",
    "test_time= stop - start\n",
    "results = confusion_matrix(test_Y,y_pred)\n",
    "\n",
    "\n",
    "precision = metrics.precision_score(test_Y, y_pred, average=\"weighted\")\n",
    "recall = metrics.recall_score(test_Y, y_pred, average=\"weighted\")\n",
    "f1Score = metrics.f1_score(test_Y, y_pred, average=\"weighted\")\n",
    "\n",
    "cm_display = ConfusionMatrixDisplay(results).plot()\n",
    "\n",
    "print (\"[KDD-Dataset] Model Training Time for Logistic Regression: \", train_time)\n",
    "print (\"[KDD-Dataset] Prediction Time for Logistic Regression: \", test_time)\n",
    "print(\"[KDD-Dataset] Confusion Matrix for Logistic Regression:\\n\", results)\n",
    "print(\"[KDD-Dataset] Classification Report for Logistic Regression:\\n\", classification_report(test_Y,y_pred))\n",
    "print(\"[KDD-Dataset] Precision Logistic Regression: \", precision)\n",
    "print(\"[KDD-Dataset] Recall Logistic Regression: \", recall)\n",
    "print(\"[KDD-Dataset] F1 score Logistic Regression: \", f1Score)\n",
    "#Taken from: \n",
    "#https://stackoverflow.com/questions/50666091/true-positive-rate-and-false-positive-rate-tpr-fpr-for-multi-class-data-in-py\n",
    "FP = results.sum(axis=0) - np.diag(results)  \n",
    "FN = results.sum(axis=1) - np.diag(results)\n",
    "TP = np.diag(results)\n",
    "TN = results.sum() - (FP + FN + TP)\n",
    "\n",
    "FP = FP.astype(float)\n",
    "FN = FN.astype(float)\n",
    "TP = TP.astype(float)\n",
    "TN = TN.astype(float)\n",
    "FPR = FP.sum()/(FP.sum()+TN.sum())\n",
    "\n",
    "print(\"FPR: \", FPR)\n",
    "D1['LR'] = metrics.accuracy_score(test_Y, y_pred)"
   ]
  },
  {
   "cell_type": "markdown",
   "metadata": {},
   "source": [
    "#### Random Forest"
   ]
  },
  {
   "cell_type": "code",
   "execution_count": 12,
   "metadata": {},
   "outputs": [
    {
     "name": "stdout",
     "output_type": "stream",
     "text": [
      "{'criterion': 'entropy', 'max_depth': 30, 'n_estimators': 160}\n"
     ]
    }
   ],
   "source": [
    "hyperparamsList = {'max_depth': np.arange(10, 50, 10).tolist(), \n",
    "                     'n_estimators': np.arange(10, 500, 50).tolist(), \n",
    "                     'criterion': ['entropy', 'gini']\n",
    "                  }\n",
    "\n",
    "clf = RandomForestClassifier()\n",
    "\n",
    "grid = GridSearchCV(estimator=clf, param_grid=hyperparamsList, cv=2,\n",
    "                    scoring='accuracy', n_jobs = 4)\n",
    "\n",
    "grid.fit(train_x, train_Y)\n",
    "print (grid.best_params_)"
   ]
  },
  {
   "cell_type": "code",
   "execution_count": 13,
   "metadata": {},
   "outputs": [
    {
     "name": "stdout",
     "output_type": "stream",
     "text": [
      "[KDD-Dataset] Model Training Time for Random Forest:  18.283547\n",
      "[KDD-Dataset] Prediction Time for Random Forest:  0.48428999999998723\n",
      "[KDD-Dataset] Confusion Matrix for Random Forest:\n",
      " [[9458   67  185    0    1]\n",
      " [1775 5778   83    0    0]\n",
      " [ 811  163 1449    0    0]\n",
      " [2534    0    1   38    1]\n",
      " [ 195    0    0    3    2]]\n",
      "[KDD-Dataset] Classification Report for Random Forest:\n",
      "               precision    recall  f1-score   support\n",
      "\n",
      "      benign       0.64      0.97      0.77      9711\n",
      "         dos       0.96      0.76      0.85      7636\n",
      "       probe       0.84      0.60      0.70      2423\n",
      "         r2l       0.93      0.01      0.03      2574\n",
      "         u2r       0.50      0.01      0.02       200\n",
      "\n",
      "    accuracy                           0.74     22544\n",
      "   macro avg       0.77      0.47      0.47     22544\n",
      "weighted avg       0.80      0.74      0.70     22544\n",
      "\n",
      "[KDD-Dataset] Precision Random Forest:  0.8024371890972108\n",
      "[KDD-Dataset] Recall Random Forest:  0.7418825408090844\n",
      "[KDD-Dataset] F1 score Random Forest:  0.6983869258057913\n",
      "FPR:  0.06452936479772889\n"
     ]
    },
    {
     "data": {
      "image/png": "[encoded data removed]",
      "text/plain": [
       "<Figure size 432x288 with 2 Axes>"
      ]
     },
     "metadata": {
      "needs_background": "light"
     },
     "output_type": "display_data"
    }
   ],
   "source": [
    "start = timeit.default_timer()\n",
    "\n",
    "clf = RandomForestClassifier(n_estimators = grid.best_params_['n_estimators'], \n",
    "                             max_depth = grid.best_params_['max_depth'])\n",
    "\n",
    "clf.fit(train_x, train_Y)\n",
    "\n",
    "#Calculate Stop time\n",
    "stop = timeit.default_timer()\n",
    "train_time = stop - start\n",
    "\n",
    "#Calculate start time\n",
    "start = timeit.default_timer()\n",
    "\n",
    "# Predict the model\n",
    "y_pred=clf.predict(test_x)\n",
    "\n",
    "#Calculate Stop time\n",
    "stop = timeit.default_timer()\n",
    "test_time= stop - start\n",
    "results = confusion_matrix(test_Y,y_pred)\n",
    "\n",
    "\n",
    "precision = metrics.precision_score(test_Y, y_pred, average=\"weighted\")\n",
    "recall = metrics.recall_score(test_Y, y_pred, average=\"weighted\")\n",
    "f1Score = metrics.f1_score(test_Y, y_pred, average=\"weighted\")\n",
    "\n",
    "cm_display = ConfusionMatrixDisplay(results).plot()\n",
    "\n",
    "print (\"[KDD-Dataset] Model Training Time for Random Forest: \", train_time)\n",
    "print (\"[KDD-Dataset] Prediction Time for Random Forest: \", test_time)\n",
    "print(\"[KDD-Dataset] Confusion Matrix for Random Forest:\\n\", results)\n",
    "print(\"[KDD-Dataset] Classification Report for Random Forest:\\n\", classification_report(test_Y,y_pred))\n",
    "print(\"[KDD-Dataset] Precision Random Forest: \", precision)\n",
    "print(\"[KDD-Dataset] Recall Random Forest: \", recall)\n",
    "print(\"[KDD-Dataset] F1 score Random Forest: \", f1Score)\n",
    "#Taken from: \n",
    "#https://stackoverflow.com/questions/50666091/true-positive-rate-and-false-positive-rate-tpr-fpr-for-multi-class-data-in-py\n",
    "FP = results.sum(axis=0) - np.diag(results)  \n",
    "FN = results.sum(axis=1) - np.diag(results)\n",
    "TP = np.diag(results)\n",
    "TN = results.sum() - (FP + FN + TP)\n",
    "\n",
    "FP = FP.astype(float)\n",
    "FN = FN.astype(float)\n",
    "TP = TP.astype(float)\n",
    "TN = TN.astype(float)\n",
    "FPR = FP.sum()/(FP.sum()+TN.sum())\n",
    "\n",
    "print(\"FPR: \", FPR)\n",
    "D1['RF'] = metrics.accuracy_score(test_Y, y_pred)"
   ]
  },
  {
   "cell_type": "markdown",
   "metadata": {},
   "source": [
    "#### Adaboost"
   ]
  },
  {
   "cell_type": "code",
   "execution_count": 17,
   "metadata": {},
   "outputs": [
    {
     "name": "stdout",
     "output_type": "stream",
     "text": [
      "[KDD-Dataset] Model Training Time for Adaboost:  49.60537739999927\n",
      "[KDD-Dataset] Prediction Time for Adaboost:  1.3512893000006443\n",
      "[KDD-Dataset] Confusion Matrix for Adaboost:\n",
      " [[7878 1382   94    5  352]\n",
      " [1692 4586 1350    0    8]\n",
      " [ 174  532 1714    0    3]\n",
      " [2203  328   27   13    3]\n",
      " [  90    0  100    5    5]]\n",
      "[KDD-Dataset] Classification Report for Adaboost:\n",
      "               precision    recall  f1-score   support\n",
      "\n",
      "      benign       0.65      0.81      0.72      9711\n",
      "         dos       0.67      0.60      0.63      7636\n",
      "       probe       0.52      0.71      0.60      2423\n",
      "         r2l       0.57      0.01      0.01      2574\n",
      "         u2r       0.01      0.03      0.02       200\n",
      "\n",
      "    accuracy                           0.63     22544\n",
      "   macro avg       0.49      0.43      0.40     22544\n",
      "weighted avg       0.63      0.63      0.59     22544\n",
      "\n",
      "[KDD-Dataset] Precision Adaboost:  0.6301529440325596\n",
      "[KDD-Dataset] Recall Adaboost:  0.6297019162526615\n",
      "[KDD-Dataset] F1 score Adaboost:  0.5927096772199585\n",
      "FPR:  0.09257452093683463\n"
     ]
    },
    {
     "data": {
      "image/png": "[encoded data removed]",
      "text/plain": [
       "<Figure size 432x288 with 2 Axes>"
      ]
     },
     "metadata": {
      "needs_background": "light"
     },
     "output_type": "display_data"
    }
   ],
   "source": [
    "from sklearn.ensemble import AdaBoostClassifier\n",
    "start = timeit.default_timer()\n",
    "\n",
    "clf = AdaBoostClassifier(n_estimators=100, random_state=24)\n",
    "clf.fit(train_x, train_Y)\n",
    "\n",
    "#Calculate Stop time\n",
    "stop = timeit.default_timer()\n",
    "train_time = stop - start\n",
    "\n",
    "#Calculate start time\n",
    "start = timeit.default_timer()\n",
    "\n",
    "# Predict the model\n",
    "y_pred=clf.predict(test_x)\n",
    "\n",
    "#Calculate Stop time\n",
    "stop = timeit.default_timer()\n",
    "test_time= stop - start\n",
    "results = confusion_matrix(test_Y,y_pred)\n",
    "\n",
    "\n",
    "precision = metrics.precision_score(test_Y, y_pred, average=\"weighted\")\n",
    "recall = metrics.recall_score(test_Y, y_pred, average=\"weighted\")\n",
    "f1Score = metrics.f1_score(test_Y, y_pred, average=\"weighted\")\n",
    "\n",
    "cm_display = ConfusionMatrixDisplay(results).plot()\n",
    "\n",
    "print (\"[KDD-Dataset] Model Training Time for Adaboost: \", train_time)\n",
    "print (\"[KDD-Dataset] Prediction Time for Adaboost: \", test_time)\n",
    "print(\"[KDD-Dataset] Confusion Matrix for Adaboost:\\n\", results)\n",
    "print(\"[KDD-Dataset] Classification Report for Adaboost:\\n\", classification_report(test_Y,y_pred))\n",
    "print(\"[KDD-Dataset] Precision Adaboost: \", precision)\n",
    "print(\"[KDD-Dataset] Recall Adaboost: \", recall)\n",
    "print(\"[KDD-Dataset] F1 score Adaboost: \", f1Score)\n",
    "#Taken from: \n",
    "#https://stackoverflow.com/questions/50666091/true-positive-rate-and-false-positive-rate-tpr-fpr-for-multi-class-data-in-py\n",
    "FP = results.sum(axis=0) - np.diag(results)  \n",
    "FN = results.sum(axis=1) - np.diag(results)\n",
    "TP = np.diag(results)\n",
    "TN = results.sum() - (FP + FN + TP)\n",
    "\n",
    "FP = FP.astype(float)\n",
    "FN = FN.astype(float)\n",
    "TP = TP.astype(float)\n",
    "TN = TN.astype(float)\n",
    "FPR = FP.sum()/(FP.sum()+TN.sum())\n",
    "\n",
    "print(\"FPR: \", FPR)\n",
    "D1['Ada'] = metrics.accuracy_score(test_Y, y_pred)"
   ]
  },
  {
   "cell_type": "markdown",
   "metadata": {},
   "source": [
    "### Processed_Combined_IoT_dataset"
   ]
  },
  {
   "cell_type": "code",
   "execution_count": 14,
   "metadata": {},
   "outputs": [],
   "source": [
    "X, Y = data2.loc[:, data2.columns != 'label'], data2[\"label\"]"
   ]
  },
  {
   "cell_type": "code",
   "execution_count": 15,
   "metadata": {},
   "outputs": [],
   "source": [
    "from sklearn.model_selection import train_test_split\n",
    "train_x, test_x, train_Y, test_Y = train_test_split(X, Y, test_size=0.3, random_state=1).copy()"
   ]
  },
  {
   "cell_type": "markdown",
   "metadata": {},
   "source": [
    "#### Decision Tree"
   ]
  },
  {
   "cell_type": "code",
   "execution_count": 16,
   "metadata": {},
   "outputs": [
    {
     "name": "stdout",
     "output_type": "stream",
     "text": [
      "{'max_depth': 60}\n"
     ]
    }
   ],
   "source": [
    "hyperparamsList = {'max_depth': np.arange(10, 200, 10).tolist(), \n",
    "                  }\n",
    "\n",
    "clf = DecisionTreeClassifier()\n",
    "\n",
    "grid = GridSearchCV(estimator=clf, param_grid=hyperparamsList, cv=2,\n",
    "                    scoring='accuracy', n_jobs = 4)\n",
    "\n",
    "grid.fit(train_x, train_Y)\n",
    "print (grid.best_params_)"
   ]
  },
  {
   "cell_type": "code",
   "execution_count": 17,
   "metadata": {},
   "outputs": [
    {
     "name": "stdout",
     "output_type": "stream",
     "text": [
      "[IoT-Dataset] Precision DT:  0.9308879445314248\n",
      "[IoT-Dataset] Recall DT:  0.7108302555453556\n",
      "[IoT-Dataset] Model Training Time for DT:  2.575476199999912\n",
      "[IoT-Dataset] Prediction Time for DT:  0.059181700000067394\n",
      "[IoT-Dataset] Confusion Matrix for DT:\n",
      " [[71023  2472]\n",
      " [13545 33296]]\n",
      "[IoT-Dataset] Classification Report for DT:\n",
      "               precision    recall  f1-score   support\n",
      "\n",
      "           0       0.84      0.97      0.90     73495\n",
      "           1       0.93      0.71      0.81     46841\n",
      "\n",
      "    accuracy                           0.87    120336\n",
      "   macro avg       0.89      0.84      0.85    120336\n",
      "weighted avg       0.88      0.87      0.86    120336\n",
      "\n",
      "[IoT-Dataset] Precision DT:  [0.38925176 0.93088794 1.        ]\n",
      "[IoT-Dataset] Recall DT:  [1.         0.71083026 0.        ]\n",
      "[IoT-Dataset] F1 score DT:  0.8061107143289471\n",
      "tp:  33296\n",
      "fp:  2472\n",
      "fn:  13545\n",
      "tn:  71023\n",
      "FPR:  0.03363494115245935\n"
     ]
    },
    {
     "data": {
      "image/png": "[encoded data removed]",
      "text/plain": [
       "<Figure size 432x288 with 2 Axes>"
      ]
     },
     "metadata": {
      "needs_background": "light"
     },
     "output_type": "display_data"
    },
    {
     "data": {
      "image/png": "[encoded data removed]",
      "text/plain": [
       "<Figure size 432x288 with 1 Axes>"
      ]
     },
     "metadata": {
      "needs_background": "light"
     },
     "output_type": "display_data"
    }
   ],
   "source": [
    "# 5-class classification version\n",
    "\n",
    "start = timeit.default_timer()\n",
    "clf = DecisionTreeClassifier(max_depth = grid.best_params_['max_depth'],random_state=17)\n",
    "\n",
    "clf.fit(train_x, train_Y)\n",
    "\n",
    "#Calculate Stop time\n",
    "stop = timeit.default_timer()\n",
    "train_time = stop - start\n",
    "\n",
    "#Calculate start time\n",
    "start = timeit.default_timer()\n",
    "\n",
    "# Predict the model\n",
    "y_pred=clf.predict(test_x)\n",
    "\n",
    "#Calculate Stop time\n",
    "stop = timeit.default_timer()\n",
    "test_time= stop - start\n",
    "results = confusion_matrix(test_Y,y_pred)\n",
    "\n",
    "\n",
    "precision = metrics.precision_score(test_Y, y_pred)\n",
    "recall = metrics.recall_score(test_Y, y_pred)\n",
    "print(\"[IoT-Dataset] Precision DT: \", precision)\n",
    "print(\"[IoT-Dataset] Recall DT: \", recall)\n",
    "precision, recall, _ = precision_recall_curve(test_Y, y_pred)\n",
    "\n",
    "f1Score = metrics.f1_score(test_Y, y_pred)\n",
    "\n",
    "cm_display = ConfusionMatrixDisplay(results).plot()\n",
    "PrecisionRecallDisplay(precision=precision, recall=recall).plot()\n",
    "\n",
    "print (\"[IoT-Dataset] Model Training Time for DT: \", train_time)\n",
    "print (\"[IoT-Dataset] Prediction Time for DT: \", test_time)\n",
    "print(\"[IoT-Dataset] Confusion Matrix for DT:\\n\", results)\n",
    "print(\"[IoT-Dataset] Classification Report for DT:\\n\", classification_report(test_Y,y_pred))\n",
    "print(\"[IoT-Dataset] Precision DT: \", precision)\n",
    "print(\"[IoT-Dataset] Recall DT: \", recall)\n",
    "print(\"[IoT-Dataset] F1 score DT: \", f1Score)\n",
    "tn, fp, fn, tp = results.ravel()\n",
    "fpr = fp/(tn + fp)\n",
    "print(\"tp: \", tp)\n",
    "print(\"fp: \", fp)\n",
    "print(\"fn: \", fn)\n",
    "print(\"tn: \", tn)\n",
    "print(\"FPR: \", fpr)\n",
    "D2['DT'] = metrics.accuracy_score(test_Y, y_pred)"
   ]
  },
  {
   "cell_type": "markdown",
   "metadata": {},
   "source": [
    "#### KNN"
   ]
  },
  {
   "cell_type": "code",
   "execution_count": 21,
   "metadata": {},
   "outputs": [
    {
     "ename": "KeyboardInterrupt",
     "evalue": "",
     "output_type": "error",
     "traceback": [
      "\u001b[1;31m---------------------------------------------------------------------------\u001b[0m",
      "\u001b[1;31mKeyboardInterrupt\u001b[0m                         Traceback (most recent call last)",
      "\u001b[1;32m<ipython-input-21-22edd0aa0272>\u001b[0m in \u001b[0;36m<module>\u001b[1;34m\u001b[0m\n\u001b[0;32m     11\u001b[0m \u001b[1;33m\u001b[0m\u001b[0m\n\u001b[0;32m     12\u001b[0m \u001b[1;31m# Predict the model\u001b[0m\u001b[1;33m\u001b[0m\u001b[1;33m\u001b[0m\u001b[1;33m\u001b[0m\u001b[0m\n\u001b[1;32m---> 13\u001b[1;33m \u001b[0my_pred\u001b[0m\u001b[1;33m=\u001b[0m\u001b[0mclf\u001b[0m\u001b[1;33m.\u001b[0m\u001b[0mpredict\u001b[0m\u001b[1;33m(\u001b[0m\u001b[0mtest_x\u001b[0m\u001b[1;33m)\u001b[0m\u001b[1;33m\u001b[0m\u001b[1;33m\u001b[0m\u001b[0m\n\u001b[0m\u001b[0;32m     14\u001b[0m \u001b[1;33m\u001b[0m\u001b[0m\n\u001b[0;32m     15\u001b[0m \u001b[1;31m#Calculate Stop time\u001b[0m\u001b[1;33m\u001b[0m\u001b[1;33m\u001b[0m\u001b[1;33m\u001b[0m\u001b[0m\n",
      "\u001b[1;32m~\\anaconda3\\lib\\site-packages\\sklearn\\neighbors\\_classification.py\u001b[0m in \u001b[0;36mpredict\u001b[1;34m(self, X)\u001b[0m\n\u001b[0;32m    195\u001b[0m         \u001b[0mX\u001b[0m \u001b[1;33m=\u001b[0m \u001b[0mcheck_array\u001b[0m\u001b[1;33m(\u001b[0m\u001b[0mX\u001b[0m\u001b[1;33m,\u001b[0m \u001b[0maccept_sparse\u001b[0m\u001b[1;33m=\u001b[0m\u001b[1;34m'csr'\u001b[0m\u001b[1;33m)\u001b[0m\u001b[1;33m\u001b[0m\u001b[1;33m\u001b[0m\u001b[0m\n\u001b[0;32m    196\u001b[0m \u001b[1;33m\u001b[0m\u001b[0m\n\u001b[1;32m--> 197\u001b[1;33m         \u001b[0mneigh_dist\u001b[0m\u001b[1;33m,\u001b[0m \u001b[0mneigh_ind\u001b[0m \u001b[1;33m=\u001b[0m \u001b[0mself\u001b[0m\u001b[1;33m.\u001b[0m\u001b[0mkneighbors\u001b[0m\u001b[1;33m(\u001b[0m\u001b[0mX\u001b[0m\u001b[1;33m)\u001b[0m\u001b[1;33m\u001b[0m\u001b[1;33m\u001b[0m\u001b[0m\n\u001b[0m\u001b[0;32m    198\u001b[0m         \u001b[0mclasses_\u001b[0m \u001b[1;33m=\u001b[0m \u001b[0mself\u001b[0m\u001b[1;33m.\u001b[0m\u001b[0mclasses_\u001b[0m\u001b[1;33m\u001b[0m\u001b[1;33m\u001b[0m\u001b[0m\n\u001b[0;32m    199\u001b[0m         \u001b[0m_y\u001b[0m \u001b[1;33m=\u001b[0m \u001b[0mself\u001b[0m\u001b[1;33m.\u001b[0m\u001b[0m_y\u001b[0m\u001b[1;33m\u001b[0m\u001b[1;33m\u001b[0m\u001b[0m\n",
      "\u001b[1;32m~\\anaconda3\\lib\\site-packages\\sklearn\\neighbors\\_base.py\u001b[0m in \u001b[0;36mkneighbors\u001b[1;34m(self, X, n_neighbors, return_distance)\u001b[0m\n\u001b[0;32m    703\u001b[0m                 \u001b[0mkwds\u001b[0m \u001b[1;33m=\u001b[0m \u001b[0mself\u001b[0m\u001b[1;33m.\u001b[0m\u001b[0meffective_metric_params_\u001b[0m\u001b[1;33m\u001b[0m\u001b[1;33m\u001b[0m\u001b[0m\n\u001b[0;32m    704\u001b[0m \u001b[1;33m\u001b[0m\u001b[0m\n\u001b[1;32m--> 705\u001b[1;33m             chunked_results = list(pairwise_distances_chunked(\n\u001b[0m\u001b[0;32m    706\u001b[0m                 \u001b[0mX\u001b[0m\u001b[1;33m,\u001b[0m \u001b[0mself\u001b[0m\u001b[1;33m.\u001b[0m\u001b[0m_fit_X\u001b[0m\u001b[1;33m,\u001b[0m \u001b[0mreduce_func\u001b[0m\u001b[1;33m=\u001b[0m\u001b[0mreduce_func\u001b[0m\u001b[1;33m,\u001b[0m\u001b[1;33m\u001b[0m\u001b[1;33m\u001b[0m\u001b[0m\n\u001b[0;32m    707\u001b[0m                 \u001b[0mmetric\u001b[0m\u001b[1;33m=\u001b[0m\u001b[0mself\u001b[0m\u001b[1;33m.\u001b[0m\u001b[0meffective_metric_\u001b[0m\u001b[1;33m,\u001b[0m \u001b[0mn_jobs\u001b[0m\u001b[1;33m=\u001b[0m\u001b[0mn_jobs\u001b[0m\u001b[1;33m,\u001b[0m\u001b[1;33m\u001b[0m\u001b[1;33m\u001b[0m\u001b[0m\n",
      "\u001b[1;32m~\\anaconda3\\lib\\site-packages\\sklearn\\metrics\\pairwise.py\u001b[0m in \u001b[0;36mpairwise_distances_chunked\u001b[1;34m(X, Y, reduce_func, metric, n_jobs, working_memory, **kwds)\u001b[0m\n\u001b[0;32m   1621\u001b[0m         \u001b[1;32melse\u001b[0m\u001b[1;33m:\u001b[0m\u001b[1;33m\u001b[0m\u001b[1;33m\u001b[0m\u001b[0m\n\u001b[0;32m   1622\u001b[0m             \u001b[0mX_chunk\u001b[0m \u001b[1;33m=\u001b[0m \u001b[0mX\u001b[0m\u001b[1;33m[\u001b[0m\u001b[0msl\u001b[0m\u001b[1;33m]\u001b[0m\u001b[1;33m\u001b[0m\u001b[1;33m\u001b[0m\u001b[0m\n\u001b[1;32m-> 1623\u001b[1;33m         D_chunk = pairwise_distances(X_chunk, Y, metric=metric,\n\u001b[0m\u001b[0;32m   1624\u001b[0m                                      n_jobs=n_jobs, **kwds)\n\u001b[0;32m   1625\u001b[0m         if ((X is Y or Y is None)\n",
      "\u001b[1;32m~\\anaconda3\\lib\\site-packages\\sklearn\\utils\\validation.py\u001b[0m in \u001b[0;36minner_f\u001b[1;34m(*args, **kwargs)\u001b[0m\n\u001b[0;32m     61\u001b[0m             \u001b[0mextra_args\u001b[0m \u001b[1;33m=\u001b[0m \u001b[0mlen\u001b[0m\u001b[1;33m(\u001b[0m\u001b[0margs\u001b[0m\u001b[1;33m)\u001b[0m \u001b[1;33m-\u001b[0m \u001b[0mlen\u001b[0m\u001b[1;33m(\u001b[0m\u001b[0mall_args\u001b[0m\u001b[1;33m)\u001b[0m\u001b[1;33m\u001b[0m\u001b[1;33m\u001b[0m\u001b[0m\n\u001b[0;32m     62\u001b[0m             \u001b[1;32mif\u001b[0m \u001b[0mextra_args\u001b[0m \u001b[1;33m<=\u001b[0m \u001b[1;36m0\u001b[0m\u001b[1;33m:\u001b[0m\u001b[1;33m\u001b[0m\u001b[1;33m\u001b[0m\u001b[0m\n\u001b[1;32m---> 63\u001b[1;33m                 \u001b[1;32mreturn\u001b[0m \u001b[0mf\u001b[0m\u001b[1;33m(\u001b[0m\u001b[1;33m*\u001b[0m\u001b[0margs\u001b[0m\u001b[1;33m,\u001b[0m \u001b[1;33m**\u001b[0m\u001b[0mkwargs\u001b[0m\u001b[1;33m)\u001b[0m\u001b[1;33m\u001b[0m\u001b[1;33m\u001b[0m\u001b[0m\n\u001b[0m\u001b[0;32m     64\u001b[0m \u001b[1;33m\u001b[0m\u001b[0m\n\u001b[0;32m     65\u001b[0m             \u001b[1;31m# extra_args > 0\u001b[0m\u001b[1;33m\u001b[0m\u001b[1;33m\u001b[0m\u001b[1;33m\u001b[0m\u001b[0m\n",
      "\u001b[1;32m~\\anaconda3\\lib\\site-packages\\sklearn\\metrics\\pairwise.py\u001b[0m in \u001b[0;36mpairwise_distances\u001b[1;34m(X, Y, metric, n_jobs, force_all_finite, **kwds)\u001b[0m\n\u001b[0;32m   1788\u001b[0m         \u001b[0mfunc\u001b[0m \u001b[1;33m=\u001b[0m \u001b[0mpartial\u001b[0m\u001b[1;33m(\u001b[0m\u001b[0mdistance\u001b[0m\u001b[1;33m.\u001b[0m\u001b[0mcdist\u001b[0m\u001b[1;33m,\u001b[0m \u001b[0mmetric\u001b[0m\u001b[1;33m=\u001b[0m\u001b[0mmetric\u001b[0m\u001b[1;33m,\u001b[0m \u001b[1;33m**\u001b[0m\u001b[0mkwds\u001b[0m\u001b[1;33m)\u001b[0m\u001b[1;33m\u001b[0m\u001b[1;33m\u001b[0m\u001b[0m\n\u001b[0;32m   1789\u001b[0m \u001b[1;33m\u001b[0m\u001b[0m\n\u001b[1;32m-> 1790\u001b[1;33m     \u001b[1;32mreturn\u001b[0m \u001b[0m_parallel_pairwise\u001b[0m\u001b[1;33m(\u001b[0m\u001b[0mX\u001b[0m\u001b[1;33m,\u001b[0m \u001b[0mY\u001b[0m\u001b[1;33m,\u001b[0m \u001b[0mfunc\u001b[0m\u001b[1;33m,\u001b[0m \u001b[0mn_jobs\u001b[0m\u001b[1;33m,\u001b[0m \u001b[1;33m**\u001b[0m\u001b[0mkwds\u001b[0m\u001b[1;33m)\u001b[0m\u001b[1;33m\u001b[0m\u001b[1;33m\u001b[0m\u001b[0m\n\u001b[0m\u001b[0;32m   1791\u001b[0m \u001b[1;33m\u001b[0m\u001b[0m\n\u001b[0;32m   1792\u001b[0m \u001b[1;33m\u001b[0m\u001b[0m\n",
      "\u001b[1;32m~\\anaconda3\\lib\\site-packages\\sklearn\\metrics\\pairwise.py\u001b[0m in \u001b[0;36m_parallel_pairwise\u001b[1;34m(X, Y, func, n_jobs, **kwds)\u001b[0m\n\u001b[0;32m   1357\u001b[0m \u001b[1;33m\u001b[0m\u001b[0m\n\u001b[0;32m   1358\u001b[0m     \u001b[1;32mif\u001b[0m \u001b[0meffective_n_jobs\u001b[0m\u001b[1;33m(\u001b[0m\u001b[0mn_jobs\u001b[0m\u001b[1;33m)\u001b[0m \u001b[1;33m==\u001b[0m \u001b[1;36m1\u001b[0m\u001b[1;33m:\u001b[0m\u001b[1;33m\u001b[0m\u001b[1;33m\u001b[0m\u001b[0m\n\u001b[1;32m-> 1359\u001b[1;33m         \u001b[1;32mreturn\u001b[0m \u001b[0mfunc\u001b[0m\u001b[1;33m(\u001b[0m\u001b[0mX\u001b[0m\u001b[1;33m,\u001b[0m \u001b[0mY\u001b[0m\u001b[1;33m,\u001b[0m \u001b[1;33m**\u001b[0m\u001b[0mkwds\u001b[0m\u001b[1;33m)\u001b[0m\u001b[1;33m\u001b[0m\u001b[1;33m\u001b[0m\u001b[0m\n\u001b[0m\u001b[0;32m   1360\u001b[0m \u001b[1;33m\u001b[0m\u001b[0m\n\u001b[0;32m   1361\u001b[0m     \u001b[1;31m# enforce a threading backend to prevent data communication overhead\u001b[0m\u001b[1;33m\u001b[0m\u001b[1;33m\u001b[0m\u001b[1;33m\u001b[0m\u001b[0m\n",
      "\u001b[1;32m~\\anaconda3\\lib\\site-packages\\sklearn\\utils\\validation.py\u001b[0m in \u001b[0;36minner_f\u001b[1;34m(*args, **kwargs)\u001b[0m\n\u001b[0;32m     61\u001b[0m             \u001b[0mextra_args\u001b[0m \u001b[1;33m=\u001b[0m \u001b[0mlen\u001b[0m\u001b[1;33m(\u001b[0m\u001b[0margs\u001b[0m\u001b[1;33m)\u001b[0m \u001b[1;33m-\u001b[0m \u001b[0mlen\u001b[0m\u001b[1;33m(\u001b[0m\u001b[0mall_args\u001b[0m\u001b[1;33m)\u001b[0m\u001b[1;33m\u001b[0m\u001b[1;33m\u001b[0m\u001b[0m\n\u001b[0;32m     62\u001b[0m             \u001b[1;32mif\u001b[0m \u001b[0mextra_args\u001b[0m \u001b[1;33m<=\u001b[0m \u001b[1;36m0\u001b[0m\u001b[1;33m:\u001b[0m\u001b[1;33m\u001b[0m\u001b[1;33m\u001b[0m\u001b[0m\n\u001b[1;32m---> 63\u001b[1;33m                 \u001b[1;32mreturn\u001b[0m \u001b[0mf\u001b[0m\u001b[1;33m(\u001b[0m\u001b[1;33m*\u001b[0m\u001b[0margs\u001b[0m\u001b[1;33m,\u001b[0m \u001b[1;33m**\u001b[0m\u001b[0mkwargs\u001b[0m\u001b[1;33m)\u001b[0m\u001b[1;33m\u001b[0m\u001b[1;33m\u001b[0m\u001b[0m\n\u001b[0m\u001b[0;32m     64\u001b[0m \u001b[1;33m\u001b[0m\u001b[0m\n\u001b[0;32m     65\u001b[0m             \u001b[1;31m# extra_args > 0\u001b[0m\u001b[1;33m\u001b[0m\u001b[1;33m\u001b[0m\u001b[1;33m\u001b[0m\u001b[0m\n",
      "\u001b[1;32m~\\anaconda3\\lib\\site-packages\\sklearn\\metrics\\pairwise.py\u001b[0m in \u001b[0;36meuclidean_distances\u001b[1;34m(X, Y, Y_norm_squared, squared, X_norm_squared)\u001b[0m\n\u001b[0;32m    311\u001b[0m     \u001b[1;32melse\u001b[0m\u001b[1;33m:\u001b[0m\u001b[1;33m\u001b[0m\u001b[1;33m\u001b[0m\u001b[0m\n\u001b[0;32m    312\u001b[0m         \u001b[1;31m# if dtype is already float64, no need to chunk and upcast\u001b[0m\u001b[1;33m\u001b[0m\u001b[1;33m\u001b[0m\u001b[1;33m\u001b[0m\u001b[0m\n\u001b[1;32m--> 313\u001b[1;33m         \u001b[0mdistances\u001b[0m \u001b[1;33m=\u001b[0m \u001b[1;33m-\u001b[0m \u001b[1;36m2\u001b[0m \u001b[1;33m*\u001b[0m \u001b[0msafe_sparse_dot\u001b[0m\u001b[1;33m(\u001b[0m\u001b[0mX\u001b[0m\u001b[1;33m,\u001b[0m \u001b[0mY\u001b[0m\u001b[1;33m.\u001b[0m\u001b[0mT\u001b[0m\u001b[1;33m,\u001b[0m \u001b[0mdense_output\u001b[0m\u001b[1;33m=\u001b[0m\u001b[1;32mTrue\u001b[0m\u001b[1;33m)\u001b[0m\u001b[1;33m\u001b[0m\u001b[1;33m\u001b[0m\u001b[0m\n\u001b[0m\u001b[0;32m    314\u001b[0m         \u001b[0mdistances\u001b[0m \u001b[1;33m+=\u001b[0m \u001b[0mXX\u001b[0m\u001b[1;33m\u001b[0m\u001b[1;33m\u001b[0m\u001b[0m\n\u001b[0;32m    315\u001b[0m         \u001b[0mdistances\u001b[0m \u001b[1;33m+=\u001b[0m \u001b[0mYY\u001b[0m\u001b[1;33m\u001b[0m\u001b[1;33m\u001b[0m\u001b[0m\n",
      "\u001b[1;31mKeyboardInterrupt\u001b[0m: "
     ]
    }
   ],
   "source": [
    "###### start = timeit.default_timer()\n",
    "clf = KNeighborsClassifier()\n",
    "clf.fit(train_x, train_Y)\n",
    "\n",
    "#Calculate Stop time\n",
    "stop = timeit.default_timer()\n",
    "train_time = stop - start\n",
    "\n",
    "#Calculate start time\n",
    "start = timeit.default_timer()\n",
    "\n",
    "# Predict the model\n",
    "y_pred=clf.predict(test_x)\n",
    "\n",
    "#Calculate Stop time\n",
    "stop = timeit.default_timer()\n",
    "test_time= stop - start\n",
    "results = confusion_matrix(test_Y,y_pred)\n",
    "\n",
    "\n",
    "precision = metrics.precision_score(test_Y, y_pred)\n",
    "recall = metrics.recall_score(test_Y, y_pred)\n",
    "print(\"[IoT-Dataset] Precision: \", precision)\n",
    "print(\"[IoT-Dataset] Recall: \", recall)\n",
    "precision, recall, _ = precision_recall_curve(test_Y, y_pred)\n",
    "f1Score = metrics.f1_score(test_Y, y_pred)\n",
    "\n",
    "cm_display = ConfusionMatrixDisplay(results).plot()\n",
    "PrecisionRecallDisplay(precision=precision, recall=recall).plot()\n",
    "\n",
    "print (\"[IoT-Dataset] Model Training Time for knn: \", train_time)\n",
    "print (\"[IoT-Dataset] Prediction Time for knn: \", test_time)\n",
    "print(\"[IoT-Dataset] Confusion Matrix for knn:\\n\", results)\n",
    "print(\"[IoT-Dataset] Classification Report for knn:\\n\", classification_report(test_Y,y_pred))\n",
    "print(\"[IoT-Dataset] Precision knn: \", precision)\n",
    "print(\"[IoT-Dataset] Recall knn: \", recall)\n",
    "print(\"[IoT-Dataset] F1 score knn: \", f1Score)\n",
    "tn, fp, fn, tp = results.ravel()\n",
    "fpr = fp/(tn + fp)\n",
    "print(\"FPR: \", fpr)\n",
    "D2['KNN'] = metrics.accuracy_score(test_Y, y_pred)"
   ]
  },
  {
   "cell_type": "markdown",
   "metadata": {},
   "source": [
    "#### MLP"
   ]
  },
  {
   "cell_type": "code",
   "execution_count": null,
   "metadata": {},
   "outputs": [],
   "source": [
    "start = timeit.default_timer()\n",
    "\n",
    "clf = MLPClassifier(solver='lbfgs', alpha=1e-5,\n",
    "                    hidden_layer_sizes=(5, 2), random_state=1)\n",
    "clf.fit(train_x, train_Y)\n",
    "\n",
    "#Calculate Stop time\n",
    "stop = timeit.default_timer()\n",
    "train_time = stop - start\n",
    "\n",
    "#Calculate start time\n",
    "start = timeit.default_timer()\n",
    "\n",
    "# Predict the model\n",
    "y_pred=clf.predict(test_x)\n",
    "\n",
    "#Calculate Stop time\n",
    "stop = timeit.default_timer()\n",
    "test_time= stop - start\n",
    "results = confusion_matrix(test_Y,y_pred)\n",
    "\n",
    "\n",
    "precision = metrics.precision_score(test_Y, y_pred)\n",
    "recall = metrics.recall_score(test_Y, y_pred)\n",
    "print(\"[IoT-Dataset] Precision: \", precision)\n",
    "print(\"[IoT-Dataset] Recall: \", recall)\n",
    "precision, recall, _ = precision_recall_curve(test_Y, y_pred)\n",
    "f1Score = metrics.f1_score(test_Y, y_pred)\n",
    "\n",
    "cm_display = ConfusionMatrixDisplay(results).plot()\n",
    "PrecisionRecallDisplay(precision=precision, recall=recall).plot()\n",
    "\n",
    "print (\"[IoT-Dataset] Model Training Time for mlp: \", train_time)\n",
    "print (\"[IoT-Dataset] Prediction Time for mlp: \", test_time)\n",
    "print(\"[IoT-Dataset] Confusion Matrix for mlp:\\n\", results)\n",
    "print(\"[IoT-Dataset] Classification Report for mlp:\\n\", classification_report(test_Y,y_pred))\n",
    "print(\"[IoT-Dataset] Precision mlp: \", precision)\n",
    "print(\"[IoT-Dataset] Recall mlp: \", recall)\n",
    "print(\"[IoT-Dataset] F1 score mlp: \", f1Score)\n",
    "tn, fp, fn, tp = results.ravel()\n",
    "fpr = fp/(tn + fp)\n",
    "print(\"FPR: \", fpr)\n",
    "D2['MLP'] = metrics.accuracy_score(test_Y, y_pred)"
   ]
  },
  {
   "cell_type": "markdown",
   "metadata": {},
   "source": [
    "#### Logistic Regression"
   ]
  },
  {
   "cell_type": "code",
   "execution_count": null,
   "metadata": {},
   "outputs": [],
   "source": [
    "start = timeit.default_timer()\n",
    "\n",
    "clf = LogisticRegression()\n",
    "clf.fit(train_x, train_Y)\n",
    "\n",
    "#Calculate Stop time\n",
    "stop = timeit.default_timer()\n",
    "train_time = stop - start\n",
    "\n",
    "#Calculate start time\n",
    "start = timeit.default_timer()\n",
    "\n",
    "# Predict the model\n",
    "y_pred=clf.predict(test_x)\n",
    "\n",
    "#Calculate Stop time\n",
    "stop = timeit.default_timer()\n",
    "test_time= stop - start\n",
    "results = confusion_matrix(test_Y,y_pred)\n",
    "\n",
    "\n",
    "precision = metrics.precision_score(test_Y, y_pred)\n",
    "recall = metrics.recall_score(test_Y, y_pred)\n",
    "print(\"[IoT-Dataset] Precision: \", precision)\n",
    "print(\"[IoT-Dataset] Recall: \", recall)\n",
    "precision, recall, _ = precision_recall_curve(test_Y, y_pred)\n",
    "f1Score = metrics.f1_score(test_Y, y_pred)\n",
    "\n",
    "cm_display = ConfusionMatrixDisplay(results).plot()\n",
    "PrecisionRecallDisplay(precision=precision, recall=recall).plot()\n",
    "\n",
    "print (\"[IoT-Dataset] Model Training Time for Logistic Regression: \", train_time)\n",
    "print (\"[IoT-Dataset] Prediction Time for Logistic Regression: \", test_time)\n",
    "print(\"[IoT-Dataset] Confusion Matrix for Logistic Regression:\\n\", results)\n",
    "print(\"[IoT-Dataset] Classification Report for Logistic Regression:\\n\", classification_report(test_Y,y_pred))\n",
    "print(\"[IoT-Dataset] Precision Logistic Regression: \", precision)\n",
    "print(\"[IoT-Dataset] Recall Logistic Regression: \", recall)\n",
    "print(\"[IoT-Dataset] F1 score Logistic Regression: \", f1Score)\n",
    "tn, fp, fn, tp = results.ravel()\n",
    "fpr = fp/(tn + fp)\n",
    "print(\"FPR: \", fpr)\n",
    "D2['LR'] = metrics.accuracy_score(test_Y, y_pred)"
   ]
  },
  {
   "cell_type": "markdown",
   "metadata": {},
   "source": [
    "#### Random Forest"
   ]
  },
  {
   "cell_type": "code",
   "execution_count": 18,
   "metadata": {},
   "outputs": [
    {
     "name": "stdout",
     "output_type": "stream",
     "text": [
      "{'criterion': 'gini', 'max_depth': 40, 'n_estimators': 260}\n"
     ]
    }
   ],
   "source": [
    "import numpy as np\n",
    "from sklearn.model_selection import GridSearchCV\n",
    "\n",
    "hyperparamsList = {'max_depth': np.arange(10, 50, 10).tolist(), \n",
    "                     'n_estimators': np.arange(10, 500, 50).tolist(), \n",
    "                     'criterion': ['entropy', 'gini']\n",
    "                  }\n",
    "\n",
    "clf = RandomForestClassifier()\n",
    "\n",
    "grid = GridSearchCV(estimator=clf, param_grid=hyperparamsList, cv=2,\n",
    "                    scoring='accuracy', n_jobs = 4)\n",
    "\n",
    "grid.fit(train_x, train_Y)\n",
    "print (grid.best_params_)"
   ]
  },
  {
   "cell_type": "code",
   "execution_count": 19,
   "metadata": {},
   "outputs": [
    {
     "name": "stdout",
     "output_type": "stream",
     "text": [
      "[IoT-Dataset] Precision:  0.9778328027355264\n",
      "[IoT-Dataset] Recall:  0.7081830020708354\n",
      "[IoT-Dataset] Model Training Time for Random Forest:  96.73630689999982\n",
      "[IoT-Dataset] Prediction Time for Random Forest:  5.158274100000199\n",
      "[IoT-Dataset] Confusion Matrix for Random Forest:\n",
      " [[72743   752]\n",
      " [13669 33172]]\n",
      "[IoT-Dataset] Classification Report for Random Forest:\n",
      "               precision    recall  f1-score   support\n",
      "\n",
      "           0       0.84      0.99      0.91     73495\n",
      "           1       0.98      0.71      0.82     46841\n",
      "\n",
      "    accuracy                           0.88    120336\n",
      "   macro avg       0.91      0.85      0.87    120336\n",
      "weighted avg       0.89      0.88      0.88    120336\n",
      "\n",
      "[IoT-Dataset] Precision Random Forest:  [0.38925176 0.9778328  1.        ]\n",
      "[IoT-Dataset] Recall Random Forest:  [1.       0.708183 0.      ]\n",
      "[IoT-Dataset] F1 score Random Forest:  0.8214449328298149\n",
      "FPR:  0.010231988570651065\n"
     ]
    },
    {
     "data": {
      "image/png": "[encoded data removed]",
      "text/plain": [
       "<Figure size 432x288 with 2 Axes>"
      ]
     },
     "metadata": {
      "needs_background": "light"
     },
     "output_type": "display_data"
    },
    {
     "data": {
      "image/png": "[encoded data removed]",
      "text/plain": [
       "<Figure size 432x288 with 1 Axes>"
      ]
     },
     "metadata": {
      "needs_background": "light"
     },
     "output_type": "display_data"
    }
   ],
   "source": [
    "#Calculate start time\n",
    "start = timeit.default_timer()\n",
    "\n",
    "clf=RandomForestClassifier(n_estimators = grid.best_params_['n_estimators'], \n",
    "                           max_depth = grid.best_params_['max_depth'],\n",
    "                          criterion = grid.best_params_['criterion'])\n",
    "\n",
    "clf.fit(train_x, train_Y)\n",
    "\n",
    "#Calculate Stop time\n",
    "stop = timeit.default_timer()\n",
    "train_time = stop - start\n",
    "\n",
    "#Calculate start time\n",
    "start = timeit.default_timer()\n",
    "\n",
    "# Predict the model\n",
    "y_pred=clf.predict(test_x)\n",
    "\n",
    "#Calculate Stop time\n",
    "stop = timeit.default_timer()\n",
    "test_time= stop - start\n",
    "results = confusion_matrix(test_Y,y_pred)\n",
    "\n",
    "\n",
    "precision = metrics.precision_score(test_Y, y_pred)\n",
    "recall = metrics.recall_score(test_Y, y_pred)\n",
    "print(\"[IoT-Dataset] Precision: \", precision)\n",
    "print(\"[IoT-Dataset] Recall: \", recall)\n",
    "precision, recall, _ = precision_recall_curve(test_Y, y_pred)\n",
    "f1Score = metrics.f1_score(test_Y, y_pred)\n",
    "\n",
    "cm_display = ConfusionMatrixDisplay(results).plot()\n",
    "PrecisionRecallDisplay(precision=precision, recall=recall).plot()\n",
    "\n",
    "print (\"[IoT-Dataset] Model Training Time for Random Forest: \", train_time)\n",
    "print (\"[IoT-Dataset] Prediction Time for Random Forest: \", test_time)\n",
    "print(\"[IoT-Dataset] Confusion Matrix for Random Forest:\\n\", results)\n",
    "print(\"[IoT-Dataset] Classification Report for Random Forest:\\n\", classification_report(test_Y,y_pred))\n",
    "print(\"[IoT-Dataset] Precision Random Forest: \", precision)\n",
    "print(\"[IoT-Dataset] Recall Random Forest: \", recall)\n",
    "print(\"[IoT-Dataset] F1 score Random Forest: \", f1Score)\n",
    "tn, fp, fn, tp = results.ravel()\n",
    "fpr = fp/(tn + fp)\n",
    "print(\"FPR: \", fpr)\n",
    "D2['RF'] = metrics.accuracy_score(test_Y, y_pred)"
   ]
  },
  {
   "cell_type": "markdown",
   "metadata": {},
   "source": [
    "#### AdaBoost"
   ]
  },
  {
   "cell_type": "code",
   "execution_count": 24,
   "metadata": {},
   "outputs": [
    {
     "name": "stdout",
     "output_type": "stream",
     "text": [
      "[IoT-Dataset] Precision:  0.898454822616408\n",
      "[IoT-Dataset] Recall:  0.5536389060865481\n",
      "[IoT-Dataset] Model Training Time for Adaboost:  15.426053499999853\n",
      "[IoT-Dataset] Prediction Time for Adaboost:  1.5675397999998495\n",
      "[IoT-Dataset] Confusion Matrix for Adaboost:\n",
      " [[70564  2931]\n",
      " [20908 25933]]\n",
      "[IoT-Dataset] Classification Report for Adaboost:\n",
      "               precision    recall  f1-score   support\n",
      "\n",
      "           0       0.77      0.96      0.86     73495\n",
      "           1       0.90      0.55      0.69     46841\n",
      "\n",
      "    accuracy                           0.80    120336\n",
      "   macro avg       0.83      0.76      0.77    120336\n",
      "weighted avg       0.82      0.80      0.79    120336\n",
      "\n",
      "[IoT-Dataset] Precision Adaboost:  [0.38925176 0.89845482 1.        ]\n",
      "[IoT-Dataset] Recall Adaboost:  [1.         0.55363891 0.        ]\n",
      "[IoT-Dataset] F1 score Adaboost:  0.6851066640248332\n",
      "FPR:  0.03988026396353493\n"
     ]
    },
    {
     "data": {
      "image/png": "[encoded data removed]",
      "text/plain": [
       "<Figure size 432x288 with 2 Axes>"
      ]
     },
     "metadata": {
      "needs_background": "light"
     },
     "output_type": "display_data"
    },
    {
     "data": {
      "image/png": "[encoded data removed]",
      "text/plain": [
       "<Figure size 432x288 with 1 Axes>"
      ]
     },
     "metadata": {
      "needs_background": "light"
     },
     "output_type": "display_data"
    }
   ],
   "source": [
    "from sklearn.ensemble import AdaBoostClassifier\n",
    "start = timeit.default_timer()\n",
    "\n",
    "clf = AdaBoostClassifier(n_estimators=100, random_state=24)\n",
    "clf.fit(train_x, train_Y)\n",
    "\n",
    "#Calculate Stop time\n",
    "stop = timeit.default_timer()\n",
    "train_time = stop - start\n",
    "\n",
    "#Calculate start time\n",
    "start = timeit.default_timer()\n",
    "\n",
    "# Predict the model\n",
    "y_pred=clf.predict(test_x)\n",
    "\n",
    "#Calculate Stop time\n",
    "stop = timeit.default_timer()\n",
    "test_time= stop - start\n",
    "results = confusion_matrix(test_Y,y_pred)\n",
    "\n",
    "\n",
    "precision = metrics.precision_score(test_Y, y_pred)\n",
    "recall = metrics.recall_score(test_Y, y_pred)\n",
    "print(\"[IoT-Dataset] Precision: \", precision)\n",
    "print(\"[IoT-Dataset] Recall: \", recall)\n",
    "precision, recall, _ = precision_recall_curve(test_Y, y_pred)\n",
    "f1Score = metrics.f1_score(test_Y, y_pred)\n",
    "\n",
    "cm_display = ConfusionMatrixDisplay(results).plot()\n",
    "PrecisionRecallDisplay(precision=precision, recall=recall).plot()\n",
    "\n",
    "print (\"[IoT-Dataset] Model Training Time for Adaboost: \", train_time)\n",
    "print (\"[IoT-Dataset] Prediction Time for Adaboost: \", test_time)\n",
    "print(\"[IoT-Dataset] Confusion Matrix for Adaboost:\\n\", results)\n",
    "print(\"[IoT-Dataset] Classification Report for Adaboost:\\n\", classification_report(test_Y,y_pred))\n",
    "print(\"[IoT-Dataset] Precision Adaboost: \", precision)\n",
    "print(\"[IoT-Dataset] Recall Adaboost: \", recall)\n",
    "print(\"[IoT-Dataset] F1 score Adaboost: \", f1Score)\n",
    "tn, fp, fn, tp = results.ravel()\n",
    "fpr = fp/(tn + fp)\n",
    "print(\"FPR: \", fpr)\n",
    "D2['Ada'] = metrics.accuracy_score(test_Y, y_pred)"
   ]
  },
  {
   "cell_type": "markdown",
   "metadata": {},
   "source": [
    "#### SVM"
   ]
  },
  {
   "cell_type": "code",
   "execution_count": 25,
   "metadata": {},
   "outputs": [],
   "source": [
    "#from sklearn.preprocessing import StandardScaler\n",
    "#start = timeit.default_timer()\n",
    "#clf = make_pipeline(StandardScaler(), svm.LinearSVC(dual=False))\n",
    "#clf.fit(train_x, train_Y)\n",
    "#\n",
    "##Calculate Stop time\n",
    "#stop = timeit.default_timer()\n",
    "#train_time = stop - start\n",
    "#\n",
    "##Calculate start time\n",
    "#start = timeit.default_timer()\n",
    "#\n",
    "## Predict the model\n",
    "#y_pred=clf.predict(test_x)\n",
    "#\n",
    "##Calculate Stop time\n",
    "#stop = timeit.default_timer()\n",
    "#test_time= stop - start\n",
    "#results = confusion_matrix(test_Y,y_pred)\n",
    "#\n",
    "#\n",
    "#precision = metrics.precision_score(test_Y, y_pred)\n",
    "#recall = metrics.recall_score(test_Y, y_pred)\n",
    "#print(\"[IoT-Dataset] Precision: \", precision)\n",
    "#print(\"[IoT-Dataset] Recall: \", recall)\n",
    "#precision, recall, _ = precision_recall_curve(test_Y, y_pred)\n",
    "#f1Score = metrics.f1_score(test_Y, y_pred)\n",
    "#\n",
    "#cm_display = ConfusionMatrixDisplay(results).plot()\n",
    "#PrecisionRecallDisplay(precision=precision, recall=recall).plot()\n",
    "#\n",
    "#print (\"[IoT-Dataset] Model Training Time for svm: \", train_time)\n",
    "#print (\"[IoT-Dataset] Prediction Time for svm: \", test_time)\n",
    "#print(\"[IoT-Dataset] Confusion Matrix for svm:\\n\", results)\n",
    "#print(\"[IoT-Dataset] Classification Report for svm:\\n\", classification_report(test_Y,y_pred))\n",
    "#print(\"[IoT-Dataset] Precision svm: \", precision)\n",
    "#print(\"[IoT-Dataset] Recall svm: \", recall)\n",
    "#print(\"[IoT-Dataset] F1 score svm: \", f1Score)\n",
    "#tn, fp, fn, tp = results.ravel()\n",
    "#fpr = fp/(tn + fp)\n",
    "#print(\"FPR: \", fpr)\n",
    "#D2['SVM'] = metrics.precision_score(test_Y, y_pred)"
   ]
  },
  {
   "cell_type": "code",
   "execution_count": 26,
   "metadata": {},
   "outputs": [
    {
     "data": {
      "image/png": "[encoded data removed]",
      "text/plain": [
       "<Figure size 432x288 with 1 Axes>"
      ]
     },
     "metadata": {
      "needs_background": "light"
     },
     "output_type": "display_data"
    },
    {
     "data": {
      "image/png": "[encoded data removed]",
      "text/plain": [
       "<Figure size 432x288 with 1 Axes>"
      ]
     },
     "metadata": {
      "needs_background": "light"
     },
     "output_type": "display_data"
    }
   ],
   "source": [
    "import matplotlib.pyplot as plt\n",
    "\n",
    "plt.bar(range(len(D1)), list(D1.values()), align='center')\n",
    "plt.xticks(range(len(D1)), list(D1.keys()))\n",
    "plt.show()\n",
    "plt.bar(range(len(D2)), list(D2.values()), align='center')\n",
    "plt.xticks(range(len(D2)), list(D2.keys()))\n",
    "plt.show()\n"
   ]
  },
  {
   "cell_type": "code",
   "execution_count": 27,
   "metadata": {},
   "outputs": [
    {
     "data": {
      "text/plain": [
       "{'DT': 0.864761999734078,\n",
       " 'KNN': 0.8332086823560697,\n",
       " 'MLP': 0.7383077383326685,\n",
       " 'LR': 0.6883393165802419,\n",
       " 'RF': 0.8698394495412844,\n",
       " 'Ada': 0.8018963568674379}"
      ]
     },
     "execution_count": 27,
     "metadata": {},
     "output_type": "execute_result"
    }
   ],
   "source": [
    "D2"
   ]
  },
  {
   "cell_type": "code",
   "execution_count": null,
   "metadata": {},
   "outputs": [],
   "source": []
  }
 ],
 "metadata": {
  "kernelspec": {
   "display_name": "Python 3 (ipykernel)",
   "language": "python",
   "name": "python3"
  },
  "language_info": {
   "codemirror_mode": {
    "name": "ipython",
    "version": 3
   },
   "file_extension": ".py",
   "mimetype": "text/x-python",
   "name": "python",
   "nbconvert_exporter": "python",
   "pygments_lexer": "ipython3",
   "version": "3.8.8"
  }
 },
 "nbformat": 4,
 "nbformat_minor": 4
}
